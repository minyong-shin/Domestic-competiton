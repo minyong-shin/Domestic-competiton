{
 "cells": [
  {
   "cell_type": "code",
   "execution_count": 95,
   "metadata": {},
   "outputs": [],
   "source": [
    "from datetime import datetime ,timedelta                 \n",
    "import pandas as pd # 데이터를 처리하기 위한 가장 기본적인 패키지\n",
    "import time # 사이트를 불러올 때, 작업 지연시간을 지정해주기 위한 패키지이다. (사이트가 늦게 켜지면 에러가 발생하기 때문)\n",
    "import json\n",
    "import re     \n",
    "import numpy as np\n",
    "import pickle\n",
    "\n",
    "import matplotlib.pyplot as plt\n",
    "import sys\n",
    "import os\n",
    "from pandas.io.json import json_normalize\n",
    "import seaborn as sns\n",
    "import statsmodels.api as sm\n",
    "import math"
   ]
  },
  {
   "cell_type": "code",
   "execution_count": 3,
   "metadata": {},
   "outputs": [],
   "source": [
    "train_24 = pd.read_csv('train_24.csv')\n",
    "train_48 = pd.read_csv('train_48.csv')"
   ]
  },
  {
   "cell_type": "code",
   "execution_count": 8,
   "metadata": {},
   "outputs": [
    {
     "data": {
      "text/plain": [
       "(346005, 10)"
      ]
     },
     "execution_count": 8,
     "metadata": {},
     "output_type": "execute_result"
    }
   ],
   "source": [
    "train_24.shape"
   ]
  },
  {
   "cell_type": "code",
   "execution_count": 43,
   "metadata": {},
   "outputs": [],
   "source": [
    "jy_nulldf_24 = pd.read_csv('data/tr_24_jy_null.csv')\n",
    "jy_nulldf_48 = pd.read_csv('data/tr_48_jy_null.csv')"
   ]
  },
  {
   "cell_type": "markdown",
   "metadata": {},
   "source": [
    "# ***Feature Engineering***\n",
    "\n",
    "    - 기준온도 비교 %\n",
    "    - 24시간 기준날짜, 48시간 기준날짜 10분전,20분,30분...1시간...2시간 전의 설명변수 변수화\n",
    "    - 온도 interval + 습도 interval 교차 변수\n",
    "    - 온도 특정 이상치에서 다른 변수들의 패턴 확인\n",
    "    - 날씨변수들을 묶어서 클러스터링 군집화\n",
    "    - "
   ]
  },
  {
   "cell_type": "code",
   "execution_count": 9,
   "metadata": {},
   "outputs": [],
   "source": [
    "# 기준온도 비교\n",
    "base_tem = (train_24['plant_train.tem_in'] - train_24['plant_train.tem_coil']) / train_24['plant_train.tem_in']"
   ]
  },
  {
   "cell_type": "code",
   "execution_count": 17,
   "metadata": {},
   "outputs": [],
   "source": [
    "date0 = str(datetime.strptime(train_24[['date','plant','loc']].iloc[0].values[0],'%Y-%m-%d %H:%M:%S'))"
   ]
  },
  {
   "cell_type": "code",
   "execution_count": 24,
   "metadata": {},
   "outputs": [
    {
     "data": {
      "text/plain": [
       "datetime.datetime(2016, 4, 1, 23, 36)"
      ]
     },
     "execution_count": 24,
     "metadata": {},
     "output_type": "execute_result"
    }
   ],
   "source": [
    "datetime.strptime(train_24[['date','plant','loc']].iloc[0].values[0],'%Y-%m-%d %H:%M:%S') + timedelta(hours = 23., )"
   ]
  },
  {
   "cell_type": "code",
   "execution_count": 10,
   "metadata": {},
   "outputs": [
    {
     "data": {
      "text/html": [
       "<div>\n",
       "<style scoped>\n",
       "    .dataframe tbody tr th:only-of-type {\n",
       "        vertical-align: middle;\n",
       "    }\n",
       "\n",
       "    .dataframe tbody tr th {\n",
       "        vertical-align: top;\n",
       "    }\n",
       "\n",
       "    .dataframe thead th {\n",
       "        text-align: right;\n",
       "    }\n",
       "</style>\n",
       "<table border=\"1\" class=\"dataframe\">\n",
       "  <thead>\n",
       "    <tr style=\"text-align: right;\">\n",
       "      <th></th>\n",
       "      <th>after24_loc_predict</th>\n",
       "      <th>date</th>\n",
       "      <th>plant_train.cond_loc</th>\n",
       "      <th>plant_train.hum_in</th>\n",
       "      <th>plant_train.tem_coil</th>\n",
       "      <th>plant_train.tem_in</th>\n",
       "      <th>plant_train.tem_out_loc1</th>\n",
       "      <th>plant_train.hum_out_loc1</th>\n",
       "      <th>loc</th>\n",
       "      <th>plant</th>\n",
       "    </tr>\n",
       "  </thead>\n",
       "  <tbody>\n",
       "    <tr>\n",
       "      <th>0</th>\n",
       "      <td>0.0</td>\n",
       "      <td>2016-04-01 00:00:00</td>\n",
       "      <td>0.0</td>\n",
       "      <td>24.00</td>\n",
       "      <td>11.00</td>\n",
       "      <td>16.00</td>\n",
       "      <td>9.00</td>\n",
       "      <td>42.00</td>\n",
       "      <td>1</td>\n",
       "      <td>1</td>\n",
       "    </tr>\n",
       "    <tr>\n",
       "      <th>1</th>\n",
       "      <td>0.0</td>\n",
       "      <td>2016-04-01 03:00:00</td>\n",
       "      <td>0.0</td>\n",
       "      <td>28.00</td>\n",
       "      <td>10.00</td>\n",
       "      <td>14.00</td>\n",
       "      <td>7.00</td>\n",
       "      <td>59.00</td>\n",
       "      <td>1</td>\n",
       "      <td>1</td>\n",
       "    </tr>\n",
       "    <tr>\n",
       "      <th>2</th>\n",
       "      <td>0.0</td>\n",
       "      <td>2016-04-01 06:00:00</td>\n",
       "      <td>0.0</td>\n",
       "      <td>33.00</td>\n",
       "      <td>10.00</td>\n",
       "      <td>13.00</td>\n",
       "      <td>6.00</td>\n",
       "      <td>56.00</td>\n",
       "      <td>1</td>\n",
       "      <td>1</td>\n",
       "    </tr>\n",
       "    <tr>\n",
       "      <th>3</th>\n",
       "      <td>0.0</td>\n",
       "      <td>2016-04-01 09:00:00</td>\n",
       "      <td>0.0</td>\n",
       "      <td>33.00</td>\n",
       "      <td>10.00</td>\n",
       "      <td>13.00</td>\n",
       "      <td>18.00</td>\n",
       "      <td>30.00</td>\n",
       "      <td>1</td>\n",
       "      <td>1</td>\n",
       "    </tr>\n",
       "    <tr>\n",
       "      <th>4</th>\n",
       "      <td>0.0</td>\n",
       "      <td>2016-04-01 12:00:00</td>\n",
       "      <td>0.0</td>\n",
       "      <td>28.00</td>\n",
       "      <td>10.00</td>\n",
       "      <td>16.00</td>\n",
       "      <td>18.00</td>\n",
       "      <td>20.00</td>\n",
       "      <td>1</td>\n",
       "      <td>1</td>\n",
       "    </tr>\n",
       "    <tr>\n",
       "      <th>...</th>\n",
       "      <td>...</td>\n",
       "      <td>...</td>\n",
       "      <td>...</td>\n",
       "      <td>...</td>\n",
       "      <td>...</td>\n",
       "      <td>...</td>\n",
       "      <td>...</td>\n",
       "      <td>...</td>\n",
       "      <td>...</td>\n",
       "      <td>...</td>\n",
       "    </tr>\n",
       "    <tr>\n",
       "      <th>346000</th>\n",
       "      <td>0.0</td>\n",
       "      <td>2019-03-30 23:00:00</td>\n",
       "      <td>0.0</td>\n",
       "      <td>54.18</td>\n",
       "      <td>10.25</td>\n",
       "      <td>8.72</td>\n",
       "      <td>5.05</td>\n",
       "      <td>73.32</td>\n",
       "      <td>3</td>\n",
       "      <td>2</td>\n",
       "    </tr>\n",
       "    <tr>\n",
       "      <th>346001</th>\n",
       "      <td>0.0</td>\n",
       "      <td>2019-03-30 23:10:00</td>\n",
       "      <td>0.0</td>\n",
       "      <td>54.67</td>\n",
       "      <td>10.29</td>\n",
       "      <td>8.78</td>\n",
       "      <td>5.12</td>\n",
       "      <td>74.05</td>\n",
       "      <td>3</td>\n",
       "      <td>2</td>\n",
       "    </tr>\n",
       "    <tr>\n",
       "      <th>346002</th>\n",
       "      <td>0.0</td>\n",
       "      <td>2019-03-30 23:20:00</td>\n",
       "      <td>0.0</td>\n",
       "      <td>54.67</td>\n",
       "      <td>10.29</td>\n",
       "      <td>8.75</td>\n",
       "      <td>5.18</td>\n",
       "      <td>72.65</td>\n",
       "      <td>3</td>\n",
       "      <td>2</td>\n",
       "    </tr>\n",
       "    <tr>\n",
       "      <th>346003</th>\n",
       "      <td>0.0</td>\n",
       "      <td>2019-03-30 23:30:00</td>\n",
       "      <td>0.0</td>\n",
       "      <td>55.01</td>\n",
       "      <td>10.21</td>\n",
       "      <td>8.75</td>\n",
       "      <td>5.24</td>\n",
       "      <td>70.91</td>\n",
       "      <td>3</td>\n",
       "      <td>2</td>\n",
       "    </tr>\n",
       "    <tr>\n",
       "      <th>346004</th>\n",
       "      <td>0.0</td>\n",
       "      <td>2019-03-30 23:40:00</td>\n",
       "      <td>0.0</td>\n",
       "      <td>55.10</td>\n",
       "      <td>10.25</td>\n",
       "      <td>8.69</td>\n",
       "      <td>5.21</td>\n",
       "      <td>71.70</td>\n",
       "      <td>3</td>\n",
       "      <td>2</td>\n",
       "    </tr>\n",
       "  </tbody>\n",
       "</table>\n",
       "<p>346005 rows × 10 columns</p>\n",
       "</div>"
      ],
      "text/plain": [
       "        after24_loc_predict                 date  plant_train.cond_loc  \\\n",
       "0                       0.0  2016-04-01 00:00:00                   0.0   \n",
       "1                       0.0  2016-04-01 03:00:00                   0.0   \n",
       "2                       0.0  2016-04-01 06:00:00                   0.0   \n",
       "3                       0.0  2016-04-01 09:00:00                   0.0   \n",
       "4                       0.0  2016-04-01 12:00:00                   0.0   \n",
       "...                     ...                  ...                   ...   \n",
       "346000                  0.0  2019-03-30 23:00:00                   0.0   \n",
       "346001                  0.0  2019-03-30 23:10:00                   0.0   \n",
       "346002                  0.0  2019-03-30 23:20:00                   0.0   \n",
       "346003                  0.0  2019-03-30 23:30:00                   0.0   \n",
       "346004                  0.0  2019-03-30 23:40:00                   0.0   \n",
       "\n",
       "        plant_train.hum_in  plant_train.tem_coil  plant_train.tem_in  \\\n",
       "0                    24.00                 11.00               16.00   \n",
       "1                    28.00                 10.00               14.00   \n",
       "2                    33.00                 10.00               13.00   \n",
       "3                    33.00                 10.00               13.00   \n",
       "4                    28.00                 10.00               16.00   \n",
       "...                    ...                   ...                 ...   \n",
       "346000               54.18                 10.25                8.72   \n",
       "346001               54.67                 10.29                8.78   \n",
       "346002               54.67                 10.29                8.75   \n",
       "346003               55.01                 10.21                8.75   \n",
       "346004               55.10                 10.25                8.69   \n",
       "\n",
       "        plant_train.tem_out_loc1  plant_train.hum_out_loc1  loc  plant  \n",
       "0                           9.00                     42.00    1      1  \n",
       "1                           7.00                     59.00    1      1  \n",
       "2                           6.00                     56.00    1      1  \n",
       "3                          18.00                     30.00    1      1  \n",
       "4                          18.00                     20.00    1      1  \n",
       "...                          ...                       ...  ...    ...  \n",
       "346000                      5.05                     73.32    3      2  \n",
       "346001                      5.12                     74.05    3      2  \n",
       "346002                      5.18                     72.65    3      2  \n",
       "346003                      5.24                     70.91    3      2  \n",
       "346004                      5.21                     71.70    3      2  \n",
       "\n",
       "[346005 rows x 10 columns]"
      ]
     },
     "execution_count": 10,
     "metadata": {},
     "output_type": "execute_result"
    }
   ],
   "source": [
    "# 기준날짜 이전의 time데이터 변수\n",
    "def pre_date_variable(df,minute):\n",
    "    \n",
    "    pre_date = []\n",
    "    date_ls = df['date'].tolist()\n",
    "    for i in range(len(df)):\n",
    "        \n",
    "        df2 = df[['date','plant','loc']].iloc[i]\n",
    "        \n",
    "        date_after24 = datetime.strptime(df.values[0],'%Y-%m-%d %H:%M:%S') + timedelta(days = 1)\n",
    "        \n",
    "        date_after_str = str(date_after24 - timedelta(minutes = 10))\n",
    "        \n",
    "        try:\n",
    "            idx = date_ls.index(date_after_str)\n",
    "        \n",
    "        except:\n",
    "            print(date_ls[i] + '날짜는 존재x')\n",
    "            continue\n",
    "        \n",
    "        \n",
    "        \n",
    "        \n",
    "        "
   ]
  },
  {
   "cell_type": "code",
   "execution_count": null,
   "metadata": {},
   "outputs": [],
   "source": [
    "#온도 interval, 습도 interval 교호 변수\n",
    "#온도 5 ~ 20도 이면서 습도 70이상 이면 1"
   ]
  },
  {
   "cell_type": "markdown",
   "metadata": {},
   "source": [
    "# ***결측치 처리***\n",
    "\n",
    "    - 결측치를 처리했을 때 데이터 / 결측치를 처리하지 않고 그대로 사용한 데이터의 성능 비교필요"
   ]
  },
  {
   "cell_type": "markdown",
   "metadata": {},
   "source": [
    "***범주형 변수에 대한 처리도 필요***\n",
    "    - dong_raintype, dong_thunder"
   ]
  },
  {
   "cell_type": "code",
   "execution_count": 32,
   "metadata": {},
   "outputs": [],
   "source": [
    "# 시계열성 특징을 가지고 있고, 이상치가 크게 없으므로 결측치를 linear하게 처리해주는 함수\n",
    "def nan_preprocessing(df,col):\n",
    "    col_value = []\n",
    "    for i in range(len(df)):\n",
    "        if i != 0 and str(df[col].iloc[i]) == 'nan':\n",
    "\n",
    "            if str(df[col].iloc[i-1]) == 'nan':\n",
    "                pass\n",
    "\n",
    "            else:\n",
    "\n",
    "                for j in range(i+1,len(df)):\n",
    "                    if str(df[col].iloc[j]) != 'nan':\n",
    "                        interval = abs(df[col].iloc[i-1] - df[col].iloc[j])\n",
    "                        cnt = j - (i-1)\n",
    "\n",
    "                        value = interval / cnt \n",
    "\n",
    "                        value2 = df[col].iloc[i-1]\n",
    "\n",
    "                        if df[col].iloc[i-1] < df[col].iloc[j]:\n",
    "                            right_left = 'left'\n",
    "\n",
    "                        else:\n",
    "                            right_left = 'right'\n",
    "\n",
    "                        for k in range(0,cnt - 1):\n",
    "\n",
    "                            if right_left == 'left':\n",
    "                                value2 += value\n",
    "                                col_value.append(value2)\n",
    "                            elif right_left == 'right':\n",
    "                                value2 -= value\n",
    "                                col_value.append(value2)\n",
    "\n",
    "                        break\n",
    "\n",
    "\n",
    "                    elif str(df[col].iloc[j]) == 'nan':\n",
    "                        if j != len(df) - 1:\n",
    "                            pass\n",
    "                        elif j == len(df) - 1:\n",
    "                            nan_len = j - i + 1\n",
    "                            nan_value_ls = ['nan'] * nan_len\n",
    "\n",
    "                            col_value = col_value + nan_value_ls\n",
    "                \n",
    "        else:\n",
    "            col_value.append(df[col].iloc[i])\n",
    "            \n",
    "    return col_value"
   ]
  },
  {
   "cell_type": "code",
   "execution_count": 68,
   "metadata": {},
   "outputs": [],
   "source": [
    "nan_col24 = []\n",
    "for i in range(len(jy_nulldf_24.isnull().sum().values)):\n",
    "    \n",
    "    if jy_nulldf_24.isnull().sum().values[i] != 0:\n",
    "        nan_col24.append(jy_nulldf_24.isnull().sum().keys()[i])\n",
    "        \n",
    "nan_col48 = []\n",
    "for i in range(len(jy_nulldf_48.isnull().sum().values)):\n",
    "    \n",
    "    if jy_nulldf_48.isnull().sum().values[i] != 0:\n",
    "        nan_col48.append(jy_nulldf_48.isnull().sum().keys()[i])"
   ]
  },
  {
   "cell_type": "code",
   "execution_count": 69,
   "metadata": {},
   "outputs": [],
   "source": [
    "nan_col24 = set(nan_col24) - set(['dong_raintype', 'dong_thunder'])\n",
    "nan_col48 = set(nan_col48) - set(['dong_raintype', 'dong_thunder'])"
   ]
  },
  {
   "cell_type": "code",
   "execution_count": 70,
   "metadata": {},
   "outputs": [],
   "source": [
    "for i in nan_col24:\n",
    "    jy_nulldf_24[i] = nan_preprocessing(jy_nulldf_24,i)"
   ]
  },
  {
   "cell_type": "code",
   "execution_count": 81,
   "metadata": {},
   "outputs": [
    {
     "name": "stdout",
     "output_type": "stream",
     "text": [
      "asos_tem\n",
      "rain\n",
      "wind_speed\n",
      "cloud\n",
      "sea_pres\n",
      "sun\n",
      "pres\n",
      "dong_rain\n",
      "sum_en\n",
      "dong_tem\n",
      "wind_direct\n",
      "dong_winddrt\n",
      "dong_windsp\n",
      "asos_hum\n",
      "dong_hum\n"
     ]
    }
   ],
   "source": [
    "for i in nan_col48:\n",
    "    jy_nulldf_48[i] = nan_preprocessing(jy_nulldf_48,i)\n",
    "    print(i)"
   ]
  },
  {
   "cell_type": "code",
   "execution_count": 82,
   "metadata": {},
   "outputs": [
    {
     "data": {
      "text/plain": [
       "Index(['date', 'loc', 'plant', 'asos_tem', 'rain', 'wind_direct', 'wind_speed',\n",
       "       'pres', 'sea_pres', 'asos_hum', 'sum_en', 'sun', 'month', 'season',\n",
       "       'time', 'tem_26', 'tem_coil_510', 'tem_coil_25', 'hum_out_4361',\n",
       "       'asos_hum_95', 'hum_tem_coil', 'plant_train.hum_in_log',\n",
       "       'plant_train.tem_coil_log', 'plant_train.tem_in_log',\n",
       "       'plant_train.tem_out_loc1_log', 'plant_train.hum_out_loc1_log',\n",
       "       'asos_tem_log', 'rain_log', 'wind_direct_log', 'wind_speed_log',\n",
       "       'pres_log', 'sea_pres_log', 'asos_hum_log', 'sum_en_log', 'sun_log',\n",
       "       'dong_rain', 'dong_raintype', 'dong_tem', 'dong_thunder', 'dong_hum',\n",
       "       'dong_windsp', 'dong_winddrt', 'cloud'],\n",
       "      dtype='object')"
      ]
     },
     "execution_count": 82,
     "metadata": {},
     "output_type": "execute_result"
    }
   ],
   "source": [
    "jy_nulldf_48.columns"
   ]
  },
  {
   "cell_type": "markdown",
   "metadata": {},
   "source": [
    "# ***추가 데이터 목록***"
   ]
  },
  {
   "cell_type": "markdown",
   "metadata": {},
   "source": [
    "- 태양고도, 방위각\n",
    "- 그날 하루의 일출, 일몰\n",
    "- 이슬점\n"
   ]
  },
  {
   "cell_type": "code",
   "execution_count": null,
   "metadata": {},
   "outputs": [],
   "source": [
    "# 이슬점 구하는 공식\n",
    "def dew_point(df,tem_column,hum_column):\n",
    "    b = 17.62\n",
    "    c = 243.12\n",
    "    \n",
    "    dew_point_ls = []\n",
    "    \n",
    "    for i in range(len(df)):\n",
    "\n",
    "        gamma = (b * x_dj_nulldf_48[tem_column].iloc[i] /(c + x_dj_nulldf_48[tem_column].iloc[i])) + math.log(x_dj_nulldf_48[hum_column].iloc[i] / 100.0)\n",
    "        dewpoint = (c * gamma) / (b - gamma)\n",
    "        \n",
    "        dew_point_ls.append(dewpoint)\n",
    "        \n",
    "    return dew_point_ls"
   ]
  },
  {
   "cell_type": "code",
   "execution_count": null,
   "metadata": {},
   "outputs": [],
   "source": []
  }
 ],
 "metadata": {
  "kernelspec": {
   "display_name": "Python 3",
   "language": "python",
   "name": "python3"
  },
  "language_info": {
   "codemirror_mode": {
    "name": "ipython",
    "version": 3
   },
   "file_extension": ".py",
   "mimetype": "text/x-python",
   "name": "python",
   "nbconvert_exporter": "python",
   "pygments_lexer": "ipython3",
   "version": "3.7.7"
  }
 },
 "nbformat": 4,
 "nbformat_minor": 4
}
