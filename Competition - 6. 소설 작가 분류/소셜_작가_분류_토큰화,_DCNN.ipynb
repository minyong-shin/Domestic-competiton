{
  "nbformat": 4,
  "nbformat_minor": 0,
  "metadata": {
    "colab": {
      "name": "소셜 작가 분류 - 토큰화, DCNN.ipynb",
      "provenance": [],
      "collapsed_sections": []
    },
    "kernelspec": {
      "name": "python3",
      "display_name": "Python 3"
    }
  },
  "cells": [
    {
      "cell_type": "code",
      "metadata": {
        "id": "QvMd76Xe1p9T"
      },
      "source": [
        "import pandas as pd\n",
        "import numpy as np\n",
        "import os\n",
        "\n",
        "from matplotlib import rcParams, pyplot as plt\n",
        "import numpy as np\n",
        "import os\n",
        "import pandas as pd\n",
        "from pathlib import Path\n",
        "import re\n",
        "from sklearn.metrics import accuracy_score, log_loss\n",
        "from sklearn.model_selection import StratifiedKFold\n",
        "import tensorflow as tf\n",
        "from tensorflow.keras import Sequential\n",
        "from tensorflow.keras.layers import Dense, Embedding, LSTM, GlobalMaxPooling1D, Conv1D, Dropout, Bidirectional\n",
        "from tensorflow.keras.preprocessing.sequence import pad_sequences\n",
        "from tensorflow.keras.preprocessing.text import Tokenizer\n",
        "from tensorflow.keras.callbacks import EarlyStopping, ReduceLROnPlateau\n",
        "from tensorflow.keras.utils import plot_model, to_categorical\n",
        "from tensorflow.keras.optimizers import Adam\n",
        "from nltk.tokenize import word_tokenize\n",
        "from nltk.stem import WordNetLemmatizer \n",
        "from nltk.stem.snowball import SnowballStemmer\n",
        "import warnings \n",
        "\n",
        "from matplotlib import pyplot as plt\n",
        "from matplotlib import rcParams\n",
        "from nltk.corpus import stopwords\n",
        "from nltk.tokenize import word_tokenize\n",
        "from sklearn.linear_model import LogisticRegression\n",
        "from sklearn.metrics import accuracy_score, log_loss\n",
        "from sklearn.model_selection import StratifiedKFold\n",
        "from sklearn.feature_extraction.text import CountVectorizer, TfidfVectorizer, HashingVectorizer\n",
        "import seaborn as sns\n",
        "warnings.filterwarnings(action='ignore')\n",
        "\n",
        "rcParams['figure.figsize'] = (16, 8)\n",
        "plt.style.use('fivethirtyeight')\n",
        "pd.set_option('max_columns', 100)\n",
        "pd.set_option(\"display.precision\", 4)\n",
        "warnings.simplefilter('ignore')"
      ],
      "execution_count": null,
      "outputs": []
    },
    {
      "cell_type": "code",
      "metadata": {
        "colab": {
          "base_uri": "https://localhost:8080/"
        },
        "id": "GFaYyjBUvLTR",
        "outputId": "6a4c1967-f0a6-4372-bfc5-c429e2408da4"
      },
      "source": [
        "import nltk\n",
        "nltk.download('stopwords')\n",
        "nltk.download('punkt')"
      ],
      "execution_count": null,
      "outputs": [
        {
          "output_type": "stream",
          "text": [
            "[nltk_data] Downloading package stopwords to /root/nltk_data...\n",
            "[nltk_data]   Unzipping corpora/stopwords.zip.\n",
            "[nltk_data] Downloading package punkt to /root/nltk_data...\n",
            "[nltk_data]   Unzipping tokenizers/punkt.zip.\n"
          ],
          "name": "stdout"
        },
        {
          "output_type": "execute_result",
          "data": {
            "text/plain": [
              "True"
            ]
          },
          "metadata": {
            "tags": []
          },
          "execution_count": 4
        }
      ]
    },
    {
      "cell_type": "code",
      "metadata": {
        "id": "d96vQ60J-BAI"
      },
      "source": [
        "train = pd.read_csv('/content/drive/MyDrive/데이콘 - 소셜 작가 분류/open/train.csv')\n",
        "test = pd.read_csv('/content/drive/MyDrive/데이콘 - 소셜 작가 분류/open/test_x.csv')"
      ],
      "execution_count": null,
      "outputs": []
    },
    {
      "cell_type": "code",
      "metadata": {
        "colab": {
          "base_uri": "https://localhost:8080/"
        },
        "id": "T1S_ifN0-pqr",
        "outputId": "0a271605-79e0-4c4d-e5dd-a7a25fa2985f"
      },
      "source": [
        "# 작가 분포 확인\n",
        "train['author'].value_counts()"
      ],
      "execution_count": null,
      "outputs": [
        {
          "output_type": "execute_result",
          "data": {
            "text/plain": [
              "3    15063\n",
              "0    13235\n",
              "2    11554\n",
              "4     7805\n",
              "1     7222\n",
              "Name: author, dtype: int64"
            ]
          },
          "metadata": {
            "tags": []
          },
          "execution_count": 4
        }
      ]
    },
    {
      "cell_type": "code",
      "metadata": {
        "colab": {
          "base_uri": "https://localhost:8080/"
        },
        "id": "ZmW--LfI_sdL",
        "outputId": "46f391b5-bac3-4d10-fa25-a5ec69b932b0"
      },
      "source": [
        "gpus = tf.config.experimental.list_physical_devices('GPU')\n",
        "if gpus:\n",
        "    # Restrict TensorFlow to only use the first GPU\n",
        "    try:\n",
        "        tf.config.experimental.set_visible_devices(gpus[0], 'GPU')\n",
        "        logical_gpus = tf.config.experimental.list_logical_devices('GPU')\n",
        "        print(len(gpus), \"Physical GPUs,\", len(logical_gpus), \"Logical GPU\")\n",
        "    except RuntimeError as e:\n",
        "        # Visible devices must be set before GPUs have been initialized\n",
        "        print(e)\n",
        "else:\n",
        "    print('No GPU detected')"
      ],
      "execution_count": null,
      "outputs": [
        {
          "output_type": "stream",
          "text": [
            "No GPU detected\n"
          ],
          "name": "stdout"
        }
      ]
    },
    {
      "cell_type": "code",
      "metadata": {
        "id": "v-VHUTUMAHUc"
      },
      "source": [
        "data_dir = Path('/content/drive/MyDrive/데이콘 - 소셜 작가 분류/open')\n",
        "feature_dir = Path('/content/drive/MyDrive/데이콘 - 소셜 작가 분류/feature')\n",
        "val_dir = Path('/content/drive/MyDrive/데이콘 - 소셜 작가 분류/val')\n",
        "tst_dir = Path('/content/drive/MyDrive/데이콘 - 소셜 작가 분류/tst')\n",
        "sub_dir = Path('/content/drive/MyDrive/데이콘 - 소셜 작가 분류/sub')\n",
        "dirs = [feature_dir, val_dir, tst_dir, sub_dir]\n",
        "for d in dirs:\n",
        "    os.makedirs(d, exist_ok=True)\n",
        "\n",
        "trn_file = data_dir / 'train.csv'\n",
        "tst_file = data_dir / 'test_x.csv'\n",
        "sample_file = data_dir / 'sample_submission.csv'\n",
        "\n",
        "target_col = 'author'\n",
        "n_fold = 5\n",
        "n_class = 5\n",
        "seed = 42"
      ],
      "execution_count": null,
      "outputs": []
    },
    {
      "cell_type": "code",
      "metadata": {
        "id": "1TuBSBd3k20z"
      },
      "source": [
        "# 불용어 제거\n",
        "def alpha_num(text):\n",
        "    return re.sub(r'[^A-Za-z0-9 ]', '', text)\n",
        "\n",
        "\n",
        "def remove_stopwords(text):\n",
        "    final_text = []\n",
        "    for i in text.split():\n",
        "        if i.strip().lower() not in stopwords:\n",
        "            final_text.append(i.strip())\n",
        "    return \" \".join(final_text)\n",
        "\n",
        "\n",
        "stopwords = [ \"a\", \"about\", \"above\", \"after\", \"again\", \"against\", \"all\", \"am\", \"an\", \"and\", \"any\", \"are\", \"as\", \n",
        "             \"at\", \"be\", \"because\", \"been\", \"before\", \"being\", \"below\", \"between\", \"both\", \"but\", \"by\", \"could\", \n",
        "             \"did\", \"do\", \"does\", \"doing\", \"down\", \"during\", \"each\", \"few\", \"for\", \"from\", \"further\", \"had\", \"has\", \n",
        "             \"have\", \"having\", \"he\", \"he'd\", \"he'll\", \"he's\", \"her\", \"here\", \"here's\", \"hers\", \"herself\", \"him\", \"himself\", \n",
        "             \"his\", \"how\", \"how's\", \"i\", \"i'd\", \"i'll\", \"i'm\", \"i've\", \"if\", \"in\", \"into\", \"is\", \"it\", \"it's\", \"its\", \"itself\", \n",
        "             \"let's\", \"me\", \"more\", \"most\", \"my\", \"myself\", \"nor\", \"of\", \"on\", \"once\", \"only\", \"or\", \"other\", \"ought\", \"our\", \"ours\", \n",
        "             \"ourselves\", \"out\", \"over\", \"own\", \"same\", \"she\", \"she'd\", \"she'll\", \"she's\", \"should\", \"so\", \"some\", \"such\", \"than\", \"that\", \n",
        "             \"that's\", \"the\", \"their\", \"theirs\", \"them\", \"themselves\", \"then\", \"there\", \"there's\", \"these\", \"they\", \"they'd\", \"they'll\", \n",
        "             \"they're\", \"they've\", \"this\", \"those\", \"through\", \"to\", \"too\", \"under\", \"until\", \"up\", \"very\", \"was\", \"we\", \"we'd\", \"we'll\", \n",
        "             \"we're\", \"we've\", \"were\", \"what\", \"what's\", \"when\", \"when's\", \"where\", \"where's\", \"which\", \"while\", \"who\", \"who's\", \"whom\", \n",
        "             \"why\", \"why's\", \"with\", \"would\", \"you\", \"you'd\", \"you'll\", \"you're\", \"you've\", \"your\", \"yours\", \"yourself\", \"yourselves\" ]"
      ],
      "execution_count": null,
      "outputs": []
    },
    {
      "cell_type": "code",
      "metadata": {
        "id": "bcoM5t3Jmyn6"
      },
      "source": [
        "train['text'] = train['text'].str.lower().apply(alpha_num).apply(remove_stopwords)\n",
        "test['text'] = test['text'].str.lower().apply(alpha_num).apply(remove_stopwords)"
      ],
      "execution_count": null,
      "outputs": []
    },
    {
      "cell_type": "code",
      "metadata": {
        "colab": {
          "base_uri": "https://localhost:8080/"
        },
        "id": "WdLv6yf5m0kl",
        "outputId": "40b8c87b-c22d-4b00-cf6c-36c1a3e50d35"
      },
      "source": [
        "X_train = train['text'].values\n",
        "X_test = test['text'].values\n",
        "y = train['author'].values\n",
        "print(X_train.shape, X_test.shape, y.shape)"
      ],
      "execution_count": null,
      "outputs": [
        {
          "output_type": "stream",
          "text": [
            "(54879,) (19617,) (54879,)\n"
          ],
          "name": "stdout"
        }
      ]
    },
    {
      "cell_type": "code",
      "metadata": {
        "id": "GbjQGey-m4MD"
      },
      "source": [
        "# 자연어를 모델이 이해하기 쉽도록 만드는 것이 vectorize 방식인데\n",
        "# 벡터화한 고유의 토큰들이 모인 집합을 vocabulary라고 함\n",
        "# 이때 vocab_size가 크면 클수록 학습하는데 오래걸리게 됨\n",
        "vocab_size = 20000\n",
        "embedding_dim = 64\n",
        "max_length = 500\n",
        "padding_type='post'"
      ],
      "execution_count": null,
      "outputs": []
    },
    {
      "cell_type": "code",
      "metadata": {
        "id": "EP_9bvBFm4jf"
      },
      "source": [
        "tokenizer = Tokenizer(num_words = vocab_size)\n",
        "tokenizer.fit_on_texts(X_train)\n",
        "word_index = tokenizer.word_index"
      ],
      "execution_count": null,
      "outputs": []
    },
    {
      "cell_type": "code",
      "metadata": {
        "id": "jhh8Ba3rm5bY"
      },
      "source": [
        "# 텍스트 데이터를 연속된 벡터값으로 변환 시켜주는 것\n",
        "train_sequences = tokenizer.texts_to_sequences(X_train)\n",
        "test_sequences = tokenizer.texts_to_sequences(X_test)"
      ],
      "execution_count": null,
      "outputs": []
    },
    {
      "cell_type": "code",
      "metadata": {
        "colab": {
          "base_uri": "https://localhost:8080/"
        },
        "id": "EKCmjiyym6m-",
        "outputId": "4afbd14e-c120-4b9a-ed7f-039aa25591c1"
      },
      "source": [
        "trn = pad_sequences(train_sequences, padding=padding_type, maxlen=max_length)\n",
        "tst = pad_sequences(test_sequences, padding=padding_type, maxlen=max_length)\n",
        "print(trn.shape, tst.shape)\n"
      ],
      "execution_count": null,
      "outputs": [
        {
          "output_type": "stream",
          "text": [
            "(54879, 500) (19617, 500)\n"
          ],
          "name": "stdout"
        }
      ]
    },
    {
      "cell_type": "code",
      "metadata": {
        "id": "bQNvnm6VnJHf"
      },
      "source": [
        "cv = StratifiedKFold(n_splits=n_fold, shuffle=True, random_state=seed)\n",
        "# DNN모델\n",
        "def get_model():\n",
        "    model = Sequential([\n",
        "        Embedding(vocab_size, embedding_dim, input_length=max_length),\n",
        "        Dropout(.5),\n",
        "        Conv1D(128, 7, padding=\"valid\", activation=\"relu\", strides=3),\n",
        "        Conv1D(128, 7, padding=\"valid\", activation=\"relu\", strides=3),    \n",
        "        GlobalMaxPooling1D(),\n",
        "        Dense(128, activation='relu'),\n",
        "        Dropout(.5),\n",
        "        Dense(n_class, activation='softmax')\n",
        "    ])\n",
        "    \n",
        "    # compile model\n",
        "    # model.compile() 안에서는 optimizer, loss, metric를 \n",
        "    # 모델을 작동시킬 때 설정한 metric으로 로그를 찍어줄 수 있음\n",
        "    # loss는 자동저장\n",
        "    model.compile(loss='categorical_crossentropy',\n",
        "                  optimizer=Adam(learning_rate=.005))\n",
        "    return model"
      ],
      "execution_count": null,
      "outputs": []
    },
    {
      "cell_type": "code",
      "metadata": {
        "colab": {
          "base_uri": "https://localhost:8080/"
        },
        "id": "e2I1YD8AnKVZ",
        "outputId": "c09e0e38-eac0-4d32-d1f1-7c533fb2b619"
      },
      "source": [
        "p_val = np.zeros((trn.shape[0], n_class))\n",
        "p_tst = np.zeros((tst.shape[0], n_class))\n",
        "for i, (i_trn, i_val) in enumerate(cv.split(trn, y), 1):\n",
        "    print(f'training model for CV #{i}')\n",
        "    es = EarlyStopping(monitor='val_loss', min_delta=0.001, patience=3,\n",
        "                       verbose=1, mode='min', baseline=None, restore_best_weights=True)\n",
        "\n",
        "    clf = get_model()    \n",
        "    clf.fit(trn[i_trn], \n",
        "            to_categorical(y[i_trn]),\n",
        "            validation_data=(trn[i_val], to_categorical(y[i_val])),\n",
        "            epochs=10,\n",
        "            batch_size=512,\n",
        "            callbacks=[es])\n",
        "    p_val[i_val, :] = clf.predict(trn[i_val])\n",
        "    p_tst += clf.predict(tst) / n_fold"
      ],
      "execution_count": null,
      "outputs": [
        {
          "output_type": "stream",
          "text": [
            "training model for CV #1\n",
            "Epoch 1/10\n",
            "86/86 [==============================] - 131s 2s/step - loss: 1.3846 - val_loss: 1.1078\n",
            "Epoch 2/10\n",
            "86/86 [==============================] - 131s 2s/step - loss: 0.9856 - val_loss: 0.8763\n",
            "Epoch 3/10\n",
            "86/86 [==============================] - 132s 2s/step - loss: 0.7197 - val_loss: 0.8047\n",
            "Epoch 4/10\n",
            "86/86 [==============================] - 131s 2s/step - loss: 0.5723 - val_loss: 0.8015\n",
            "Epoch 5/10\n",
            "86/86 [==============================] - 132s 2s/step - loss: 0.4806 - val_loss: 0.8346\n",
            "Epoch 6/10\n",
            "86/86 [==============================] - 131s 2s/step - loss: 0.4175 - val_loss: 0.8690\n",
            "Epoch 7/10\n",
            "86/86 [==============================] - ETA: 0s - loss: 0.3745Restoring model weights from the end of the best epoch.\n",
            "86/86 [==============================] - 131s 2s/step - loss: 0.3745 - val_loss: 0.9246\n",
            "Epoch 00007: early stopping\n",
            "training model for CV #2\n",
            "Epoch 1/10\n",
            "86/86 [==============================] - 130s 2s/step - loss: 1.3105 - val_loss: 1.0188\n",
            "Epoch 2/10\n",
            "86/86 [==============================] - 132s 2s/step - loss: 0.8959 - val_loss: 0.8593\n",
            "Epoch 3/10\n",
            "86/86 [==============================] - 135s 2s/step - loss: 0.6769 - val_loss: 0.8109\n",
            "Epoch 4/10\n",
            "86/86 [==============================] - 132s 2s/step - loss: 0.5479 - val_loss: 0.8234\n",
            "Epoch 5/10\n",
            "86/86 [==============================] - 131s 2s/step - loss: 0.4690 - val_loss: 0.8545\n",
            "Epoch 6/10\n",
            "86/86 [==============================] - ETA: 0s - loss: 0.4124Restoring model weights from the end of the best epoch.\n",
            "86/86 [==============================] - 130s 2s/step - loss: 0.4124 - val_loss: 0.9180\n",
            "Epoch 00006: early stopping\n",
            "training model for CV #3\n",
            "Epoch 1/10\n",
            "86/86 [==============================] - 135s 2s/step - loss: 1.3767 - val_loss: 1.0831\n",
            "Epoch 2/10\n",
            "86/86 [==============================] - 131s 2s/step - loss: 0.9362 - val_loss: 0.8115\n",
            "Epoch 3/10\n",
            "86/86 [==============================] - 131s 2s/step - loss: 0.6758 - val_loss: 0.7726\n",
            "Epoch 4/10\n",
            "86/86 [==============================] - 132s 2s/step - loss: 0.5523 - val_loss: 0.7969\n",
            "Epoch 5/10\n",
            "86/86 [==============================] - 130s 2s/step - loss: 0.4734 - val_loss: 0.8233\n",
            "Epoch 6/10\n",
            "86/86 [==============================] - ETA: 0s - loss: 0.4171Restoring model weights from the end of the best epoch.\n",
            "86/86 [==============================] - 137s 2s/step - loss: 0.4171 - val_loss: 0.8700\n",
            "Epoch 00006: early stopping\n",
            "training model for CV #4\n",
            "Epoch 1/10\n",
            "86/86 [==============================] - 131s 2s/step - loss: 1.3839 - val_loss: 1.0986\n",
            "Epoch 2/10\n",
            "86/86 [==============================] - 132s 2s/step - loss: 0.9583 - val_loss: 0.8446\n",
            "Epoch 3/10\n",
            "86/86 [==============================] - 131s 2s/step - loss: 0.6889 - val_loss: 0.7935\n",
            "Epoch 4/10\n",
            "86/86 [==============================] - 132s 2s/step - loss: 0.5489 - val_loss: 0.7846\n",
            "Epoch 5/10\n",
            "86/86 [==============================] - 131s 2s/step - loss: 0.4680 - val_loss: 0.8315\n",
            "Epoch 6/10\n",
            "86/86 [==============================] - 131s 2s/step - loss: 0.4125 - val_loss: 0.8528\n",
            "Epoch 7/10\n",
            "86/86 [==============================] - ETA: 0s - loss: 0.3734Restoring model weights from the end of the best epoch.\n",
            "86/86 [==============================] - 131s 2s/step - loss: 0.3734 - val_loss: 0.9243\n",
            "Epoch 00007: early stopping\n",
            "training model for CV #5\n",
            "Epoch 1/10\n",
            "86/86 [==============================] - 128s 1s/step - loss: 1.3382 - val_loss: 1.0631\n",
            "Epoch 2/10\n",
            "86/86 [==============================] - 129s 2s/step - loss: 0.9502 - val_loss: 0.8543\n",
            "Epoch 3/10\n",
            "86/86 [==============================] - 129s 2s/step - loss: 0.6914 - val_loss: 0.7844\n",
            "Epoch 4/10\n",
            "86/86 [==============================] - 130s 2s/step - loss: 0.5537 - val_loss: 0.7772\n",
            "Epoch 5/10\n",
            "86/86 [==============================] - 129s 2s/step - loss: 0.4643 - val_loss: 0.8239\n",
            "Epoch 6/10\n",
            "86/86 [==============================] - 129s 2s/step - loss: 0.4081 - val_loss: 0.8257\n",
            "Epoch 7/10\n",
            "86/86 [==============================] - ETA: 0s - loss: 0.3690Restoring model weights from the end of the best epoch.\n",
            "86/86 [==============================] - 129s 2s/step - loss: 0.3690 - val_loss: 0.8924\n",
            "Epoch 00007: early stopping\n"
          ],
          "name": "stdout"
        }
      ]
    },
    {
      "cell_type": "code",
      "metadata": {
        "colab": {
          "base_uri": "https://localhost:8080/"
        },
        "id": "_DgjjXNqnRz8",
        "outputId": "d6f780af-64b9-49fe-b76c-9e0916c9c711"
      },
      "source": [
        "print(f'Accuracy (CV): {accuracy_score(y, np.argmax(p_val, axis=1)) * 100:8.4f}%')\n",
        "print(f'Log Loss (CV): {log_loss(pd.get_dummies(y), p_val):8.4f}')"
      ],
      "execution_count": null,
      "outputs": [
        {
          "output_type": "stream",
          "text": [
            "Accuracy (CV):  71.2039%\n",
            "Log Loss (CV):   0.7894\n"
          ],
          "name": "stdout"
        }
      ]
    },
    {
      "cell_type": "code",
      "metadata": {
        "colab": {
          "base_uri": "https://localhost:8080/"
        },
        "id": "Lsu73IlcwtDK",
        "outputId": "91683580-f24e-438b-da74-414f8e7f33f1"
      },
      "source": [
        "print(f'Accuracy (CV): {accuracy_score(y, np.argmax(p_val, axis=1)) * 100:8.4f}%')\n",
        "print(f'Log Loss (CV): {log_loss(pd.get_dummies(y), p_val):8.4f}')"
      ],
      "execution_count": null,
      "outputs": [
        {
          "output_type": "stream",
          "text": [
            "Accuracy (CV):  71.2039%\n",
            "Log Loss (CV):   0.7894\n"
          ],
          "name": "stdout"
        }
      ]
    },
    {
      "cell_type": "code",
      "metadata": {
        "colab": {
          "base_uri": "https://localhost:8080/",
          "height": 215
        },
        "id": "Mjn4kH0MnLtX",
        "outputId": "ca56d0bd-27f0-4954-9ddd-0be9e3773bf7"
      },
      "source": [
        "np.savetxt(p_val_file, p_val, fmt='%.6f', delimiter=',')\n",
        "np.savetxt(p_tst_file, p_tst, fmt='%.6f', delimiter=',')"
      ],
      "execution_count": null,
      "outputs": [
        {
          "output_type": "error",
          "ename": "NameError",
          "evalue": "ignored",
          "traceback": [
            "\u001b[0;31m---------------------------------------------------------------------------\u001b[0m",
            "\u001b[0;31mNameError\u001b[0m                                 Traceback (most recent call last)",
            "\u001b[0;32m<ipython-input-23-67358c712669>\u001b[0m in \u001b[0;36m<module>\u001b[0;34m()\u001b[0m\n\u001b[0;32m----> 1\u001b[0;31m \u001b[0mnp\u001b[0m\u001b[0;34m.\u001b[0m\u001b[0msavetxt\u001b[0m\u001b[0;34m(\u001b[0m\u001b[0mp_val_file\u001b[0m\u001b[0;34m,\u001b[0m \u001b[0mp_val\u001b[0m\u001b[0;34m,\u001b[0m \u001b[0mfmt\u001b[0m\u001b[0;34m=\u001b[0m\u001b[0;34m'%.6f'\u001b[0m\u001b[0;34m,\u001b[0m \u001b[0mdelimiter\u001b[0m\u001b[0;34m=\u001b[0m\u001b[0;34m','\u001b[0m\u001b[0;34m)\u001b[0m\u001b[0;34m\u001b[0m\u001b[0;34m\u001b[0m\u001b[0m\n\u001b[0m\u001b[1;32m      2\u001b[0m \u001b[0mnp\u001b[0m\u001b[0;34m.\u001b[0m\u001b[0msavetxt\u001b[0m\u001b[0;34m(\u001b[0m\u001b[0mp_tst_file\u001b[0m\u001b[0;34m,\u001b[0m \u001b[0mp_tst\u001b[0m\u001b[0;34m,\u001b[0m \u001b[0mfmt\u001b[0m\u001b[0;34m=\u001b[0m\u001b[0;34m'%.6f'\u001b[0m\u001b[0;34m,\u001b[0m \u001b[0mdelimiter\u001b[0m\u001b[0;34m=\u001b[0m\u001b[0;34m','\u001b[0m\u001b[0;34m)\u001b[0m\u001b[0;34m\u001b[0m\u001b[0;34m\u001b[0m\u001b[0m\n",
            "\u001b[0;31mNameError\u001b[0m: name 'p_val_file' is not defined"
          ]
        }
      ]
    },
    {
      "cell_type": "code",
      "metadata": {
        "colab": {
          "base_uri": "https://localhost:8080/",
          "height": 252
        },
        "id": "7JGNyb7anWQo",
        "outputId": "2a561930-8b1d-4719-9d15-7351e66f826b"
      },
      "source": [
        "sub = pd.read_csv('/content/drive/MyDrive/데이콘 - 소셜 작가 분류/open/sample_submission.csv', index_col=0)\n",
        "print(sub.shape)\n",
        "sub.head()"
      ],
      "execution_count": null,
      "outputs": [
        {
          "output_type": "stream",
          "text": [
            "(19617, 5)\n"
          ],
          "name": "stdout"
        },
        {
          "output_type": "execute_result",
          "data": {
            "text/html": [
              "<div>\n",
              "<style scoped>\n",
              "    .dataframe tbody tr th:only-of-type {\n",
              "        vertical-align: middle;\n",
              "    }\n",
              "\n",
              "    .dataframe tbody tr th {\n",
              "        vertical-align: top;\n",
              "    }\n",
              "\n",
              "    .dataframe thead th {\n",
              "        text-align: right;\n",
              "    }\n",
              "</style>\n",
              "<table border=\"1\" class=\"dataframe\">\n",
              "  <thead>\n",
              "    <tr style=\"text-align: right;\">\n",
              "      <th></th>\n",
              "      <th>0</th>\n",
              "      <th>1</th>\n",
              "      <th>2</th>\n",
              "      <th>3</th>\n",
              "      <th>4</th>\n",
              "    </tr>\n",
              "    <tr>\n",
              "      <th>index</th>\n",
              "      <th></th>\n",
              "      <th></th>\n",
              "      <th></th>\n",
              "      <th></th>\n",
              "      <th></th>\n",
              "    </tr>\n",
              "  </thead>\n",
              "  <tbody>\n",
              "    <tr>\n",
              "      <th>0</th>\n",
              "      <td>0</td>\n",
              "      <td>0</td>\n",
              "      <td>0</td>\n",
              "      <td>0</td>\n",
              "      <td>0</td>\n",
              "    </tr>\n",
              "    <tr>\n",
              "      <th>1</th>\n",
              "      <td>0</td>\n",
              "      <td>0</td>\n",
              "      <td>0</td>\n",
              "      <td>0</td>\n",
              "      <td>0</td>\n",
              "    </tr>\n",
              "    <tr>\n",
              "      <th>2</th>\n",
              "      <td>0</td>\n",
              "      <td>0</td>\n",
              "      <td>0</td>\n",
              "      <td>0</td>\n",
              "      <td>0</td>\n",
              "    </tr>\n",
              "    <tr>\n",
              "      <th>3</th>\n",
              "      <td>0</td>\n",
              "      <td>0</td>\n",
              "      <td>0</td>\n",
              "      <td>0</td>\n",
              "      <td>0</td>\n",
              "    </tr>\n",
              "    <tr>\n",
              "      <th>4</th>\n",
              "      <td>0</td>\n",
              "      <td>0</td>\n",
              "      <td>0</td>\n",
              "      <td>0</td>\n",
              "      <td>0</td>\n",
              "    </tr>\n",
              "  </tbody>\n",
              "</table>\n",
              "</div>"
            ],
            "text/plain": [
              "       0  1  2  3  4\n",
              "index               \n",
              "0      0  0  0  0  0\n",
              "1      0  0  0  0  0\n",
              "2      0  0  0  0  0\n",
              "3      0  0  0  0  0\n",
              "4      0  0  0  0  0"
            ]
          },
          "metadata": {
            "tags": []
          },
          "execution_count": 34
        }
      ]
    },
    {
      "cell_type": "code",
      "metadata": {
        "colab": {
          "base_uri": "https://localhost:8080/",
          "height": 235
        },
        "id": "hnX0ECAgnn1t",
        "outputId": "c2a8bf01-2549-4dc9-96fa-1ae083160d56"
      },
      "source": [
        "sub[sub.columns] = p_tst\n",
        "sub.head()"
      ],
      "execution_count": null,
      "outputs": [
        {
          "output_type": "execute_result",
          "data": {
            "text/html": [
              "<div>\n",
              "<style scoped>\n",
              "    .dataframe tbody tr th:only-of-type {\n",
              "        vertical-align: middle;\n",
              "    }\n",
              "\n",
              "    .dataframe tbody tr th {\n",
              "        vertical-align: top;\n",
              "    }\n",
              "\n",
              "    .dataframe thead th {\n",
              "        text-align: right;\n",
              "    }\n",
              "</style>\n",
              "<table border=\"1\" class=\"dataframe\">\n",
              "  <thead>\n",
              "    <tr style=\"text-align: right;\">\n",
              "      <th></th>\n",
              "      <th>0</th>\n",
              "      <th>1</th>\n",
              "      <th>2</th>\n",
              "      <th>3</th>\n",
              "      <th>4</th>\n",
              "    </tr>\n",
              "    <tr>\n",
              "      <th>index</th>\n",
              "      <th></th>\n",
              "      <th></th>\n",
              "      <th></th>\n",
              "      <th></th>\n",
              "      <th></th>\n",
              "    </tr>\n",
              "  </thead>\n",
              "  <tbody>\n",
              "    <tr>\n",
              "      <th>0</th>\n",
              "      <td>0.1506</td>\n",
              "      <td>0.2496</td>\n",
              "      <td>0.3269</td>\n",
              "      <td>0.2207</td>\n",
              "      <td>0.0523</td>\n",
              "    </tr>\n",
              "    <tr>\n",
              "      <th>1</th>\n",
              "      <td>0.1614</td>\n",
              "      <td>0.6608</td>\n",
              "      <td>0.0660</td>\n",
              "      <td>0.0221</td>\n",
              "      <td>0.0897</td>\n",
              "    </tr>\n",
              "    <tr>\n",
              "      <th>2</th>\n",
              "      <td>0.9732</td>\n",
              "      <td>0.0112</td>\n",
              "      <td>0.0016</td>\n",
              "      <td>0.0001</td>\n",
              "      <td>0.0139</td>\n",
              "    </tr>\n",
              "    <tr>\n",
              "      <th>3</th>\n",
              "      <td>0.0284</td>\n",
              "      <td>0.0069</td>\n",
              "      <td>0.7091</td>\n",
              "      <td>0.0042</td>\n",
              "      <td>0.2515</td>\n",
              "    </tr>\n",
              "    <tr>\n",
              "      <th>4</th>\n",
              "      <td>0.5993</td>\n",
              "      <td>0.0683</td>\n",
              "      <td>0.1405</td>\n",
              "      <td>0.0408</td>\n",
              "      <td>0.1510</td>\n",
              "    </tr>\n",
              "  </tbody>\n",
              "</table>\n",
              "</div>"
            ],
            "text/plain": [
              "            0       1       2       3       4\n",
              "index                                        \n",
              "0      0.1506  0.2496  0.3269  0.2207  0.0523\n",
              "1      0.1614  0.6608  0.0660  0.0221  0.0897\n",
              "2      0.9732  0.0112  0.0016  0.0001  0.0139\n",
              "3      0.0284  0.0069  0.7091  0.0042  0.2515\n",
              "4      0.5993  0.0683  0.1405  0.0408  0.1510"
            ]
          },
          "metadata": {
            "tags": []
          },
          "execution_count": 35
        }
      ]
    },
    {
      "cell_type": "code",
      "metadata": {
        "id": "IdJ6_P6InsYB"
      },
      "source": [
        "sub.to_csv('/content/drive/MyDrive/데이콘 - 소셜 작가 분류/open/submission_ver1.csv')"
      ],
      "execution_count": null,
      "outputs": []
    },
    {
      "cell_type": "code",
      "metadata": {
        "id": "zpYmgvqAxGIS"
      },
      "source": [
        ""
      ],
      "execution_count": null,
      "outputs": []
    }
  ]
}