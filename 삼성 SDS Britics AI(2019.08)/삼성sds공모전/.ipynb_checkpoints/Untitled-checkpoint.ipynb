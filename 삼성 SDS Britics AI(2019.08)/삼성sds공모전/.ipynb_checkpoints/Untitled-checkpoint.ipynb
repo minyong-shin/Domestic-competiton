{
 "cells": [
  {
   "cell_type": "code",
   "execution_count": 46,
   "metadata": {},
   "outputs": [
    {
     "name": "stdout",
     "output_type": "stream",
     "text": [
      "[nltk_data] Downloading package stopwords to\n",
      "[nltk_data]     C:\\Users\\tlsal\\AppData\\Roaming\\nltk_data...\n",
      "[nltk_data]   Package stopwords is already up-to-date!\n"
     ]
    }
   ],
   "source": [
    "exec(open(\"./mbti_pred.py\",encoding='utf8').read())"
   ]
  },
  {
   "cell_type": "code",
   "execution_count": null,
   "metadata": {},
   "outputs": [],
   "source": []
  },
  {
   "cell_type": "code",
   "execution_count": 41,
   "metadata": {},
   "outputs": [],
   "source": [
    "exec(open('./iris_model.py').read())"
   ]
  },
  {
   "cell_type": "code",
   "execution_count": 42,
   "metadata": {},
   "outputs": [
    {
     "data": {
      "text/plain": [
       "<function __main__.a()>"
      ]
     },
     "execution_count": 42,
     "metadata": {},
     "output_type": "execute_result"
    }
   ],
   "source": []
  },
  {
   "cell_type": "code",
   "execution_count": null,
   "metadata": {},
   "outputs": [],
   "source": [
    "open('파일경로.txt', 'rt', encoding='UTF8')"
   ]
  },
  {
   "cell_type": "code",
   "execution_count": 30,
   "metadata": {},
   "outputs": [],
   "source": [
    "import os\n"
   ]
  },
  {
   "cell_type": "code",
   "execution_count": 31,
   "metadata": {},
   "outputs": [
    {
     "data": {
      "text/plain": [
       "'C:\\\\Users\\\\tlsal\\\\Documents\\\\GitHub\\\\hello-world\\\\공모전\\\\삼성sds공모전'"
      ]
     },
     "execution_count": 31,
     "metadata": {},
     "output_type": "execute_result"
    }
   ],
   "source": [
    "os.getcwd()"
   ]
  },
  {
   "cell_type": "code",
   "execution_count": 19,
   "metadata": {},
   "outputs": [
    {
     "name": "stdout",
     "output_type": "stream",
     "text": [
      "[nltk_data] Downloading package wordnet to\n",
      "[nltk_data]     C:\\Users\\tlsal\\AppData\\Roaming\\nltk_data...\n",
      "[nltk_data]   Unzipping corpora\\wordnet.zip.\n",
      "[nltk_data] Downloading package stopwords to\n",
      "[nltk_data]     C:\\Users\\tlsal\\AppData\\Roaming\\nltk_data...\n",
      "[nltk_data]   Package stopwords is already up-to-date!\n"
     ]
    }
   ],
   "source": [
    "from keras.datasets import reuters\n",
    "from keras.utils import np_utils\n",
    "from keras.preprocessing import sequence\n",
    "from keras.models import Sequential, Model\n",
    "from keras.layers import *\n",
    "from keras.preprocessing.text import Tokenizer\n",
    "from keras.preprocessing.sequence import pad_sequences\n",
    "from keras.initializers import Constant\n",
    "import tensorflow as tf\n",
    "from keras.callbacks import *\n",
    "from keras.models import load_model\n",
    "from keras.optimizers import *\n",
    "import datetime as dt\n",
    "\n",
    "\n",
    "import pickle\n",
    "import numpy as np\n",
    "import pandas as pd\n",
    "import os\n",
    "import re\n",
    "import matplotlib.pyplot as plt\n",
    "%matplotlib inline\n",
    "\n",
    "from sklearn.feature_extraction.text import CountVectorizer\n",
    "from sklearn.metrics import confusion_matrix, accuracy_score\n",
    "from sklearn.model_selection import train_test_split\n",
    "\n",
    "import nltk\n",
    "nltk.download('wordnet')\n",
    "nltk.download('stopwords')\n",
    "from nltk.corpus import stopwords\n",
    "from nltk.stem import WordNetLemmatizer\n",
    "from nltk.stem import PorterStemmer\n",
    "from sklearn.preprocessing import LabelEncoder"
   ]
  },
  {
   "cell_type": "code",
   "execution_count": 25,
   "metadata": {},
   "outputs": [],
   "source": [
    "MAX_SENTENCE_LENGTH = 20\n",
    "MAX_SENTENCE_COUNT = 199\n",
    "filepath = \"C:/Users/tlsal/Documents/GitHub/hello-world/공모전/삼성sds공모전/attention5.hdf5\"\n",
    "tokenizer_path = \"C:/Users/tlsal/Documents/GitHub/hello-world/공모전/삼성sds공모전/tokenizer.pkl\"\n",
    "\n",
    "def f1_score(y_true, y_pred):\n",
    "\n",
    "    # Count positive samples.\n",
    "    c1 = K.sum(K.round(K.clip(y_true * y_pred, 0, 1)))\n",
    "    c2 = K.sum(K.round(K.clip(y_pred, 0, 1)))\n",
    "    c3 = K.sum(K.round(K.clip(y_true, 0, 1)))\n",
    "\n",
    "    # If there are no true samples, fix the F1 score at 0.\n",
    "    if c3 == 0:\n",
    "        return 0\n",
    "\n",
    "    # How many selected items are relevant?\n",
    "    precision = c1 / c2\n",
    "\n",
    "    # How many relevant items are selected?\n",
    "    recall = c1 / c3\n",
    "\n",
    "    # Calculate f1_score\n",
    "    f1_score = 2 * (precision * recall) / (precision + recall)\n",
    "    return f1_score\n",
    "\n",
    "\n",
    "\n",
    "class AttentionLayer(Layer):\n",
    "    def __init__(self, attention_dim, **kwargs):\n",
    "        self.attention_dim = attention_dim\n",
    "        super(AttentionLayer, self).__init__(**kwargs)\n",
    "    \n",
    "    def build(self, input_shape):\n",
    "        self.W = self.add_weight(name='Attention_Weight',\n",
    "                                 shape=(input_shape[-1], self.attention_dim),\n",
    "                                 initializer='random_normal',\n",
    "                                 trainable=True)\n",
    "        self.b = self.add_weight(name='Attention_Bias',\n",
    "                                 shape=(self.attention_dim, ),\n",
    "                                 initializer='random_normal',\n",
    "                                 trainable=True)\n",
    "        self.u = self.add_weight(name='Attention_Context_Vector',\n",
    "                                 shape=(self.attention_dim, 1),\n",
    "                                 initializer='random_normal',\n",
    "                                 trainable=True)\n",
    "        super(AttentionLayer, self).build(input_shape)\n",
    "        \n",
    "    def call(self, x):\n",
    "        # refer to the original paper\n",
    "        # link: https://www.cs.cmu.edu/~hovy/papers/16HLT-hierarchical-attention-networks.pdf\n",
    "        u_it = K.tanh(K.dot(x, self.W) + self.b)\n",
    "        \n",
    "        a_it = K.dot(u_it, self.u)\n",
    "        a_it = K.squeeze(a_it, -1)\n",
    "        a_it = K.softmax(a_it)\n",
    "        \n",
    "        return a_it\n",
    "        \n",
    "    def compute_output_shape(self, input_shape):\n",
    "        return (input_shape[0], input_shape[1])\n",
    "\n",
    "    def get_config(self):\n",
    "        config = {\n",
    "          'attention_dim' : self.attention_dim\n",
    "        }\n",
    "        base_config = super(AttentionLayer, self).get_config()\n",
    "        return dict(list(base_config.items()) + list(config.items()))\n",
    "\n",
    "    \n",
    "    \n",
    "model = load_model(filepath, custom_objects= {'f1_score': f1_score, \"AttentionLayer\" : AttentionLayer})\n",
    "\n",
    "def normalize(text):\n",
    "    # Lemmatizer | Stemmatizer\n",
    "    stemmer = PorterStemmer()\n",
    "    lemmatiser = WordNetLemmatizer()\n",
    "\n",
    "    # Cache the stop words for speed \n",
    "    cachedStopWords = stopwords.words(\"english\")\n",
    "    \n",
    "    ##### Remove and clean comments\n",
    "    temp = re.sub(\"[^a-zA-Z?!(\\.+)(\\|\\|\\|)]\", \" \", text)\n",
    "    temp = re.sub(' +', ' ', temp).lower()\n",
    "\n",
    "    temp = \" \".join([lemmatiser.lemmatize(w) for w in temp.split(' ') if (w not in cachedStopWords)])\n",
    "\n",
    "    temp = \" \".join([word for word in temp.split(\" \") if len(word) >= 3])\n",
    "    sent_list = list(filter(None, re.split(\"[(\\.+)(\\|\\|\\|)(?)(!)]\", temp)))\n",
    "    sent_list = list(filter(None, [None if ((len(sent.split()) < 3) | (len(sent.split()) > 20))  else sent for sent in sent_list]))\n",
    "\n",
    "    return sent_list\n",
    "\n",
    "\n",
    "    \n",
    "    \n",
    "def encode_texts(texts):\n",
    "    with open(tokenizer_path, \"rb\") as f:\n",
    "        tokenizer = pickle.load(f)\n",
    "    \n",
    "    encoded_texts = np.zeros((len(texts), MAX_SENTENCE_COUNT, MAX_SENTENCE_LENGTH))\n",
    "    for i, text in enumerate(texts):\n",
    "        encoded_text = np.array(pad_sequences(\n",
    "            tokenizer.texts_to_sequences(text), \n",
    "            maxlen=MAX_SENTENCE_LENGTH))[:MAX_SENTENCE_COUNT]\n",
    "        encoded_texts[i][-len(encoded_text):] = encoded_text\n",
    "    return encoded_texts\n",
    "\n",
    "\n",
    "def mbti_predict(text):\n",
    "    sentences = [normalize(text)]\n",
    "    encoded_texts = encode_texts(sentences)\n",
    "    mbti_prob = model.predict(encoded_texts)\n",
    "    \n",
    "    mbti_list = [[\"I\",\"E\"],[\"N\",\"S\"],[\"F\",\"T\"],[\"J\",\"P\"]]\n",
    "    \n",
    "    mbti = []\n",
    "    for i in range(4):\n",
    "        if mbti_prob[0][i] > 0.5:\n",
    "            mbti += mbti_list[i][0]\n",
    "        else:\n",
    "            mbti += mbti_list[i][1]\n",
    "    return mbti"
   ]
  },
  {
   "cell_type": "code",
   "execution_count": 26,
   "metadata": {},
   "outputs": [],
   "source": [
    "with open('test.txt', encoding='utf-8') as f:\n",
    "    text = f.readlines()\n",
    "    "
   ]
  },
  {
   "cell_type": "code",
   "execution_count": 28,
   "metadata": {},
   "outputs": [
    {
     "name": "stdout",
     "output_type": "stream",
     "text": [
      "[[[0.0000e+00 0.0000e+00 0.0000e+00 ... 4.1700e+02 6.9200e+02 1.7063e+04]\n",
      "  [0.0000e+00 0.0000e+00 0.0000e+00 ... 2.8000e+01 4.1700e+02 1.8830e+03]\n",
      "  [0.0000e+00 0.0000e+00 0.0000e+00 ... 3.0630e+03 9.0230e+03 2.9250e+03]\n",
      "  ...\n",
      "  [0.0000e+00 0.0000e+00 0.0000e+00 ... 2.4540e+03 1.2810e+03 5.6340e+03]\n",
      "  [0.0000e+00 0.0000e+00 0.0000e+00 ... 1.7000e+01 8.2660e+03 1.5000e+01]\n",
      "  [0.0000e+00 0.0000e+00 0.0000e+00 ... 1.6600e+02 1.1700e+02 9.2000e+01]]]\n"
     ]
    },
    {
     "data": {
      "text/plain": [
       "['I', 'N', 'T', 'J']"
      ]
     },
     "execution_count": 28,
     "metadata": {},
     "output_type": "execute_result"
    }
   ],
   "source": [
    "mbti_predict(text[0])"
   ]
  },
  {
   "cell_type": "code",
   "execution_count": null,
   "metadata": {},
   "outputs": [],
   "source": []
  }
 ],
 "metadata": {
  "kernelspec": {
   "display_name": "Python 3",
   "language": "python",
   "name": "python3"
  },
  "language_info": {
   "codemirror_mode": {
    "name": "ipython",
    "version": 3
   },
   "file_extension": ".py",
   "mimetype": "text/x-python",
   "name": "python",
   "nbconvert_exporter": "python",
   "pygments_lexer": "ipython3",
   "version": "3.6.5"
  }
 },
 "nbformat": 4,
 "nbformat_minor": 2
}
