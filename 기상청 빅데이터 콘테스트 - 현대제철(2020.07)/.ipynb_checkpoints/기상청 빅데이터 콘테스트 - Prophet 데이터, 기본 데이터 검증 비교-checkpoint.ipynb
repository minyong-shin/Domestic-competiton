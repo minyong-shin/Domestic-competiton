{
 "cells": [
  {
   "cell_type": "code",
   "execution_count": 7,
   "metadata": {},
   "outputs": [],
   "source": [
    "'''data'''\n",
    "import pandas as pd\n",
    "import numpy as np\n",
    "from datetime import datetime\n",
    "\n",
    "\n",
    "'''plotting'''\n",
    "import matplotlib.pyplot as plt\n",
    "from matplotlib import rc, font_manager\n",
    "import seaborn as sns\n",
    "\n",
    "'''sys library'''\n",
    "#plt.style.use('fivethirtyeight')\n",
    "import warnings\n",
    "import os\n",
    "warnings.filterwarnings('ignore')\n",
    "%matplotlib inline\n",
    "rc('font',family=\"NanumSquareR\")\n",
    "\n",
    "'''modeling'''\n",
    "from sklearn.ensemble import RandomForestClassifier\n",
    "#from ggplot import *\n",
    "from sklearn.linear_model import LinearRegression\n",
    "import scipy.stats as st\n",
    "import lightgbm as lgb\n",
    "from sklearn.svm import SVC\n",
    "from sklearn.linear_model import LogisticRegression\n",
    "import xgboost as xgb\n",
    "from sklearn.ensemble import RandomForestRegressor\n",
    "from sklearn.preprocessing import LabelEncoder\n",
    "from sklearn.preprocessing import OneHotEncoder\n",
    "from scipy.stats import uniform, randint\n",
    "from sklearn.datasets import load_breast_cancer, load_diabetes, load_wine\n",
    "from sklearn.metrics import auc, accuracy_score, confusion_matrix, mean_squared_error, f1_score, roc_auc_score\n",
    "from sklearn.model_selection import cross_val_score, GridSearchCV, KFold, RandomizedSearchCV, train_test_split\n",
    "\n",
    "#-*- coding: utf-8 -*-"
   ]
  },
  {
   "cell_type": "markdown",
   "metadata": {},
   "source": [
    "# prophet / 기본 데이터 불러오기"
   ]
  },
  {
   "cell_type": "code",
   "execution_count": 2,
   "metadata": {},
   "outputs": [],
   "source": [
    "pt_fin = pd.read_csv('to_prophet_predict_dataset.csv')\n",
    "\n",
    "pred24_total = pd.read_csv('prophet_predict_24hour.csv')\n",
    "pred48_total = pd.read_csv('prophet_predict_48hour.csv')"
   ]
  },
  {
   "cell_type": "code",
   "execution_count": 14,
   "metadata": {},
   "outputs": [],
   "source": [
    "train_24 = pd.read_csv('data/train24_MY.csv')\n",
    "train_48 = pd.read_csv('data/train48_MY.csv')\n",
    "test = pd.read_csv('data/test_MY.csv')"
   ]
  },
  {
   "cell_type": "code",
   "execution_count": 25,
   "metadata": {},
   "outputs": [],
   "source": [
    "train_24 = train_24[['plant','loc','tem_in','tem_out_loc1','hum_out_loc1','tem_coil','hum_in','after24_loc_predict']]\n",
    "train_48 = train_48[['plant','loc','tem_in','tem_out_loc1','hum_out_loc1','tem_coil','hum_in','after48_loc_predict']]\n",
    "test = test[['plant','loc','tem_in','tem_out_loc1','hum_out_loc1','tem_coil','hum_in']]"
   ]
  },
  {
   "cell_type": "code",
   "execution_count": 3,
   "metadata": {},
   "outputs": [],
   "source": [
    "pred_24_date = pred24_total['ds']\n",
    "pred_48_date = pred48_total['ds']\n",
    "\n",
    "pred24_total.drop(columns = 'ds',inplace = True)\n",
    "pred48_total.drop(columns = 'ds',inplace = True)\n",
    "\n",
    "pred24_total.columns = ['inner_tem','plant','loc','inner_hum','inner_coil_tem','outer_tem','outer_hum']\n",
    "pred48_total.columns = ['inner_tem','plant','loc','inner_hum','inner_coil_tem','outer_tem','outer_hum']\n",
    "\n",
    "pred24_total = pred24_total[['inner_tem','inner_hum','inner_coil_tem','outer_tem','outer_hum','plant','loc']]\n",
    "pred48_total = pred48_total[['inner_tem','inner_hum','inner_coil_tem','outer_tem','outer_hum','plant','loc']]"
   ]
  },
  {
   "cell_type": "code",
   "execution_count": 4,
   "metadata": {},
   "outputs": [],
   "source": [
    "X_train_crt, X_test_crt, y_train_crt, y_test_crt = train_test_split\\\n",
    "                                    (pt_fin.drop(columns = 'cond'),pt_fin['cond'],\n",
    "                                    test_size = 0.3, random_state = 0)"
   ]
  },
  {
   "cell_type": "code",
   "execution_count": 30,
   "metadata": {},
   "outputs": [],
   "source": [
    "X_train24, X_test24, y_train24, y_test24 = train_test_split\\\n",
    "                                    (train_24.drop(columns = 'after24_loc_predict'),train_24['after24_loc_predict'],\n",
    "                                    test_size = 0.3, random_state = 0)\n",
    "\n",
    "X_train48, X_test48, y_train48, y_test48 = train_test_split\\\n",
    "                                    (train_48.drop(columns = 'after48_loc_predict'),train_48['after48_loc_predict'],\n",
    "                                    test_size = 0.3, random_state = 0)"
   ]
  },
  {
   "cell_type": "markdown",
   "metadata": {},
   "source": [
    "# ***Xgboost 검증***"
   ]
  },
  {
   "cell_type": "code",
   "execution_count": 32,
   "metadata": {},
   "outputs": [],
   "source": [
    "clf_xgb = xgb.XGBClassifier()\n",
    "clf_xgb24 = xgb.XGBClassifier()\n",
    "clf_xgb48 = xgb.XGBClassifier()"
   ]
  },
  {
   "cell_type": "code",
   "execution_count": 49,
   "metadata": {},
   "outputs": [
    {
     "data": {
      "text/plain": [
       "XGBClassifier(base_score=0.5, booster='gbtree', colsample_bylevel=1,\n",
       "              colsample_bynode=1, colsample_bytree=1, gamma=0, gpu_id=-1,\n",
       "              importance_type='gain', interaction_constraints='',\n",
       "              learning_rate=0.300000012, max_delta_step=0, max_depth=6,\n",
       "              min_child_weight=1, missing=nan, monotone_constraints='()',\n",
       "              n_estimators=100, n_jobs=0, num_parallel_tree=1,\n",
       "              objective='binary:logistic', random_state=0, reg_alpha=0,\n",
       "              reg_lambda=1, scale_pos_weight=1, subsample=1,\n",
       "              tree_method='exact', validate_parameters=1, verbosity=None)"
      ]
     },
     "execution_count": 49,
     "metadata": {},
     "output_type": "execute_result"
    }
   ],
   "source": [
    "# prophet\n",
    "clf_xgb.fit(pt_fin.drop(columns = 'cond'),pt_fin['cond'])"
   ]
  },
  {
   "cell_type": "code",
   "execution_count": 27,
   "metadata": {},
   "outputs": [],
   "source": [
    "# 24시간에 대한 예측\n",
    "pred24_value = clf_xgb.predict(pred24_total)\n",
    "pred24_prob = clf_xgb.predict_proba(pred24_total)\n",
    "\n",
    "# 48시간에 대한 예측\n",
    "pred48_value = clf_xgb.predict(pred48_total)\n",
    "pred48_prob = clf_xgb.predict_proba(pred48_total)"
   ]
  },
  {
   "cell_type": "code",
   "execution_count": 28,
   "metadata": {},
   "outputs": [
    {
     "data": {
      "text/plain": [
       "0.0    3539\n",
       "dtype: int64"
      ]
     },
     "execution_count": 28,
     "metadata": {},
     "output_type": "execute_result"
    }
   ],
   "source": [
    "pd.Series(pred24_value).value_counts()"
   ]
  },
  {
   "cell_type": "code",
   "execution_count": 29,
   "metadata": {},
   "outputs": [
    {
     "data": {
      "text/plain": [
       "0.0    3539\n",
       "dtype: int64"
      ]
     },
     "execution_count": 29,
     "metadata": {},
     "output_type": "execute_result"
    }
   ],
   "source": [
    "pd.Series(pred48_value).value_counts()"
   ]
  },
  {
   "cell_type": "code",
   "execution_count": 33,
   "metadata": {},
   "outputs": [
    {
     "data": {
      "text/plain": [
       "XGBClassifier(base_score=0.5, booster='gbtree', colsample_bylevel=1,\n",
       "              colsample_bynode=1, colsample_bytree=1, gamma=0, gpu_id=-1,\n",
       "              importance_type='gain', interaction_constraints='',\n",
       "              learning_rate=0.300000012, max_delta_step=0, max_depth=6,\n",
       "              min_child_weight=1, missing=nan, monotone_constraints='()',\n",
       "              n_estimators=100, n_jobs=0, num_parallel_tree=1,\n",
       "              objective='binary:logistic', random_state=0, reg_alpha=0,\n",
       "              reg_lambda=1, scale_pos_weight=1, subsample=1,\n",
       "              tree_method='exact', validate_parameters=1, verbosity=None)"
      ]
     },
     "execution_count": 33,
     "metadata": {},
     "output_type": "execute_result"
    }
   ],
   "source": [
    "# 기본 데이터에 대한 검증\n",
    "clf_xgb24.fit(X_train24,y_train24)\n",
    "clf_xgb48.fit(X_train48,y_train48)"
   ]
  },
  {
   "cell_type": "code",
   "execution_count": 37,
   "metadata": {
    "scrolled": true
   },
   "outputs": [
    {
     "name": "stdout",
     "output_type": "stream",
     "text": [
      "24 hour :  0.9849987168337618\n",
      "48 hour :  0.9647201529190368\n"
     ]
    }
   ],
   "source": [
    "print('24 hour : ',roc_auc_score(y_test24,clf_xgb24.predict_proba(X_test24)[:,1]))\n",
    "print('48 hour : ',roc_auc_score(y_test48,clf_xgb48.predict_proba(X_test48)[:,1]))\n"
   ]
  },
  {
   "cell_type": "code",
   "execution_count": 38,
   "metadata": {},
   "outputs": [],
   "source": [
    "def proba_to_int(value_ls,cut_off):\n",
    "    \n",
    "    preds = []\n",
    "    for i in range(len(value_ls)):\n",
    "        \n",
    "        if value_ls[i] >= cut_off:\n",
    "            preds.append(1)\n",
    "        else:\n",
    "            preds.append(0)\n",
    "            \n",
    "            \n",
    "    return preds"
   ]
  },
  {
   "cell_type": "code",
   "execution_count": 43,
   "metadata": {},
   "outputs": [
    {
     "name": "stdout",
     "output_type": "stream",
     "text": [
      "24 hour :  0.7289235595121674\n",
      "48 hour :  0.5977197584788556\n"
     ]
    }
   ],
   "source": [
    "print('24 hour : ',roc_auc_score(y_test24,proba_to_int(clf_xgb24.predict_proba(X_test24)[:,1],0.5)))\n",
    "print('48 hour : ',roc_auc_score(y_test48,proba_to_int(clf_xgb48.predict_proba(X_test48)[:,1],0.5)))\n"
   ]
  },
  {
   "cell_type": "code",
   "execution_count": 47,
   "metadata": {},
   "outputs": [
    {
     "name": "stdout",
     "output_type": "stream",
     "text": [
      "0.0    3528\n",
      "1.0      11\n",
      "dtype: int64\n"
     ]
    }
   ],
   "source": [
    "print(pd.Series(clf_xgb24.predict(test)).value_counts())"
   ]
  },
  {
   "cell_type": "code",
   "execution_count": 48,
   "metadata": {},
   "outputs": [
    {
     "name": "stdout",
     "output_type": "stream",
     "text": [
      "0.0    3538\n",
      "1.0       1\n",
      "dtype: int64\n"
     ]
    }
   ],
   "source": [
    "print(pd.Series(clf_xgb48.predict(test)).value_counts())"
   ]
  }
 ],
 "metadata": {
  "kernelspec": {
   "display_name": "Python 3",
   "language": "python",
   "name": "python3"
  },
  "language_info": {
   "codemirror_mode": {
    "name": "ipython",
    "version": 3
   },
   "file_extension": ".py",
   "mimetype": "text/x-python",
   "name": "python",
   "nbconvert_exporter": "python",
   "pygments_lexer": "ipython3",
   "version": "3.7.7"
  }
 },
 "nbformat": 4,
 "nbformat_minor": 4
}
