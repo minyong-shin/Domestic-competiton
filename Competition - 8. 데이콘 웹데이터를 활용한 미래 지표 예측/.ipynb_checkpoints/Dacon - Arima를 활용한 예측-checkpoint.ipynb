{
 "cells": [
  {
   "cell_type": "markdown",
   "metadata": {},
   "source": [
    "# library"
   ]
  },
  {
   "cell_type": "code",
   "execution_count": 7,
   "metadata": {
    "ExecuteTime": {
     "end_time": "2021-01-15T13:14:18.665220Z",
     "start_time": "2021-01-15T13:14:18.461329Z"
    }
   },
   "outputs": [],
   "source": [
    "from statsmodels.tsa.arima_model import ARIMA\n",
    "import statsmodels.api as sm\n",
    "import os\n",
    "import pandas as pd\n",
    "import numpy as np\n",
    "import matplotlib.pyplot as plt\n",
    "from matplotlib import rc, rcParams\n",
    "import seaborn as sns\n",
    "from fbprophet import Prophet\n",
    "import datetime\n",
    "from statsmodels.tsa.api import ExponentialSmoothing, SimpleExpSmoothing, Holt\n",
    "import warnings\n",
    "warnings.filterwarnings('ignore')\n",
    "\n",
    "plt.style.use('ggplot')\n",
    "pd.set_option('max_columns', 100)\n",
    "pd.set_option(\"display.precision\", 4)\n",
    "rcParams['figure.figsize'] = (16, 8)\n",
    "rc('font', family='AppleGothic')"
   ]
  },
  {
   "cell_type": "code",
   "execution_count": 3,
   "metadata": {
    "ExecuteTime": {
     "end_time": "2021-01-15T13:12:49.926831Z",
     "start_time": "2021-01-15T13:12:49.924454Z"
    }
   },
   "outputs": [],
   "source": [
    "base_path = './open_data'\n",
    "sub_path = './submission'"
   ]
  },
  {
   "cell_type": "code",
   "execution_count": 4,
   "metadata": {
    "ExecuteTime": {
     "end_time": "2021-01-15T13:12:53.863654Z",
     "start_time": "2021-01-15T13:12:53.726920Z"
    }
   },
   "outputs": [],
   "source": [
    "df = pd.read_csv(os.path.join(base_path, 'train.csv'), engine = 'python', encoding = 'cp949')\n",
    "test = pd.read_csv(os.path.join(base_path, 'submission.csv'), engine = 'python', encoding = 'cp949')"
   ]
  },
  {
   "cell_type": "markdown",
   "metadata": {},
   "source": [
    "# Benchmark code\n",
    "- https://www.kaggle.com/eswarchandt/timeseries-forecasting-of-covid-19-arima#Time-evaluation"
   ]
  },
  {
   "cell_type": "code",
   "execution_count": null,
   "metadata": {},
   "outputs": [],
   "source": [
    "# 날짜 추출, submission 추출\n",
    "submission_df = pd.DataFrame()\n",
    "submission_df['DateTime'] = pd.date_range('2020-11-09','2021-01-08')\n",
    "submission_df['DateTime'] = submission_df['DateTime'].apply(\n",
    "            lambda x: datetime.datetime.strftime(x,'%Y-%m-%d')\n",
    "        )\n",
    "\n",
    "df2 = df[['DateTime','사용자']]\n",
    "df2.columns = ['ds','y']\n",
    "\n",
    "model = Prophet()\n",
    "model.fit(df2)\n",
    "\n",
    "# 시간 단위 예측 -> 평균내서 제출해볼 것(오차보정도 해야함)\n",
    "future = model.make_future_dataframe(periods = 1464, freq = 'H')\n",
    "fcst = model.predict(future)\n",
    "pred_df = fcst.iloc[19008:]"
   ]
  },
  {
   "cell_type": "code",
   "execution_count": 54,
   "metadata": {
    "ExecuteTime": {
     "end_time": "2021-01-15T13:44:57.567969Z",
     "start_time": "2021-01-15T13:41:52.096051Z"
    }
   },
   "outputs": [],
   "source": [
    "predict_ls = []\n",
    "for col in df.columns[1:]:\n",
    "    fit = sm.tsa.statespace.SARIMAX(df[col],order=(1, 1, 1),seasonal_order=(1,1,1,12)).fit()\n",
    "    predict = fit.predict(start=19008,end=19008+1463,dynamic=True).tolist()\n",
    "    predict_ls.append(predict)\n",
    "\n",
    "    temp = pd.DataFrame()\n",
    "    temp['DateTime'] = pred_df['ds']\n",
    "    temp.index = range(len(temp))\n",
    "\n",
    "    temp['DateTime'] = \\\n",
    "            temp['DateTime'].apply(\n",
    "                lambda x: datetime.datetime.strftime(x,'%Y-%m-%d')\n",
    "        )\n",
    "\n",
    "    temp[col] = predict\n",
    "    temp2 = temp.groupby('DateTime')[col].sum().reset_index(name = col)\n",
    "    \n",
    "    submission_df = pd.merge(\n",
    "        submission_df,\n",
    "        temp2,\n",
    "        on = 'DateTime',\n",
    "        how = 'left'\n",
    "    )"
   ]
  },
  {
   "cell_type": "code",
   "execution_count": 55,
   "metadata": {
    "ExecuteTime": {
     "end_time": "2021-01-15T13:45:26.807232Z",
     "start_time": "2021-01-15T13:45:26.792981Z"
    }
   },
   "outputs": [
    {
     "data": {
      "text/html": [
       "<div>\n",
       "<style scoped>\n",
       "    .dataframe tbody tr th:only-of-type {\n",
       "        vertical-align: middle;\n",
       "    }\n",
       "\n",
       "    .dataframe tbody tr th {\n",
       "        vertical-align: top;\n",
       "    }\n",
       "\n",
       "    .dataframe thead th {\n",
       "        text-align: right;\n",
       "    }\n",
       "</style>\n",
       "<table border=\"1\" class=\"dataframe\">\n",
       "  <thead>\n",
       "    <tr style=\"text-align: right;\">\n",
       "      <th></th>\n",
       "      <th>DateTime</th>\n",
       "      <th>사용자</th>\n",
       "      <th>세션</th>\n",
       "      <th>신규방문자</th>\n",
       "      <th>페이지뷰</th>\n",
       "    </tr>\n",
       "  </thead>\n",
       "  <tbody>\n",
       "    <tr>\n",
       "      <th>0</th>\n",
       "      <td>2020-11-09</td>\n",
       "      <td>3179.4295</td>\n",
       "      <td>3305.6829</td>\n",
       "      <td>819.1465</td>\n",
       "      <td>71791.6369</td>\n",
       "    </tr>\n",
       "    <tr>\n",
       "      <th>1</th>\n",
       "      <td>2020-11-10</td>\n",
       "      <td>3341.9845</td>\n",
       "      <td>3450.8899</td>\n",
       "      <td>836.6550</td>\n",
       "      <td>75967.2926</td>\n",
       "    </tr>\n",
       "    <tr>\n",
       "      <th>2</th>\n",
       "      <td>2020-11-11</td>\n",
       "      <td>3376.5166</td>\n",
       "      <td>3486.1573</td>\n",
       "      <td>840.5242</td>\n",
       "      <td>76270.4711</td>\n",
       "    </tr>\n",
       "    <tr>\n",
       "      <th>3</th>\n",
       "      <td>2020-11-12</td>\n",
       "      <td>3399.1182</td>\n",
       "      <td>3513.5876</td>\n",
       "      <td>844.2555</td>\n",
       "      <td>76380.0670</td>\n",
       "    </tr>\n",
       "    <tr>\n",
       "      <th>4</th>\n",
       "      <td>2020-11-13</td>\n",
       "      <td>3420.4194</td>\n",
       "      <td>3540.2517</td>\n",
       "      <td>847.9849</td>\n",
       "      <td>76476.5444</td>\n",
       "    </tr>\n",
       "    <tr>\n",
       "      <th>...</th>\n",
       "      <td>...</td>\n",
       "      <td>...</td>\n",
       "      <td>...</td>\n",
       "      <td>...</td>\n",
       "      <td>...</td>\n",
       "    </tr>\n",
       "    <tr>\n",
       "      <th>56</th>\n",
       "      <td>2021-01-04</td>\n",
       "      <td>4518.9272</td>\n",
       "      <td>4922.0639</td>\n",
       "      <td>1041.9115</td>\n",
       "      <td>81440.1022</td>\n",
       "    </tr>\n",
       "    <tr>\n",
       "      <th>57</th>\n",
       "      <td>2021-01-05</td>\n",
       "      <td>4540.0519</td>\n",
       "      <td>4948.6370</td>\n",
       "      <td>1045.6408</td>\n",
       "      <td>81535.5537</td>\n",
       "    </tr>\n",
       "    <tr>\n",
       "      <th>58</th>\n",
       "      <td>2021-01-06</td>\n",
       "      <td>4561.1766</td>\n",
       "      <td>4975.2101</td>\n",
       "      <td>1049.3702</td>\n",
       "      <td>81631.0052</td>\n",
       "    </tr>\n",
       "    <tr>\n",
       "      <th>59</th>\n",
       "      <td>2021-01-07</td>\n",
       "      <td>4582.3013</td>\n",
       "      <td>5001.7832</td>\n",
       "      <td>1053.0995</td>\n",
       "      <td>81726.4567</td>\n",
       "    </tr>\n",
       "    <tr>\n",
       "      <th>60</th>\n",
       "      <td>2021-01-08</td>\n",
       "      <td>4603.4259</td>\n",
       "      <td>5028.3563</td>\n",
       "      <td>1056.8289</td>\n",
       "      <td>81821.9081</td>\n",
       "    </tr>\n",
       "  </tbody>\n",
       "</table>\n",
       "<p>61 rows × 5 columns</p>\n",
       "</div>"
      ],
      "text/plain": [
       "      DateTime        사용자         세션      신규방문자        페이지뷰\n",
       "0   2020-11-09  3179.4295  3305.6829   819.1465  71791.6369\n",
       "1   2020-11-10  3341.9845  3450.8899   836.6550  75967.2926\n",
       "2   2020-11-11  3376.5166  3486.1573   840.5242  76270.4711\n",
       "3   2020-11-12  3399.1182  3513.5876   844.2555  76380.0670\n",
       "4   2020-11-13  3420.4194  3540.2517   847.9849  76476.5444\n",
       "..         ...        ...        ...        ...         ...\n",
       "56  2021-01-04  4518.9272  4922.0639  1041.9115  81440.1022\n",
       "57  2021-01-05  4540.0519  4948.6370  1045.6408  81535.5537\n",
       "58  2021-01-06  4561.1766  4975.2101  1049.3702  81631.0052\n",
       "59  2021-01-07  4582.3013  5001.7832  1053.0995  81726.4567\n",
       "60  2021-01-08  4603.4259  5028.3563  1056.8289  81821.9081\n",
       "\n",
       "[61 rows x 5 columns]"
      ]
     },
     "execution_count": 55,
     "metadata": {},
     "output_type": "execute_result"
    }
   ],
   "source": [
    "submission_df"
   ]
  },
  {
   "cell_type": "code",
   "execution_count": 57,
   "metadata": {
    "ExecuteTime": {
     "end_time": "2021-01-15T13:45:50.787642Z",
     "start_time": "2021-01-15T13:45:50.780960Z"
    }
   },
   "outputs": [],
   "source": [
    "time_str = datetime.datetime.strftime(\n",
    "    datetime.datetime.today(),\n",
    "    '%Y%m%d_%H%M%S'\n",
    ")\n",
    "submission_df.to_csv(\n",
    "    os.path.join(sub_path, f'submission_sarima_{time_str}.csv'),\n",
    "    index = False,\n",
    "    encoding = 'cp949'\n",
    ")"
   ]
  },
  {
   "cell_type": "markdown",
   "metadata": {},
   "source": [
    "# ensemble"
   ]
  },
  {
   "cell_type": "code",
   "execution_count": 60,
   "metadata": {
    "ExecuteTime": {
     "end_time": "2021-01-15T13:58:20.735113Z",
     "start_time": "2021-01-15T13:58:20.727185Z"
    }
   },
   "outputs": [],
   "source": [
    "# arima + prophet\n",
    "\n",
    "am = pd.read_csv(\n",
    "    os.path.join(sub_path, f'submission_sarima_{time_str}.csv'),\n",
    "    encoding = 'cp949'\n",
    ")\n",
    "pp = pd.read_csv(\n",
    "    os.path.join(sub_path, 'submission_prophet_2020_12_21_00_53_00.csv'),\n",
    "    encoding = 'cp949'\n",
    ")"
   ]
  },
  {
   "cell_type": "code",
   "execution_count": 67,
   "metadata": {
    "ExecuteTime": {
     "end_time": "2021-01-15T13:59:44.754842Z",
     "start_time": "2021-01-15T13:59:44.747652Z"
    }
   },
   "outputs": [],
   "source": [
    "eb = pp.iloc[:,1:] * 0.5 + am.iloc[:,1:] * 0.5\n",
    "sub = pd.concat([pp[['DateTime']], eb], axis = 1)"
   ]
  },
  {
   "cell_type": "code",
   "execution_count": 70,
   "metadata": {
    "ExecuteTime": {
     "end_time": "2021-01-15T14:00:11.067985Z",
     "start_time": "2021-01-15T14:00:11.061248Z"
    }
   },
   "outputs": [],
   "source": [
    "time_str = datetime.datetime.strftime(\n",
    "    datetime.datetime.today(),\n",
    "    '%Y%m%d_%H%M%S'\n",
    ")\n",
    "sub.to_csv(\n",
    "    os.path.join(sub_path, f'submission_ensemble_{time_str}.csv'),\n",
    "    index = False,\n",
    "    encoding = 'cp949'\n",
    ")"
   ]
  },
  {
   "cell_type": "code",
   "execution_count": null,
   "metadata": {},
   "outputs": [],
   "source": []
  }
 ],
 "metadata": {
  "kernelspec": {
   "display_name": "Python 3",
   "language": "python",
   "name": "python3"
  },
  "language_info": {
   "codemirror_mode": {
    "name": "ipython",
    "version": 3
   },
   "file_extension": ".py",
   "mimetype": "text/x-python",
   "name": "python",
   "nbconvert_exporter": "python",
   "pygments_lexer": "ipython3",
   "version": "3.7.7"
  },
  "toc": {
   "base_numbering": 1,
   "nav_menu": {},
   "number_sections": true,
   "sideBar": true,
   "skip_h1_title": false,
   "title_cell": "Table of Contents",
   "title_sidebar": "Contents",
   "toc_cell": false,
   "toc_position": {},
   "toc_section_display": true,
   "toc_window_display": true
  }
 },
 "nbformat": 4,
 "nbformat_minor": 4
}
