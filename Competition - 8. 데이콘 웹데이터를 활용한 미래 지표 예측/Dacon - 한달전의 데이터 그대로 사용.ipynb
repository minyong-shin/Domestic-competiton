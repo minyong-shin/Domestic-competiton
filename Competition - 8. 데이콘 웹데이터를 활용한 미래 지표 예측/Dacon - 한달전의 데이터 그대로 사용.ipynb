{
 "cells": [
  {
   "cell_type": "markdown",
   "metadata": {},
   "source": [
    "# library"
   ]
  },
  {
   "cell_type": "code",
   "execution_count": 4,
   "metadata": {
    "ExecuteTime": {
     "end_time": "2021-01-15T13:12:35.058443Z",
     "start_time": "2021-01-15T13:12:34.902885Z"
    }
   },
   "outputs": [],
   "source": [
    "import os\n",
    "import pandas as pd\n",
    "import numpy as np\n",
    "import matplotlib.pyplot as plt\n",
    "from matplotlib import rc, rcParams\n",
    "import seaborn as sns\n",
    "from fbprophet import Prophet\n",
    "import datetime\n",
    "from statsmodels.tsa.api import ExponentialSmoothing, SimpleExpSmoothing, Holt\n",
    "import warnings\n",
    "warnings.filterwarnings('ignore')\n",
    "\n",
    "plt.style.use('ggplot')\n",
    "pd.set_option('max_columns', 100)\n",
    "pd.set_option(\"display.precision\", 4)\n",
    "rcParams['figure.figsize'] = (16, 8)\n",
    "rc('font', family='AppleGothic')"
   ]
  },
  {
   "cell_type": "code",
   "execution_count": 2,
   "metadata": {
    "ExecuteTime": {
     "end_time": "2021-01-15T13:06:46.638257Z",
     "start_time": "2021-01-15T13:06:46.636004Z"
    }
   },
   "outputs": [],
   "source": [
    "base_path = './open_data'\n",
    "sub_path = './submission'"
   ]
  },
  {
   "cell_type": "code",
   "execution_count": 3,
   "metadata": {
    "ExecuteTime": {
     "end_time": "2021-01-15T13:06:55.697740Z",
     "start_time": "2021-01-15T13:06:55.608360Z"
    }
   },
   "outputs": [],
   "source": [
    "df = pd.read_csv(os.path.join(base_path, 'train.csv'), engine = 'python', encoding = 'cp949')\n",
    "test = pd.read_csv(os.path.join(base_path, 'submission.csv'), engine = 'python', encoding = 'cp949')"
   ]
  },
  {
   "cell_type": "markdown",
   "metadata": {},
   "source": [
    "# Naive predict"
   ]
  },
  {
   "cell_type": "code",
   "execution_count": 5,
   "metadata": {
    "ExecuteTime": {
     "end_time": "2021-01-15T13:43:59.089513Z",
     "start_time": "2021-01-15T13:43:32.915339Z"
    }
   },
   "outputs": [
    {
     "name": "stderr",
     "output_type": "stream",
     "text": [
      "INFO:numexpr.utils:Note: NumExpr detected 16 cores but \"NUMEXPR_MAX_THREADS\" not set, so enforcing safe limit of 8.\n",
      "INFO:numexpr.utils:NumExpr defaulting to 8 threads.\n"
     ]
    }
   ],
   "source": [
    "# 날짜 추출, submission 추출\n",
    "submission_df = pd.DataFrame()\n",
    "submission_df['DateTime'] = pd.date_range('2020-11-09','2021-01-08')\n",
    "submission_df['DateTime'] = submission_df['DateTime'].apply(\n",
    "            lambda x: datetime.datetime.strftime(x,'%Y-%m-%d')\n",
    "        )\n",
    "\n",
    "df2 = df[['DateTime','사용자']]\n",
    "df2.columns = ['ds','y']\n",
    "\n",
    "model = Prophet()\n",
    "model.fit(df2)\n",
    "\n",
    "# 시간 단위 예측 -> 평균내서 제출해볼 것(오차보정도 해야함)\n",
    "future = model.make_future_dataframe(periods = 1464, freq = 'H')\n",
    "fcst = model.predict(future)\n",
    "pred_df = fcst.iloc[19008:]"
   ]
  },
  {
   "cell_type": "code",
   "execution_count": 27,
   "metadata": {
    "ExecuteTime": {
     "end_time": "2021-01-15T13:52:49.273375Z",
     "start_time": "2021-01-15T13:52:49.259593Z"
    },
    "scrolled": true
   },
   "outputs": [],
   "source": [
    "temp = pd.DataFrame()\n",
    "temp['DateTime'] = pred_df['ds']\n",
    "temp.index = range(len(temp))\n",
    "\n",
    "temp['DateTime'] = \\\n",
    "        temp['DateTime'].apply(\n",
    "            lambda x: datetime.datetime.strftime(x,'%Y-%m-%d')\n",
    "    )\n"
   ]
  },
  {
   "cell_type": "code",
   "execution_count": 34,
   "metadata": {
    "ExecuteTime": {
     "end_time": "2021-01-15T13:54:32.864868Z",
     "start_time": "2021-01-15T13:54:32.858050Z"
    }
   },
   "outputs": [],
   "source": [
    "temp2 = pd.concat([temp,pd.DataFrame(df[df['DateTime'] >= '2020-10-09 00:00:00'].iloc[:,1:].values)],axis = 1)\n",
    "temp2.columns = ['DateTime'] + df.columns[1:].tolist()"
   ]
  },
  {
   "cell_type": "code",
   "execution_count": 38,
   "metadata": {
    "ExecuteTime": {
     "end_time": "2021-01-15T13:55:39.334048Z",
     "start_time": "2021-01-15T13:55:39.328021Z"
    }
   },
   "outputs": [],
   "source": [
    "temp3 = temp2.groupby('DateTime').sum().reset_index()"
   ]
  },
  {
   "cell_type": "code",
   "execution_count": 41,
   "metadata": {
    "ExecuteTime": {
     "end_time": "2021-01-15T13:56:31.734636Z",
     "start_time": "2021-01-15T13:56:31.727194Z"
    },
    "scrolled": true
   },
   "outputs": [],
   "source": [
    "time_str = datetime.datetime.strftime(\n",
    "    datetime.datetime.today(),\n",
    "    '%Y%m%d_%H%M%S'\n",
    ")\n",
    "temp3.to_csv(\n",
    "    os.path.join(sub_path, f'submission_naive_{time_str}.csv'),\n",
    "    index = False,\n",
    "    encoding = 'cp949'\n",
    ")"
   ]
  },
  {
   "cell_type": "code",
   "execution_count": null,
   "metadata": {},
   "outputs": [],
   "source": []
  },
  {
   "cell_type": "markdown",
   "metadata": {},
   "source": [
    "# weight predict"
   ]
  },
  {
   "cell_type": "code",
   "execution_count": null,
   "metadata": {},
   "outputs": [],
   "source": [
    "# 가중치를 주면서 예측\n"
   ]
  },
  {
   "cell_type": "markdown",
   "metadata": {},
   "source": [
    "# MA"
   ]
  },
  {
   "cell_type": "code",
   "execution_count": null,
   "metadata": {},
   "outputs": [],
   "source": []
  },
  {
   "cell_type": "markdown",
   "metadata": {},
   "source": [
    "# holt linear"
   ]
  },
  {
   "cell_type": "code",
   "execution_count": null,
   "metadata": {},
   "outputs": [],
   "source": []
  }
 ],
 "metadata": {
  "kernelspec": {
   "display_name": "Python 3",
   "language": "python",
   "name": "python3"
  },
  "language_info": {
   "codemirror_mode": {
    "name": "ipython",
    "version": 3
   },
   "file_extension": ".py",
   "mimetype": "text/x-python",
   "name": "python",
   "nbconvert_exporter": "python",
   "pygments_lexer": "ipython3",
   "version": "3.7.7"
  },
  "toc": {
   "base_numbering": 1,
   "nav_menu": {},
   "number_sections": true,
   "sideBar": true,
   "skip_h1_title": false,
   "title_cell": "Table of Contents",
   "title_sidebar": "Contents",
   "toc_cell": false,
   "toc_position": {},
   "toc_section_display": true,
   "toc_window_display": true
  }
 },
 "nbformat": 4,
 "nbformat_minor": 4
}
