{
 "cells": [
  {
   "cell_type": "markdown",
   "metadata": {},
   "source": [
    "# library"
   ]
  },
  {
   "cell_type": "code",
   "execution_count": 2,
   "metadata": {
    "ExecuteTime": {
     "end_time": "2021-01-11T15:16:18.645452Z",
     "start_time": "2021-01-11T15:16:17.029235Z"
    }
   },
   "outputs": [],
   "source": [
    "import os\n",
    "import pandas as pd\n",
    "import numpy as np\n",
    "import matplotlib.pyplot as plt\n",
    "from matplotlib import rc, rcParams\n",
    "import seaborn as sns\n",
    "import glob\n",
    "from sklearn.model_selection import train_test_split, StratifiedKFold, KFold\n",
    "# import lightgbm\n",
    "from lightgbm import LGBMRegressor\n",
    "import datetime\n",
    "\n",
    "import warnings\n",
    "warnings.filterwarnings('ignore')\n",
    "\n",
    "plt.style.use('ggplot')\n",
    "pd.set_option('max_columns', 100)\n",
    "pd.set_option(\"display.precision\", 4)\n",
    "rcParams['figure.figsize'] = (16, 8)\n",
    "rc('font', family='AppleGothic')"
   ]
  },
  {
   "cell_type": "code",
   "execution_count": 4,
   "metadata": {
    "ExecuteTime": {
     "end_time": "2021-01-11T15:16:30.373639Z",
     "start_time": "2021-01-11T15:16:30.370208Z"
    }
   },
   "outputs": [],
   "source": [
    "train_path = './trainingdata'\n",
    "infer_path = './inferencedata'\n",
    "submission_path = './submission'\n",
    "importance_path = './feature_importance'\n",
    "oof_path = './oof_preds'\n",
    "pil_path = './magok'"
   ]
  },
  {
   "cell_type": "code",
   "execution_count": 64,
   "metadata": {
    "ExecuteTime": {
     "end_time": "2021-01-10T08:36:40.159188Z",
     "start_time": "2021-01-10T08:36:40.150885Z"
    }
   },
   "outputs": [],
   "source": [
    "def pinball(pred, actual):\n",
    "    quantile_col = pred.columns.tolist()\n",
    "    pred2 = pred.copy()\n",
    "    actual2 = actual.copy()\n",
    "    \n",
    "    pred2.index = range(len(pred2))\n",
    "    actual2.index = range(len(actual2))\n",
    "\n",
    "    pinball_loss = []\n",
    "    for item in quantile_col:\n",
    "        pre_pinball = []\n",
    "        for idx in range(len(pred2)):\n",
    "            y = actual2.iloc[idx]\n",
    "            z = pred2[item].iloc[idx]\n",
    "            q = item\n",
    "            \n",
    "            if y >= z:\n",
    "                value = (y - z)*q\n",
    "                pre_pinball.append(value)\n",
    "            else:\n",
    "                value = (z - y)*(1 - q)\n",
    "                pre_pinball.append(value)\n",
    "        loss_mean = np.mean(pre_pinball)\n",
    "        pinball_loss.append(loss_mean)\n",
    "    \n",
    "    fin = np.mean(pinball_loss)\n",
    "    print(f'Pinball Loss: {fin}')\n",
    "    \n",
    "    return pinball_loss         "
   ]
  },
  {
   "cell_type": "code",
   "execution_count": 92,
   "metadata": {
    "ExecuteTime": {
     "end_time": "2021-01-10T08:43:06.449869Z",
     "start_time": "2021-01-10T08:43:06.447005Z"
    }
   },
   "outputs": [],
   "source": [
    "# consistency_df = pd.DataFrame()"
   ]
  },
  {
   "cell_type": "markdown",
   "metadata": {},
   "source": [
    "# Day4일차 -> 5,6일차 예측하는 inference 데이터셋 구축"
   ]
  },
  {
   "cell_type": "code",
   "execution_count": 40,
   "metadata": {
    "ExecuteTime": {
     "end_time": "2021-01-10T08:14:53.499333Z",
     "start_time": "2021-01-10T08:14:53.496596Z"
    }
   },
   "outputs": [],
   "source": [
    "tr_base_path = './data/train'\n",
    "te_base_path = './data/test'\n",
    "submission_path = './submission'\n",
    "infer_path = './inferencedata'\n",
    "train_path = './trainingdata'\n",
    "cv_lb_path = './cv_lb_path'"
   ]
  },
  {
   "cell_type": "code",
   "execution_count": 34,
   "metadata": {
    "ExecuteTime": {
     "end_time": "2021-01-10T06:56:33.537450Z",
     "start_time": "2021-01-10T06:56:33.305337Z"
    }
   },
   "outputs": [],
   "source": [
    "# test load \n",
    "t_test = []\n",
    "\n",
    "for i in range(81):\n",
    "    file_path = './data/test/' + str(i) + '.csv'\n",
    "    temp = pd.read_csv(file_path)\n",
    "#     temp['label'] = i\n",
    "    t_test.append(temp)\n",
    "    \n",
    "test = pd.concat(t_test)\n",
    "df_test = test.copy()"
   ]
  },
  {
   "cell_type": "code",
   "execution_count": 35,
   "metadata": {
    "ExecuteTime": {
     "end_time": "2021-01-10T06:56:46.546749Z",
     "start_time": "2021-01-10T06:56:46.540541Z"
    }
   },
   "outputs": [],
   "source": [
    "day5_pred = df_test[df_test['Day'] == 5]['TARGET']\n",
    "day6_pred = df_test[df_test['Day'] == 6]['TARGET']"
   ]
  },
  {
   "cell_type": "code",
   "execution_count": 56,
   "metadata": {
    "ExecuteTime": {
     "end_time": "2021-01-10T08:30:29.619097Z",
     "start_time": "2021-01-10T08:30:29.616014Z"
    }
   },
   "outputs": [],
   "source": [
    "test_final = day5_pred.append(day6_pred)"
   ]
  },
  {
   "cell_type": "markdown",
   "metadata": {},
   "source": [
    "# data load"
   ]
  },
  {
   "cell_type": "code",
   "execution_count": 176,
   "metadata": {
    "ExecuteTime": {
     "end_time": "2021-01-10T09:50:16.783376Z",
     "start_time": "2021-01-10T09:50:16.407101Z"
    }
   },
   "outputs": [],
   "source": [
    "time_str = '20210110_185002'\n",
    "train = pd.read_csv(\n",
    "    os.path.join(cv_lb_path, f'training_{time_str}.csv')\n",
    ")\n",
    "\n",
    "test = pd.read_csv(\n",
    "    os.path.join(cv_lb_path, f'inference_{time_str}.csv')\n",
    ")\n"
   ]
  },
  {
   "cell_type": "markdown",
   "metadata": {},
   "source": [
    "# CV 모델링"
   ]
  },
  {
   "cell_type": "code",
   "execution_count": 177,
   "metadata": {
    "ExecuteTime": {
     "end_time": "2021-01-10T09:50:17.167161Z",
     "start_time": "2021-01-10T09:50:17.074011Z"
    }
   },
   "outputs": [],
   "source": [
    "train_x, valid_x, train_y, valid_y = train_test_split(train.drop(columns = ['1day_after_target','2day_after_target']), train['1day_after_target'], test_size=0.3, random_state=0)\n",
    "train_x2, valid_x2, train_y2, valid_y2 = train_test_split(train.drop(columns = ['1day_after_target','2day_after_target']), train['2day_after_target'], test_size=0.3, random_state=0)\n",
    "test_df = test.copy()\n",
    "valid_final = valid_y.append(valid_y2)"
   ]
  },
  {
   "cell_type": "code",
   "execution_count": 119,
   "metadata": {
    "ExecuteTime": {
     "end_time": "2021-01-10T08:58:20.167612Z",
     "start_time": "2021-01-10T08:58:20.159601Z"
    }
   },
   "outputs": [],
   "source": [
    "def lgbm_predict(train_x, valid_x, train_y, valid_y, test):\n",
    "    quantiles = [0.1, 0.2, 0.3, 0.4, 0.5, 0.6, 0.7, 0.8, 0.9]\n",
    "\n",
    "\n",
    "    feature_importance_df = pd.DataFrame(np.zeros([len(train_x.columns), len(quantiles)]))\n",
    "    feature_importance_df.columns = quantiles\n",
    "\n",
    "    test_df = pd.DataFrame(np.zeros([test.shape[0], len(quantiles)]))\n",
    "    test_df.columns = quantiles\n",
    "\n",
    "    oof_df = pd.DataFrame()\n",
    "    for idx, q in enumerate(quantiles):\n",
    "        print(f'\\nquantile: {q}\\n')\n",
    "        model = LGBMRegressor(objective='quantile',\n",
    "                              alpha=q,\n",
    "                              n_estimators=10000, \n",
    "                              bagging_fraction=0.7, \n",
    "                              learning_rate=0.027, \n",
    "                              subsample=0.7\n",
    "                             )   \n",
    "\n",
    "        model.fit(train_x, train_y, eval_metric = ['quantile'], \n",
    "          eval_set=[(valid_x, valid_y)], early_stopping_rounds=300, verbose=1500)\n",
    "\n",
    "        oof_df[q] = model.predict(valid_x).round(2)\n",
    "        test_df[q] = model.predict(test).round(2)\n",
    "\n",
    "        feature_importance_df[q] = model.feature_importances_\n",
    "\n",
    "#     metric = pinball(oof_df, valid_y)\n",
    "#     loss = np.mean(metric)# 실제로 확인해야할 CV\n",
    "    \n",
    "    return oof_df, test_df"
   ]
  },
  {
   "cell_type": "code",
   "execution_count": 178,
   "metadata": {
    "ExecuteTime": {
     "end_time": "2021-01-10T09:52:37.083654Z",
     "start_time": "2021-01-10T09:50:19.175025Z"
    },
    "scrolled": true
   },
   "outputs": [
    {
     "name": "stdout",
     "output_type": "stream",
     "text": [
      "\n",
      "quantile: 0.1\n",
      "\n",
      "Training until validation scores don't improve for 300 rounds\n",
      "[1500]\tvalid_0's quantile: 1.26988\n",
      "Early stopping, best iteration is:\n",
      "[1612]\tvalid_0's quantile: 1.26845\n",
      "\n",
      "quantile: 0.2\n",
      "\n",
      "Training until validation scores don't improve for 300 rounds\n",
      "[1500]\tvalid_0's quantile: 1.93887\n",
      "[3000]\tvalid_0's quantile: 1.91751\n",
      "Early stopping, best iteration is:\n",
      "[3559]\tvalid_0's quantile: 1.9122\n",
      "\n",
      "quantile: 0.3\n",
      "\n",
      "Training until validation scores don't improve for 300 rounds\n",
      "[1500]\tvalid_0's quantile: 2.27315\n",
      "[3000]\tvalid_0's quantile: 2.22181\n",
      "[4500]\tvalid_0's quantile: 2.20452\n",
      "Early stopping, best iteration is:\n",
      "[4849]\tvalid_0's quantile: 2.2013\n",
      "\n",
      "quantile: 0.4\n",
      "\n",
      "Training until validation scores don't improve for 300 rounds\n",
      "[1500]\tvalid_0's quantile: 2.38717\n",
      "[3000]\tvalid_0's quantile: 2.33957\n",
      "[4500]\tvalid_0's quantile: 2.30791\n",
      "[6000]\tvalid_0's quantile: 2.29302\n",
      "[7500]\tvalid_0's quantile: 2.2761\n",
      "[9000]\tvalid_0's quantile: 2.26726\n",
      "Did not meet early stopping. Best iteration is:\n",
      "[10000]\tvalid_0's quantile: 2.25981\n",
      "\n",
      "quantile: 0.5\n",
      "\n",
      "Training until validation scores don't improve for 300 rounds\n",
      "[1500]\tvalid_0's quantile: 2.3768\n",
      "[3000]\tvalid_0's quantile: 2.32281\n",
      "[4500]\tvalid_0's quantile: 2.2862\n",
      "[6000]\tvalid_0's quantile: 2.26634\n",
      "[7500]\tvalid_0's quantile: 2.25507\n",
      "[9000]\tvalid_0's quantile: 2.24102\n",
      "Did not meet early stopping. Best iteration is:\n",
      "[9993]\tvalid_0's quantile: 2.23712\n",
      "\n",
      "quantile: 0.6\n",
      "\n",
      "Training until validation scores don't improve for 300 rounds\n",
      "[1500]\tvalid_0's quantile: 2.14005\n",
      "[3000]\tvalid_0's quantile: 2.10366\n",
      "[4500]\tvalid_0's quantile: 2.08214\n",
      "Early stopping, best iteration is:\n",
      "[4703]\tvalid_0's quantile: 2.07939\n",
      "\n",
      "quantile: 0.7\n",
      "\n",
      "Training until validation scores don't improve for 300 rounds\n",
      "[1500]\tvalid_0's quantile: 1.79539\n",
      "[3000]\tvalid_0's quantile: 1.77085\n",
      "Early stopping, best iteration is:\n",
      "[3663]\tvalid_0's quantile: 1.76723\n",
      "\n",
      "quantile: 0.8\n",
      "\n",
      "Training until validation scores don't improve for 300 rounds\n",
      "[1500]\tvalid_0's quantile: 1.33152\n",
      "[3000]\tvalid_0's quantile: 1.32261\n",
      "Early stopping, best iteration is:\n",
      "[4089]\tvalid_0's quantile: 1.32154\n",
      "\n",
      "quantile: 0.9\n",
      "\n",
      "Training until validation scores don't improve for 300 rounds\n",
      "[1500]\tvalid_0's quantile: 0.757367\n",
      "Early stopping, best iteration is:\n",
      "[2010]\tvalid_0's quantile: 0.757126\n"
     ]
    }
   ],
   "source": [
    "ood_df, test_df = lgbm_predict(train_x, valid_x, train_y, valid_y, test)"
   ]
  },
  {
   "cell_type": "code",
   "execution_count": 179,
   "metadata": {
    "ExecuteTime": {
     "end_time": "2021-01-10T09:54:52.210059Z",
     "start_time": "2021-01-10T09:52:37.085984Z"
    },
    "scrolled": true
   },
   "outputs": [
    {
     "name": "stdout",
     "output_type": "stream",
     "text": [
      "\n",
      "quantile: 0.1\n",
      "\n",
      "Training until validation scores don't improve for 300 rounds\n",
      "[1500]\tvalid_0's quantile: 1.33809\n",
      "Early stopping, best iteration is:\n",
      "[1458]\tvalid_0's quantile: 1.3377\n",
      "\n",
      "quantile: 0.2\n",
      "\n",
      "Training until validation scores don't improve for 300 rounds\n",
      "[1500]\tvalid_0's quantile: 2.06149\n",
      "Early stopping, best iteration is:\n",
      "[1961]\tvalid_0's quantile: 2.0411\n",
      "\n",
      "quantile: 0.3\n",
      "\n",
      "Training until validation scores don't improve for 300 rounds\n",
      "[1500]\tvalid_0's quantile: 2.37936\n",
      "[3000]\tvalid_0's quantile: 2.31897\n",
      "[4500]\tvalid_0's quantile: 2.29752\n",
      "[6000]\tvalid_0's quantile: 2.27882\n",
      "[7500]\tvalid_0's quantile: 2.2667\n",
      "[9000]\tvalid_0's quantile: 2.26114\n",
      "Early stopping, best iteration is:\n",
      "[9541]\tvalid_0's quantile: 2.25926\n",
      "\n",
      "quantile: 0.4\n",
      "\n",
      "Training until validation scores don't improve for 300 rounds\n",
      "[1500]\tvalid_0's quantile: 2.50565\n",
      "[3000]\tvalid_0's quantile: 2.4214\n",
      "[4500]\tvalid_0's quantile: 2.39187\n",
      "[6000]\tvalid_0's quantile: 2.37688\n",
      "[7500]\tvalid_0's quantile: 2.36887\n",
      "[9000]\tvalid_0's quantile: 2.35942\n",
      "Did not meet early stopping. Best iteration is:\n",
      "[10000]\tvalid_0's quantile: 2.35514\n",
      "\n",
      "quantile: 0.5\n",
      "\n",
      "Training until validation scores don't improve for 300 rounds\n",
      "[1500]\tvalid_0's quantile: 2.44582\n",
      "[3000]\tvalid_0's quantile: 2.37466\n",
      "[4500]\tvalid_0's quantile: 2.3419\n",
      "[6000]\tvalid_0's quantile: 2.32329\n",
      "[7500]\tvalid_0's quantile: 2.30904\n",
      "[9000]\tvalid_0's quantile: 2.30578\n",
      "Did not meet early stopping. Best iteration is:\n",
      "[10000]\tvalid_0's quantile: 2.30261\n",
      "\n",
      "quantile: 0.6\n",
      "\n",
      "Training until validation scores don't improve for 300 rounds\n",
      "[1500]\tvalid_0's quantile: 2.25469\n",
      "[3000]\tvalid_0's quantile: 2.20307\n",
      "[4500]\tvalid_0's quantile: 2.17114\n",
      "Early stopping, best iteration is:\n",
      "[4605]\tvalid_0's quantile: 2.17055\n",
      "\n",
      "quantile: 0.7\n",
      "\n",
      "Training until validation scores don't improve for 300 rounds\n",
      "[1500]\tvalid_0's quantile: 1.86556\n",
      "Early stopping, best iteration is:\n",
      "[2483]\tvalid_0's quantile: 1.84547\n",
      "\n",
      "quantile: 0.8\n",
      "\n",
      "Training until validation scores don't improve for 300 rounds\n",
      "[1500]\tvalid_0's quantile: 1.36857\n",
      "[3000]\tvalid_0's quantile: 1.35885\n",
      "Early stopping, best iteration is:\n",
      "[3049]\tvalid_0's quantile: 1.3588\n",
      "\n",
      "quantile: 0.9\n",
      "\n",
      "Training until validation scores don't improve for 300 rounds\n",
      "[1500]\tvalid_0's quantile: 0.77165\n",
      "Early stopping, best iteration is:\n",
      "[1574]\tvalid_0's quantile: 0.771579\n"
     ]
    }
   ],
   "source": [
    "ood_df2, test_df2 = lgbm_predict(train_x2, valid_x2, train_y2, valid_y2, test)"
   ]
  },
  {
   "cell_type": "code",
   "execution_count": 180,
   "metadata": {
    "ExecuteTime": {
     "end_time": "2021-01-10T09:54:52.223212Z",
     "start_time": "2021-01-10T09:54:52.213210Z"
    }
   },
   "outputs": [],
   "source": [
    "oof_final = ood_df.append(ood_df2)"
   ]
  },
  {
   "cell_type": "code",
   "execution_count": 181,
   "metadata": {
    "ExecuteTime": {
     "end_time": "2021-01-10T09:54:52.229878Z",
     "start_time": "2021-01-10T09:54:52.225873Z"
    }
   },
   "outputs": [],
   "source": [
    "test_pred = test_df.append(test_df2)"
   ]
  },
  {
   "cell_type": "code",
   "execution_count": 182,
   "metadata": {
    "ExecuteTime": {
     "end_time": "2021-01-10T09:54:56.682514Z",
     "start_time": "2021-01-10T09:54:52.231957Z"
    }
   },
   "outputs": [
    {
     "name": "stdout",
     "output_type": "stream",
     "text": [
      "Pinball Loss: 1.7914637216419795\n"
     ]
    }
   ],
   "source": [
    "loss = pinball(oof_final,valid_final)"
   ]
  },
  {
   "cell_type": "code",
   "execution_count": 183,
   "metadata": {
    "ExecuteTime": {
     "end_time": "2021-01-10T09:54:57.705623Z",
     "start_time": "2021-01-10T09:54:56.684055Z"
    }
   },
   "outputs": [
    {
     "name": "stdout",
     "output_type": "stream",
     "text": [
      "Pinball Loss: 2.2942480309448374\n"
     ]
    }
   ],
   "source": [
    "loss2 = pinball(test_pred,test_final)"
   ]
  },
  {
   "cell_type": "code",
   "execution_count": 184,
   "metadata": {
    "ExecuteTime": {
     "end_time": "2021-01-10T09:54:57.714277Z",
     "start_time": "2021-01-10T09:54:57.707518Z"
    }
   },
   "outputs": [],
   "source": [
    "consistency_df0 = pd.DataFrame()\n",
    "consistency_df0['time_str'] = [time_str]\n",
    "consistency_df0['CV'] = [np.mean(loss)]\n",
    "consistency_df0['LB'] = [np.mean(loss2)]\n",
    "consistency_df0['column'] = [train.columns.tolist()]"
   ]
  },
  {
   "cell_type": "code",
   "execution_count": 185,
   "metadata": {
    "ExecuteTime": {
     "end_time": "2021-01-10T09:54:57.720946Z",
     "start_time": "2021-01-10T09:54:57.717260Z"
    }
   },
   "outputs": [],
   "source": [
    "consistency_df = consistency_df.append(consistency_df0)"
   ]
  },
  {
   "cell_type": "code",
   "execution_count": 186,
   "metadata": {
    "ExecuteTime": {
     "end_time": "2021-01-10T09:54:57.734374Z",
     "start_time": "2021-01-10T09:54:57.722621Z"
    }
   },
   "outputs": [
    {
     "data": {
      "text/html": [
       "<div>\n",
       "<style scoped>\n",
       "    .dataframe tbody tr th:only-of-type {\n",
       "        vertical-align: middle;\n",
       "    }\n",
       "\n",
       "    .dataframe tbody tr th {\n",
       "        vertical-align: top;\n",
       "    }\n",
       "\n",
       "    .dataframe thead th {\n",
       "        text-align: right;\n",
       "    }\n",
       "</style>\n",
       "<table border=\"1\" class=\"dataframe\">\n",
       "  <thead>\n",
       "    <tr style=\"text-align: right;\">\n",
       "      <th></th>\n",
       "      <th>time_str</th>\n",
       "      <th>CV</th>\n",
       "      <th>LB</th>\n",
       "      <th>column</th>\n",
       "    </tr>\n",
       "  </thead>\n",
       "  <tbody>\n",
       "    <tr>\n",
       "      <th>0</th>\n",
       "      <td>20210110_171258</td>\n",
       "      <td>1.8570</td>\n",
       "      <td>2.3242</td>\n",
       "      <td>[Hour, DHI, DNI, WS, RH, T, TARGET, 1day_after...</td>\n",
       "    </tr>\n",
       "    <tr>\n",
       "      <th>0</th>\n",
       "      <td>20210110_174452</td>\n",
       "      <td>1.8067</td>\n",
       "      <td>2.3105</td>\n",
       "      <td>[Hour, DHI, DNI, WS, RH, T, TARGET, 1day_after...</td>\n",
       "    </tr>\n",
       "    <tr>\n",
       "      <th>0</th>\n",
       "      <td>20210110_174840</td>\n",
       "      <td>1.7843</td>\n",
       "      <td>2.3047</td>\n",
       "      <td>[Hour, DHI, DNI, WS, RH, T, TARGET, 1day_after...</td>\n",
       "    </tr>\n",
       "    <tr>\n",
       "      <th>0</th>\n",
       "      <td>20210110_175753</td>\n",
       "      <td>1.7937</td>\n",
       "      <td>2.3056</td>\n",
       "      <td>[Hour, DHI, DNI, WS, RH, T, TARGET, 1day_after...</td>\n",
       "    </tr>\n",
       "    <tr>\n",
       "      <th>0</th>\n",
       "      <td>20210110_180210</td>\n",
       "      <td>1.7801</td>\n",
       "      <td>2.3060</td>\n",
       "      <td>[Hour, DHI, DNI, WS, RH, T, TARGET, 1day_after...</td>\n",
       "    </tr>\n",
       "    <tr>\n",
       "      <th>0</th>\n",
       "      <td>20210110_181203</td>\n",
       "      <td>1.7971</td>\n",
       "      <td>2.3100</td>\n",
       "      <td>[Hour, DHI, DNI, WS, RH, T, TARGET, 1day_after...</td>\n",
       "    </tr>\n",
       "    <tr>\n",
       "      <th>0</th>\n",
       "      <td>20210110_185002</td>\n",
       "      <td>1.7915</td>\n",
       "      <td>2.2942</td>\n",
       "      <td>[Hour, DHI, DNI, WS, RH, T, TARGET, 1day_after...</td>\n",
       "    </tr>\n",
       "  </tbody>\n",
       "</table>\n",
       "</div>"
      ],
      "text/plain": [
       "          time_str      CV      LB  \\\n",
       "0  20210110_171258  1.8570  2.3242   \n",
       "0  20210110_174452  1.8067  2.3105   \n",
       "0  20210110_174840  1.7843  2.3047   \n",
       "0  20210110_175753  1.7937  2.3056   \n",
       "0  20210110_180210  1.7801  2.3060   \n",
       "0  20210110_181203  1.7971  2.3100   \n",
       "0  20210110_185002  1.7915  2.2942   \n",
       "\n",
       "                                              column  \n",
       "0  [Hour, DHI, DNI, WS, RH, T, TARGET, 1day_after...  \n",
       "0  [Hour, DHI, DNI, WS, RH, T, TARGET, 1day_after...  \n",
       "0  [Hour, DHI, DNI, WS, RH, T, TARGET, 1day_after...  \n",
       "0  [Hour, DHI, DNI, WS, RH, T, TARGET, 1day_after...  \n",
       "0  [Hour, DHI, DNI, WS, RH, T, TARGET, 1day_after...  \n",
       "0  [Hour, DHI, DNI, WS, RH, T, TARGET, 1day_after...  \n",
       "0  [Hour, DHI, DNI, WS, RH, T, TARGET, 1day_after...  "
      ]
     },
     "execution_count": 186,
     "metadata": {},
     "output_type": "execute_result"
    }
   ],
   "source": [
    "consistency_df"
   ]
  },
  {
   "cell_type": "code",
   "execution_count": null,
   "metadata": {},
   "outputs": [],
   "source": []
  }
 ],
 "metadata": {
  "kernelspec": {
   "display_name": "Python 3",
   "language": "python",
   "name": "python3"
  },
  "language_info": {
   "codemirror_mode": {
    "name": "ipython",
    "version": 3
   },
   "file_extension": ".py",
   "mimetype": "text/x-python",
   "name": "python",
   "nbconvert_exporter": "python",
   "pygments_lexer": "ipython3",
   "version": "3.7.7"
  },
  "toc": {
   "base_numbering": 1,
   "nav_menu": {},
   "number_sections": true,
   "sideBar": true,
   "skip_h1_title": false,
   "title_cell": "Table of Contents",
   "title_sidebar": "Contents",
   "toc_cell": false,
   "toc_position": {},
   "toc_section_display": true,
   "toc_window_display": true
  }
 },
 "nbformat": 4,
 "nbformat_minor": 4
}
