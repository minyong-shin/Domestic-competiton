{
 "cells": [
  {
   "cell_type": "markdown",
   "metadata": {},
   "source": [
    "# Commit version list\n",
    "- LB <-> CV와 약 0.03 ~ 0.04 차이가 있음"
   ]
  },
  {
   "cell_type": "markdown",
   "metadata": {},
   "source": [
    "- 1. 제출용_20201224_214723.csv: Day5로 Day7, Day8 예측(shift 48)\n",
    "- 2. 제출용_20201224_215505.csv: Day6로 Day7, Day8 예측(shift 48)\n",
    "- 3. 제출용_20201225_134528.csv: Day6로 Day7, Day8 예측(shift 48) + 5kfold CV\n",
    "- 4. 제출용_20201226_001652.csv : ver3에서 Minute 변수 추가한 뒤 성능이 약간 감소하여 LB에 반영되는지 테스트 -> 성능이 증가함 즉, CV와 상관관계가 지표 개선이 확실하다면 높겠지만 작은 지표차이에서는 상관관계가 낮음\n",
    "- 5. 제출용_20201226_013137.csv: 가장 변수중요도가 높은 변수들을 추출해서 간단하게 sum, divide 파생변수를 만들었지만 CV에서 성능이 Minute만 추가했을 때보다 좋았지만 LB에서 떨어짐\n",
    "- 6. 제출용_20201228_193631.csv: 필령이형 DNI, DHI, T 일별로 묶은 뒤 3일 이동평균 변수 추가 , 성능 대폭 향상"
   ]
  },
  {
   "cell_type": "code",
   "execution_count": null,
   "metadata": {},
   "outputs": [],
   "source": []
  }
 ],
 "metadata": {
  "kernelspec": {
   "display_name": "Python 3",
   "language": "python",
   "name": "python3"
  },
  "language_info": {
   "codemirror_mode": {
    "name": "ipython",
    "version": 3
   },
   "file_extension": ".py",
   "mimetype": "text/x-python",
   "name": "python",
   "nbconvert_exporter": "python",
   "pygments_lexer": "ipython3",
   "version": "3.7.7"
  },
  "toc": {
   "base_numbering": 1,
   "nav_menu": {},
   "number_sections": true,
   "sideBar": true,
   "skip_h1_title": false,
   "title_cell": "Table of Contents",
   "title_sidebar": "Contents",
   "toc_cell": false,
   "toc_position": {},
   "toc_section_display": true,
   "toc_window_display": true
  }
 },
 "nbformat": 4,
 "nbformat_minor": 4
}
