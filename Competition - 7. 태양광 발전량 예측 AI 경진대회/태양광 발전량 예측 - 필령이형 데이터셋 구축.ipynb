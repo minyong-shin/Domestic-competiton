{
 "cells": [
  {
   "cell_type": "code",
   "execution_count": 49,
   "metadata": {
    "ExecuteTime": {
     "end_time": "2021-01-12T12:52:37.036286Z",
     "start_time": "2021-01-12T12:52:37.030157Z"
    }
   },
   "outputs": [],
   "source": [
    "import os\n",
    "import pandas as pd\n",
    "import numpy as np\n",
    "import matplotlib.pyplot as plt\n",
    "from matplotlib import rc, rcParams\n",
    "import seaborn as sns\n",
    "import glob\n",
    "from sklearn.model_selection import train_test_split\n",
    "import lightgbm\n",
    "import datetime\n",
    "import math\n",
    "from scipy import stats\n",
    "import warnings\n",
    "from itertools import chain, repeat\n",
    "from tqdm.notebook import tqdm\n",
    "\n",
    "warnings.filterwarnings('ignore')\n",
    "\n",
    "plt.style.use('ggplot')\n",
    "pd.set_option('max_columns', 100)\n",
    "pd.set_option(\"display.precision\", 4)\n",
    "rcParams['figure.figsize'] = (16, 8)\n",
    "rc('font', family='AppleGothic')"
   ]
  },
  {
   "cell_type": "code",
   "execution_count": 50,
   "metadata": {
    "ExecuteTime": {
     "end_time": "2021-01-12T12:52:37.161423Z",
     "start_time": "2021-01-12T12:52:37.158554Z"
    }
   },
   "outputs": [],
   "source": [
    "tr_base_path = './data/train'\n",
    "te_base_path = './data/test'\n",
    "submission_path = './submission'\n",
    "infer_path = './inferencedata'\n",
    "train_path = './trainingdata'\n",
    "cv_lb_path = './cv_lb_path'"
   ]
  },
  {
   "cell_type": "code",
   "execution_count": 51,
   "metadata": {
    "ExecuteTime": {
     "end_time": "2021-01-12T12:52:37.531020Z",
     "start_time": "2021-01-12T12:52:37.294058Z"
    }
   },
   "outputs": [],
   "source": [
    "train = pd.read_csv(os.path.join(tr_base_path,'train.csv'))\n",
    "submission = pd.read_csv('./data/sample_submission.csv')\n",
    "# 파일명 불러오는 것: os.listdir과 다른점은 경로를 그대로 붙여서 불러와줌\n",
    "# test_files = glob.glob('./data/test/*.csv')\n",
    "\n",
    "# test load \n",
    "t_test = []\n",
    "\n",
    "for i in range(81):\n",
    "    file_path = './data/test/' + str(i) + '.csv'\n",
    "    temp = pd.read_csv(file_path)\n",
    "    t_test.append(temp)\n",
    "    \n",
    "test = pd.concat(t_test)\n",
    "df_test = test.copy()"
   ]
  },
  {
   "cell_type": "markdown",
   "metadata": {},
   "source": [
    "# p-pro"
   ]
  },
  {
   "cell_type": "code",
   "execution_count": 52,
   "metadata": {
    "ExecuteTime": {
     "end_time": "2021-01-12T12:52:38.360360Z",
     "start_time": "2021-01-12T12:52:38.356686Z"
    }
   },
   "outputs": [],
   "source": [
    "def base_preprocess(data, n, n2) : \n",
    "    \n",
    "    # 원래 방법대로 한다면, 마지막 48개행은 target2에 대해 미지의 값을 가진게 아닌가?\n",
    "    # step1 : 하루 뒤, 이틀 뒤 target 값 가져오기 \n",
    "    data['1day_after_target'] = data.shift(n)['TARGET']\n",
    "    data['2day_after_target'] = data.shift(n2)['TARGET']\n",
    "    \n",
    "    # step2 : 7일간의 segment를 할당하여 예측을 진행 \n",
    "    \n",
    "    data = data.dropna(axis=0)\n",
    "    \n",
    "    return(data)"
   ]
  },
  {
   "cell_type": "code",
   "execution_count": 53,
   "metadata": {
    "ExecuteTime": {
     "end_time": "2021-01-12T12:52:38.487083Z",
     "start_time": "2021-01-12T12:52:38.460232Z"
    }
   },
   "outputs": [],
   "source": [
    "df_train = base_preprocess(train, -48, -96)\n",
    "df_train_day23 = base_preprocess(train, -96, -144)"
   ]
  },
  {
   "cell_type": "markdown",
   "metadata": {},
   "source": [
    "# 필령's FE"
   ]
  },
  {
   "cell_type": "code",
   "execution_count": 54,
   "metadata": {
    "ExecuteTime": {
     "end_time": "2021-01-12T12:52:42.066452Z",
     "start_time": "2021-01-12T12:52:42.061490Z"
    }
   },
   "outputs": [],
   "source": [
    "test_day = df_test['Day'].copy() \n",
    "\n",
    "label_list = []\n",
    "\n",
    "for i in range(1,568) : \n",
    "    label_list.append([i]*48)\n",
    "\n",
    "label_list = [item for sublist in label_list for item in sublist]"
   ]
  },
  {
   "cell_type": "code",
   "execution_count": 55,
   "metadata": {
    "ExecuteTime": {
     "end_time": "2021-01-12T12:52:42.333562Z",
     "start_time": "2021-01-12T12:52:42.313780Z"
    }
   },
   "outputs": [],
   "source": [
    "def zenith_angel_def(data, merge_data, is_train=True, label_lists=None) : \n",
    "    \n",
    "    if is_train != True : \n",
    "        \n",
    "        data['Day'] = label_list\n",
    "        merge_data['Day'] = label_list\n",
    "    \n",
    "    # 시간 및 분을 합쳐주는 함수\n",
    "    def time_pil(data) : \n",
    "\n",
    "        texts = str(data['Hour']) + str(data['Minute'])[:1]\n",
    "\n",
    "        return(texts)\n",
    "\n",
    "    data['GHI_less'] = data['DHI'] + data['DNI']\n",
    "    data['Time'] = data[['Hour','Minute']].apply(lambda x: time_pil(x), axis=1)\n",
    "    data['GHI_less'] = data['GHI_less'].astype('int') \n",
    "\n",
    "    f = data[data['GHI_less']>0].groupby(['Day']).head(1)[['Day','Time','T','GHI_less']]\n",
    "    f.columns = ['Day','First_time','First_T','First_GHI_less']\n",
    "\n",
    "    l = data[data['GHI_less']>0].groupby(['Day']).tail(1)[['Day','Time','T','GHI_less']]\n",
    "    l.columns = ['Day','Last_time','Last_T','Last_GHI_less']\n",
    "    \n",
    "    f_l = pd.merge(f, l, how='inner', on=['Day']) \n",
    "    \n",
    "    def sun_hour(data) : \n",
    "\n",
    "        hours = (int(str(data['Last_time'])[:2]) - int(str(data['First_time'])[0]))*60\n",
    "\n",
    "        return(hours)\n",
    "\n",
    "    def sun_minute(data) : \n",
    "\n",
    "        minutes = (int(str(data['Last_time'][2])) - int(str(data['First_time'][1])))*10\n",
    "\n",
    "        return(minutes)\n",
    "\n",
    "    f_l['SUN_hour'] = f_l[['First_time','Last_time']].apply(lambda x:sun_hour(x), axis=1)\n",
    "    f_l['SUN_minute'] = f_l[['First_time','Last_time']].apply(lambda x:sun_minute(x), axis=1)\n",
    "    \n",
    "    f_l['SUN_time'] = f_l['SUN_hour'] + f_l['SUN_minute']\n",
    "    \n",
    "    temp = pd.merge(data, f_l, how='inner', on='Day')\n",
    "    temp['Time'] = temp[['Hour','Minute']].apply(lambda x: time_pil(x), axis=1)\n",
    "    temp[['Time','First_time','Last_time']] = temp[['Time','First_time','Last_time']].astype('int')\n",
    "    \n",
    "    temp2 = temp[(temp['Time']>=temp['First_time']) & (temp['Time']<=temp['Last_time'])]  \n",
    "    \n",
    "    zenith_angle_lists = []\n",
    "\n",
    "    for day in temp2.Day.unique() : \n",
    "\n",
    "        temp3 = temp2[temp2['Day']==day]\n",
    "        zenith_angles = np.arange(0,181,180/(temp3['SUN_time'].iloc[0]/30))\n",
    "\n",
    "        for num in range(len(zenith_angles)) : \n",
    "\n",
    "            if zenith_angles[num] < 90 : \n",
    "                zenith_angles[num] = 90 - zenith_angles[num]\n",
    "                \n",
    "            elif zenith_angles[num] == 0 :\n",
    "                zenith_angles[num] = 1\n",
    "\n",
    "            else : \n",
    "                zenith_angles[num] = zenith_angles[num] - 90\n",
    "\n",
    "        zenith_angle_lists.append(zenith_angles)\n",
    "        \n",
    "    zenith_angle_lists = [item for sublist in zenith_angle_lists for item in sublist]\n",
    "    temp2['zenith_angle'] = zenith_angle_lists\n",
    "    \n",
    "    final = pd.merge(merge_data, temp2[['Day','Hour','Minute','zenith_angle']],\n",
    "                    how='left', on=['Day','Hour','Minute'])\n",
    "    \n",
    "    final = final.fillna(90) \n",
    "    \n",
    "    final = pd.merge(final, temp2[['Day','SUN_time']].drop_duplicates(),\n",
    "                    how='inner', on=['Day'])\n",
    "    \n",
    "    return(final)"
   ]
  },
  {
   "cell_type": "code",
   "execution_count": 56,
   "metadata": {
    "ExecuteTime": {
     "end_time": "2021-01-12T12:52:50.178133Z",
     "start_time": "2021-01-12T12:52:42.523182Z"
    }
   },
   "outputs": [],
   "source": [
    "df_train = zenith_angel_def(data = df_train, merge_data = df_train\n",
    "                            , is_train=True, label_lists=None)\n",
    "\n",
    "df_train_day23 = zenith_angel_def(data = df_train_day23, merge_data = df_train_day23\n",
    "                            , is_train=True, label_lists=None)\n",
    "\n",
    "df_test = zenith_angel_def(data = df_test, merge_data = df_test\n",
    "                            , is_train=False, label_lists=label_list)"
   ]
  },
  {
   "cell_type": "code",
   "execution_count": 57,
   "metadata": {
    "ExecuteTime": {
     "end_time": "2021-01-12T12:52:54.103169Z",
     "start_time": "2021-01-12T12:52:50.179836Z"
    }
   },
   "outputs": [
    {
     "name": "stdout",
     "output_type": "stream",
     "text": [
      "df_train shape : (52464, 16)\n",
      "df_test shape : (27216, 14)\n"
     ]
    }
   ],
   "source": [
    "def custom_ghi(data) : \n",
    "    \n",
    "    answer = data['DHI'] + (data['DNI']*math.cos(data['zenith_angle']))\n",
    "    \n",
    "    return answer \n",
    "\n",
    "df_train['GHI'] = df_train[['DHI','DNI','zenith_angle']].apply(lambda x: custom_ghi(x), axis=1)\n",
    "df_train_day23['GHI'] = df_train_day23[['DHI','DNI','zenith_angle']].apply(lambda x: custom_ghi(x), axis=1)\n",
    "df_test['GHI'] = df_test[['DHI','DNI','zenith_angle']].apply(lambda x: custom_ghi(x), axis=1)\n",
    "\n",
    "print('df_train shape :', df_train.shape)\n",
    "print('df_test shape :', df_test.shape)"
   ]
  },
  {
   "cell_type": "code",
   "execution_count": 58,
   "metadata": {
    "ExecuteTime": {
     "end_time": "2021-01-12T12:52:54.108368Z",
     "start_time": "2021-01-12T12:52:54.105514Z"
    }
   },
   "outputs": [],
   "source": [
    "df_test['Day'] = test_day.values"
   ]
  },
  {
   "cell_type": "code",
   "execution_count": 59,
   "metadata": {
    "ExecuteTime": {
     "end_time": "2021-01-12T12:52:54.118477Z",
     "start_time": "2021-01-12T12:52:54.110593Z"
    }
   },
   "outputs": [],
   "source": [
    "def train_2day_variable(df_train, rolling_num) : \n",
    "    \n",
    "    hour_lists = []\n",
    "\n",
    "    numbers = list(np.arange(0,24,1))\n",
    "    n_list = [2]*24\n",
    "\n",
    "    hours_range = list(chain.from_iterable((repeat(number, n) for (number, n) in zip(numbers, n_list))))\n",
    "\n",
    "    for (hours,minutes) in zip(hours_range,list(np.arange(0,31,30))*30) : \n",
    "\n",
    "        hour_lists.append(df_train[(df_train['Hour']==hours) & (df_train['Minute']==minutes)])\n",
    "\n",
    "    for num in range(len(hour_lists)) : \n",
    "\n",
    "        hour_lists[num][f'{rolling_num}days_mean_DHI'] = hour_lists[num]['DHI'].rolling(rolling_num).mean()\n",
    "        hour_lists[num][f'{rolling_num}days_mean_DNI'] = hour_lists[num]['DNI'].rolling(rolling_num).mean()\n",
    "        #hour_lists[num][f'{rolling_num}days_mean_T'] = hour_lists[num]['T'].rolling(rolling_num).mean()\n",
    "        #hour_lists[num][f'{rolling_num}days_mean_RH'] = hour_lists[num]['RH'].rolling(rolling_num).mean()\n",
    "        hour_lists[num][f'{rolling_num}days_mean_WS'] = hour_lists[num]['WS'].rolling(rolling_num).mean() \n",
    "        hour_lists[num][f'{rolling_num}days_mean_TARGET'] = hour_lists[num]['TARGET'].rolling(rolling_num).mean()\n",
    "        hour_lists[num][f'{rolling_num}days_mean_SUN_time'] = hour_lists[num]['SUN_time'].rolling(rolling_num).mean()\n",
    "        hour_lists[num][f'{rolling_num}days_mean_zenith_angle'] = hour_lists[num]['zenith_angle'].rolling(rolling_num).mean()\n",
    "        hour_lists[num][f'{rolling_num}days_mean_GHI'] = hour_lists[num]['GHI'].rolling(rolling_num).mean()\n",
    "        \n",
    "    df_train = pd.concat(hour_lists).sort_index() \n",
    "    \n",
    "    return(df_train)"
   ]
  },
  {
   "cell_type": "code",
   "execution_count": 60,
   "metadata": {
    "ExecuteTime": {
     "end_time": "2021-01-12T12:52:54.837409Z",
     "start_time": "2021-01-12T12:52:54.120932Z"
    }
   },
   "outputs": [],
   "source": [
    "df_train = train_2day_variable(df_train, rolling_num=3)\n",
    "df_train_day23 = train_2day_variable(df_train_day23, rolling_num=3)"
   ]
  },
  {
   "cell_type": "code",
   "execution_count": 61,
   "metadata": {
    "ExecuteTime": {
     "end_time": "2021-01-12T12:52:54.851982Z",
     "start_time": "2021-01-12T12:52:54.839238Z"
    }
   },
   "outputs": [],
   "source": [
    "def test_2day_variable(df_test, rolling_num) : \n",
    "    \n",
    "    label_list = []\n",
    "\n",
    "    for i in range(81) : \n",
    "        label_list.append([i]*336)\n",
    "\n",
    "    label_list = [item for sublist in label_list for item in sublist]\n",
    "\n",
    "    df_test['label'] = label_list \n",
    "\n",
    "    test_dataset = []\n",
    "\n",
    "    for label_num in df_test.label.unique() : \n",
    "\n",
    "        hour_lists = []\n",
    "        numbers = list(np.arange(0,24,1))\n",
    "        n_list = [2]*24\n",
    "        df_test2 = df_test[df_test['label']==label_num]\n",
    "\n",
    "        hours_range = list(chain.from_iterable((repeat(number, n) for (number, n) in zip(numbers, n_list))))\n",
    "\n",
    "        for (hours,minutes) in zip(hours_range,list(np.arange(0,31,30))*30) : \n",
    "            \n",
    "            hour_lists.append(df_test2[(df_test2['Hour']==hours) & (df_test2['Minute']==minutes)])\n",
    "\n",
    "        for num in range(len(hour_lists)) : \n",
    "            \n",
    "            hour_lists[num][f'{rolling_num}days_mean_DHI'] = hour_lists[num]['DHI'].rolling(rolling_num).mean()\n",
    "            hour_lists[num][f'{rolling_num}days_mean_DNI'] = hour_lists[num]['DNI'].rolling(rolling_num).mean()\n",
    "            #hour_lists[num][f'{rolling_num}days_mean_T'] = hour_lists[num]['T'].rolling(rolling_num).mean()\n",
    "            #hour_lists[num][f'{rolling_num}days_mean_RH'] = hour_lists[num]['RH'].rolling(rolling_num).mean()\n",
    "            hour_lists[num][f'{rolling_num}days_mean_WS'] = hour_lists[num]['WS'].rolling(rolling_num).mean()\n",
    "            hour_lists[num][f'{rolling_num}days_mean_TARGET'] = hour_lists[num]['TARGET'].rolling(rolling_num).mean()\n",
    "            hour_lists[num][f'{rolling_num}days_mean_SUN_time'] = hour_lists[num]['SUN_time'].rolling(rolling_num).mean()\n",
    "            hour_lists[num][f'{rolling_num}days_mean_zenith_angle'] = hour_lists[num]['zenith_angle'].rolling(rolling_num).mean()\n",
    "            hour_lists[num][f'{rolling_num}days_mean_GHI'] = hour_lists[num]['GHI'].rolling(rolling_num).mean()\n",
    "            \n",
    "        temp = pd.concat(hour_lists)\n",
    "        test_dataset.append(temp)\n",
    "        \n",
    "    df_test = pd.concat(test_dataset).reset_index().sort_values(['label','index'])\n",
    "    df_test = df_test.drop(['index'],axis=1).reset_index(drop=True) \n",
    "    \n",
    "    return(df_test)"
   ]
  },
  {
   "cell_type": "code",
   "execution_count": 62,
   "metadata": {
    "ExecuteTime": {
     "end_time": "2021-01-12T12:53:17.978200Z",
     "start_time": "2021-01-12T12:52:54.853760Z"
    }
   },
   "outputs": [],
   "source": [
    "df_test = test_2day_variable(df_test, rolling_num=3)"
   ]
  },
  {
   "cell_type": "markdown",
   "metadata": {},
   "source": [
    "# final p-pro"
   ]
  },
  {
   "cell_type": "code",
   "execution_count": 65,
   "metadata": {
    "ExecuteTime": {
     "end_time": "2021-01-12T13:01:37.747382Z",
     "start_time": "2021-01-12T13:01:37.698175Z"
    }
   },
   "outputs": [],
   "source": [
    "# minute도 포함해서 한번 진행해보기\n",
    "df_train = df_train.dropna()\n",
    "df_train = df_train.drop(['Minute','Day'], axis=1)\n",
    "# df_train = df_train.drop(['Day'], axis=1)\n",
    "\n",
    "df_train_day23 = df_train_day23.dropna()\n",
    "df_train_day23 = df_train_day23.drop(['Minute','Day'], axis=1)\n",
    "# df_train_day23 = df_train_day23.drop(['Day'], axis=1)\n",
    "\n",
    "df_test = df_test.dropna()\n",
    "df_test2 = df_test[df_test['Day']==6]\n",
    "df_test2 = df_test2.drop(['Day','Minute'], axis=1)\n",
    "\n",
    "df_test_day23 = df_test[df_test['Day']==5]\n",
    "df_test_day23 = df_test_day23.drop(['Day','Minute'], axis=1)\n",
    "\n",
    "df_test2 = df_test2.drop(['label'],axis=1)\n",
    "df_test_day23 = df_test_day23.drop(['label'],axis=1)"
   ]
  },
  {
   "cell_type": "code",
   "execution_count": 68,
   "metadata": {
    "ExecuteTime": {
     "end_time": "2021-01-12T13:03:11.510515Z",
     "start_time": "2021-01-12T13:03:11.508179Z"
    }
   },
   "outputs": [],
   "source": [
    "X_test = df_test2\n",
    "X_test_day23 = df_test_day23"
   ]
  },
  {
   "cell_type": "markdown",
   "metadata": {},
   "source": [
    "# Save"
   ]
  },
  {
   "cell_type": "code",
   "execution_count": 69,
   "metadata": {
    "ExecuteTime": {
     "end_time": "2021-01-12T13:03:52.665496Z",
     "start_time": "2021-01-12T13:03:51.840420Z"
    }
   },
   "outputs": [
    {
     "name": "stdout",
     "output_type": "stream",
     "text": [
      "20210112_220351\n"
     ]
    }
   ],
   "source": [
    "time_str = datetime.datetime.strftime(\n",
    "    datetime.datetime.today(),\n",
    "    '%Y%m%d_%H%M%S'\n",
    ")\n",
    "print(time_str)\n",
    "df_train.to_csv(\n",
    "    os.path.join(train_path, f'training_{time_str}.csv'), \n",
    "    index=False\n",
    ")\n",
    "\n",
    "X_test.to_csv(\n",
    "    os.path.join(infer_path, f'inference_{time_str}.csv'), \n",
    "    index=False\n",
    ")"
   ]
  },
  {
   "cell_type": "code",
   "execution_count": 70,
   "metadata": {
    "ExecuteTime": {
     "end_time": "2021-01-12T13:03:53.514795Z",
     "start_time": "2021-01-12T13:03:52.667555Z"
    }
   },
   "outputs": [],
   "source": [
    "df_train_day23.to_csv(\n",
    "    os.path.join(train_path, f'training_{time_str}_day23.csv'), \n",
    "    index=False\n",
    ")\n",
    "\n",
    "X_test_day23.to_csv(\n",
    "    os.path.join(infer_path, f'inference_{time_str}_day23.csv'), \n",
    "    index=False\n",
    ")"
   ]
  },
  {
   "cell_type": "code",
   "execution_count": null,
   "metadata": {},
   "outputs": [],
   "source": []
  }
 ],
 "metadata": {
  "kernelspec": {
   "display_name": "Python 3",
   "language": "python",
   "name": "python3"
  },
  "language_info": {
   "codemirror_mode": {
    "name": "ipython",
    "version": 3
   },
   "file_extension": ".py",
   "mimetype": "text/x-python",
   "name": "python",
   "nbconvert_exporter": "python",
   "pygments_lexer": "ipython3",
   "version": "3.7.7"
  },
  "toc": {
   "base_numbering": 1,
   "nav_menu": {},
   "number_sections": true,
   "sideBar": true,
   "skip_h1_title": false,
   "title_cell": "Table of Contents",
   "title_sidebar": "Contents",
   "toc_cell": false,
   "toc_position": {},
   "toc_section_display": true,
   "toc_window_display": true
  }
 },
 "nbformat": 4,
 "nbformat_minor": 4
}
