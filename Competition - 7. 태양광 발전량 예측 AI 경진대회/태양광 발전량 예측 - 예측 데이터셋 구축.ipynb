{
 "cells": [
  {
   "cell_type": "code",
   "execution_count": 6,
   "metadata": {
    "ExecuteTime": {
     "end_time": "2020-12-25T04:47:58.653217Z",
     "start_time": "2020-12-25T04:47:58.648560Z"
    }
   },
   "outputs": [],
   "source": [
    "import os\n",
    "import pandas as pd\n",
    "import numpy as np\n",
    "import matplotlib.pyplot as plt\n",
    "from matplotlib import rc, rcParams\n",
    "import seaborn as sns\n",
    "import glob\n",
    "from sklearn.model_selection import train_test_split\n",
    "import lightgbm\n",
    "import datetime\n",
    "\n",
    "import warnings\n",
    "warnings.filterwarnings('ignore')\n",
    "\n",
    "plt.style.use('ggplot')\n",
    "pd.set_option('max_columns', 100)\n",
    "pd.set_option(\"display.precision\", 4)\n",
    "rcParams['figure.figsize'] = (16, 8)\n",
    "rc('font', family='AppleGothic')"
   ]
  },
  {
   "cell_type": "code",
   "execution_count": 7,
   "metadata": {
    "ExecuteTime": {
     "end_time": "2020-12-25T04:47:58.656963Z",
     "start_time": "2020-12-25T04:47:58.654673Z"
    }
   },
   "outputs": [],
   "source": [
    "tr_base_path = './data/train'\n",
    "te_base_path = './data/test'\n",
    "submission_path = './submission'\n",
    "infer_path = './inferencedata'\n",
    "train_path = './trainingdata'"
   ]
  },
  {
   "cell_type": "code",
   "execution_count": 8,
   "metadata": {
    "ExecuteTime": {
     "end_time": "2020-12-25T04:48:00.088483Z",
     "start_time": "2020-12-25T04:48:00.039780Z"
    }
   },
   "outputs": [],
   "source": [
    "train = pd.read_csv(os.path.join(tr_base_path,'train.csv'))\n",
    "submission = pd.read_csv('./data/sample_submission.csv')\n",
    "# 파일명 불러오는 것: os.listdir과 다른점은 경로를 그대로 붙여서 불러와줌\n",
    "# test_files = glob.glob('./data/test/*.csv')"
   ]
  },
  {
   "cell_type": "markdown",
   "metadata": {},
   "source": [
    "# pre-processing"
   ]
  },
  {
   "cell_type": "code",
   "execution_count": 14,
   "metadata": {
    "ExecuteTime": {
     "end_time": "2020-12-25T04:49:30.807732Z",
     "start_time": "2020-12-25T04:49:30.799400Z"
    }
   },
   "outputs": [],
   "source": [
    "# feature shift\n",
    "# N(lag)행 만큼 데이터를 밀어냄\n",
    "def create_lag_feats(data, lags, cols):\n",
    "    \n",
    "    lag_cols = []\n",
    "    temp = data.copy()\n",
    "    for col in cols:\n",
    "        for lag in lags:\n",
    "            temp[col + '_lag_%s'%lag] = temp[col].shift(lag)\n",
    "            temp['Target1'] = temp['TARGET']\n",
    "            # fill values forward: 각 행의 앞단의 값을 채워 넣는 것\n",
    "            temp['Target2'] = temp['TARGET'].shift(-48).fillna(method='ffill')  \n",
    "            lag_cols.append(col + '_lag_%s'%lag)\n",
    "\n",
    "    return temp, lag_cols\n",
    "\n",
    "def preprocess_data(data, target_lags=[48], weather_lags=[48], is_train=True):\n",
    "    \n",
    "    temp = data.copy()\n",
    "\n",
    "    if is_train==True:          \n",
    "    \n",
    "        temp, temp_lag_cols1 = create_lag_feats(temp, target_lags, ['TARGET'])\n",
    "        temp, temp_lag_cols2 = create_lag_feats(temp, weather_lags, ['DHI', 'DNI', 'WS', 'RH', 'T'])\n",
    "        \n",
    "        # Minute 추가\n",
    "        return temp[['Hour', 'Minute'] + temp_lag_cols1 + temp_lag_cols2 + ['Target1', 'Target2']].dropna()\n",
    "\n",
    "    elif is_train==False:    \n",
    "        \n",
    "        temp, temp_lag_cols1 = create_lag_feats(temp, target_lags, ['TARGET'])\n",
    "        temp, temp_lag_cols2 = create_lag_feats(temp, weather_lags, ['DHI', 'DNI', 'WS', 'RH', 'T'])\n",
    "                              \n",
    "        return temp[['Hour', 'Minute'] + temp_lag_cols1 + temp_lag_cols2].dropna()"
   ]
  },
  {
   "cell_type": "code",
   "execution_count": 15,
   "metadata": {
    "ExecuteTime": {
     "end_time": "2020-12-25T04:49:31.856716Z",
     "start_time": "2020-12-25T04:49:31.832924Z"
    }
   },
   "outputs": [],
   "source": [
    "# 하루전날 데이터를 통해서 새로운 셋 구축\n",
    "# 허나... 지금 현재 방법론을 봤을 때 Day6의 테스트 데이터로 추론을 해야하는데\n",
    "# Day5로 추론하는 문제가 있는데 오히려 성능이 감소됨;;;\n",
    "df_train = preprocess_data(train, target_lags=[48], weather_lags=[48], is_train=True)"
   ]
  },
  {
   "cell_type": "code",
   "execution_count": 16,
   "metadata": {
    "ExecuteTime": {
     "end_time": "2020-12-25T04:49:44.393403Z",
     "start_time": "2020-12-25T04:49:44.228871Z"
    }
   },
   "outputs": [
    {
     "data": {
      "text/plain": [
       "(3888, 8)"
      ]
     },
     "execution_count": 16,
     "metadata": {},
     "output_type": "execute_result"
    }
   ],
   "source": [
    "# test셋 구축\n",
    "df_test = []\n",
    "\n",
    "for i in range(81):\n",
    "    file_path = './data/test/' + str(i) + '.csv'\n",
    "    temp = pd.read_csv(file_path).iloc[-48:]\n",
    "#     temp = preprocess_data(temp, target_lags=[48], weather_lags=[48], is_train=False).iloc[-48:]\n",
    "    df_test.append(temp)\n",
    "\n",
    "X_test = pd.concat(df_test)\n",
    "\n",
    "X_test.drop(columns = ['Day'], inplace = True)\n",
    "X_test = X_test[['Hour','Minute','TARGET','DHI','DNI','WS','RH','T']]\n",
    "X_test.columns = df_train.columns.tolist()[:-2]\n",
    "\n",
    "X_test['DHI_lag_48'] = X_test['DHI_lag_48'].astype('float64')\n",
    "X_test['DNI_lag_48'] = X_test['DNI_lag_48'].astype('float64')\n",
    "\n",
    "X_test.shape"
   ]
  },
  {
   "cell_type": "markdown",
   "metadata": {},
   "source": [
    "# EDA"
   ]
  },
  {
   "cell_type": "code",
   "execution_count": null,
   "metadata": {},
   "outputs": [],
   "source": []
  },
  {
   "cell_type": "markdown",
   "metadata": {},
   "source": [
    "# Feature Engineering"
   ]
  },
  {
   "cell_type": "code",
   "execution_count": 13,
   "metadata": {
    "ExecuteTime": {
     "end_time": "2020-12-25T04:48:42.091513Z",
     "start_time": "2020-12-25T04:48:42.088691Z"
    }
   },
   "outputs": [],
   "source": [
    "base_columns = df_train.columns.tolist()[:-2]"
   ]
  },
  {
   "cell_type": "code",
   "execution_count": 17,
   "metadata": {
    "ExecuteTime": {
     "end_time": "2020-12-25T04:49:48.620635Z",
     "start_time": "2020-12-25T04:49:48.604669Z"
    }
   },
   "outputs": [
    {
     "data": {
      "text/html": [
       "<div>\n",
       "<style scoped>\n",
       "    .dataframe tbody tr th:only-of-type {\n",
       "        vertical-align: middle;\n",
       "    }\n",
       "\n",
       "    .dataframe tbody tr th {\n",
       "        vertical-align: top;\n",
       "    }\n",
       "\n",
       "    .dataframe thead th {\n",
       "        text-align: right;\n",
       "    }\n",
       "</style>\n",
       "<table border=\"1\" class=\"dataframe\">\n",
       "  <thead>\n",
       "    <tr style=\"text-align: right;\">\n",
       "      <th></th>\n",
       "      <th>Hour</th>\n",
       "      <th>Minute</th>\n",
       "      <th>TARGET_lag_48</th>\n",
       "      <th>DHI_lag_48</th>\n",
       "      <th>DNI_lag_48</th>\n",
       "      <th>WS_lag_48</th>\n",
       "      <th>RH_lag_48</th>\n",
       "      <th>T_lag_48</th>\n",
       "      <th>Target1</th>\n",
       "      <th>Target2</th>\n",
       "    </tr>\n",
       "  </thead>\n",
       "  <tbody>\n",
       "    <tr>\n",
       "      <th>48</th>\n",
       "      <td>0</td>\n",
       "      <td>0</td>\n",
       "      <td>0.0</td>\n",
       "      <td>0.0</td>\n",
       "      <td>0.0</td>\n",
       "      <td>1.5</td>\n",
       "      <td>69.08</td>\n",
       "      <td>-12.0</td>\n",
       "      <td>0.0</td>\n",
       "      <td>0.0</td>\n",
       "    </tr>\n",
       "    <tr>\n",
       "      <th>49</th>\n",
       "      <td>0</td>\n",
       "      <td>30</td>\n",
       "      <td>0.0</td>\n",
       "      <td>0.0</td>\n",
       "      <td>0.0</td>\n",
       "      <td>1.5</td>\n",
       "      <td>69.06</td>\n",
       "      <td>-12.0</td>\n",
       "      <td>0.0</td>\n",
       "      <td>0.0</td>\n",
       "    </tr>\n",
       "    <tr>\n",
       "      <th>50</th>\n",
       "      <td>1</td>\n",
       "      <td>0</td>\n",
       "      <td>0.0</td>\n",
       "      <td>0.0</td>\n",
       "      <td>0.0</td>\n",
       "      <td>1.6</td>\n",
       "      <td>71.78</td>\n",
       "      <td>-12.0</td>\n",
       "      <td>0.0</td>\n",
       "      <td>0.0</td>\n",
       "    </tr>\n",
       "    <tr>\n",
       "      <th>51</th>\n",
       "      <td>1</td>\n",
       "      <td>30</td>\n",
       "      <td>0.0</td>\n",
       "      <td>0.0</td>\n",
       "      <td>0.0</td>\n",
       "      <td>1.6</td>\n",
       "      <td>71.75</td>\n",
       "      <td>-12.0</td>\n",
       "      <td>0.0</td>\n",
       "      <td>0.0</td>\n",
       "    </tr>\n",
       "    <tr>\n",
       "      <th>52</th>\n",
       "      <td>2</td>\n",
       "      <td>0</td>\n",
       "      <td>0.0</td>\n",
       "      <td>0.0</td>\n",
       "      <td>0.0</td>\n",
       "      <td>1.6</td>\n",
       "      <td>75.20</td>\n",
       "      <td>-12.0</td>\n",
       "      <td>0.0</td>\n",
       "      <td>0.0</td>\n",
       "    </tr>\n",
       "    <tr>\n",
       "      <th>...</th>\n",
       "      <td>...</td>\n",
       "      <td>...</td>\n",
       "      <td>...</td>\n",
       "      <td>...</td>\n",
       "      <td>...</td>\n",
       "      <td>...</td>\n",
       "      <td>...</td>\n",
       "      <td>...</td>\n",
       "      <td>...</td>\n",
       "      <td>...</td>\n",
       "    </tr>\n",
       "    <tr>\n",
       "      <th>52555</th>\n",
       "      <td>21</td>\n",
       "      <td>30</td>\n",
       "      <td>0.0</td>\n",
       "      <td>0.0</td>\n",
       "      <td>0.0</td>\n",
       "      <td>2.4</td>\n",
       "      <td>68.38</td>\n",
       "      <td>-2.0</td>\n",
       "      <td>0.0</td>\n",
       "      <td>0.0</td>\n",
       "    </tr>\n",
       "    <tr>\n",
       "      <th>52556</th>\n",
       "      <td>22</td>\n",
       "      <td>0</td>\n",
       "      <td>0.0</td>\n",
       "      <td>0.0</td>\n",
       "      <td>0.0</td>\n",
       "      <td>2.4</td>\n",
       "      <td>71.09</td>\n",
       "      <td>-3.0</td>\n",
       "      <td>0.0</td>\n",
       "      <td>0.0</td>\n",
       "    </tr>\n",
       "    <tr>\n",
       "      <th>52557</th>\n",
       "      <td>22</td>\n",
       "      <td>30</td>\n",
       "      <td>0.0</td>\n",
       "      <td>0.0</td>\n",
       "      <td>0.0</td>\n",
       "      <td>2.2</td>\n",
       "      <td>71.11</td>\n",
       "      <td>-3.0</td>\n",
       "      <td>0.0</td>\n",
       "      <td>0.0</td>\n",
       "    </tr>\n",
       "    <tr>\n",
       "      <th>52558</th>\n",
       "      <td>23</td>\n",
       "      <td>0</td>\n",
       "      <td>0.0</td>\n",
       "      <td>0.0</td>\n",
       "      <td>0.0</td>\n",
       "      <td>2.1</td>\n",
       "      <td>74.99</td>\n",
       "      <td>-4.0</td>\n",
       "      <td>0.0</td>\n",
       "      <td>0.0</td>\n",
       "    </tr>\n",
       "    <tr>\n",
       "      <th>52559</th>\n",
       "      <td>23</td>\n",
       "      <td>30</td>\n",
       "      <td>0.0</td>\n",
       "      <td>0.0</td>\n",
       "      <td>0.0</td>\n",
       "      <td>1.9</td>\n",
       "      <td>74.99</td>\n",
       "      <td>-4.0</td>\n",
       "      <td>0.0</td>\n",
       "      <td>0.0</td>\n",
       "    </tr>\n",
       "  </tbody>\n",
       "</table>\n",
       "<p>52512 rows × 10 columns</p>\n",
       "</div>"
      ],
      "text/plain": [
       "       Hour  Minute  TARGET_lag_48  DHI_lag_48  DNI_lag_48  WS_lag_48  \\\n",
       "48        0       0            0.0         0.0         0.0        1.5   \n",
       "49        0      30            0.0         0.0         0.0        1.5   \n",
       "50        1       0            0.0         0.0         0.0        1.6   \n",
       "51        1      30            0.0         0.0         0.0        1.6   \n",
       "52        2       0            0.0         0.0         0.0        1.6   \n",
       "...     ...     ...            ...         ...         ...        ...   \n",
       "52555    21      30            0.0         0.0         0.0        2.4   \n",
       "52556    22       0            0.0         0.0         0.0        2.4   \n",
       "52557    22      30            0.0         0.0         0.0        2.2   \n",
       "52558    23       0            0.0         0.0         0.0        2.1   \n",
       "52559    23      30            0.0         0.0         0.0        1.9   \n",
       "\n",
       "       RH_lag_48  T_lag_48  Target1  Target2  \n",
       "48         69.08     -12.0      0.0      0.0  \n",
       "49         69.06     -12.0      0.0      0.0  \n",
       "50         71.78     -12.0      0.0      0.0  \n",
       "51         71.75     -12.0      0.0      0.0  \n",
       "52         75.20     -12.0      0.0      0.0  \n",
       "...          ...       ...      ...      ...  \n",
       "52555      68.38      -2.0      0.0      0.0  \n",
       "52556      71.09      -3.0      0.0      0.0  \n",
       "52557      71.11      -3.0      0.0      0.0  \n",
       "52558      74.99      -4.0      0.0      0.0  \n",
       "52559      74.99      -4.0      0.0      0.0  \n",
       "\n",
       "[52512 rows x 10 columns]"
      ]
     },
     "execution_count": 17,
     "metadata": {},
     "output_type": "execute_result"
    }
   ],
   "source": [
    "df_train"
   ]
  },
  {
   "cell_type": "markdown",
   "metadata": {},
   "source": [
    "# Save"
   ]
  },
  {
   "cell_type": "code",
   "execution_count": 18,
   "metadata": {
    "ExecuteTime": {
     "end_time": "2020-12-25T04:50:53.971318Z",
     "start_time": "2020-12-25T04:50:53.600575Z"
    }
   },
   "outputs": [],
   "source": [
    "time_str = datetime.datetime.strftime(\n",
    "    datetime.datetime.today(),\n",
    "    '%Y%m%d_%H%M%S'\n",
    ")\n",
    "\n",
    "df_train.to_csv(\n",
    "    os.path.join(train_path, f'training_{time_str}.csv'), \n",
    "    index=False\n",
    ")\n",
    "\n",
    "X_test.to_csv(\n",
    "    os.path.join(infer_path, f'inference_{time_str}.csv'), \n",
    "    index=False\n",
    ")"
   ]
  },
  {
   "cell_type": "code",
   "execution_count": null,
   "metadata": {},
   "outputs": [],
   "source": []
  }
 ],
 "metadata": {
  "kernelspec": {
   "display_name": "Python 3",
   "language": "python",
   "name": "python3"
  },
  "language_info": {
   "codemirror_mode": {
    "name": "ipython",
    "version": 3
   },
   "file_extension": ".py",
   "mimetype": "text/x-python",
   "name": "python",
   "nbconvert_exporter": "python",
   "pygments_lexer": "ipython3",
   "version": "3.7.7"
  },
  "toc": {
   "base_numbering": 1,
   "nav_menu": {},
   "number_sections": true,
   "sideBar": true,
   "skip_h1_title": false,
   "title_cell": "Table of Contents",
   "title_sidebar": "Contents",
   "toc_cell": false,
   "toc_position": {},
   "toc_section_display": true,
   "toc_window_display": true
  }
 },
 "nbformat": 4,
 "nbformat_minor": 4
}
