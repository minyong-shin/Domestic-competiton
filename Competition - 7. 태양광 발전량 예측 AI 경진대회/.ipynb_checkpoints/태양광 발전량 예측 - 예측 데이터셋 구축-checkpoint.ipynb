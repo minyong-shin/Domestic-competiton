{
 "cells": [
  {
   "cell_type": "code",
   "execution_count": 89,
   "metadata": {
    "ExecuteTime": {
     "end_time": "2021-01-01T13:41:25.474437Z",
     "start_time": "2021-01-01T13:41:25.467489Z"
    }
   },
   "outputs": [],
   "source": [
    "import os\n",
    "import pandas as pd\n",
    "import numpy as np\n",
    "import matplotlib.pyplot as plt\n",
    "from matplotlib import rc, rcParams\n",
    "import seaborn as sns\n",
    "import glob\n",
    "from sklearn.model_selection import train_test_split\n",
    "import lightgbm\n",
    "import datetime\n",
    "import math\n",
    "from scipy import stats\n",
    "import warnings\n",
    "from itertools import chain, repeat\n",
    "\n",
    "warnings.filterwarnings('ignore')\n",
    "\n",
    "plt.style.use('ggplot')\n",
    "pd.set_option('max_columns', 100)\n",
    "pd.set_option(\"display.precision\", 4)\n",
    "rcParams['figure.figsize'] = (16, 8)\n",
    "rc('font', family='AppleGothic')"
   ]
  },
  {
   "cell_type": "code",
   "execution_count": 126,
   "metadata": {
    "ExecuteTime": {
     "end_time": "2021-01-01T14:23:23.897979Z",
     "start_time": "2021-01-01T14:23:23.895264Z"
    }
   },
   "outputs": [],
   "source": [
    "tr_base_path = './data/train'\n",
    "te_base_path = './data/test'\n",
    "submission_path = './submission'\n",
    "infer_path = './inferencedata'\n",
    "train_path = './trainingdata'"
   ]
  },
  {
   "cell_type": "code",
   "execution_count": 127,
   "metadata": {
    "ExecuteTime": {
     "end_time": "2021-01-01T14:23:24.226688Z",
     "start_time": "2021-01-01T14:23:24.025342Z"
    }
   },
   "outputs": [],
   "source": [
    "train = pd.read_csv(os.path.join(tr_base_path,'train.csv'))\n",
    "submission = pd.read_csv('./data/sample_submission.csv')\n",
    "# 파일명 불러오는 것: os.listdir과 다른점은 경로를 그대로 붙여서 불러와줌\n",
    "# test_files = glob.glob('./data/test/*.csv')\n",
    "\n",
    "# test load \n",
    "t_test = []\n",
    "\n",
    "for i in range(81):\n",
    "    file_path = './data/test/' + str(i) + '.csv'\n",
    "    temp = pd.read_csv(file_path)\n",
    "    t_test.append(temp)\n",
    "    \n",
    "test = pd.concat(t_test)\n",
    "df_test = test.copy()"
   ]
  },
  {
   "cell_type": "markdown",
   "metadata": {},
   "source": [
    "# pre-processing"
   ]
  },
  {
   "cell_type": "markdown",
   "metadata": {},
   "source": [
    "## Day1, Day2 predict"
   ]
  },
  {
   "cell_type": "code",
   "execution_count": 78,
   "metadata": {
    "ExecuteTime": {
     "end_time": "2021-01-01T10:42:05.768339Z",
     "start_time": "2021-01-01T10:42:05.459032Z"
    }
   },
   "outputs": [
    {
     "data": {
      "text/plain": [
       "(3888, 8)"
      ]
     },
     "execution_count": 78,
     "metadata": {},
     "output_type": "execute_result"
    }
   ],
   "source": [
    "# feature shift\n",
    "# N(lag)행 만큼 데이터를 밀어냄\n",
    "def create_lag_feats(data, lags, cols):\n",
    "    \n",
    "    lag_cols = []\n",
    "    temp = data.copy()\n",
    "    for col in cols:\n",
    "        for lag in lags:\n",
    "            temp[col + '_lag_%s'%lag] = temp[col].shift(lag)\n",
    "            temp['Target1'] = temp['TARGET']\n",
    "            # fill values forward: 각 행의 앞단의 값을 채워 넣는 것\n",
    "            temp['Target2'] = temp['TARGET'].shift(-48).fillna(method='ffill')  \n",
    "            lag_cols.append(col + '_lag_%s'%lag)\n",
    "\n",
    "    return temp, lag_cols\n",
    "\n",
    "def preprocess_data(data, target_lags=[48], weather_lags=[48], is_train=True):\n",
    "    \n",
    "    temp = data.copy()\n",
    "\n",
    "    if is_train==True:          \n",
    "    \n",
    "        temp, temp_lag_cols1 = create_lag_feats(temp, target_lags, ['TARGET'])\n",
    "        temp, temp_lag_cols2 = create_lag_feats(temp, weather_lags, ['DHI', 'DNI', 'WS', 'RH', 'T'])\n",
    "        \n",
    "        # Minute 추가\n",
    "        return temp[['Hour', 'Minute'] + temp_lag_cols1 + temp_lag_cols2 + ['Target1', 'Target2']].dropna()\n",
    "\n",
    "    elif is_train==False:    \n",
    "        \n",
    "        temp, temp_lag_cols1 = create_lag_feats(temp, target_lags, ['TARGET'])\n",
    "        temp, temp_lag_cols2 = create_lag_feats(temp, weather_lags, ['DHI', 'DNI', 'WS', 'RH', 'T'])\n",
    "                              \n",
    "        return temp[['Hour', 'Minute'] + temp_lag_cols1 + temp_lag_cols2].dropna()\n",
    "    \n",
    "# 하루전날 데이터를 통해서 새로운 셋 구축\n",
    "# 허나... 지금 현재 방법론을 봤을 때 Day6의 테스트 데이터로 추론을 해야하는데\n",
    "# Day5로 추론하는 문제가 있는데 오히려 성능이 감소됨;;;\n",
    "df_train = preprocess_data(train, target_lags=[48], weather_lags=[48], is_train=True)\n",
    "\n",
    "# test셋 구축\n",
    "df_test = []\n",
    "\n",
    "for i in range(81):\n",
    "    file_path = './data/test/' + str(i) + '.csv'\n",
    "    temp = pd.read_csv(file_path).iloc[-48:]\n",
    "#     temp = preprocess_data(temp, target_lags=[48], weather_lags=[48], is_train=False).iloc[-48:]\n",
    "    df_test.append(temp)\n",
    "\n",
    "X_test = pd.concat(df_test)\n",
    "\n",
    "X_test.drop(columns = ['Day'], inplace = True)\n",
    "X_test = X_test[['Hour','Minute','TARGET','DHI','DNI','WS','RH','T']]\n",
    "X_test.columns = df_train.columns.tolist()[:-2]\n",
    "\n",
    "X_test['DHI_lag_48'] = X_test['DHI_lag_48'].astype('float64')\n",
    "X_test['DNI_lag_48'] = X_test['DNI_lag_48'].astype('float64')\n",
    "\n",
    "X_test.shape"
   ]
  },
  {
   "cell_type": "code",
   "execution_count": 93,
   "metadata": {
    "ExecuteTime": {
     "end_time": "2021-01-01T13:55:26.389248Z",
     "start_time": "2021-01-01T13:55:26.383513Z"
    }
   },
   "outputs": [],
   "source": [
    "def base_preprocess(data, n, n2) : \n",
    "    \n",
    "    # 원래 방법대로 한다면, 마지막 48개행은 target2에 대해 미지의 값을 가진게 아닌가?\n",
    "    # step1 : 하루 뒤, 이틀 뒤 target 값 가져오기 \n",
    "    data['1day_after_target'] = data.shift(n)['TARGET']\n",
    "    data['2day_after_target'] = data.shift(n2)['TARGET']\n",
    "    \n",
    "    # step2 : 7일간의 segment를 할당하여 예측을 진행 \n",
    "    \n",
    "    data = data.dropna(axis=0)\n",
    "    \n",
    "    return(data)"
   ]
  },
  {
   "cell_type": "markdown",
   "metadata": {},
   "source": [
    "## Day2, Day3 predict"
   ]
  },
  {
   "cell_type": "code",
   "execution_count": 72,
   "metadata": {
    "ExecuteTime": {
     "end_time": "2021-01-01T10:34:16.623104Z",
     "start_time": "2021-01-01T10:34:16.322927Z"
    }
   },
   "outputs": [
    {
     "data": {
      "text/plain": [
       "(3888, 8)"
      ]
     },
     "execution_count": 72,
     "metadata": {},
     "output_type": "execute_result"
    }
   ],
   "source": [
    "# feature shift\n",
    "# N(lag)행 만큼 데이터를 밀어냄\n",
    "def create_lag_feats_Day23(data, lags, cols):\n",
    "    \n",
    "    lag_cols = []\n",
    "    temp = data.copy()\n",
    "    for col in cols:\n",
    "        for lag in lags:\n",
    "            temp[col + '_lag_%s'%lag] = temp[col].shift(lag)\n",
    "            # 이틀 뒤의 타겟값\n",
    "            temp['Target1'] = temp['TARGET'].shift(-48).fillna(method='ffill')\n",
    "            # fill values forward: 각 행의 앞단의 값을 채워 넣는 것\n",
    "            # 3일 뒤의 타겟값\n",
    "            temp['Target2'] = temp['TARGET'].shift(-96).fillna(method='ffill')  \n",
    "            lag_cols.append(col + '_lag_%s'%lag)\n",
    "\n",
    "    return temp, lag_cols\n",
    "\n",
    "def preprocess_data_Day23(data, target_lags=[48], weather_lags=[48], is_train=True):\n",
    "    \n",
    "    temp = data.copy()\n",
    "\n",
    "    if is_train==True:          \n",
    "    \n",
    "        temp, temp_lag_cols1 = create_lag_feats_Day23(temp, target_lags, ['TARGET'])\n",
    "        temp, temp_lag_cols2 = create_lag_feats_Day23(temp, weather_lags, ['DHI', 'DNI', 'WS', 'RH', 'T'])\n",
    "        \n",
    "        # Minute 추가\n",
    "        return temp[['Hour', 'Minute'] + temp_lag_cols1 + temp_lag_cols2 + ['Target1', 'Target2']].dropna()\n",
    "\n",
    "    elif is_train==False:    \n",
    "        \n",
    "        temp, temp_lag_cols1 = create_lag_feats_Day23(temp, target_lags, ['TARGET'])\n",
    "        temp, temp_lag_cols2 = create_lag_feats_Day23(temp, weather_lags, ['DHI', 'DNI', 'WS', 'RH', 'T'])\n",
    "                              \n",
    "        return temp[['Hour', 'Minute'] + temp_lag_cols1 + temp_lag_cols2].dropna()\n",
    "    \n",
    "# 하루전날 데이터를 통해서 새로운 셋 구축\n",
    "# 허나... 지금 현재 방법론을 봤을 때 Day6의 테스트 데이터로 추론을 해야하는데\n",
    "# Day5로 추론하는 문제가 있는데 오히려 성능이 감소됨;;;\n",
    "df_train_day23 = preprocess_data_Day23(train, target_lags=[48], weather_lags=[48], is_train=True)\n",
    "\n",
    "# test셋 구축\n",
    "df_test = []\n",
    "\n",
    "for i in range(81):\n",
    "    file_path = './data/test/' + str(i) + '.csv'\n",
    "    # Day5 데이터를 추출\n",
    "    temp = pd.read_csv(file_path).iloc[-96:-48]\n",
    "#     temp = preprocess_data(temp, target_lags=[48], weather_lags=[48], is_train=False).iloc[-48:]\n",
    "    df_test.append(temp)\n",
    "\n",
    "X_test_day23 = pd.concat(df_test)\n",
    "\n",
    "X_test_day23.drop(columns = ['Day'], inplace = True)\n",
    "X_test_day23 = X_test_day23[['Hour','Minute','TARGET','DHI','DNI','WS','RH','T']]\n",
    "X_test_day23.columns = df_train_day23.columns.tolist()[:-2]\n",
    "\n",
    "X_test_day23['DHI_lag_48'] = X_test_day23['DHI_lag_48'].astype('float64')\n",
    "X_test_day23['DNI_lag_48'] = X_test_day23['DNI_lag_48'].astype('float64')\n",
    "\n",
    "X_test_day23.shape"
   ]
  },
  {
   "cell_type": "code",
   "execution_count": 128,
   "metadata": {
    "ExecuteTime": {
     "end_time": "2021-01-01T14:23:31.439867Z",
     "start_time": "2021-01-01T14:23:31.415167Z"
    }
   },
   "outputs": [],
   "source": [
    "df_train = base_preprocess(train, -48, -96)\n",
    "df_train_day23 = base_preprocess(train, -96, -144)"
   ]
  },
  {
   "cell_type": "markdown",
   "metadata": {},
   "source": [
    "## Day3, Day4 predict"
   ]
  },
  {
   "cell_type": "markdown",
   "metadata": {},
   "source": [
    "# EDA"
   ]
  },
  {
   "cell_type": "markdown",
   "metadata": {},
   "source": [
    "## train/test distribution"
   ]
  },
  {
   "cell_type": "code",
   "execution_count": 26,
   "metadata": {
    "ExecuteTime": {
     "end_time": "2020-12-25T16:35:48.107365Z",
     "start_time": "2020-12-25T16:35:48.104578Z"
    }
   },
   "outputs": [],
   "source": [
    "# train, test distribution 체크\n",
    "# 체크해본 결과 특정 변수들에서 분포가 다른 부분들이 존재"
   ]
  },
  {
   "cell_type": "markdown",
   "metadata": {},
   "source": [
    "## correlation / heatmap"
   ]
  },
  {
   "cell_type": "code",
   "execution_count": 43,
   "metadata": {
    "ExecuteTime": {
     "end_time": "2020-12-26T08:17:46.681063Z",
     "start_time": "2020-12-26T08:17:46.637197Z"
    }
   },
   "outputs": [
    {
     "data": {
      "text/html": [
       "<div>\n",
       "<style scoped>\n",
       "    .dataframe tbody tr th:only-of-type {\n",
       "        vertical-align: middle;\n",
       "    }\n",
       "\n",
       "    .dataframe tbody tr th {\n",
       "        vertical-align: top;\n",
       "    }\n",
       "\n",
       "    .dataframe thead th {\n",
       "        text-align: right;\n",
       "    }\n",
       "</style>\n",
       "<table border=\"1\" class=\"dataframe\">\n",
       "  <thead>\n",
       "    <tr style=\"text-align: right;\">\n",
       "      <th></th>\n",
       "      <th>Hour</th>\n",
       "      <th>Minute</th>\n",
       "      <th>TARGET_lag_48</th>\n",
       "      <th>DHI_lag_48</th>\n",
       "      <th>DNI_lag_48</th>\n",
       "      <th>WS_lag_48</th>\n",
       "      <th>RH_lag_48</th>\n",
       "      <th>T_lag_48</th>\n",
       "      <th>Target1</th>\n",
       "      <th>Target2</th>\n",
       "      <th>WS_RH_sum</th>\n",
       "      <th>WS_RH_divide</th>\n",
       "      <th>dew_point</th>\n",
       "    </tr>\n",
       "  </thead>\n",
       "  <tbody>\n",
       "    <tr>\n",
       "      <th>Hour</th>\n",
       "      <td>1.0000</td>\n",
       "      <td>0.0000</td>\n",
       "      <td>0.0038</td>\n",
       "      <td>0.0299</td>\n",
       "      <td>-0.0182</td>\n",
       "      <td>-0.0558</td>\n",
       "      <td>-0.0843</td>\n",
       "      <td>0.1056</td>\n",
       "      <td>0.0038</td>\n",
       "      <td>0.0038</td>\n",
       "      <td>-0.0890</td>\n",
       "      <td>0.0399</td>\n",
       "      <td>0.0658</td>\n",
       "    </tr>\n",
       "    <tr>\n",
       "      <th>Minute</th>\n",
       "      <td>0.0000</td>\n",
       "      <td>1.0000</td>\n",
       "      <td>-0.0002</td>\n",
       "      <td>-0.0013</td>\n",
       "      <td>-0.0010</td>\n",
       "      <td>-0.0095</td>\n",
       "      <td>0.0089</td>\n",
       "      <td>-0.0077</td>\n",
       "      <td>-0.0003</td>\n",
       "      <td>-0.0002</td>\n",
       "      <td>0.0083</td>\n",
       "      <td>-0.0061</td>\n",
       "      <td>-0.0018</td>\n",
       "    </tr>\n",
       "    <tr>\n",
       "      <th>TARGET_lag_48</th>\n",
       "      <td>0.0038</td>\n",
       "      <td>-0.0002</td>\n",
       "      <td>1.0000</td>\n",
       "      <td>0.6668</td>\n",
       "      <td>0.8336</td>\n",
       "      <td>0.2385</td>\n",
       "      <td>-0.6771</td>\n",
       "      <td>0.5620</td>\n",
       "      <td>0.8428</td>\n",
       "      <td>0.8175</td>\n",
       "      <td>-0.6703</td>\n",
       "      <td>-0.2936</td>\n",
       "      <td>0.0691</td>\n",
       "    </tr>\n",
       "    <tr>\n",
       "      <th>DHI_lag_48</th>\n",
       "      <td>0.0299</td>\n",
       "      <td>-0.0013</td>\n",
       "      <td>0.6668</td>\n",
       "      <td>1.0000</td>\n",
       "      <td>0.2881</td>\n",
       "      <td>0.2033</td>\n",
       "      <td>-0.4783</td>\n",
       "      <td>0.4578</td>\n",
       "      <td>0.6907</td>\n",
       "      <td>0.7032</td>\n",
       "      <td>-0.4713</td>\n",
       "      <td>-0.2302</td>\n",
       "      <td>0.1419</td>\n",
       "    </tr>\n",
       "    <tr>\n",
       "      <th>DNI_lag_48</th>\n",
       "      <td>-0.0182</td>\n",
       "      <td>-0.0010</td>\n",
       "      <td>0.8336</td>\n",
       "      <td>0.2881</td>\n",
       "      <td>1.0000</td>\n",
       "      <td>0.2196</td>\n",
       "      <td>-0.6111</td>\n",
       "      <td>0.4026</td>\n",
       "      <td>0.6344</td>\n",
       "      <td>0.5981</td>\n",
       "      <td>-0.6047</td>\n",
       "      <td>-0.2651</td>\n",
       "      <td>-0.0452</td>\n",
       "    </tr>\n",
       "    <tr>\n",
       "      <th>WS_lag_48</th>\n",
       "      <td>-0.0558</td>\n",
       "      <td>-0.0095</td>\n",
       "      <td>0.2385</td>\n",
       "      <td>0.2033</td>\n",
       "      <td>0.2196</td>\n",
       "      <td>1.0000</td>\n",
       "      <td>-0.2300</td>\n",
       "      <td>0.0275</td>\n",
       "      <td>0.2499</td>\n",
       "      <td>0.2414</td>\n",
       "      <td>-0.1675</td>\n",
       "      <td>-0.5218</td>\n",
       "      <td>-0.1388</td>\n",
       "    </tr>\n",
       "    <tr>\n",
       "      <th>RH_lag_48</th>\n",
       "      <td>-0.0843</td>\n",
       "      <td>0.0089</td>\n",
       "      <td>-0.6771</td>\n",
       "      <td>-0.4783</td>\n",
       "      <td>-0.6111</td>\n",
       "      <td>-0.2300</td>\n",
       "      <td>1.0000</td>\n",
       "      <td>-0.5329</td>\n",
       "      <td>-0.6124</td>\n",
       "      <td>-0.5911</td>\n",
       "      <td>0.9980</td>\n",
       "      <td>0.4253</td>\n",
       "      <td>0.1676</td>\n",
       "    </tr>\n",
       "    <tr>\n",
       "      <th>T_lag_48</th>\n",
       "      <td>0.1056</td>\n",
       "      <td>-0.0077</td>\n",
       "      <td>0.5620</td>\n",
       "      <td>0.4578</td>\n",
       "      <td>0.4026</td>\n",
       "      <td>0.0275</td>\n",
       "      <td>-0.5329</td>\n",
       "      <td>1.0000</td>\n",
       "      <td>0.5201</td>\n",
       "      <td>0.5101</td>\n",
       "      <td>-0.5380</td>\n",
       "      <td>-0.1917</td>\n",
       "      <td>0.7241</td>\n",
       "    </tr>\n",
       "    <tr>\n",
       "      <th>Target1</th>\n",
       "      <td>0.0038</td>\n",
       "      <td>-0.0003</td>\n",
       "      <td>0.8428</td>\n",
       "      <td>0.6907</td>\n",
       "      <td>0.6344</td>\n",
       "      <td>0.2499</td>\n",
       "      <td>-0.6124</td>\n",
       "      <td>0.5201</td>\n",
       "      <td>1.0000</td>\n",
       "      <td>0.8427</td>\n",
       "      <td>-0.6040</td>\n",
       "      <td>-0.2841</td>\n",
       "      <td>0.0854</td>\n",
       "    </tr>\n",
       "    <tr>\n",
       "      <th>Target2</th>\n",
       "      <td>0.0038</td>\n",
       "      <td>-0.0002</td>\n",
       "      <td>0.8175</td>\n",
       "      <td>0.7032</td>\n",
       "      <td>0.5981</td>\n",
       "      <td>0.2414</td>\n",
       "      <td>-0.5911</td>\n",
       "      <td>0.5101</td>\n",
       "      <td>0.8427</td>\n",
       "      <td>1.0000</td>\n",
       "      <td>-0.5830</td>\n",
       "      <td>-0.2777</td>\n",
       "      <td>0.0926</td>\n",
       "    </tr>\n",
       "    <tr>\n",
       "      <th>WS_RH_sum</th>\n",
       "      <td>-0.0890</td>\n",
       "      <td>0.0083</td>\n",
       "      <td>-0.6703</td>\n",
       "      <td>-0.4713</td>\n",
       "      <td>-0.6047</td>\n",
       "      <td>-0.1675</td>\n",
       "      <td>0.9980</td>\n",
       "      <td>-0.5380</td>\n",
       "      <td>-0.6040</td>\n",
       "      <td>-0.5830</td>\n",
       "      <td>1.0000</td>\n",
       "      <td>0.3967</td>\n",
       "      <td>0.1607</td>\n",
       "    </tr>\n",
       "    <tr>\n",
       "      <th>WS_RH_divide</th>\n",
       "      <td>0.0399</td>\n",
       "      <td>-0.0061</td>\n",
       "      <td>-0.2936</td>\n",
       "      <td>-0.2302</td>\n",
       "      <td>-0.2651</td>\n",
       "      <td>-0.5218</td>\n",
       "      <td>0.4253</td>\n",
       "      <td>-0.1917</td>\n",
       "      <td>-0.2841</td>\n",
       "      <td>-0.2777</td>\n",
       "      <td>0.3967</td>\n",
       "      <td>1.0000</td>\n",
       "      <td>0.0949</td>\n",
       "    </tr>\n",
       "    <tr>\n",
       "      <th>dew_point</th>\n",
       "      <td>0.0658</td>\n",
       "      <td>-0.0018</td>\n",
       "      <td>0.0691</td>\n",
       "      <td>0.1419</td>\n",
       "      <td>-0.0452</td>\n",
       "      <td>-0.1388</td>\n",
       "      <td>0.1676</td>\n",
       "      <td>0.7241</td>\n",
       "      <td>0.0854</td>\n",
       "      <td>0.0926</td>\n",
       "      <td>0.1607</td>\n",
       "      <td>0.0949</td>\n",
       "      <td>1.0000</td>\n",
       "    </tr>\n",
       "  </tbody>\n",
       "</table>\n",
       "</div>"
      ],
      "text/plain": [
       "                 Hour  Minute  TARGET_lag_48  DHI_lag_48  DNI_lag_48  \\\n",
       "Hour           1.0000  0.0000         0.0038      0.0299     -0.0182   \n",
       "Minute         0.0000  1.0000        -0.0002     -0.0013     -0.0010   \n",
       "TARGET_lag_48  0.0038 -0.0002         1.0000      0.6668      0.8336   \n",
       "DHI_lag_48     0.0299 -0.0013         0.6668      1.0000      0.2881   \n",
       "DNI_lag_48    -0.0182 -0.0010         0.8336      0.2881      1.0000   \n",
       "WS_lag_48     -0.0558 -0.0095         0.2385      0.2033      0.2196   \n",
       "RH_lag_48     -0.0843  0.0089        -0.6771     -0.4783     -0.6111   \n",
       "T_lag_48       0.1056 -0.0077         0.5620      0.4578      0.4026   \n",
       "Target1        0.0038 -0.0003         0.8428      0.6907      0.6344   \n",
       "Target2        0.0038 -0.0002         0.8175      0.7032      0.5981   \n",
       "WS_RH_sum     -0.0890  0.0083        -0.6703     -0.4713     -0.6047   \n",
       "WS_RH_divide   0.0399 -0.0061        -0.2936     -0.2302     -0.2651   \n",
       "dew_point      0.0658 -0.0018         0.0691      0.1419     -0.0452   \n",
       "\n",
       "               WS_lag_48  RH_lag_48  T_lag_48  Target1  Target2  WS_RH_sum  \\\n",
       "Hour             -0.0558    -0.0843    0.1056   0.0038   0.0038    -0.0890   \n",
       "Minute           -0.0095     0.0089   -0.0077  -0.0003  -0.0002     0.0083   \n",
       "TARGET_lag_48     0.2385    -0.6771    0.5620   0.8428   0.8175    -0.6703   \n",
       "DHI_lag_48        0.2033    -0.4783    0.4578   0.6907   0.7032    -0.4713   \n",
       "DNI_lag_48        0.2196    -0.6111    0.4026   0.6344   0.5981    -0.6047   \n",
       "WS_lag_48         1.0000    -0.2300    0.0275   0.2499   0.2414    -0.1675   \n",
       "RH_lag_48        -0.2300     1.0000   -0.5329  -0.6124  -0.5911     0.9980   \n",
       "T_lag_48          0.0275    -0.5329    1.0000   0.5201   0.5101    -0.5380   \n",
       "Target1           0.2499    -0.6124    0.5201   1.0000   0.8427    -0.6040   \n",
       "Target2           0.2414    -0.5911    0.5101   0.8427   1.0000    -0.5830   \n",
       "WS_RH_sum        -0.1675     0.9980   -0.5380  -0.6040  -0.5830     1.0000   \n",
       "WS_RH_divide     -0.5218     0.4253   -0.1917  -0.2841  -0.2777     0.3967   \n",
       "dew_point        -0.1388     0.1676    0.7241   0.0854   0.0926     0.1607   \n",
       "\n",
       "               WS_RH_divide  dew_point  \n",
       "Hour                 0.0399     0.0658  \n",
       "Minute              -0.0061    -0.0018  \n",
       "TARGET_lag_48       -0.2936     0.0691  \n",
       "DHI_lag_48          -0.2302     0.1419  \n",
       "DNI_lag_48          -0.2651    -0.0452  \n",
       "WS_lag_48           -0.5218    -0.1388  \n",
       "RH_lag_48            0.4253     0.1676  \n",
       "T_lag_48            -0.1917     0.7241  \n",
       "Target1             -0.2841     0.0854  \n",
       "Target2             -0.2777     0.0926  \n",
       "WS_RH_sum            0.3967     0.1607  \n",
       "WS_RH_divide         1.0000     0.0949  \n",
       "dew_point            0.0949     1.0000  "
      ]
     },
     "execution_count": 43,
     "metadata": {},
     "output_type": "execute_result"
    }
   ],
   "source": [
    "# corr - heatmap\n",
    "df_train.corr()"
   ]
  },
  {
   "cell_type": "code",
   "execution_count": 45,
   "metadata": {
    "ExecuteTime": {
     "end_time": "2020-12-26T08:19:05.465799Z",
     "start_time": "2020-12-26T08:19:05.171447Z"
    }
   },
   "outputs": [
    {
     "data": {
      "text/plain": [
       "<matplotlib.axes._subplots.AxesSubplot at 0x1a2e39e510>"
      ]
     },
     "execution_count": 45,
     "metadata": {},
     "output_type": "execute_result"
    },
    {
     "data": {
      "image/png": "[encoded data removed]",
      "text/plain": [
       "<Figure size 1152x576 with 2 Axes>"
      ]
     },
     "metadata": {},
     "output_type": "display_data"
    }
   ],
   "source": [
    "sns.heatmap(df_train.corr(), cmap='YlGnBu')"
   ]
  },
  {
   "cell_type": "markdown",
   "metadata": {},
   "source": [
    "## outlier check"
   ]
  },
  {
   "cell_type": "code",
   "execution_count": null,
   "metadata": {},
   "outputs": [],
   "source": [
    "def "
   ]
  },
  {
   "cell_type": "code",
   "execution_count": null,
   "metadata": {},
   "outputs": [],
   "source": [
    "# 계절과 관련한 이상치 파악"
   ]
  },
  {
   "cell_type": "markdown",
   "metadata": {},
   "source": [
    "# Feature Engineering"
   ]
  },
  {
   "cell_type": "markdown",
   "metadata": {},
   "source": [
    "## 변수 생성 시도"
   ]
  },
  {
   "cell_type": "code",
   "execution_count": null,
   "metadata": {},
   "outputs": [],
   "source": []
  },
  {
   "cell_type": "code",
   "execution_count": null,
   "metadata": {},
   "outputs": [],
   "source": [
    "# aggregate function\n",
    "# Hour"
   ]
  },
  {
   "cell_type": "code",
   "execution_count": null,
   "metadata": {},
   "outputs": [],
   "source": [
    "# 오전/오후 변수\n",
    "\n",
    "# 시간대를 N등분으로 나눠서"
   ]
  },
  {
   "cell_type": "code",
   "execution_count": 80,
   "metadata": {
    "ExecuteTime": {
     "end_time": "2021-01-01T10:42:14.937448Z",
     "start_time": "2021-01-01T10:42:14.907964Z"
    }
   },
   "outputs": [],
   "source": []
  },
  {
   "cell_type": "code",
   "execution_count": null,
   "metadata": {},
   "outputs": [],
   "source": [
    "# skew 관련한 Box Cox Transformation of (highly) skewed features 파생변수 생성"
   ]
  },
  {
   "cell_type": "markdown",
   "metadata": {},
   "source": [
    "## 성능 상승 변수들"
   ]
  },
  {
   "cell_type": "code",
   "execution_count": 112,
   "metadata": {
    "ExecuteTime": {
     "end_time": "2021-01-01T14:20:38.273947Z",
     "start_time": "2021-01-01T14:20:38.257494Z"
    }
   },
   "outputs": [],
   "source": [
    "# 필령이형 feature\n",
    "# N=3 이동평균 diff 데이터\n",
    "def train_2day_variable(df_train, rolling_num) : \n",
    "    \n",
    "    hour_lists = []\n",
    "\n",
    "    numbers = list(np.arange(0,24,1))\n",
    "    n_list = [2]*24\n",
    "\n",
    "    hours_range = list(chain.from_iterable((repeat(number, n) for (number, n) in zip(numbers, n_list))))\n",
    "\n",
    "    for (hours,minutes) in zip(hours_range,list(np.arange(0,31,30))*30) : \n",
    "        # Day를 제거하고 Hour, Minute끼리 짝지어서 데이터를 만든다\n",
    "        hour_lists.append(df_train[(df_train['Hour']==hours) & (df_train['Minute']==minutes)])\n",
    "\n",
    "    # 만든 데이터만을 이용하여 이동평균 데이터 추출\n",
    "    for num in range(len(hour_lists)) : \n",
    "\n",
    "        hour_lists[num]['2days_mean_DHI'] = hour_lists[num]['DHI'].rolling(rolling_num).mean()\n",
    "        hour_lists[num]['2days_mean_DNI'] = hour_lists[num]['DNI'].rolling(rolling_num).mean()\n",
    "        hour_lists[num]['2days_mean_T'] = hour_lists[num]['T'].rolling(rolling_num).mean()\n",
    "        \n",
    "        # 기존 변수 - 이동평균 차이값 추출\n",
    "        hour_lists[num]['2days_mean_DHI'] = hour_lists[num]['DHI']-hour_lists[num]['2days_mean_DHI']\n",
    "        hour_lists[num]['2days_mean_DNI'] = hour_lists[num]['DNI']-hour_lists[num]['2days_mean_DNI']\n",
    "        hour_lists[num]['2days_mean_T'] = hour_lists[num]['T']-hour_lists[num]['2days_mean_T']\n",
    "        \n",
    "    df_train = pd.concat(hour_lists).sort_index() \n",
    "    \n",
    "    return(df_train)\n",
    "\n",
    "def test_2day_variable(df_test, rolling_num) : \n",
    "    \n",
    "    label_list = []\n",
    "\n",
    "    for i in range(81) : \n",
    "        label_list.append([i]*336)\n",
    "\n",
    "    label_list = [item for sublist in label_list for item in sublist]\n",
    "\n",
    "    df_test['label'] = label_list \n",
    "\n",
    "    test_dataset = []\n",
    "\n",
    "    for label_num in df_test.label.unique() : \n",
    "\n",
    "        hour_lists = []\n",
    "        numbers = list(np.arange(0,24,1))\n",
    "        n_list = [2]*24\n",
    "        df_test2 = df_test[df_test['label']==label_num]\n",
    "\n",
    "        hours_range = list(chain.from_iterable((repeat(number, n) for (number, n) in zip(numbers, n_list))))\n",
    "\n",
    "        for (hours,minutes) in zip(hours_range,list(np.arange(0,31,30))*30) : \n",
    "            hour_lists.append(df_test2[(df_test2['Hour']==hours) & (df_test2['Minute']==minutes)])\n",
    "\n",
    "        for num in range(len(hour_lists)) : \n",
    "            hour_lists[num]['2days_mean_DHI'] = hour_lists[num]['DHI'].rolling(rolling_num).mean()\n",
    "            hour_lists[num]['2days_mean_DNI'] = hour_lists[num]['DNI'].rolling(rolling_num).mean()\n",
    "            hour_lists[num]['2days_mean_T'] = hour_lists[num]['T'].rolling(rolling_num).mean()\n",
    "\n",
    "            hour_lists[num]['2days_mean_DHI'] = hour_lists[num]['DHI']-hour_lists[num]['2days_mean_DHI']\n",
    "            hour_lists[num]['2days_mean_DNI'] = hour_lists[num]['DNI']-hour_lists[num]['2days_mean_DNI']\n",
    "            hour_lists[num]['2days_mean_T'] = hour_lists[num]['T']-hour_lists[num]['2days_mean_T']\n",
    "\n",
    "        temp = pd.concat(hour_lists)\n",
    "        test_dataset.append(temp)\n",
    "        \n",
    "    df_test = pd.concat(test_dataset).reset_index().sort_values(['label','index'])\n",
    "    df_test = df_test.drop(['index'],axis=1).reset_index(drop=True) \n",
    "    \n",
    "    return(df_test)"
   ]
  },
  {
   "cell_type": "code",
   "execution_count": 129,
   "metadata": {
    "ExecuteTime": {
     "end_time": "2021-01-01T14:23:50.024286Z",
     "start_time": "2021-01-01T14:23:34.726050Z"
    }
   },
   "outputs": [],
   "source": [
    "df_train = train_2day_variable(df_train, rolling_num=3)\n",
    "df_train_day23 = train_2day_variable(df_train_day23, rolling_num=3)\n",
    "df_test = test_2day_variable(df_test, rolling_num=3)"
   ]
  },
  {
   "cell_type": "code",
   "execution_count": null,
   "metadata": {},
   "outputs": [],
   "source": [
    "# 이슬점 변수\n",
    "def dew_point(df,tem_column,hum_column):\n",
    "    b = 17.62\n",
    "    c = 243.12\n",
    "    \n",
    "    dew_point_ls = []\n",
    "    \n",
    "    for i in range(len(df)):\n",
    "\n",
    "        gamma = (b * df[tem_column].iloc[i] /(c + df[tem_column].iloc[i])) + math.log(df[hum_column].iloc[i] / 100.0)\n",
    "        dewpoint = (c * gamma) / (b - gamma)\n",
    "        \n",
    "        dew_point_ls.append(dewpoint)\n",
    "        \n",
    "    return dew_point_ls\n",
    "\n",
    "df_train['dew_point'] = dew_point(df_train, 'T_lag_48', 'RH_lag_48')\n",
    "X_test['dew_point'] = dew_point(X_test, 'T_lag_48', 'RH_lag_48')\n",
    "\n",
    "df_train_day23['dew_point'] = dew_point(df_train_day23, 'T_lag_48', 'RH_lag_48')\n",
    "X_test_day23['dew_point'] = dew_point(X_test_day23, 'T_lag_48', 'RH_lag_48')\n",
    "\n",
    "# sum, std, kur, mean, median, skew\n",
    "# https://www.kaggle.com/ogrellier/feature-scoring-vs-zeros\n",
    "\n",
    "# DHI, DNI 통계 변수\n",
    "def D_I_var(df):\n",
    "    df['D_I_sum'] = df[['DHI_lag_48','DNI_lag_48']].sum(axis = 1)\n",
    "    # 성능저하\n",
    "#     df['D_I_mean'] = df[['DHI_lag_48','DNI_lag_48']].mean(axis = 1)\n",
    "#     df['D_I_skew'] = stats.skew(df[['DHI_lag_48','DNI_lag_48']],axis = 1)\n",
    "#     df['D_I_kurt'] = stats.kurtosis(df[['DHI_lag_48','DNI_lag_48']],axis = 1)\n",
    "#     df['D_I_median'] = df[['DHI_lag_48','DNI_lag_48']].median(axis = 1)\n",
    "    \n",
    "    return df\n",
    "\n",
    "df_train = D_I_var(df_train)\n",
    "X_test = D_I_var(X_test)\n",
    "\n",
    "df_train_day23 = D_I_var(df_train_day23)\n",
    "X_test_day23 = D_I_var(X_test_day23)"
   ]
  },
  {
   "cell_type": "markdown",
   "metadata": {},
   "source": [
    "## 성능 저하변수들"
   ]
  },
  {
   "cell_type": "code",
   "execution_count": 23,
   "metadata": {
    "ExecuteTime": {
     "end_time": "2020-12-25T15:35:49.047514Z",
     "start_time": "2020-12-25T15:35:49.038065Z"
    }
   },
   "outputs": [],
   "source": [
    "# statistical FE\n",
    "\n",
    "# WS, RH -> CV에서는 상승했지만 LB에서 떨어짐\n",
    "# 약간 CV에서 확실한 성능개선을 시키는 변수 혹은 validation을 좀 잘 구축해보자\n",
    "df_train['WS_RH_sum'] = df_train['WS_lag_48'] + df_train['RH_lag_48']\n",
    "df_train['WS_RH_divide'] = df_train['RH_lag_48'] / df_train['WS_lag_48']\n",
    "\n",
    "X_test['WS_RH_sum'] = X_test['WS_lag_48'] + X_test['RH_lag_48']\n",
    "X_test['WS_RH_divide'] = X_test['RH_lag_48'] / X_test['WS_lag_48']"
   ]
  },
  {
   "cell_type": "markdown",
   "metadata": {},
   "source": [
    "# final pre-processing"
   ]
  },
  {
   "cell_type": "code",
   "execution_count": 130,
   "metadata": {
    "ExecuteTime": {
     "end_time": "2021-01-01T14:23:50.054821Z",
     "start_time": "2021-01-01T14:23:50.025947Z"
    }
   },
   "outputs": [],
   "source": [
    "df_train = df_train.dropna()\n",
    "df_train = df_train.drop(['Minute','Day'], axis=1)\n",
    "# df_train = df_train.drop(['Day'], axis=1)\n",
    "df_train['Hour'] = df_train['Hour'].astype('category')\n",
    "# df_train['Minute'] = df_train['Minute'].astype('category')\n",
    "\n",
    "df_train_day23 = df_train_day23.dropna()\n",
    "df_train_day23 = df_train_day23.drop(['Minute','Day'], axis=1)\n",
    "# df_train_day23 = df_train_day23.drop(['Day'], axis=1)\n",
    "df_train_day23['Hour'] = df_train_day23['Hour'].astype('category')\n",
    "# df_train_day23['Minute'] = df_train_day23['Minute'].astype('category')\n",
    "\n",
    "df_test = df_test.dropna()\n",
    "df_test2 = df_test[df_test['Day']==6]\n",
    "df_test2 = df_test2.drop(['Day','Minute'], axis=1)\n",
    "df_test2['Hour'] = df_test2['Hour'].astype('category')\n",
    "\n",
    "df_test_day23 = df_test[df_test['Day']==5]\n",
    "df_test_day23 = df_test_day23.drop(['Day','Minute'], axis=1)\n",
    "df_test_day23['Hour'] = df_test_day23['Hour'].astype('category')"
   ]
  },
  {
   "cell_type": "code",
   "execution_count": 134,
   "metadata": {
    "ExecuteTime": {
     "end_time": "2021-01-01T14:25:12.096304Z",
     "start_time": "2021-01-01T14:25:12.094259Z"
    }
   },
   "outputs": [],
   "source": [
    "X_test = df_test2\n",
    "X_test_day23 = df_test_day23"
   ]
  },
  {
   "cell_type": "markdown",
   "metadata": {},
   "source": [
    "# Save"
   ]
  },
  {
   "cell_type": "code",
   "execution_count": 137,
   "metadata": {
    "ExecuteTime": {
     "end_time": "2021-01-01T14:25:31.611446Z",
     "start_time": "2021-01-01T14:25:31.130082Z"
    }
   },
   "outputs": [],
   "source": [
    "time_str = datetime.datetime.strftime(\n",
    "    datetime.datetime.today(),\n",
    "    '%Y%m%d_%H%M%S'\n",
    ")\n",
    "\n",
    "df_train.to_csv(\n",
    "    os.path.join(train_path, f'training_{time_str}.csv'), \n",
    "    index=False\n",
    ")\n",
    "\n",
    "X_test.to_csv(\n",
    "    os.path.join(infer_path, f'inference_{time_str}.csv'), \n",
    "    index=False\n",
    ")"
   ]
  },
  {
   "cell_type": "code",
   "execution_count": 138,
   "metadata": {
    "ExecuteTime": {
     "end_time": "2021-01-01T14:25:32.101893Z",
     "start_time": "2021-01-01T14:25:31.613212Z"
    }
   },
   "outputs": [],
   "source": [
    "df_train_day23.to_csv(\n",
    "    os.path.join(train_path, f'training_{time_str}_day23.csv'), \n",
    "    index=False\n",
    ")\n",
    "\n",
    "X_test_day23.to_csv(\n",
    "    os.path.join(infer_path, f'inference_{time_str}_day23.csv'), \n",
    "    index=False\n",
    ")"
   ]
  },
  {
   "cell_type": "code",
   "execution_count": null,
   "metadata": {},
   "outputs": [],
   "source": []
  }
 ],
 "metadata": {
  "kernelspec": {
   "display_name": "Python 3",
   "language": "python",
   "name": "python3"
  },
  "language_info": {
   "codemirror_mode": {
    "name": "ipython",
    "version": 3
   },
   "file_extension": ".py",
   "mimetype": "text/x-python",
   "name": "python",
   "nbconvert_exporter": "python",
   "pygments_lexer": "ipython3",
   "version": "3.7.7"
  },
  "toc": {
   "base_numbering": 1,
   "nav_menu": {},
   "number_sections": true,
   "sideBar": true,
   "skip_h1_title": false,
   "title_cell": "Table of Contents",
   "title_sidebar": "Contents",
   "toc_cell": false,
   "toc_position": {},
   "toc_section_display": true,
   "toc_window_display": true
  }
 },
 "nbformat": 4,
 "nbformat_minor": 4
}
