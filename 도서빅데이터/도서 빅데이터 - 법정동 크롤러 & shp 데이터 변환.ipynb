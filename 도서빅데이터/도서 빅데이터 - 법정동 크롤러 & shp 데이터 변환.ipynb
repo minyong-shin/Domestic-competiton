{
 "cells": [
  {
   "cell_type": "code",
   "execution_count": 27,
   "metadata": {
    "ExecuteTime": {
     "end_time": "2020-09-06T08:43:50.477534Z",
     "start_time": "2020-09-06T08:43:49.998696Z"
    }
   },
   "outputs": [],
   "source": [
    "import geopandas as gpd\n",
    "import pandas as pd\n",
    "import numpy as np\n",
    "import requests\n",
    "from bs4 import BeautifulSoup\n",
    "from selenium import webdriver\n",
    "from selenium.webdriver.chrome.options import Options\n",
    "from selenium.webdriver.common.keys import Keys\n",
    "import time\n",
    "import re"
   ]
  },
  {
   "cell_type": "code",
   "execution_count": 3,
   "metadata": {
    "ExecuteTime": {
     "end_time": "2020-09-06T08:13:27.329504Z",
     "start_time": "2020-09-06T08:13:27.262536Z"
    }
   },
   "outputs": [],
   "source": [
    "seoul = gpd.read_file('tl_emd_seoul_4326/tl_emd._seoul_4326.shp')"
   ]
  },
  {
   "cell_type": "code",
   "execution_count": 20,
   "metadata": {
    "ExecuteTime": {
     "end_time": "2020-09-06T08:28:02.824921Z",
     "start_time": "2020-09-06T08:28:02.699108Z"
    }
   },
   "outputs": [],
   "source": [
    "with pd.ExcelWriter('data/seoul_dong_polygon.xlsx') as writer:  \n",
    "    seoul.to_excel(writer, sheet_name='Sheet_name_1',startrow = 3, startcol = 3)"
   ]
  },
  {
   "cell_type": "code",
   "execution_count": 100,
   "metadata": {
    "ExecuteTime": {
     "end_time": "2020-09-06T09:13:54.013200Z",
     "start_time": "2020-09-06T09:13:54.008591Z"
    }
   },
   "outputs": [],
   "source": [
    "temp2 = temp.drop_duplicates(['gu','bub'])"
   ]
  },
  {
   "cell_type": "code",
   "execution_count": 102,
   "metadata": {
    "ExecuteTime": {
     "end_time": "2020-09-06T09:14:21.731913Z",
     "start_time": "2020-09-06T09:14:21.726568Z"
    }
   },
   "outputs": [
    {
     "name": "stderr",
     "output_type": "stream",
     "text": [
      "/Users/sinmin-yong/anaconda3/lib/python3.7/site-packages/pandas/core/frame.py:4133: SettingWithCopyWarning: \n",
      "A value is trying to be set on a copy of a slice from a DataFrame\n",
      "\n",
      "See the caveats in the documentation: https://pandas.pydata.org/pandas-docs/stable/user_guide/indexing.html#returning-a-view-versus-a-copy\n",
      "  errors=errors,\n"
     ]
    }
   ],
   "source": [
    "temp2.rename(columns = {'bub':'emd_kor_nm'},inplace = True)"
   ]
  },
  {
   "cell_type": "code",
   "execution_count": 105,
   "metadata": {
    "ExecuteTime": {
     "end_time": "2020-09-06T09:15:01.921335Z",
     "start_time": "2020-09-06T09:15:01.914664Z"
    }
   },
   "outputs": [],
   "source": [
    "seoul2 = pd.merge(seoul,temp2,on = 'emd_kor_nm',how = 'left')"
   ]
  },
  {
   "cell_type": "code",
   "execution_count": 126,
   "metadata": {
    "ExecuteTime": {
     "end_time": "2020-09-06T09:22:28.195720Z",
     "start_time": "2020-09-06T09:22:28.187854Z"
    },
    "scrolled": true
   },
   "outputs": [
    {
     "data": {
      "text/html": [
       "<div>\n",
       "<style scoped>\n",
       "    .dataframe tbody tr th:only-of-type {\n",
       "        vertical-align: middle;\n",
       "    }\n",
       "\n",
       "    .dataframe tbody tr th {\n",
       "        vertical-align: top;\n",
       "    }\n",
       "\n",
       "    .dataframe thead th {\n",
       "        text-align: right;\n",
       "    }\n",
       "</style>\n",
       "<table border=\"1\" class=\"dataframe\">\n",
       "  <thead>\n",
       "    <tr style=\"text-align: right;\">\n",
       "      <th></th>\n",
       "      <th>gu</th>\n",
       "      <th>hang</th>\n",
       "      <th>emd_kor_nm</th>\n",
       "    </tr>\n",
       "  </thead>\n",
       "  <tbody>\n",
       "    <tr>\n",
       "      <th>0</th>\n",
       "      <td>은평구</td>\n",
       "      <td>신사제1동</td>\n",
       "      <td>신사동</td>\n",
       "    </tr>\n",
       "    <tr>\n",
       "      <th>0</th>\n",
       "      <td>강남구</td>\n",
       "      <td>신사동</td>\n",
       "      <td>신사동</td>\n",
       "    </tr>\n",
       "  </tbody>\n",
       "</table>\n",
       "</div>"
      ],
      "text/plain": [
       "    gu   hang emd_kor_nm\n",
       "0  은평구  신사제1동        신사동\n",
       "0  강남구    신사동        신사동"
      ]
     },
     "execution_count": 126,
     "metadata": {},
     "output_type": "execute_result"
    }
   ],
   "source": [
    "temp2[temp2['emd_kor_nm'] == '신사동']"
   ]
  },
  {
   "cell_type": "code",
   "execution_count": 120,
   "metadata": {
    "ExecuteTime": {
     "end_time": "2020-09-06T09:18:42.904563Z",
     "start_time": "2020-09-06T09:18:42.900214Z"
    }
   },
   "outputs": [],
   "source": [
    "sin = seoul[seoul['emd_kor_nm'] == '신정동']\n",
    "sin2 = seoul[seoul['emd_kor_nm'] == '신사동']"
   ]
  },
  {
   "cell_type": "code",
   "execution_count": 125,
   "metadata": {
    "ExecuteTime": {
     "end_time": "2020-09-06T09:22:24.646009Z",
     "start_time": "2020-09-06T09:22:24.637022Z"
    }
   },
   "outputs": [
    {
     "data": {
      "text/html": [
       "<div>\n",
       "<style scoped>\n",
       "    .dataframe tbody tr th:only-of-type {\n",
       "        vertical-align: middle;\n",
       "    }\n",
       "\n",
       "    .dataframe tbody tr th {\n",
       "        vertical-align: top;\n",
       "    }\n",
       "\n",
       "    .dataframe thead th {\n",
       "        text-align: right;\n",
       "    }\n",
       "</style>\n",
       "<table border=\"1\" class=\"dataframe\">\n",
       "  <thead>\n",
       "    <tr style=\"text-align: right;\">\n",
       "      <th></th>\n",
       "      <th>emd_cd</th>\n",
       "      <th>emd_eng_nm</th>\n",
       "      <th>emd_kor_nm</th>\n",
       "      <th>geometry</th>\n",
       "    </tr>\n",
       "  </thead>\n",
       "  <tbody>\n",
       "    <tr>\n",
       "      <th>124</th>\n",
       "      <td>11680107</td>\n",
       "      <td>Sinsa-dong</td>\n",
       "      <td>신사동</td>\n",
       "      <td>MULTIPOLYGON (((127.02191 37.51711, 127.01953 ...</td>\n",
       "    </tr>\n",
       "    <tr>\n",
       "      <th>251</th>\n",
       "      <td>11380109</td>\n",
       "      <td>Sinsa-dong</td>\n",
       "      <td>신사동</td>\n",
       "      <td>POLYGON ((126.90211 37.60374, 126.90492 37.603...</td>\n",
       "    </tr>\n",
       "  </tbody>\n",
       "</table>\n",
       "</div>"
      ],
      "text/plain": [
       "       emd_cd  emd_eng_nm emd_kor_nm  \\\n",
       "124  11680107  Sinsa-dong        신사동   \n",
       "251  11380109  Sinsa-dong        신사동   \n",
       "\n",
       "                                              geometry  \n",
       "124  MULTIPOLYGON (((127.02191 37.51711, 127.01953 ...  \n",
       "251  POLYGON ((126.90211 37.60374, 126.90492 37.603...  "
      ]
     },
     "execution_count": 125,
     "metadata": {},
     "output_type": "execute_result"
    }
   ],
   "source": [
    "sin2"
   ]
  },
  {
   "cell_type": "code",
   "execution_count": 116,
   "metadata": {
    "ExecuteTime": {
     "end_time": "2020-09-06T09:17:58.526528Z",
     "start_time": "2020-09-06T09:17:58.521149Z"
    }
   },
   "outputs": [],
   "source": [
    "seoul2 = seoul[seoul['emd_kor_nm'] != '신정동']\n",
    "seoul3 = seoul2[seoul2['emd_kor_nm'] != '신사동']"
   ]
  },
  {
   "cell_type": "code",
   "execution_count": 119,
   "metadata": {
    "ExecuteTime": {
     "end_time": "2020-09-06T09:18:20.703104Z",
     "start_time": "2020-09-06T09:18:20.696441Z"
    }
   },
   "outputs": [],
   "source": [
    "seoul4 = pd.merge(seoul3,temp2,on = 'emd_kor_nm',how = 'left')"
   ]
  },
  {
   "cell_type": "code",
   "execution_count": 122,
   "metadata": {
    "ExecuteTime": {
     "end_time": "2020-09-06T09:18:53.502415Z",
     "start_time": "2020-09-06T09:18:53.489575Z"
    }
   },
   "outputs": [
    {
     "data": {
      "text/html": [
       "<div>\n",
       "<style scoped>\n",
       "    .dataframe tbody tr th:only-of-type {\n",
       "        vertical-align: middle;\n",
       "    }\n",
       "\n",
       "    .dataframe tbody tr th {\n",
       "        vertical-align: top;\n",
       "    }\n",
       "\n",
       "    .dataframe thead th {\n",
       "        text-align: right;\n",
       "    }\n",
       "</style>\n",
       "<table border=\"1\" class=\"dataframe\">\n",
       "  <thead>\n",
       "    <tr style=\"text-align: right;\">\n",
       "      <th></th>\n",
       "      <th>emd_cd</th>\n",
       "      <th>emd_eng_nm</th>\n",
       "      <th>emd_kor_nm</th>\n",
       "      <th>geometry</th>\n",
       "      <th>gu</th>\n",
       "      <th>hang</th>\n",
       "    </tr>\n",
       "  </thead>\n",
       "  <tbody>\n",
       "    <tr>\n",
       "      <th>0</th>\n",
       "      <td>11110152</td>\n",
       "      <td>Bongik-dong</td>\n",
       "      <td>봉익동</td>\n",
       "      <td>POLYGON ((126.99254 37.57385, 126.99409 37.572...</td>\n",
       "      <td>종로구</td>\n",
       "      <td>종로1234가동</td>\n",
       "    </tr>\n",
       "    <tr>\n",
       "      <th>1</th>\n",
       "      <td>11110153</td>\n",
       "      <td>Donui-dong</td>\n",
       "      <td>돈의동</td>\n",
       "      <td>POLYGON ((126.99101 37.57336, 126.99178 37.570...</td>\n",
       "      <td>종로구</td>\n",
       "      <td>종로1234가동</td>\n",
       "    </tr>\n",
       "    <tr>\n",
       "      <th>2</th>\n",
       "      <td>11560123</td>\n",
       "      <td>Mullae-dong 5(o)-ga</td>\n",
       "      <td>문래동5가</td>\n",
       "      <td>POLYGON ((126.88453 37.51788, 126.88881 37.517...</td>\n",
       "      <td>영등포구</td>\n",
       "      <td>문래동</td>\n",
       "    </tr>\n",
       "    <tr>\n",
       "      <th>3</th>\n",
       "      <td>11110141</td>\n",
       "      <td>Anguk-dong</td>\n",
       "      <td>안국동</td>\n",
       "      <td>POLYGON ((126.98377 37.57947, 126.98426 37.579...</td>\n",
       "      <td>종로구</td>\n",
       "      <td>삼청동</td>\n",
       "    </tr>\n",
       "    <tr>\n",
       "      <th>4</th>\n",
       "      <td>11110142</td>\n",
       "      <td>Sogyeok-dong</td>\n",
       "      <td>소격동</td>\n",
       "      <td>POLYGON ((126.98112 37.58153, 126.98234 37.579...</td>\n",
       "      <td>종로구</td>\n",
       "      <td>삼청동</td>\n",
       "    </tr>\n",
       "  </tbody>\n",
       "</table>\n",
       "</div>"
      ],
      "text/plain": [
       "     emd_cd           emd_eng_nm emd_kor_nm  \\\n",
       "0  11110152          Bongik-dong        봉익동   \n",
       "1  11110153           Donui-dong        돈의동   \n",
       "2  11560123  Mullae-dong 5(o)-ga      문래동5가   \n",
       "3  11110141           Anguk-dong        안국동   \n",
       "4  11110142         Sogyeok-dong        소격동   \n",
       "\n",
       "                                            geometry    gu      hang  \n",
       "0  POLYGON ((126.99254 37.57385, 126.99409 37.572...   종로구  종로1234가동  \n",
       "1  POLYGON ((126.99101 37.57336, 126.99178 37.570...   종로구  종로1234가동  \n",
       "2  POLYGON ((126.88453 37.51788, 126.88881 37.517...  영등포구       문래동  \n",
       "3  POLYGON ((126.98377 37.57947, 126.98426 37.579...   종로구       삼청동  \n",
       "4  POLYGON ((126.98112 37.58153, 126.98234 37.579...   종로구       삼청동  "
      ]
     },
     "execution_count": 122,
     "metadata": {},
     "output_type": "execute_result"
    }
   ],
   "source": [
    "seoul4.head()"
   ]
  },
  {
   "cell_type": "code",
   "execution_count": 127,
   "metadata": {
    "ExecuteTime": {
     "end_time": "2020-09-06T09:22:51.774887Z",
     "start_time": "2020-09-06T09:22:51.768392Z"
    }
   },
   "outputs": [
    {
     "name": "stderr",
     "output_type": "stream",
     "text": [
      "/Users/sinmin-yong/anaconda3/lib/python3.7/site-packages/geopandas/geodataframe.py:853: SettingWithCopyWarning: \n",
      "A value is trying to be set on a copy of a slice from a DataFrame.\n",
      "Try using .loc[row_indexer,col_indexer] = value instead\n",
      "\n",
      "See the caveats in the documentation: https://pandas.pydata.org/pandas-docs/stable/user_guide/indexing.html#returning-a-view-versus-a-copy\n",
      "  super(GeoDataFrame, self).__setitem__(key, value)\n"
     ]
    }
   ],
   "source": [
    "sin['gu'],sin['hang'] = ['마포구','양천구'], ['신수동','신정제1동']\n",
    "sin2['gu'],sin2['hang'] = ['강남구','은평구'], ['신사동','신사제1동']"
   ]
  },
  {
   "cell_type": "code",
   "execution_count": 129,
   "metadata": {
    "ExecuteTime": {
     "end_time": "2020-09-06T09:23:13.234104Z",
     "start_time": "2020-09-06T09:23:13.228847Z"
    }
   },
   "outputs": [],
   "source": [
    "seoul_fin = pd.concat([seoul4,sin,sin2],axis = 0)"
   ]
  },
  {
   "cell_type": "code",
   "execution_count": 132,
   "metadata": {
    "ExecuteTime": {
     "end_time": "2020-09-06T09:25:38.315878Z",
     "start_time": "2020-09-06T09:25:38.313230Z"
    }
   },
   "outputs": [],
   "source": [
    "seoul_fin.index = range(len(seoul_fin))"
   ]
  },
  {
   "cell_type": "code",
   "execution_count": 136,
   "metadata": {
    "ExecuteTime": {
     "end_time": "2020-09-06T09:26:34.260183Z",
     "start_time": "2020-09-06T09:26:34.254024Z"
    }
   },
   "outputs": [],
   "source": [
    "seoul_notnull = seoul_fin.iloc[seoul_fin.isnull()[seoul_fin.isnull()['gu'] == False].index.tolist()]"
   ]
  },
  {
   "cell_type": "code",
   "execution_count": 137,
   "metadata": {
    "ExecuteTime": {
     "end_time": "2020-09-06T09:26:44.046974Z",
     "start_time": "2020-09-06T09:26:44.041136Z"
    }
   },
   "outputs": [],
   "source": [
    "seoul_null = seoul_fin.iloc[seoul_fin.isnull()[seoul_fin.isnull()['gu'] == True].index.tolist()]"
   ]
  },
  {
   "cell_type": "code",
   "execution_count": 139,
   "metadata": {
    "ExecuteTime": {
     "end_time": "2020-09-06T09:28:17.545121Z",
     "start_time": "2020-09-06T09:28:17.540084Z"
    }
   },
   "outputs": [
    {
     "name": "stderr",
     "output_type": "stream",
     "text": [
      "/Users/sinmin-yong/anaconda3/lib/python3.7/site-packages/geopandas/geodataframe.py:853: SettingWithCopyWarning: \n",
      "A value is trying to be set on a copy of a slice from a DataFrame.\n",
      "Try using .loc[row_indexer,col_indexer] = value instead\n",
      "\n",
      "See the caveats in the documentation: https://pandas.pydata.org/pandas-docs/stable/user_guide/indexing.html#returning-a-view-versus-a-copy\n",
      "  super(GeoDataFrame, self).__setitem__(key, value)\n"
     ]
    }
   ],
   "source": [
    "seoul_null['gu'] = ['종로구']*2 + ['영등포구'] * 8 + ['중구'] * 3 "
   ]
  },
  {
   "cell_type": "code",
   "execution_count": 141,
   "metadata": {
    "ExecuteTime": {
     "end_time": "2020-09-06T09:28:41.222721Z",
     "start_time": "2020-09-06T09:28:41.218014Z"
    }
   },
   "outputs": [],
   "source": [
    "seoul_fin_fin = pd.concat([seoul_notnull,seoul_null],axis = 0)"
   ]
  },
  {
   "cell_type": "code",
   "execution_count": 142,
   "metadata": {
    "ExecuteTime": {
     "end_time": "2020-09-06T09:28:43.403672Z",
     "start_time": "2020-09-06T09:28:43.304404Z"
    }
   },
   "outputs": [],
   "source": [
    "seoul_fin_fin.to_file(\"seoul_total_dong_polygon.shp\",encoding = 'utf8')"
   ]
  },
  {
   "cell_type": "code",
   "execution_count": 149,
   "metadata": {
    "ExecuteTime": {
     "end_time": "2020-09-06T11:29:06.333626Z",
     "start_time": "2020-09-06T11:29:06.328700Z"
    }
   },
   "outputs": [
    {
     "data": {
      "text/plain": [
       "geopandas.geodataframe.GeoDataFrame"
      ]
     },
     "execution_count": 149,
     "metadata": {},
     "output_type": "execute_result"
    }
   ],
   "source": [
    "type(seoul_fin_fin)"
   ]
  },
  {
   "cell_type": "markdown",
   "metadata": {},
   "source": [
    "# 법정동 크롤러"
   ]
  },
  {
   "cell_type": "code",
   "execution_count": 25,
   "metadata": {
    "ExecuteTime": {
     "end_time": "2020-09-06T08:39:40.717864Z",
     "start_time": "2020-09-06T08:39:40.715646Z"
    }
   },
   "outputs": [],
   "source": [
    "base_url = 'https://www.seoul.go.kr/seoul/autonomy_sub.do'"
   ]
  },
  {
   "cell_type": "code",
   "execution_count": 30,
   "metadata": {
    "ExecuteTime": {
     "end_time": "2020-09-06T08:45:37.739086Z",
     "start_time": "2020-09-06T08:45:33.050166Z"
    }
   },
   "outputs": [],
   "source": [
    "browser = webdriver.Chrome('/Users/sinmin-yong/GitHub/공모전/도서빅데이터/chromedriver')\n",
    "browser.get(base_url)\n",
    "time.sleep(1.5)"
   ]
  },
  {
   "cell_type": "code",
   "execution_count": 35,
   "metadata": {
    "ExecuteTime": {
     "end_time": "2020-09-06T08:46:58.390919Z",
     "start_time": "2020-09-06T08:46:58.374287Z"
    },
    "scrolled": true
   },
   "outputs": [],
   "source": [
    "gu_ls = browser.find_elements_by_xpath('//*[@class = \"tabs2 boxtabs\"]/ul/li')[1:]"
   ]
  },
  {
   "cell_type": "code",
   "execution_count": 39,
   "metadata": {
    "ExecuteTime": {
     "end_time": "2020-09-06T08:47:28.318269Z",
     "start_time": "2020-09-06T08:47:28.277316Z"
    }
   },
   "outputs": [],
   "source": [
    "gu_ls[0].click()"
   ]
  },
  {
   "cell_type": "code",
   "execution_count": 43,
   "metadata": {
    "ExecuteTime": {
     "end_time": "2020-09-06T08:48:36.395259Z",
     "start_time": "2020-09-06T08:48:36.255373Z"
    }
   },
   "outputs": [],
   "source": [
    "html = browser.page_source\n",
    "soup = BeautifulSoup(html, 'html.parser')"
   ]
  },
  {
   "cell_type": "code",
   "execution_count": 44,
   "metadata": {
    "ExecuteTime": {
     "end_time": "2020-09-06T08:50:23.107431Z",
     "start_time": "2020-09-06T08:50:23.083426Z"
    }
   },
   "outputs": [],
   "source": [
    "table_ls = soup.find_all('table',{'class':'tstyle04'})"
   ]
  },
  {
   "cell_type": "code",
   "execution_count": 45,
   "metadata": {
    "ExecuteTime": {
     "end_time": "2020-09-06T08:50:25.441522Z",
     "start_time": "2020-09-06T08:50:25.414325Z"
    },
    "scrolled": true
   },
   "outputs": [
    {
     "data": {
      "text/plain": [
       "<table class=\"tstyle04\">\n",
       "<caption class=\"sr-only\">종로구(<i>鐘路區</i>)</caption>\n",
       "<colgroup>\n",
       "<col style=\"width:25%\"/>\n",
       "<col/>\n",
       "</colgroup>\n",
       "<thead>\n",
       "<tr>\n",
       "<th scope=\"col\"><i>行 政 洞</i></th>\n",
       "<th scope=\"col\"><i>法 定 洞</i></th>\n",
       "</tr>\n",
       "</thead>\n",
       "<tbody>\n",
       "<tr>\n",
       "<td>청운효자동\n",
       "                                        (<i>淸雲孝子洞</i>)</td>\n",
       "<td>청운동(<i>淸雲洞</i>), 신교동(<i>新橋洞</i>), 궁정동(<i>宮井洞</i>), 세종로(<i>世宗路</i>), 효자동(<i>孝子洞</i>), 창성동(<i>昌成洞</i>), 통인동(<i>通仁洞</i>), 누상동(<i>樓上洞</i>), 누하동(<i>樓下洞</i>), 옥인동(<i>玉仁洞</i>)</td>\n",
       "</tr>\n",
       "<tr>\n",
       "<td>사직동(<i>社稷洞</i>)</td>\n",
       "<td>사직동(<i>社稷洞</i>), 체부동(<i>體府洞</i>), 필운동(<i>弼雲洞</i>), 내자동(<i>內資洞</i>), 통의동(<i>通義洞</i>), 적선동(<i>積善洞</i>), 세종로(<i>世宗路</i>), 도렴동(<i>都染洞</i>), 당주동(<i>唐珠洞</i>), 내수동(<i>內需洞</i>), 신문로1.2가(<i>新門路1.2街</i>)</td>\n",
       "</tr>\n",
       "<tr>\n",
       "<td>삼청동(<i>三淸洞</i>)</td>\n",
       "<td>삼청동(<i>三淸洞</i>), 팔판동(<i>八判洞</i>), 안국동(<i>安國洞</i>), 소격동(<i>昭格洞</i>), 화동(<i>花洞</i>), 사간동(<i>司諫洞</i>), 송현동(<i>松峴洞</i>)</td>\n",
       "</tr>\n",
       "<tr>\n",
       "<td>부암동(<i>付岩洞</i>)</td>\n",
       "<td>부암동(<i>付岩洞</i>), 홍지동(<i>弘智洞</i>), 신영동(<i>新營洞</i>)</td>\n",
       "</tr>\n",
       "<tr>\n",
       "<td>평창동(<i>平倉洞</i>)</td>\n",
       "<td>평창동(<i>平倉洞</i>), 구기동(<i>舊基洞</i>)</td>\n",
       "</tr>\n",
       "<tr>\n",
       "<td>무악동(<i>毋岳洞</i>)</td>\n",
       "<td>무악동(<i>毋岳洞</i>)</td>\n",
       "</tr>\n",
       "<tr>\n",
       "<td>교남동(<i>橋南洞</i>)</td>\n",
       "<td>교남동(<i>橋南洞</i>), 평동(<i>平洞</i>), 송월동(<i>松月洞</i>), 홍파동(<i>紅把洞</i>), 교북동(<i>橋北洞</i>), 행촌동(<i>杏村洞</i>)</td>\n",
       "</tr>\n",
       "<tr>\n",
       "<td>가회동(<i>嘉會洞</i>)</td>\n",
       "<td>가회동(<i>嘉會洞</i>), 재동(<i>齋洞</i>), 계동(<i>桂洞</i>), 원서동(<i>苑西洞</i>)</td>\n",
       "</tr>\n",
       "<tr>\n",
       "<td>종로1.2.3.4가동<br/>\n",
       "                                        (<i>鐘路1.2.3.4街洞</i>)</td>\n",
       "<td>종로1가(<i>鐘路1街</i>), 종로2가(<i>鐘路2街</i>), 종로3가(<i>鐘路3街</i>), 종로4가(<i>鐘路4街</i>), 청진동(<i>淸進洞</i>), 서린동(<i>瑞麟洞</i>), 수송동(<i>壽松洞</i>), 중학동(<i>中學洞</i>), 공평동(<i>公平洞</i>), 관훈동(<i>寬勳洞</i>), 견지동(<i>堅志洞</i>), 권농동(<i>勸農洞</i>), 운니동(<i>雲泥洞</i>), 익선동(<i>益善洞</i>), 경운동(<i>慶雲洞</i>), 관철동(<i>貫鐵洞</i>), 인사동(<i>仁寺洞</i>), 낙원동(<i>樂園洞</i>), 와룡동(<i>臥龍洞</i>), 훈정동(<i>薰井洞</i>), 묘동(<i>廟洞</i>), 봉익동(<i>鳳翼洞</i>), 돈의동(<i>敦義洞</i>), 장사동(<i>長沙洞</i>), 관수동(<i>觀水洞</i>), 인의동(<i>仁義洞</i>), 예지동(<i>禮智洞</i>), 원남동(<i>苑南洞</i>)</td>\n",
       "</tr>\n",
       "<tr>\n",
       "<td>종로5.6가동\n",
       "                                        (<i>鐘路5.6街洞</i>)</td>\n",
       "<td>종로5가(<i>鐘路5街</i>), 종로6가(<i>鐘路6街</i>), 효제동(<i>孝悌洞</i>), 연지동(<i>蓮池洞</i>), 충신동(<i>忠信洞</i>)</td>\n",
       "</tr>\n",
       "<tr>\n",
       "<td>이화동(<i>梨花洞</i>)</td>\n",
       "<td>이화동(<i>梨花洞</i>), 연건동(<i>蓮建洞</i>), 동숭동(<i>東崇洞</i>)</td>\n",
       "</tr>\n",
       "<tr>\n",
       "<td>혜화동(<i>惠化洞</i>)</td>\n",
       "<td>혜화동(<i>惠化洞</i>), 명륜1가(<i>明倫1街</i>), 명륜2가(<i>明倫2街</i>), 명륜3가(<i>明倫3街</i>), 명륜4가(<i>明倫4街</i>)</td>\n",
       "</tr>\n",
       "<tr>\n",
       "<td>창신제1동(<i>昌信第1洞</i>)</td>\n",
       "<td>창신동(<i>昌信洞</i>)</td>\n",
       "</tr>\n",
       "<tr>\n",
       "<td>창신제2동(<i>昌信第2洞</i>)</td>\n",
       "<td>창신동(<i>昌信洞</i>)</td>\n",
       "</tr>\n",
       "<tr>\n",
       "<td>창신제3동(<i>昌信第3洞</i>)</td>\n",
       "<td>창신동(<i>昌信洞</i>)</td>\n",
       "</tr>\n",
       "<tr>\n",
       "<td>숭인제1동(<i>崇仁第1洞</i>)</td>\n",
       "<td>숭인동(<i>崇仁洞</i>)</td>\n",
       "</tr>\n",
       "<tr>\n",
       "<td>숭인제2동(<i>崇仁第2洞</i>)</td>\n",
       "<td>숭인동(<i>崇仁洞</i>)</td>\n",
       "</tr>\n",
       "</tbody>\n",
       "</table>"
      ]
     },
     "execution_count": 45,
     "metadata": {},
     "output_type": "execute_result"
    }
   ],
   "source": [
    "table_ls[0]"
   ]
  },
  {
   "cell_type": "code",
   "execution_count": null,
   "metadata": {},
   "outputs": [],
   "source": []
  },
  {
   "cell_type": "code",
   "execution_count": 49,
   "metadata": {
    "ExecuteTime": {
     "end_time": "2020-09-06T08:51:28.413471Z",
     "start_time": "2020-09-06T08:51:28.410787Z"
    }
   },
   "outputs": [],
   "source": [
    "gu = re.sub('[^가-힣]','',table_ls[0].find('caption').text)"
   ]
  },
  {
   "cell_type": "code",
   "execution_count": 55,
   "metadata": {
    "ExecuteTime": {
     "end_time": "2020-09-06T08:58:57.019539Z",
     "start_time": "2020-09-06T08:58:57.016586Z"
    },
    "scrolled": true
   },
   "outputs": [],
   "source": [
    "tr_ls = table_ls[0].find('tbody').find_all('tr')"
   ]
  },
  {
   "cell_type": "code",
   "execution_count": 72,
   "metadata": {
    "ExecuteTime": {
     "end_time": "2020-09-06T09:02:45.650736Z",
     "start_time": "2020-09-06T09:02:45.645146Z"
    },
    "scrolled": true
   },
   "outputs": [
    {
     "data": {
      "text/plain": [
       "[<tr>\n",
       " <td>청운효자동\n",
       "                                         (<i>淸雲孝子洞</i>)</td>\n",
       " <td>청운동(<i>淸雲洞</i>), 신교동(<i>新橋洞</i>), 궁정동(<i>宮井洞</i>), 세종로(<i>世宗路</i>), 효자동(<i>孝子洞</i>), 창성동(<i>昌成洞</i>), 통인동(<i>通仁洞</i>), 누상동(<i>樓上洞</i>), 누하동(<i>樓下洞</i>), 옥인동(<i>玉仁洞</i>)</td>\n",
       " </tr>,\n",
       " <tr>\n",
       " <td>사직동(<i>社稷洞</i>)</td>\n",
       " <td>사직동(<i>社稷洞</i>), 체부동(<i>體府洞</i>), 필운동(<i>弼雲洞</i>), 내자동(<i>內資洞</i>), 통의동(<i>通義洞</i>), 적선동(<i>積善洞</i>), 세종로(<i>世宗路</i>), 도렴동(<i>都染洞</i>), 당주동(<i>唐珠洞</i>), 내수동(<i>內需洞</i>), 신문로1.2가(<i>新門路1.2街</i>)</td>\n",
       " </tr>,\n",
       " <tr>\n",
       " <td>삼청동(<i>三淸洞</i>)</td>\n",
       " <td>삼청동(<i>三淸洞</i>), 팔판동(<i>八判洞</i>), 안국동(<i>安國洞</i>), 소격동(<i>昭格洞</i>), 화동(<i>花洞</i>), 사간동(<i>司諫洞</i>), 송현동(<i>松峴洞</i>)</td>\n",
       " </tr>,\n",
       " <tr>\n",
       " <td>부암동(<i>付岩洞</i>)</td>\n",
       " <td>부암동(<i>付岩洞</i>), 홍지동(<i>弘智洞</i>), 신영동(<i>新營洞</i>)</td>\n",
       " </tr>,\n",
       " <tr>\n",
       " <td>평창동(<i>平倉洞</i>)</td>\n",
       " <td>평창동(<i>平倉洞</i>), 구기동(<i>舊基洞</i>)</td>\n",
       " </tr>,\n",
       " <tr>\n",
       " <td>무악동(<i>毋岳洞</i>)</td>\n",
       " <td>무악동(<i>毋岳洞</i>)</td>\n",
       " </tr>,\n",
       " <tr>\n",
       " <td>교남동(<i>橋南洞</i>)</td>\n",
       " <td>교남동(<i>橋南洞</i>), 평동(<i>平洞</i>), 송월동(<i>松月洞</i>), 홍파동(<i>紅把洞</i>), 교북동(<i>橋北洞</i>), 행촌동(<i>杏村洞</i>)</td>\n",
       " </tr>,\n",
       " <tr>\n",
       " <td>가회동(<i>嘉會洞</i>)</td>\n",
       " <td>가회동(<i>嘉會洞</i>), 재동(<i>齋洞</i>), 계동(<i>桂洞</i>), 원서동(<i>苑西洞</i>)</td>\n",
       " </tr>,\n",
       " <tr>\n",
       " <td>종로1.2.3.4가동<br/>\n",
       "                                         (<i>鐘路1.2.3.4街洞</i>)</td>\n",
       " <td>종로1가(<i>鐘路1街</i>), 종로2가(<i>鐘路2街</i>), 종로3가(<i>鐘路3街</i>), 종로4가(<i>鐘路4街</i>), 청진동(<i>淸進洞</i>), 서린동(<i>瑞麟洞</i>), 수송동(<i>壽松洞</i>), 중학동(<i>中學洞</i>), 공평동(<i>公平洞</i>), 관훈동(<i>寬勳洞</i>), 견지동(<i>堅志洞</i>), 권농동(<i>勸農洞</i>), 운니동(<i>雲泥洞</i>), 익선동(<i>益善洞</i>), 경운동(<i>慶雲洞</i>), 관철동(<i>貫鐵洞</i>), 인사동(<i>仁寺洞</i>), 낙원동(<i>樂園洞</i>), 와룡동(<i>臥龍洞</i>), 훈정동(<i>薰井洞</i>), 묘동(<i>廟洞</i>), 봉익동(<i>鳳翼洞</i>), 돈의동(<i>敦義洞</i>), 장사동(<i>長沙洞</i>), 관수동(<i>觀水洞</i>), 인의동(<i>仁義洞</i>), 예지동(<i>禮智洞</i>), 원남동(<i>苑南洞</i>)</td>\n",
       " </tr>,\n",
       " <tr>\n",
       " <td>종로5.6가동\n",
       "                                         (<i>鐘路5.6街洞</i>)</td>\n",
       " <td>종로5가(<i>鐘路5街</i>), 종로6가(<i>鐘路6街</i>), 효제동(<i>孝悌洞</i>), 연지동(<i>蓮池洞</i>), 충신동(<i>忠信洞</i>)</td>\n",
       " </tr>,\n",
       " <tr>\n",
       " <td>이화동(<i>梨花洞</i>)</td>\n",
       " <td>이화동(<i>梨花洞</i>), 연건동(<i>蓮建洞</i>), 동숭동(<i>東崇洞</i>)</td>\n",
       " </tr>,\n",
       " <tr>\n",
       " <td>혜화동(<i>惠化洞</i>)</td>\n",
       " <td>혜화동(<i>惠化洞</i>), 명륜1가(<i>明倫1街</i>), 명륜2가(<i>明倫2街</i>), 명륜3가(<i>明倫3街</i>), 명륜4가(<i>明倫4街</i>)</td>\n",
       " </tr>,\n",
       " <tr>\n",
       " <td>창신제1동(<i>昌信第1洞</i>)</td>\n",
       " <td>창신동(<i>昌信洞</i>)</td>\n",
       " </tr>,\n",
       " <tr>\n",
       " <td>창신제2동(<i>昌信第2洞</i>)</td>\n",
       " <td>창신동(<i>昌信洞</i>)</td>\n",
       " </tr>,\n",
       " <tr>\n",
       " <td>창신제3동(<i>昌信第3洞</i>)</td>\n",
       " <td>창신동(<i>昌信洞</i>)</td>\n",
       " </tr>,\n",
       " <tr>\n",
       " <td>숭인제1동(<i>崇仁第1洞</i>)</td>\n",
       " <td>숭인동(<i>崇仁洞</i>)</td>\n",
       " </tr>,\n",
       " <tr>\n",
       " <td>숭인제2동(<i>崇仁第2洞</i>)</td>\n",
       " <td>숭인동(<i>崇仁洞</i>)</td>\n",
       " </tr>]"
      ]
     },
     "execution_count": 72,
     "metadata": {},
     "output_type": "execute_result"
    }
   ],
   "source": [
    "tr_ls"
   ]
  },
  {
   "cell_type": "code",
   "execution_count": 64,
   "metadata": {
    "ExecuteTime": {
     "end_time": "2020-09-06T09:00:11.061388Z",
     "start_time": "2020-09-06T09:00:11.058535Z"
    }
   },
   "outputs": [],
   "source": [
    "hang_nm = re.sub('[^가-힣]','',tr_ls[0].find_all('td')[0].text)"
   ]
  },
  {
   "cell_type": "code",
   "execution_count": 67,
   "metadata": {
    "ExecuteTime": {
     "end_time": "2020-09-06T09:00:50.711056Z",
     "start_time": "2020-09-06T09:00:50.708402Z"
    }
   },
   "outputs": [],
   "source": [
    "td_ls = tr_ls[0].find_all('td')[1].text.split(',')"
   ]
  },
  {
   "cell_type": "code",
   "execution_count": 94,
   "metadata": {
    "ExecuteTime": {
     "end_time": "2020-09-06T09:12:52.633264Z",
     "start_time": "2020-09-06T09:12:52.011326Z"
    },
    "scrolled": true
   },
   "outputs": [],
   "source": [
    "temp = pd.DataFrame()\n",
    "for k in table_ls:\n",
    "    gu = re.sub('[^가-힣]','', k.find('caption').text.split('(')[0])\n",
    "    \n",
    "    \n",
    "    tr_ls = k.find('tbody').find_all('tr')\n",
    "    for j in tr_ls:\n",
    "        hang_nm = re.sub('[^0-9가-힣]','', j.find_all('td')[0].text.split('(')[0])\n",
    "\n",
    "        td_ls = j.find_all('td')[1].text.split(',')\n",
    "        for i in td_ls:\n",
    "            bub = re.sub('[^0-9가-힣]','',i.split('(')[0])\n",
    "\n",
    "            temp0 = pd.DataFrame({'gu' : [gu]\n",
    "                         ,'hang' : [hang_nm]\n",
    "                         ,'bub' : [bub]})\n",
    "\n",
    "            temp = temp.append(temp0)"
   ]
  },
  {
   "cell_type": "code",
   "execution_count": 95,
   "metadata": {
    "ExecuteTime": {
     "end_time": "2020-09-06T09:12:54.831129Z",
     "start_time": "2020-09-06T09:12:54.821112Z"
    }
   },
   "outputs": [
    {
     "data": {
      "text/html": [
       "<div>\n",
       "<style scoped>\n",
       "    .dataframe tbody tr th:only-of-type {\n",
       "        vertical-align: middle;\n",
       "    }\n",
       "\n",
       "    .dataframe tbody tr th {\n",
       "        vertical-align: top;\n",
       "    }\n",
       "\n",
       "    .dataframe thead th {\n",
       "        text-align: right;\n",
       "    }\n",
       "</style>\n",
       "<table border=\"1\" class=\"dataframe\">\n",
       "  <thead>\n",
       "    <tr style=\"text-align: right;\">\n",
       "      <th></th>\n",
       "      <th>gu</th>\n",
       "      <th>hang</th>\n",
       "      <th>bub</th>\n",
       "    </tr>\n",
       "  </thead>\n",
       "  <tbody>\n",
       "    <tr>\n",
       "      <th>0</th>\n",
       "      <td>종로구</td>\n",
       "      <td>청운효자동</td>\n",
       "      <td>청운동</td>\n",
       "    </tr>\n",
       "    <tr>\n",
       "      <th>0</th>\n",
       "      <td>종로구</td>\n",
       "      <td>청운효자동</td>\n",
       "      <td>신교동</td>\n",
       "    </tr>\n",
       "    <tr>\n",
       "      <th>0</th>\n",
       "      <td>종로구</td>\n",
       "      <td>청운효자동</td>\n",
       "      <td>궁정동</td>\n",
       "    </tr>\n",
       "    <tr>\n",
       "      <th>0</th>\n",
       "      <td>종로구</td>\n",
       "      <td>청운효자동</td>\n",
       "      <td>세종로</td>\n",
       "    </tr>\n",
       "    <tr>\n",
       "      <th>0</th>\n",
       "      <td>종로구</td>\n",
       "      <td>청운효자동</td>\n",
       "      <td>효자동</td>\n",
       "    </tr>\n",
       "    <tr>\n",
       "      <th>...</th>\n",
       "      <td>...</td>\n",
       "      <td>...</td>\n",
       "      <td>...</td>\n",
       "    </tr>\n",
       "    <tr>\n",
       "      <th>0</th>\n",
       "      <td>강동구</td>\n",
       "      <td>성내제2동</td>\n",
       "      <td>성내동</td>\n",
       "    </tr>\n",
       "    <tr>\n",
       "      <th>0</th>\n",
       "      <td>강동구</td>\n",
       "      <td>성내제3동</td>\n",
       "      <td>성내동</td>\n",
       "    </tr>\n",
       "    <tr>\n",
       "      <th>0</th>\n",
       "      <td>강동구</td>\n",
       "      <td>길동</td>\n",
       "      <td>길동</td>\n",
       "    </tr>\n",
       "    <tr>\n",
       "      <th>0</th>\n",
       "      <td>강동구</td>\n",
       "      <td>둔촌제1동</td>\n",
       "      <td>둔촌동</td>\n",
       "    </tr>\n",
       "    <tr>\n",
       "      <th>0</th>\n",
       "      <td>강동구</td>\n",
       "      <td>둔촌제2동</td>\n",
       "      <td>둔촌동</td>\n",
       "    </tr>\n",
       "  </tbody>\n",
       "</table>\n",
       "<p>730 rows × 3 columns</p>\n",
       "</div>"
      ],
      "text/plain": [
       "     gu   hang  bub\n",
       "0   종로구  청운효자동  청운동\n",
       "0   종로구  청운효자동  신교동\n",
       "0   종로구  청운효자동  궁정동\n",
       "0   종로구  청운효자동  세종로\n",
       "0   종로구  청운효자동  효자동\n",
       "..  ...    ...  ...\n",
       "0   강동구  성내제2동  성내동\n",
       "0   강동구  성내제3동  성내동\n",
       "0   강동구     길동   길동\n",
       "0   강동구  둔촌제1동  둔촌동\n",
       "0   강동구  둔촌제2동  둔촌동\n",
       "\n",
       "[730 rows x 3 columns]"
      ]
     },
     "execution_count": 95,
     "metadata": {},
     "output_type": "execute_result"
    }
   ],
   "source": [
    "temp"
   ]
  },
  {
   "cell_type": "code",
   "execution_count": 92,
   "metadata": {
    "ExecuteTime": {
     "end_time": "2020-09-06T09:12:32.979192Z",
     "start_time": "2020-09-06T09:12:32.968425Z"
    },
    "scrolled": true
   },
   "outputs": [
    {
     "data": {
      "text/html": [
       "<div>\n",
       "<style scoped>\n",
       "    .dataframe tbody tr th:only-of-type {\n",
       "        vertical-align: middle;\n",
       "    }\n",
       "\n",
       "    .dataframe tbody tr th {\n",
       "        vertical-align: top;\n",
       "    }\n",
       "\n",
       "    .dataframe thead th {\n",
       "        text-align: right;\n",
       "    }\n",
       "</style>\n",
       "<table border=\"1\" class=\"dataframe\">\n",
       "  <thead>\n",
       "    <tr style=\"text-align: right;\">\n",
       "      <th></th>\n",
       "      <th>gu</th>\n",
       "      <th>hang</th>\n",
       "      <th>bub</th>\n",
       "    </tr>\n",
       "  </thead>\n",
       "  <tbody>\n",
       "    <tr>\n",
       "      <th>0</th>\n",
       "      <td>광진구</td>\n",
       "      <td>청운효자동</td>\n",
       "      <td>청운동</td>\n",
       "    </tr>\n",
       "    <tr>\n",
       "      <th>0</th>\n",
       "      <td>광진구</td>\n",
       "      <td>청운효자동</td>\n",
       "      <td>신교동</td>\n",
       "    </tr>\n",
       "    <tr>\n",
       "      <th>0</th>\n",
       "      <td>광진구</td>\n",
       "      <td>청운효자동</td>\n",
       "      <td>궁정동</td>\n",
       "    </tr>\n",
       "    <tr>\n",
       "      <th>0</th>\n",
       "      <td>광진구</td>\n",
       "      <td>청운효자동</td>\n",
       "      <td>세종로</td>\n",
       "    </tr>\n",
       "    <tr>\n",
       "      <th>0</th>\n",
       "      <td>광진구</td>\n",
       "      <td>청운효자동</td>\n",
       "      <td>효자동</td>\n",
       "    </tr>\n",
       "    <tr>\n",
       "      <th>...</th>\n",
       "      <td>...</td>\n",
       "      <td>...</td>\n",
       "      <td>...</td>\n",
       "    </tr>\n",
       "    <tr>\n",
       "      <th>0</th>\n",
       "      <td>광진구</td>\n",
       "      <td>창신제1동</td>\n",
       "      <td>창신동</td>\n",
       "    </tr>\n",
       "    <tr>\n",
       "      <th>0</th>\n",
       "      <td>광진구</td>\n",
       "      <td>창신제2동</td>\n",
       "      <td>창신동</td>\n",
       "    </tr>\n",
       "    <tr>\n",
       "      <th>0</th>\n",
       "      <td>광진구</td>\n",
       "      <td>창신제3동</td>\n",
       "      <td>창신동</td>\n",
       "    </tr>\n",
       "    <tr>\n",
       "      <th>0</th>\n",
       "      <td>광진구</td>\n",
       "      <td>숭인제1동</td>\n",
       "      <td>숭인동</td>\n",
       "    </tr>\n",
       "    <tr>\n",
       "      <th>0</th>\n",
       "      <td>광진구</td>\n",
       "      <td>숭인제2동</td>\n",
       "      <td>숭인동</td>\n",
       "    </tr>\n",
       "  </tbody>\n",
       "</table>\n",
       "<p>90 rows × 3 columns</p>\n",
       "</div>"
      ],
      "text/plain": [
       "     gu   hang  bub\n",
       "0   광진구  청운효자동  청운동\n",
       "0   광진구  청운효자동  신교동\n",
       "0   광진구  청운효자동  궁정동\n",
       "0   광진구  청운효자동  세종로\n",
       "0   광진구  청운효자동  효자동\n",
       "..  ...    ...  ...\n",
       "0   광진구  창신제1동  창신동\n",
       "0   광진구  창신제2동  창신동\n",
       "0   광진구  창신제3동  창신동\n",
       "0   광진구  숭인제1동  숭인동\n",
       "0   광진구  숭인제2동  숭인동\n",
       "\n",
       "[90 rows x 3 columns]"
      ]
     },
     "execution_count": 92,
     "metadata": {},
     "output_type": "execute_result"
    }
   ],
   "source": [
    "temp[temp['gu'] == '광진구']"
   ]
  },
  {
   "cell_type": "code",
   "execution_count": 76,
   "metadata": {
    "ExecuteTime": {
     "end_time": "2020-09-06T09:05:25.416224Z",
     "start_time": "2020-09-06T09:05:25.412822Z"
    }
   },
   "outputs": [
    {
     "data": {
      "text/plain": [
       "['청운동(淸雲洞)',\n",
       " ' 신교동(新橋洞)',\n",
       " ' 궁정동(宮井洞)',\n",
       " ' 세종로(世宗路)',\n",
       " ' 효자동(孝子洞)',\n",
       " ' 창성동(昌成洞)',\n",
       " ' 통인동(通仁洞)',\n",
       " ' 누상동(樓上洞)',\n",
       " ' 누하동(樓下洞)',\n",
       " ' 옥인동(玉仁洞)']"
      ]
     },
     "execution_count": 76,
     "metadata": {},
     "output_type": "execute_result"
    }
   ],
   "source": [
    "td_ls"
   ]
  },
  {
   "cell_type": "code",
   "execution_count": 84,
   "metadata": {
    "ExecuteTime": {
     "end_time": "2020-09-06T09:08:31.748007Z",
     "start_time": "2020-09-06T09:08:31.740460Z"
    }
   },
   "outputs": [
    {
     "data": {
      "text/html": [
       "<div>\n",
       "<style scoped>\n",
       "    .dataframe tbody tr th:only-of-type {\n",
       "        vertical-align: middle;\n",
       "    }\n",
       "\n",
       "    .dataframe tbody tr th {\n",
       "        vertical-align: top;\n",
       "    }\n",
       "\n",
       "    .dataframe thead th {\n",
       "        text-align: right;\n",
       "    }\n",
       "</style>\n",
       "<table border=\"1\" class=\"dataframe\">\n",
       "  <thead>\n",
       "    <tr style=\"text-align: right;\">\n",
       "      <th></th>\n",
       "      <th>gu</th>\n",
       "      <th>hang</th>\n",
       "      <th>bub</th>\n",
       "    </tr>\n",
       "  </thead>\n",
       "  <tbody>\n",
       "    <tr>\n",
       "      <th>0</th>\n",
       "      <td>종로구</td>\n",
       "      <td>이화동</td>\n",
       "      <td>이화동</td>\n",
       "    </tr>\n",
       "    <tr>\n",
       "      <th>0</th>\n",
       "      <td>종로구</td>\n",
       "      <td>이화동</td>\n",
       "      <td>연건동</td>\n",
       "    </tr>\n",
       "    <tr>\n",
       "      <th>0</th>\n",
       "      <td>종로구</td>\n",
       "      <td>이화동</td>\n",
       "      <td>동숭동</td>\n",
       "    </tr>\n",
       "  </tbody>\n",
       "</table>\n",
       "</div>"
      ],
      "text/plain": [
       "    gu hang  bub\n",
       "0  종로구  이화동  이화동\n",
       "0  종로구  이화동  연건동\n",
       "0  종로구  이화동  동숭동"
      ]
     },
     "execution_count": 84,
     "metadata": {},
     "output_type": "execute_result"
    }
   ],
   "source": [
    "temp[temp['hang']=='이화동']"
   ]
  },
  {
   "cell_type": "code",
   "execution_count": 71,
   "metadata": {
    "ExecuteTime": {
     "end_time": "2020-09-06T09:01:32.170733Z",
     "start_time": "2020-09-06T09:01:32.167236Z"
    }
   },
   "outputs": [
    {
     "data": {
      "text/plain": [
       "['청운동', '신교동', '궁정동', '세종로', '효자동', '창성동', '통인동', '누상동', '누하동', '옥인동']"
      ]
     },
     "execution_count": 71,
     "metadata": {},
     "output_type": "execute_result"
    }
   ],
   "source": [
    "bub_ls"
   ]
  },
  {
   "cell_type": "code",
   "execution_count": null,
   "metadata": {},
   "outputs": [],
   "source": []
  }
 ],
 "metadata": {
  "kernelspec": {
   "display_name": "Python 3",
   "language": "python",
   "name": "python3"
  },
  "language_info": {
   "codemirror_mode": {
    "name": "ipython",
    "version": 3
   },
   "file_extension": ".py",
   "mimetype": "text/x-python",
   "name": "python",
   "nbconvert_exporter": "python",
   "pygments_lexer": "ipython3",
   "version": "3.7.7"
  },
  "toc": {
   "base_numbering": 1,
   "nav_menu": {},
   "number_sections": true,
   "sideBar": true,
   "skip_h1_title": false,
   "title_cell": "Table of Contents",
   "title_sidebar": "Contents",
   "toc_cell": false,
   "toc_position": {},
   "toc_section_display": true,
   "toc_window_display": true
  }
 },
 "nbformat": 4,
 "nbformat_minor": 4
}
