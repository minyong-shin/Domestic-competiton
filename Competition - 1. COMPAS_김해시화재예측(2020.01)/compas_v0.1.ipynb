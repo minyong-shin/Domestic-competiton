{
 "cells": [
  {
   "cell_type": "code",
   "execution_count": 1,
   "metadata": {},
   "outputs": [],
   "source": [
    "import os\n",
    "import time\n",
    "import datetime\n",
    "import json\n",
    "import gc\n",
    "from numba import jit\n",
    "\n",
    "import numpy as np\n",
    "import pandas as pd\n",
    "\n",
    "import matplotlib.pyplot as plt\n",
    "%matplotlib inline\n",
    "import seaborn as sns\n",
    "from tqdm import tqdm_notebook\n",
    "\n",
    "# import lightgbm as lgb\n",
    "# import xgboost as xgb\n",
    "#from catboost import CatBoostRegressor, CatBoostClassifier\n",
    "from sklearn import metrics\n",
    "\n",
    "from itertools import product\n",
    "\n",
    "#import altair as alt\n",
    "#from altair.vega import v5\n",
    "from IPython.display import HTML"
   ]
  },
  {
   "cell_type": "code",
   "execution_count": null,
   "metadata": {},
   "outputs": [
    {
     "name": "stdout",
     "output_type": "stream",
     "text": [
      "['absl-py==0.5.0', 'alabaster==0.7.10', 'anaconda-client==1.6.3', 'anaconda-navigator==1.6.2', 'anaconda-project==0.6.0', 'asn1crypto==0.22.0', 'astor==0.7.1', 'astroid==1.4.9', 'astropy==1.3.2', 'babel==2.4.0', 'backports.shutil-get-terminal-size==1.0.0', 'beautifulsoup4==4.6.0', 'bitarray==0.8.1', 'blaze==0.10.1', 'bleach==1.5.0', 'bokeh==0.12.5', 'boto==2.46.1', 'bottleneck==1.2.1', 'bz2file==0.98', 'catplot==1.3.3', 'cffi==1.10.0', 'chardet==3.0.3', 'click==6.7', 'cloudpickle==0.2.2', 'clyent==1.2.2', 'colorama==0.3.9', 'comtypes==1.1.2', 'conda==4.5.11', 'contextlib2==0.5.5', 'cryptography==1.8.1', 'cssselect==1.0.1', 'cycler==0.10.0', 'cython==0.25.2', 'cytoolz==0.8.2', 'dask==0.19.4', 'datashape==0.5.4', 'decorator==4.0.11', 'distributed==1.16.3', 'docutils==0.13.1', 'entrypoints==0.2.2', 'enum34==1.1.6', 'et-xmlfile==1.0.1', 'fastcache==1.0.2', 'flask-cors==3.0.2', 'flask==0.12.2', 'gast==0.2.0', 'gensim==3.5.0', 'gevent==1.2.1', 'greenlet==0.4.12', 'grpcio==1.15.0', 'h5py==2.8.0', 'heapdict==1.0.0', 'html5lib==0.9999999', 'idna==2.5', 'imagesize==0.7.1', 'imbalanced-learn==0.3.3', 'ipykernel==4.6.1', 'ipython-genutils==0.2.0', 'ipython==5.3.0', 'ipywidgets==6.0.0', 'isort==4.2.5', 'itsdangerous==0.24', 'jdcal==1.3', 'jedi==0.10.2', 'jinja2==2.9.6', 'jpype1==0.6.2', 'jsonschema==2.6.0', 'jupyter-client==5.0.1', 'jupyter-console==5.1.0', 'jupyter-contrib-core==0.3.3', 'jupyter-contrib-nbextensions==0.5.0', 'jupyter-core==4.3.0', 'jupyter-highlight-selected-word==0.1.1', 'jupyter-latex-envs==1.4.4', 'jupyter-nbextensions-configurator==0.4.0', 'jupyter==1.0.0', 'keras-applications==1.0.6', 'keras-preprocessing==1.0.5', 'keras==2.1.1', 'kiwisolver==1.0.1', 'konlpy==0.4.4', 'lazy-object-proxy==1.2.2', 'lightgbm==2.1.2', 'llvmlite==0.18.0', 'locket==0.2.0', 'lxml==3.8.0', 'markdown==2.6.9', 'markupsafe==0.23', 'matplotlib==2.2.2', 'menuinst==1.4.7', 'mistune==0.7.4', 'mpmath==0.19', 'msgpack-python==0.4.8', 'multipledispatch==0.4.9', 'navigator-updater==0.1.0', 'nbconvert==5.1.1', 'nbformat==4.3.0', 'networkx==1.11', 'nltk==3.2.3', 'nodejs==0.1.1', 'nose==1.3.7', 'notebook==5.0.0', 'numba==0.33.0', 'numexpr==2.6.2', 'numpy==1.14.2', 'numpydoc==0.6.0', 'odo==0.5.0', 'olefile==0.44', 'openpyxl==2.4.7', 'optional-django==0.1.0', 'packaging==16.8', 'pandas==0.23.4', 'pandocfilters==1.4.1', 'partd==0.3.8', 'path.py==10.3.1', 'pathlib2==2.2.1', 'patsy==0.4.1', 'pep8==1.7.0', 'pickleshare==0.7.4', 'pillow==5.2.0', 'pip==18.1', 'ply==3.10', 'prompt-toolkit==1.0.14', 'protobuf==3.6.1', 'psutil==5.2.2', 'py==1.4.33', 'pyautogui==0.9.38', 'pycosat==0.6.3', 'pycparser==2.17', 'pycrypto==2.6.1', 'pycurl==7.43.0', 'pyflakes==1.5.0', 'pygame==1.9.3', 'pygments==2.2.0', 'pylint==1.6.4', 'pymsgbox==1.0.6', 'pyodbc==4.0.16', 'pyopenssl==17.0.0', 'pyparsing==2.1.4', 'pyreadline==2.1', 'pyscreeze==0.1.18', 'pytagcloud==0.3.5', 'pytest==3.0.7', 'python-dateutil==2.7.2', 'python-docx==0.8.6', 'python-pptx==0.6.6', 'pytweening==1.0.3', 'pytz==2018.4', 'pywavelets==0.5.2', 'pywin32==220', 'pyyaml==3.12', 'pyzmq==16.0.2', 'qtawesome==0.4.4', 'qtconsole==4.3.0', 'qtpy==1.2.1', 'requests==2.14.2', 'rope-py3k==0.9.4.post1', 'scikit-image==0.13.0', 'scikit-learn==0.18.1', 'scipy==0.19.0', 'seaborn==0.7.1', 'selenium==3.11.0', 'setuptools==36.7.2', 'simplegeneric==0.8.1', 'simplejson==3.11.1', 'singledispatch==3.4.0.3', 'six==1.11.0', 'smart-open==1.5.3', 'snowballstemmer==1.2.1', 'sortedcollections==0.5.3', 'sortedcontainers==1.5.7', 'sphinx==1.5.6', 'spyder==3.1.4', 'sqlalchemy==1.1.9', 'statsmodels==0.8.0', 'sympy==1.0', 'tables==3.4.4', 'tblib==1.3.2', 'tensorboard==1.11.0', 'tensorflow-tensorboard==0.4.0rc3', 'tensorflow==1.11.0', 'termcolor==1.1.0', 'testpath==0.3', 'toolz==0.8.2', 'tornado==4.5.1', 'tqdm==4.17.0', 'traitlets==4.3.2', 'unicodecsv==0.14.1', 'wcwidth==0.1.7', 'werkzeug==0.12.2', 'wheel==0.30.0', 'widgetsnbextension==2.0.0', 'win-unicode-console==0.5', 'wordcloud==1.3.2', 'wrapt==1.10.10', 'xgboost==0.81', 'xlrd==1.1.0', 'xlsxwriter==0.9.6', 'xlwings==0.10.4', 'xlwt==1.2.0', 'zict==0.1.2']\n",
      "pip install --upgrade absl-py\n",
      "pip install --upgrade alabaster\n",
      "pip install --upgrade anaconda-client\n",
      "pip install --upgrade anaconda-navigator\n",
      "pip install --upgrade anaconda-project\n",
      "pip install --upgrade asn1crypto\n",
      "pip install --upgrade astor\n",
      "pip install --upgrade astroid\n",
      "pip install --upgrade astropy\n",
      "pip install --upgrade babel\n",
      "pip install --upgrade backports.shutil-get-terminal-size\n",
      "pip install --upgrade beautifulsoup4\n",
      "pip install --upgrade bitarray\n",
      "pip install --upgrade blaze\n",
      "pip install --upgrade bleach\n",
      "pip install --upgrade bokeh\n",
      "pip install --upgrade boto\n"
     ]
    }
   ],
   "source": [
    "# import pkg_resources\n",
    "# installed_packages = pkg_resources.working_set\n",
    "# installed_packages_list = sorted([\"%s==%s\" % (package.key, package.version) for package in installed_packages])\n",
    "# print(installed_packages_list)\n",
    "\n",
    "# import pip\n",
    "# from subprocess import call\n",
    "# for package in installed_packages_list:\n",
    "#     print(\"pip install --upgrade \" + package[:package.find(\"==\")])\n",
    "#     call(\"pip install --upgrade \" + package[:package.find(\"==\")], shell=True)"
   ]
  },
  {
   "cell_type": "code",
   "execution_count": 2,
   "metadata": {},
   "outputs": [],
   "source": [
    "def reduce_mem_usage(df, verbose=True):\n",
    "    numerics = ['int16', 'int32', 'int64', 'float16', 'float32', 'float64']\n",
    "    start_mem = df.memory_usage(deep=True).sum() / 1024**2\n",
    "    for col in df.columns:\n",
    "        col_type = df[col].dtypes\n",
    "        if col_type in numerics:\n",
    "            c_min = df[col].min()\n",
    "            c_max = df[col].max()\n",
    "            if str(col_type)[:3] == 'int':\n",
    "                if c_min > np.iinfo(np.int8).min and c_max < np.iinfo(np.int8).max:\n",
    "                    df[col] = df[col].astype(np.int8)\n",
    "                elif c_min > np.iinfo(np.int16).min and c_max < np.iinfo(np.int16).max:\n",
    "                    df[col] = df[col].astype(np.int16)\n",
    "                elif c_min > np.iinfo(np.int32).min and c_max < np.iinfo(np.int32).max:\n",
    "                    df[col] = df[col].astype(np.int32)\n",
    "                elif c_min > np.iinfo(np.int64).min and c_max < np.iinfo(np.int64).max:\n",
    "                    df[col] = df[col].astype(np.int64)\n",
    "            else:\n",
    "                c_prec = df[col].apply(lambda x: np.finfo(x).precision).max()\n",
    "                if c_min > np.finfo(np.float32).min and c_max < np.finfo(np.float32).max and c_prec == np.finfo(np.float32).precision:\n",
    "                    df[col] = df[col].astype(np.float32)\n",
    "                else:\n",
    "                    df[col] = df[col].astype(np.float64)\n",
    "    end_mem = df.memory_usage(deep=True).sum() / 1024**2\n",
    "    if verbose: print('Mem. usage decreased to {:5.2f} Mb ({:.1f}% reduction)'.format(end_mem, 100 * (start_mem - end_mem) / start_mem))\n",
    "    return df"
   ]
  },
  {
   "cell_type": "code",
   "execution_count": 3,
   "metadata": {},
   "outputs": [
    {
     "name": "stderr",
     "output_type": "stream",
     "text": [
      "C:\\Users\\MJ\\Anaconda3\\lib\\site-packages\\IPython\\core\\interactiveshell.py:3058: DtypeWarning: Columns (8) have mixed types. Specify dtype option on import or set low_memory=False.\n",
      "  interactivity=interactivity, compiler=compiler, result=result)\n"
     ]
    }
   ],
   "source": [
    "train = pd.read_csv('C:/Users/MJ/Desktop/compas/PJT002_train.csv', encoding = 'UTF-8')\n",
    "# test = pd.read_csv('C:/Users/MJ/Desktop/compas/PJT002_test.csv', encoding = 'UTF-8')\n",
    "# validation = pd.read_csv('C:/Users/MJ/Desktop/compas/PJT002_validation.csv', encoding = 'UTF-8')"
   ]
  },
  {
   "cell_type": "code",
   "execution_count": 4,
   "metadata": {},
   "outputs": [
    {
     "name": "stdout",
     "output_type": "stream",
     "text": [
      "Mem. usage decreased to 123.19 Mb (3.0% reduction)\n"
     ]
    }
   ],
   "source": [
    "train_ = reduce_mem_usage(train)\n",
    "# test_ = reduce_mem_usage(test)\n",
    "# validation_ = reduce_mem_usage(validation)"
   ]
  },
  {
   "cell_type": "code",
   "execution_count": 52,
   "metadata": {},
   "outputs": [
    {
     "name": "stdout",
     "output_type": "stream",
     "text": [
      "train.shape :   (59199, 172)\n",
      "test.shape :   (2957, 171)\n",
      "validation.shape :   (6898, 172)\n"
     ]
    }
   ],
   "source": [
    "print(f'train.shape :   {train_.shape}')\n",
    "print(f'test.shape :   {test_.shape}')\n",
    "print(f'validation.shape :   {validation_.shape}')"
   ]
  },
  {
   "cell_type": "code",
   "execution_count": 53,
   "metadata": {
    "scrolled": true
   },
   "outputs": [
    {
     "data": {
      "text/plain": [
       "id                        int32\n",
       "dt_of_fr                 object\n",
       "bldng_us                 object\n",
       "bldng_archtctr           object\n",
       "bldng_cnt                 int16\n",
       "bldng_ar                float64\n",
       "ttl_ar                  float64\n",
       "lnd_ar                  float64\n",
       "dt_of_athrztn            object\n",
       "ttl_grnd_flr            float64\n",
       "ttl_dwn_flr             float64\n",
       "bldng_us_clssfctn        object\n",
       "tmprtr                  float64\n",
       "prcpttn                 float64\n",
       "wnd_spd                 float64\n",
       "wnd_drctn               float64\n",
       "hmdt                    float64\n",
       "gas_engry_us_201401     float64\n",
       "ele_engry_us_201401     float64\n",
       "gas_engry_us_201402     float64\n",
       "ele_engry_us_201402     float64\n",
       "gas_engry_us_201403     float64\n",
       "ele_engry_us_201403     float64\n",
       "gas_engry_us_201404     float64\n",
       "ele_engry_us_201404     float64\n",
       "gas_engry_us_201405     float64\n",
       "ele_engry_us_201405     float64\n",
       "gas_engry_us_201406     float64\n",
       "ele_engry_us_201406     float64\n",
       "gas_engry_us_201407     float64\n",
       "                         ...   \n",
       "lw_13101410             float64\n",
       "lw_13111010             float64\n",
       "lw_13111110             float64\n",
       "lw_13121010             float64\n",
       "lw_13121011             float64\n",
       "lw_13131010             float64\n",
       "lw_13131110             float64\n",
       "lw_13141010             float64\n",
       "lw_13141011             float64\n",
       "jmk                      object\n",
       "rgnl_ar_nm               object\n",
       "rgnl_ar_nm2              object\n",
       "lnd_us_sttn_nm           object\n",
       "rd_sd_nm                 object\n",
       "emd_nm                   object\n",
       "hm_cnt                  float64\n",
       "fr_sttn_dstnc             int32\n",
       "bldng_ar_prc            float64\n",
       "fr_wthr_fclt_dstnc        int16\n",
       "fr_mn_cnt               float64\n",
       "mlt_us_yn                object\n",
       "cctv_dstnc                int16\n",
       "cctv_in_100m               int8\n",
       "fr_wthr_fclt_in_100m       int8\n",
       "tbc_rtl_str_dstnc         int16\n",
       "sft_emrgnc_bll_dstnc      int32\n",
       "ahsm_dstnc                int32\n",
       "no_tbc_zn_dstnc           int16\n",
       "bldng_cnt_in_50m           int8\n",
       "fr_yn                    object\n",
       "Length: 172, dtype: object"
      ]
     },
     "execution_count": 53,
     "metadata": {},
     "output_type": "execute_result"
    }
   ],
   "source": [
    "train_.dtypes"
   ]
  },
  {
   "cell_type": "code",
   "execution_count": 5,
   "metadata": {},
   "outputs": [],
   "source": [
    "## object 컬럼 값 변환.\n",
    "bldng_mapping = {'단독주택' : 'V2'\n",
    "                , '제1종근린생활시설' : 'V3'\n",
    "                , '제2종근린생활시설' : 'V4'\n",
    "                , '창고시설' : 'V5'\n",
    "                , '동.식물 관련시설' : 'V6'\n",
    "                , '공장' : 'V7'\n",
    "                , '공동주택' : 'V8'\n",
    "                , '숙박시설' : 'V9'\n",
    "                , '노유자시설' : 'V10'\n",
    "                , '교육연구시설' : 'V11'\n",
    "                , '종교시설' : 'V12'\n",
    "                , '업무시설' : 'V13'\n",
    "                , '자동차관련시설' : 'V14'\n",
    "                , '위험물저장및처리시설' : 'V15'\n",
    "                , '분뇨.쓰레기처리시설' : 'V16'\n",
    "                , '판매시설' : 'V17'\n",
    "                , '운동시설' : 'V18'\n",
    "                , '문화및집회시설' : 'V19'\n",
    "                , '위락시설' : 'V20'\n",
    "                , '근린생활시설' : 'V21'\n",
    "                , '관광휴게시설' : 'V22'\n",
    "                , '의료시설' : 'V23'\n",
    "                , '교육연구및복지시설' : 'V24'\n",
    "                , '수련시설' : 'V25'\n",
    "                , '운수시설' : 'V26'\n",
    "                , '발전시설' : 'V27'\n",
    "                , '방송통신시설' : 'V28'\n",
    "                , '묘지관련시설' : 'V29'\n",
    "                , '교정및군사시설' : 'V30'\n",
    "                , '장례식장' : 'V31'\n",
    "                , '공공용시설' : 'V32'\n",
    "                , '파출소' : 'V33'\n",
    "                , '판매및영업시설' : 'V34'\n",
    "                , '시장' : 'V35'\n",
    "}\n",
    "train_['bldng_us'] = train_['bldng_us'].map(bldng_mapping)\n",
    "\n",
    "# train_['bldng_us'] = train_['bldng_us'].fillna('V1', inplace=False)\n",
    "# train_['bldng_us'] = train_['bldng_us'].replace(to_replace=['단독주택'], value='V2', inplace=False)\n",
    "# train_['bldng_us'] = train_['bldng_us'].replace(to_replace=['제1종근린생활시설'], value='V3', inplace=False)\n",
    "# train_['bldng_us'] = train_['bldng_us'].replace(to_replace=['제2종근린생활시설'], value='V4', inplace=False)\n",
    "# train_['bldng_us'] = train_['bldng_us'].replace(to_replace=['창고시설'], value='V5', inplace=False)\n",
    "# train_['bldng_us'] = train_['bldng_us'].replace(to_replace=['동.식물 관련시설'], value='V6', inplace=False)\n",
    "# train_['bldng_us'] = train_['bldng_us'].replace(to_replace=['공장'], value='V7', inplace=False)\n",
    "# train_['bldng_us'] = train_['bldng_us'].replace(to_replace=['공동주택'], value='V8', inplace=False)\n",
    "# train_['bldng_us'] = train_['bldng_us'].replace(to_replace=['숙박시설'], value='V9', inplace=False)\n",
    "# train_['bldng_us'] = train_['bldng_us'].replace(to_replace=['노유자시설'], value='V10', inplace=False)\n",
    "# train_['bldng_us'] = train_['bldng_us'].replace(to_replace=['교육연구시설'], value='V11', inplace=False)\n",
    "# train_['bldng_us'] = train_['bldng_us'].replace(to_replace=['종교시설'], value='V12', inplace=False)\n",
    "# train_['bldng_us'] = train_['bldng_us'].replace(to_replace=['업무시설'], value='V13', inplace=False)\n",
    "# train_['bldng_us'] = train_['bldng_us'].replace(to_replace=['자동차관련시설'], value='V14', inplace=False)\n",
    "# train_['bldng_us'] = train_['bldng_us'].replace(to_replace=['위험물저장및처리시설'], value='V15', inplace=False)\n",
    "# train_['bldng_us'] = train_['bldng_us'].replace(to_replace=['분뇨.쓰레기처리시설'], value='V16', inplace=False)\n",
    "# train_['bldng_us'] = train_['bldng_us'].replace(to_replace=['판매시설'], value='V17', inplace=False)\n",
    "# train_['bldng_us'] = train_['bldng_us'].replace(to_replace=['운동시설'], value='V18', inplace=False)\n",
    "# train_['bldng_us'] = train_['bldng_us'].replace(to_replace=['문화및집회시설'], value='V19', inplace=False)\n",
    "# train_['bldng_us'] = train_['bldng_us'].replace(to_replace=['위락시설'], value='V20', inplace=False)\n",
    "# train_['bldng_us'] = train_['bldng_us'].replace(to_replace=['근린생활시설'], value='V21', inplace=False)\n",
    "# train_['bldng_us'] = train_['bldng_us'].replace(to_replace=['관광휴게시설'], value='V22', inplace=False)\n",
    "# train_['bldng_us'] = train_['bldng_us'].replace(to_replace=['의료시설'], value='V23', inplace=False)\n",
    "# train_['bldng_us'] = train_['bldng_us'].replace(to_replace=['교육연구및복지시설'], value='V24', inplace=False)\n",
    "# train_['bldng_us'] = train_['bldng_us'].replace(to_replace=['수련시설'], value='V25', inplace=False)\n",
    "# train_['bldng_us'] = train_['bldng_us'].replace(to_replace=['운수시설'], value='V26', inplace=False)\n",
    "# train_['bldng_us'] = train_['bldng_us'].replace(to_replace=['발전시설'], value='V27', inplace=False)\n",
    "# train_['bldng_us'] = train_['bldng_us'].replace(to_replace=['방송통신시설'], value='V28', inplace=False)\n",
    "# train_['bldng_us'] = train_['bldng_us'].replace(to_replace=['묘지관련시설'], value='V29', inplace=False)\n",
    "# train_['bldng_us'] = train_['bldng_us'].replace(to_replace=['교정및군사시설'], value='V30', inplace=False)\n",
    "# train_['bldng_us'] = train_['bldng_us'].replace(to_replace=['장례식장'], value='V31', inplace=False)\n",
    "# train_['bldng_us'] = train_['bldng_us'].replace(to_replace=['공공용시설'], value='V32', inplace=False)\n",
    "# train_['bldng_us'] = train_['bldng_us'].replace(to_replace=['파출소'], value='V33', inplace=False)\n",
    "# train_['bldng_us'] = train_['bldng_us'].replace(to_replace=['판매및영업시설'], value='V34', inplace=False)\n",
    "# train_['bldng_us'] = train_['bldng_us'].replace(to_replace=['시장'], value='V35', inplace=False)"
   ]
  },
  {
   "cell_type": "code",
   "execution_count": 6,
   "metadata": {},
   "outputs": [],
   "source": [
    "train_['bldng_us'] = train_['bldng_us'].fillna('V1', inplace=False)"
   ]
  },
  {
   "cell_type": "code",
   "execution_count": 7,
   "metadata": {},
   "outputs": [],
   "source": [
    "# bldng_archtctr\n",
    "bldng_archtctr_mapping = {'벽돌구조' : 'V2'\n",
    "    , '일반목구조' : 'V3'\n",
    "    , '철근콘크리트구조' : 'V4'\n",
    "    , '블록구조' : 'V5'\n",
    "    , '경량철골구조' : 'V6'\n",
    "    , '일반철골구조' : 'V7'\n",
    "    , '조적구조' : 'V8'\n",
    "    , '강파이프구조' : 'V9'\n",
    "    , '기타조적구조' : 'V10'\n",
    "    , '석구조' : 'V11'\n",
    "    , '철골철근콘크리트구조' : 'V12'\n",
    "    , '기타강구조' : 'V13'\n",
    "    , '목구조' : 'V14'\n",
    "    , '프리케스트콘크리트구조' : 'V15'\n",
    "    , '통나무구조' : 'V16'\n",
    "    , '기타콘크리트구조' : 'V17'\n",
    "}\n",
    "\n",
    "train_['bldng_archtctr'] = train_['bldng_archtctr'].map(bldng_archtctr_mapping)"
   ]
  },
  {
   "cell_type": "code",
   "execution_count": 8,
   "metadata": {},
   "outputs": [],
   "source": [
    "train_['bldng_archtctr'] = train_['bldng_archtctr'].fillna(value='V1', inplace=False)"
   ]
  },
  {
   "cell_type": "code",
   "execution_count": 9,
   "metadata": {},
   "outputs": [],
   "source": [
    "# bldng_us_clssfctn\n",
    "bldng_us_clssfctn_mapping = {\n",
    "     '주거용' : 'V2'\n",
    "    , '상업용' : 'V3'\n",
    "    , '기타' : 'V4'\n",
    "    , '농수산용' : 'V5'\n",
    "    , '공업용' : 'V6'\n",
    "    , '문교사회용' : 'V7'\n",
    "    , '공공용' : 'V8'\n",
    "}\n",
    "train_['bldng_us_clssfctn'] = train_['bldng_us_clssfctn'].map(bldng_us_clssfctn_mapping)"
   ]
  },
  {
   "cell_type": "code",
   "execution_count": 10,
   "metadata": {},
   "outputs": [],
   "source": [
    "train_['bldng_us_clssfctn'] = train_['bldng_us_clssfctn'].fillna(value='V1', inplace=False)"
   ]
  },
  {
   "cell_type": "code",
   "execution_count": 11,
   "metadata": {},
   "outputs": [],
   "source": [
    "# jmk\n",
    "jmk_mapping = {\n",
    "    '대' : 'V1',\n",
    " '주' : 'V2',\n",
    " '잡' : 'V3',\n",
    " '종' : 'V4',\n",
    " '차' : 'V5',\n",
    " '답' : 'V6',\n",
    " '장' : 'V7',\n",
    " '양' : 'V8',\n",
    " '전' : 'V9',\n",
    " '창' : 'V10',\n",
    " '학' : 'V11',\n",
    " '목' : 'V12',\n",
    " '도' : 'V13',\n",
    " '임' : 'V14',\n",
    " '철' : 'V15',\n",
    " '유' : 'V16',\n",
    " '천' : 'V17',\n",
    " '구' : 'V18',\n",
    " '체' : 'V19',\n",
    " '과' : 'V20',\n",
    " '묘' : 'V21',\n",
    " '공' : 'V22',\n",
    " '원' : 'V23',\n",
    " '사' : 'V24',\n",
    " '제' : 'V25',\n",
    " '수' : 'V26'\n",
    "}"
   ]
  },
  {
   "cell_type": "code",
   "execution_count": 12,
   "metadata": {},
   "outputs": [],
   "source": [
    "train_['jmk'] = train_['jmk'].map(jmk_mapping)"
   ]
  },
  {
   "cell_type": "code",
   "execution_count": 13,
   "metadata": {},
   "outputs": [],
   "source": [
    "# rgnl_ar_nm\n",
    "rgnl_ar_nm_mapping = {\n",
    " '자연녹지지역' : 'V1',\n",
    " '제2종일반주거지역' : 'V2',\n",
    " '생산녹지지역' : 'V3',\n",
    " '계획관리지역' : 'V4',\n",
    " '제1종일반주거지역' : 'V5',\n",
    " '보전녹지지역' : 'V6',\n",
    " '자연환경보전지역' : 'V7',\n",
    " '생산관리지역' : 'V8',\n",
    " '농림지역' : 'V9',\n",
    " '보전관리지역' : 'V10',\n",
    " '준공업지역' : 'V11',\n",
    " '일반공업지역' : 'V12',\n",
    " '일반상업지역' : 'V13',\n",
    "#  nan : V14,\n",
    " '중심상업지역' : 'V15',\n",
    " '제3종일반주거지역' : 'V16',\n",
    " '준주거지역' : 'V17',\n",
    " '개발제한구역' : 'V18',\n",
    " '제1종전용주거지역' : 'V19',\n",
    " '관리지역' : 'V20',\n",
    " '근린상업지역' : 'V21',\n",
    " '제2종전용주거지역' : 'V22',\n",
    " '용도미지정': 'V23',\n",
    " '유통상업지역' : 'V24'\n",
    "}"
   ]
  },
  {
   "cell_type": "code",
   "execution_count": 14,
   "metadata": {},
   "outputs": [],
   "source": [
    "train_['rgnl_ar_nm'] = train_['rgnl_ar_nm'].map(rgnl_ar_nm_mapping)"
   ]
  },
  {
   "cell_type": "code",
   "execution_count": 15,
   "metadata": {},
   "outputs": [],
   "source": [
    "train_['rgnl_ar_nm'] = train['rgnl_ar_nm'].fillna(value='V14')"
   ]
  },
  {
   "cell_type": "code",
   "execution_count": 16,
   "metadata": {},
   "outputs": [],
   "source": [
    "# rgnl_ar_nm2\n",
    "rgnl_ar_nm2_mapping = {\n",
    " '지정되지않음' : 'V1',\n",
    " '생산녹지지역' : 'V2',\n",
    " '자연녹지지역' : 'V3',\n",
    " '제2종일반주거지역' : 'V4',\n",
    " '보전녹지지역' : 'V5',\n",
    " '계획관리지역' : 'V6',\n",
    " '자연환경보전지역' : 'V7',\n",
    "#  nan, 'V8'\n",
    " '준주거지역' : 'V9',\n",
    " '일반상업지역' : 'V10',\n",
    " '생산관리지역' : 'V11',\n",
    " '보전관리지역' : 'V12',\n",
    " '제1종일반주거지역': 'V13',\n",
    " '농림지역' : 'V14',\n",
    " '제3종일반주거지역' : 'V15',\n",
    " '일반공업지역' : 'V16',\n",
    " '관리지역' : 'V17',\n",
    " '준공업지역' : 'V18',\n",
    " '근린상업지역' : 'V19',\n",
    " '개발제한구역' : 'V20'\n",
    "}"
   ]
  },
  {
   "cell_type": "code",
   "execution_count": 17,
   "metadata": {},
   "outputs": [],
   "source": [
    "train_['rgnl_ar_nm2'] = train_['rgnl_ar_nm2'].map(rgnl_ar_nm2_mapping)"
   ]
  },
  {
   "cell_type": "code",
   "execution_count": 18,
   "metadata": {},
   "outputs": [],
   "source": [
    "train_['rgnl_ar_nm2'] = train_['rgnl_ar_nm2'].fillna(value='V8')"
   ]
  },
  {
   "cell_type": "code",
   "execution_count": 19,
   "metadata": {},
   "outputs": [],
   "source": [
    "# lnd_us_sttn_nm\n",
    "lnd_us_sttn_nm_mapping = {\n",
    " '단독' : 'V1',\n",
    " '업무용' : 'V2',\n",
    " '상업용' : 'V3',\n",
    " '아파트' : 'V4',\n",
    " '주상용' : 'V5',\n",
    " '주거기타' : 'V6',\n",
    " '주거나지' : 'V7',\n",
    " '주상기타' : 'V8',\n",
    " '운동장등' : 'V9',\n",
    " '도로등' : 'V10',\n",
    " '전기타' : 'V11',\n",
    " '다세대' : 'V12',\n",
    " '공업용' : 'V13',\n",
    " '연립' : 'V14',\n",
    " '상업기타' : 'V15',\n",
    " '답' : 'V16',\n",
    " '과수원' : 'V17',\n",
    " '전' : 'V18',\n",
    "#  nan, 'V19'\n",
    " '답기타' : 'V20',\n",
    " '공업기타' : 'V21',\n",
    " '자연림' : 'V22',\n",
    " '상업나지' : 'V23',\n",
    " '하천등' :'V24',\n",
    " '공업나지' : 'V25',\n",
    " '토지임야' : 'V26',\n",
    " '주차장등' : 'V27',\n",
    " '임야기타' : 'V28',\n",
    " '공원등' : 'V29',\n",
    " '주상나지' : 'V30',\n",
    " '조림' : 'V31',\n",
    " '여객자동차터미널' : 'V32',\n",
    " '유해.혐오시설' : 'V33',\n",
    " '골프장 대중제' : 'V34',\n",
    " '기타' : 'V35',\n",
    " '골프장 회원제' : 'V36',\n",
    " '목장용지' : 'V37',\n",
    " '스키장' : 'V38',\n",
    " '공원묘지' : 'V39',\n",
    " '유원지' : 'V40',\n",
    " '고속도로휴게소' : 'V41',\n",
    " '위험시설' : 'V42',\n",
    " '특수기타' :'V43',\n",
    " '발전소' : 'V44',\n",
    " '콘도미니엄' : 'V45'\n",
    "}"
   ]
  },
  {
   "cell_type": "code",
   "execution_count": 20,
   "metadata": {},
   "outputs": [],
   "source": [
    "train_['lnd_us_sttn_nm'] = train_['lnd_us_sttn_nm'].map(lnd_us_sttn_nm_mapping)"
   ]
  },
  {
   "cell_type": "code",
   "execution_count": 21,
   "metadata": {},
   "outputs": [],
   "source": [
    "train_['lnd_us_sttn_nm'] = train_['lnd_us_sttn_nm'].fillna(value = 'V19')"
   ]
  },
  {
   "cell_type": "code",
   "execution_count": 22,
   "metadata": {},
   "outputs": [],
   "source": [
    "# rd_sd_nm\n",
    "rd_sd_nm_mapping = {\n",
    " '세로한면(불)' : 'V1',\n",
    " '중로한면' : 'V2',\n",
    " '소로한면' : 'V3',\n",
    " '세로한면(가)' :'V4',\n",
    " '소로각지' : 'V5',\n",
    " '맹지' : 'V6',\n",
    " '세로각지(가)' : 'V7',\n",
    " '세로각지(불)' : 'V8',\n",
    " '중로각지' : 'V9',\n",
    "#  nan, 'V10'\n",
    " '광대로한면' : 'V11',\n",
    " '광대소각' :'V12',\n",
    " '지정되지않음' :'V13',\n",
    " '광대세각':'V14'\n",
    "}"
   ]
  },
  {
   "cell_type": "code",
   "execution_count": 23,
   "metadata": {},
   "outputs": [],
   "source": [
    "train_['rd_sd_nm'] = train_['rd_sd_nm'].map(rd_sd_nm_mapping)"
   ]
  },
  {
   "cell_type": "code",
   "execution_count": 24,
   "metadata": {},
   "outputs": [],
   "source": [
    "train_['rd_sd_nm'] = train_['rd_sd_nm'].fillna(value = 'V10')"
   ]
  },
  {
   "cell_type": "code",
   "execution_count": 43,
   "metadata": {},
   "outputs": [
    {
     "data": {
      "text/plain": [
       "0        경상남도 통영시 용남면\n",
       "1        경상남도 통영시 용남면\n",
       "2        경상남도 통영시 용남면\n",
       "3        경상남도 통영시 용남면\n",
       "4        경상남도 거창군 북상면\n",
       "             ...     \n",
       "59194    경상남도 통영시 용남면\n",
       "59195    경상남도 통영시 용남면\n",
       "59196    경상남도 통영시 용남면\n",
       "59197    경상남도 통영시 용남면\n",
       "59198    경상남도 통영시 용남면\n",
       "Name: emd_nm, Length: 59199, dtype: object"
      ]
     },
     "execution_count": 43,
     "metadata": {},
     "output_type": "execute_result"
    }
   ],
   "source": [
    "train_['emd_nm']"
   ]
  },
  {
   "cell_type": "code",
   "execution_count": 12,
   "metadata": {},
   "outputs": [
    {
     "name": "stdout",
     "output_type": "stream",
     "text": [
      "There are 153 columns in train dataset with missing values.\n",
      "There are 150 columns in train dataset with missing values.\n",
      "There are 152 columns in train dataset with missing values.\n"
     ]
    }
   ],
   "source": [
    "print(f'There are {train_.isnull().any().sum()} columns in train dataset with missing values.')\n",
    "print(f'There are {test_.isnull().any().sum()} columns in train dataset with missing values.')\n",
    "print(f'There are {validation_.isnull().any().sum()} columns in train dataset with missing values.')\n",
    "# 172개 컬럼 중에 153개거 null 값 가지고 있음\n",
    "## 전처리 필요!"
   ]
  },
  {
   "cell_type": "code",
   "execution_count": 22,
   "metadata": {},
   "outputs": [
    {
     "data": {
      "text/plain": [
       "Index(['dt_of_fr', 'bldng_us', 'bldng_archtctr', 'dt_of_athrztn',\n",
       "       'bldng_us_clssfctn', 'jmk', 'rgnl_ar_nm', 'rgnl_ar_nm2',\n",
       "       'lnd_us_sttn_nm', 'rd_sd_nm', 'emd_nm', 'mlt_us_yn', 'fr_yn'],\n",
       "      dtype='object')"
      ]
     },
     "execution_count": 22,
     "metadata": {},
     "output_type": "execute_result"
    }
   ],
   "source": [
    "factor_columns"
   ]
  },
  {
   "cell_type": "code",
   "execution_count": 23,
   "metadata": {
    "collapsed": true
   },
   "outputs": [],
   "source": [
    "numeric_columns = train_.columns.difference(factor_columns)"
   ]
  },
  {
   "cell_type": "code",
   "execution_count": 24,
   "metadata": {},
   "outputs": [
    {
     "data": {
      "text/plain": [
       "Index(['ahsm_dstnc', 'bldng_ar', 'bldng_ar_prc', 'bldng_cnt',\n",
       "       'bldng_cnt_in_50m', 'cctv_dstnc', 'cctv_in_100m', 'ele_engry_us_201401',\n",
       "       'ele_engry_us_201402', 'ele_engry_us_201403',\n",
       "       ...\n",
       "       'no_tbc_zn_dstnc', 'prcpttn', 'sft_emrgnc_bll_dstnc',\n",
       "       'tbc_rtl_str_dstnc', 'tmprtr', 'ttl_ar', 'ttl_dwn_flr', 'ttl_grnd_flr',\n",
       "       'wnd_drctn', 'wnd_spd'],\n",
       "      dtype='object', length=159)"
      ]
     },
     "execution_count": 24,
     "metadata": {},
     "output_type": "execute_result"
    }
   ],
   "source": [
    "numeric_columns"
   ]
  },
  {
   "cell_type": "markdown",
   "metadata": {},
   "source": [
    "# EDA"
   ]
  },
  {
   "cell_type": "code",
   "execution_count": 60,
   "metadata": {
    "collapsed": true
   },
   "outputs": [],
   "source": [
    "drop_col = ['id']\n",
    "train_.drop(drop_col, axis=1, inplace=True)\n",
    "# test_.drop(drop_col, axis=1, inplace=True)\n",
    "# validation_.drop(drop_col, axis=1, inplace=True)"
   ]
  },
  {
   "cell_type": "code",
   "execution_count": 123,
   "metadata": {},
   "outputs": [],
   "source": [
    "train_y = train_.loc[train_.fr_yn=='Y',] #7657 x 172\n",
    "train_n = train_.loc[train_.fr_yn=='N',] #51542 x 172"
   ]
  },
  {
   "cell_type": "code",
   "execution_count": 157,
   "metadata": {},
   "outputs": [
    {
     "data": {
      "text/plain": [
       "<matplotlib.axes._subplots.AxesSubplot at 0x273374ee808>"
      ]
     },
     "execution_count": 157,
     "metadata": {},
     "output_type": "execute_result"
    },
    {
     "data": {
      "image/png": "[encoded data removed]",
      "text/plain": [
       "<Figure size 1440x288 with 1 Axes>"
      ]
     },
     "metadata": {
      "needs_background": "light"
     },
     "output_type": "display_data"
    }
   ],
   "source": [
    "sns.distplot(train_[train.fr_yn=='Y']['fr_sttn_dstnc'], color='red', label='fire_yes')\n",
    "sns.distplot(train_[train.fr_yn=='N']['fr_sttn_dstnc'], color='blue', label='fire_no')\n",
    "## 119 안전센터와의 거리\n",
    "### 거리 대비해서 가까워도 화재가 나긴하니 이부분도 고려를 좀 해봐야할듯?"
   ]
  },
  {
   "cell_type": "code",
   "execution_count": 154,
   "metadata": {},
   "outputs": [
    {
     "data": {
      "text/plain": [
       "<matplotlib.axes._subplots.AxesSubplot at 0x27336f221c8>"
      ]
     },
     "execution_count": 154,
     "metadata": {},
     "output_type": "execute_result"
    },
    {
     "data": {
      "image/png": "[encoded data removed]",
      "text/plain": [
       "<Figure size 1440x288 with 1 Axes>"
      ]
     },
     "metadata": {
      "needs_background": "light"
     },
     "output_type": "display_data"
    }
   ],
   "source": [
    "sns.distplot(train_[train.fr_yn=='Y']['no_tbc_zn_dstnc'], color='red', label='fire_yes')\n",
    "sns.distplot(train_[train.fr_yn=='N']['no_tbc_zn_dstnc'], color='blue', label='fire_no')\n",
    "## 금연구역과의 최소 거리\n",
    "### 거리가 짧을수록 화재 위험도 높아지니 이거는 변수화 가능성 다분"
   ]
  },
  {
   "cell_type": "code",
   "execution_count": 153,
   "metadata": {},
   "outputs": [
    {
     "data": {
      "text/plain": [
       "<matplotlib.axes._subplots.AxesSubplot at 0x27335b0d048>"
      ]
     },
     "execution_count": 153,
     "metadata": {},
     "output_type": "execute_result"
    },
    {
     "data": {
      "image/png": "[encoded data removed]",
      "text/plain": [
       "<Figure size 1440x288 with 1 Axes>"
      ]
     },
     "metadata": {
      "needs_background": "light"
     },
     "output_type": "display_data"
    }
   ],
   "source": [
    "sns.distplot(train_[train.fr_yn=='Y']['cctv_in_100m'], color='red', label='fire_yes')\n",
    "sns.distplot(train_[train.fr_yn=='N']['cctv_in_100m'], color='blue', label='fire_no')\n",
    "## 100m 이내 공공 CCTV\n",
    "### 큰 차이가 없어보이는데 고려해볼 필요는 있을듯"
   ]
  },
  {
   "cell_type": "code",
   "execution_count": 151,
   "metadata": {},
   "outputs": [
    {
     "data": {
      "text/plain": [
       "<matplotlib.axes._subplots.AxesSubplot at 0x273356dad48>"
      ]
     },
     "execution_count": 151,
     "metadata": {},
     "output_type": "execute_result"
    },
    {
     "data": {
      "image/png": "[encoded data removed]",
      "text/plain": [
       "<Figure size 1440x288 with 1 Axes>"
      ]
     },
     "metadata": {
      "needs_background": "light"
     },
     "output_type": "display_data"
    }
   ],
   "source": [
    "sns.distplot(train_[train.fr_yn=='Y']['sft_emrgnc_bll_dstnc'], color='red', label='fire_yes')\n",
    "sns.distplot(train_[train.fr_yn=='N']['sft_emrgnc_bll_dstnc'], color='blue', label='fire_no')\n",
    "## 안전 비상벨과의 최소 거리\n",
    "### 대체적으로 비율 자체는 높게 나타나는데 거리상 의미가 다양해서 이부분은 좀더 고려해야할 듯."
   ]
  },
  {
   "cell_type": "code",
   "execution_count": 150,
   "metadata": {},
   "outputs": [
    {
     "data": {
      "text/plain": [
       "<matplotlib.axes._subplots.AxesSubplot at 0x273354216c8>"
      ]
     },
     "execution_count": 150,
     "metadata": {},
     "output_type": "execute_result"
    },
    {
     "data": {
      "image/png": "[encoded data removed]",
      "text/plain": [
       "<Figure size 1440x288 with 1 Axes>"
      ]
     },
     "metadata": {
      "needs_background": "light"
     },
     "output_type": "display_data"
    }
   ],
   "source": [
    "sns.distplot(train_[train.fr_yn=='Y']['cctv_dstnc'], color='red', label='fire_yes')\n",
    "sns.distplot(train_[train.fr_yn=='N']['cctv_dstnc'], color='blue', label='fire_no')\n",
    "## 공공 CCTV와의 최소 거리\n",
    "### 화재난애들이랑 비율 자체는 비슷(거리가 비슷해서 그런가)\n",
    "### 그래도 화재 난애들이 일단은 더 높으니 변수를 고민해봐야할 듯?"
   ]
  },
  {
   "cell_type": "code",
   "execution_count": 149,
   "metadata": {},
   "outputs": [
    {
     "data": {
      "text/plain": [
       "<matplotlib.axes._subplots.AxesSubplot at 0x27335120e88>"
      ]
     },
     "execution_count": 149,
     "metadata": {},
     "output_type": "execute_result"
    },
    {
     "data": {
      "image/png": "[encoded data removed]",
      "text/plain": [
       "<Figure size 1440x288 with 1 Axes>"
      ]
     },
     "metadata": {
      "needs_background": "light"
     },
     "output_type": "display_data"
    }
   ],
   "source": [
    "sns.distplot(train_[train.fr_yn=='Y']['bldng_cnt_in_50m'], color='red', label='fire_yes')\n",
    "sns.distplot(train_[train.fr_yn=='N']['bldng_cnt_in_50m'], color='blue', label='fire_no')\n",
    "## 반경 50M 이내의 건물 수\n",
    "## 대다수가 반경에 건물이 없긴한대 화재가 높은 경우가 비율 자체는 월등히 높음.\n",
    "### 즉 주위에 건물이 많으면 화재 위험도가 높다고 볼 수 있지않을까? 유의미한 변수 가능할듯"
   ]
  },
  {
   "cell_type": "code",
   "execution_count": 147,
   "metadata": {},
   "outputs": [
    {
     "data": {
      "text/plain": [
       "<matplotlib.axes._subplots.AxesSubplot at 0x27334b81488>"
      ]
     },
     "execution_count": 147,
     "metadata": {},
     "output_type": "execute_result"
    },
    {
     "data": {
      "image/png": "[encoded data removed]",
      "text/plain": [
       "<Figure size 1440x288 with 1 Axes>"
      ]
     },
     "metadata": {
      "needs_background": "light"
     },
     "output_type": "display_data"
    }
   ],
   "source": [
    "sns.distplot(train_[train.fr_yn=='Y']['ahsm_dstnc'], color='red', label='fire_yes')\n",
    "sns.distplot(train_[train.fr_yn=='N']['ahsm_dstnc'], color='blue', label='fire_no')\n",
    "## \t자동 심장 충격기와의 최소 거리\n",
    "### 해당 변수는 불이 덜 나는 경우가 더 많은데 결측값을 확인해봐야될듯?\n",
    "### 생각보다 유의미하지 않을수도??_화재와 직접적 영향 낮을듯"
   ]
  },
  {
   "cell_type": "code",
   "execution_count": 28,
   "metadata": {},
   "outputs": [],
   "source": [
    "col_a = []\n",
    "for i in range(34):\n",
    "    a = str('bldng_us')+str(i)\n",
    "    col_a.append(a)"
   ]
  },
  {
   "cell_type": "code",
   "execution_count": 29,
   "metadata": {},
   "outputs": [
    {
     "data": {
      "text/plain": [
       "['bldng_us0',\n",
       " 'bldng_us1',\n",
       " 'bldng_us2',\n",
       " 'bldng_us3',\n",
       " 'bldng_us4',\n",
       " 'bldng_us5',\n",
       " 'bldng_us6',\n",
       " 'bldng_us7',\n",
       " 'bldng_us8',\n",
       " 'bldng_us9',\n",
       " 'bldng_us10',\n",
       " 'bldng_us11',\n",
       " 'bldng_us12',\n",
       " 'bldng_us13',\n",
       " 'bldng_us14',\n",
       " 'bldng_us15',\n",
       " 'bldng_us16',\n",
       " 'bldng_us17',\n",
       " 'bldng_us18',\n",
       " 'bldng_us19',\n",
       " 'bldng_us20',\n",
       " 'bldng_us21',\n",
       " 'bldng_us22',\n",
       " 'bldng_us23',\n",
       " 'bldng_us24',\n",
       " 'bldng_us25',\n",
       " 'bldng_us26',\n",
       " 'bldng_us27',\n",
       " 'bldng_us28',\n",
       " 'bldng_us29',\n",
       " 'bldng_us30',\n",
       " 'bldng_us31',\n",
       " 'bldng_us32',\n",
       " 'bldng_us33']"
      ]
     },
     "execution_count": 29,
     "metadata": {},
     "output_type": "execute_result"
    }
   ],
   "source": [
    "col_a"
   ]
  },
  {
   "cell_type": "code",
   "execution_count": null,
   "metadata": {},
   "outputs": [],
   "source": []
  }
 ],
 "metadata": {
  "kernelspec": {
   "display_name": "Python 3",
   "language": "python",
   "name": "python3"
  },
  "language_info": {
   "codemirror_mode": {
    "name": "ipython",
    "version": 3
   },
   "file_extension": ".py",
   "mimetype": "text/x-python",
   "name": "python",
   "nbconvert_exporter": "python",
   "pygments_lexer": "ipython3",
   "version": "3.7.4"
  },
  "varInspector": {
   "cols": {
    "lenName": 16,
    "lenType": 16,
    "lenVar": 40
   },
   "kernels_config": {
    "python": {
     "delete_cmd_postfix": "",
     "delete_cmd_prefix": "del ",
     "library": "var_list.py",
     "varRefreshCmd": "print(var_dic_list())"
    },
    "r": {
     "delete_cmd_postfix": ") ",
     "delete_cmd_prefix": "rm(",
     "library": "var_list.r",
     "varRefreshCmd": "cat(var_dic_list()) "
    }
   },
   "position": {
    "height": "321px",
    "left": "1550px",
    "right": "20px",
    "top": "120px",
    "width": "350px"
   },
   "types_to_exclude": [
    "module",
    "function",
    "builtin_function_or_method",
    "instance",
    "_Feature"
   ],
   "window_display": true
  }
 },
 "nbformat": 4,
 "nbformat_minor": 2
}
