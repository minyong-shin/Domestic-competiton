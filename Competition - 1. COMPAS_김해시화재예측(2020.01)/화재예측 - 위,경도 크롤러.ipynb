{
 "cells": [
  {
   "cell_type": "code",
   "execution_count": 2,
   "metadata": {},
   "outputs": [],
   "source": [
    "import requests # 웹 페이지 소스를 얻기 위한 패키지(기본 내장 패키지이다.)\n",
    "from bs4 import BeautifulSoup # 웹 페이지 소스를 얻기 위한 패키지, 더 간단히 얻을 수 있다는 장점이 있다고 한다.\n",
    "from datetime import datetime                                # (!pip install beautifulsoup4 으로 다운받을 수 있다.)\n",
    "import pandas as pd # 데이터를 처리하기 위한 가장 기본적인 패키지\n",
    "import time # 사이트를 불러올 때, 작업 지연시간을 지정해주기 위한 패키지이다. (사이트가 늦게 켜지면 에러가 발생하기 때문)\n",
    "import urllib.request #\n",
    "from selenium.webdriver import Chrome\n",
    "import json\n",
    "import re     \n",
    "from selenium.webdriver.chrome.options import Options\n",
    "from selenium.webdriver.common.keys import Keys\n",
    "import datetime as dt\n",
    "import sys"
   ]
  },
  {
   "cell_type": "code",
   "execution_count": 62,
   "metadata": {},
   "outputs": [],
   "source": [
    "def map_crawler(address):\n",
    "    browser = Chrome()\n",
    "    browser.get('https://www.geoplaner.com/')\n",
    "    \n",
    "    browser.find_elements_by_xpath('//*[@id=\"tleft\"]/div[1]/div[3]/div[2]/input[1]')[0].send_keys(address)\n",
    "    time.sleep(1.5)\n",
    "    browser.find_elements_by_xpath('//*[@id=\"tleft\"]/div[1]/div[3]/div[2]/input[2]')[0].click()\n",
    "    time.sleep(3.5)\n",
    "\n",
    "    html0 = browser.page_source\n",
    "    soup = BeautifulSoup(html0,'html.parser')\n",
    "\n",
    "    '''위경도 데이터 위치 파싱'''\n",
    "    map_ar = soup.find('div',{'id':'tright'}).find('div',{'id':'dt'})\n",
    "\n",
    "    '''위경도 위치 추출'''\n",
    "    aa = str(map_ar).split('<br/>')\n",
    "    for i in range(len(aa)):\n",
    "        if '경상남도 거창군 북상면' in aa[i]:\n",
    "            idx=i\n",
    "    map2 = aa[idx-2]\n",
    "    \n",
    "    return map2"
   ]
  },
  {
   "cell_type": "code",
   "execution_count": null,
   "metadata": {},
   "outputs": [],
   "source": [
    "map_crawler('address')"
   ]
  },
  {
   "cell_type": "markdown",
   "metadata": {},
   "source": [
    "---\n",
    "# 반복문\n",
    "---"
   ]
  },
  {
   "cell_type": "code",
   "execution_count": 3,
   "metadata": {},
   "outputs": [],
   "source": [
    "address_df = pd.read_csv('address.csv',encoding='cp949')"
   ]
  },
  {
   "cell_type": "code",
   "execution_count": 16,
   "metadata": {},
   "outputs": [],
   "source": [
    "browser = Chrome()\n",
    "browser.get('https://www.geoplaner.com/')"
   ]
  },
  {
   "cell_type": "code",
   "execution_count": 17,
   "metadata": {
    "scrolled": true
   },
   "outputs": [],
   "source": [
    "'''내일 아침에 긁힌 것 확인해보고 db만들어서 삽입하면서 하기'''\n",
    "map_ls = [] \n",
    "for i in range(len(address_df)):\n",
    "    try:\n",
    "        address = address_df['address'].iloc[i]\n",
    "        browser.find_elements_by_xpath('//*[@id=\"tleft\"]/div[1]/div[3]/div[2]/input[1]')[0].clear()\n",
    "        time.sleep(0.5)\n",
    "        browser.find_elements_by_xpath('//*[@id=\"tleft\"]/div[1]/div[3]/div[2]/input[1]')[0].send_keys(address)\n",
    "        time.sleep(0.5)\n",
    "        browser.find_elements_by_xpath('//*[@id=\"tleft\"]/div[1]/div[3]/div[2]/input[2]')[0].click()\n",
    "        time.sleep(1.5)\n",
    "\n",
    "        html0 = browser.page_source\n",
    "        soup = BeautifulSoup(html0,'html.parser')\n",
    "\n",
    "        '''위경도 데이터 위치 파싱'''\n",
    "        map_ar = soup.find('div',{'id':'tright'}).find('div',{'id':'dt'})\n",
    "\n",
    "        '''위경도 위치 추출'''\n",
    "        aa = str(map_ar).split('<br/>')\n",
    "        for i in range(len(aa)):\n",
    "            if address in aa[i]:\n",
    "                idx=i\n",
    "        map2 = aa[idx-2]\n",
    "\n",
    "        map_ls0 = [address]+[map2]\n",
    "        map_ls.append(map_ls0)\n",
    "    except:\n",
    "        time.sleep(5)\n",
    "        print('what error : ',sys.exc_info()[0])\n",
    "        pass"
   ]
  },
  {
   "cell_type": "code",
   "execution_count": 26,
   "metadata": {},
   "outputs": [
    {
     "name": "stdout",
     "output_type": "stream",
     "text": [
      "크롤러 :  366\n",
      "데이터 :  366\n"
     ]
    }
   ],
   "source": [
    "print('크롤러 : ',len(map_ls))\n",
    "print('데이터 : ',len(address_df))"
   ]
  },
  {
   "cell_type": "code",
   "execution_count": 21,
   "metadata": {},
   "outputs": [],
   "source": [
    "address_longitude = pd.DataFrame(map_ls,columns=['address','longitude'])"
   ]
  },
  {
   "cell_type": "code",
   "execution_count": 22,
   "metadata": {},
   "outputs": [],
   "source": [
    "address_longitude.to_pickle('주소위경도변환.pkl')"
   ]
  },
  {
   "cell_type": "code",
   "execution_count": 3,
   "metadata": {},
   "outputs": [],
   "source": [
    "ggh = pd.read_pickle('주소위경도변환.pkl')"
   ]
  },
  {
   "cell_type": "code",
   "execution_count": 10,
   "metadata": {},
   "outputs": [
    {
     "name": "stdout",
     "output_type": "stream",
     "text": [
      "정상적으로 수집되지 않은 주소지 개수 :  31\n"
     ]
    }
   ],
   "source": [
    "'''정상적으로 수집되지 않은 주소지'''\n",
    "idx = []\n",
    "for i in range(len(ggh)):\n",
    "    if len(ggh['longitude'].iloc[i]) > 25:\n",
    "        idx.append(i)\n",
    "        \n",
    "print('정상적으로 수집되지 않은 주소지 개수 : ',len(idx))"
   ]
  },
  {
   "cell_type": "code",
   "execution_count": 8,
   "metadata": {
    "scrolled": true
   },
   "outputs": [
    {
     "data": {
      "text/html": [
       "<div>\n",
       "<style scoped>\n",
       "    .dataframe tbody tr th:only-of-type {\n",
       "        vertical-align: middle;\n",
       "    }\n",
       "\n",
       "    .dataframe tbody tr th {\n",
       "        vertical-align: top;\n",
       "    }\n",
       "\n",
       "    .dataframe thead th {\n",
       "        text-align: right;\n",
       "    }\n",
       "</style>\n",
       "<table border=\"1\" class=\"dataframe\">\n",
       "  <thead>\n",
       "    <tr style=\"text-align: right;\">\n",
       "      <th></th>\n",
       "      <th>address</th>\n",
       "      <th>longitude</th>\n",
       "    </tr>\n",
       "  </thead>\n",
       "  <tbody>\n",
       "    <tr>\n",
       "      <th>8</th>\n",
       "      <td>경상남도 진주시 성북동</td>\n",
       "      <td>&lt;div class=\"lnk\" onclick=\"gp.hhfoc(10009)\"&gt;*09...</td>\n",
       "    </tr>\n",
       "    <tr>\n",
       "      <th>45</th>\n",
       "      <td>경상남도 창원시마산합포구 노산동</td>\n",
       "      <td>&lt;div class=\"lnk\" onclick=\"gp.hhfoc(10045)\"&gt;*45...</td>\n",
       "    </tr>\n",
       "    <tr>\n",
       "      <th>66</th>\n",
       "      <td>경상남도 밀양시 내일동</td>\n",
       "      <td>&lt;div class=\"lnk\" onclick=\"gp.hhfoc(10065)\"&gt;*65...</td>\n",
       "    </tr>\n",
       "    <tr>\n",
       "      <th>75</th>\n",
       "      <td>경상남도 창원시의창구 팔룡동</td>\n",
       "      <td>&lt;div class=\"lnk\" onclick=\"gp.hhfoc(10073)\"&gt;*73...</td>\n",
       "    </tr>\n",
       "    <tr>\n",
       "      <th>107</th>\n",
       "      <td>경상남도 양산시 서창동</td>\n",
       "      <td>&lt;div class=\"lnk\" onclick=\"gp.hhfoc(10104)\"&gt;*10...</td>\n",
       "    </tr>\n",
       "    <tr>\n",
       "      <th>122</th>\n",
       "      <td>경상남도 창원시마산회원구 회원2동</td>\n",
       "      <td>&lt;div class=\"lnk\" onclick=\"gp.hhfoc(10118)\"&gt;*11...</td>\n",
       "    </tr>\n",
       "    <tr>\n",
       "      <th>126</th>\n",
       "      <td>경상남도 창원시마산회원구 합성2동</td>\n",
       "      <td>&lt;div class=\"lnk\" onclick=\"gp.hhfoc(10121)\"&gt;*12...</td>\n",
       "    </tr>\n",
       "    <tr>\n",
       "      <th>138</th>\n",
       "      <td>경상남도 진주시 천전동</td>\n",
       "      <td>&lt;div class=\"lnk\" onclick=\"gp.hhfoc(10132)\"&gt;*13...</td>\n",
       "    </tr>\n",
       "    <tr>\n",
       "      <th>143</th>\n",
       "      <td>경상남도 창원시마산회원구 구암2동</td>\n",
       "      <td>&lt;div class=\"lnk\" onclick=\"gp.hhfoc(10136)\"&gt;*13...</td>\n",
       "    </tr>\n",
       "    <tr>\n",
       "      <th>204</th>\n",
       "      <td>경상남도 함안군 칠원읍 장암리</td>\n",
       "      <td>&lt;div class=\"lnk\" onclick=\"gp.hhfoc(10196)\"&gt;*19...</td>\n",
       "    </tr>\n",
       "    <tr>\n",
       "      <th>215</th>\n",
       "      <td>경상남도 진주시 가호동</td>\n",
       "      <td>&lt;div class=\"lnk\" onclick=\"gp.hhfoc(10206)\"&gt;*20...</td>\n",
       "    </tr>\n",
       "    <tr>\n",
       "      <th>219</th>\n",
       "      <td>경상남도 창원시진해구 웅동2동</td>\n",
       "      <td>&lt;div class=\"lnk\" onclick=\"gp.hhfoc(10209)\"&gt;*20...</td>\n",
       "    </tr>\n",
       "    <tr>\n",
       "      <th>223</th>\n",
       "      <td>경상남도 사천시 남양동</td>\n",
       "      <td>&lt;div class=\"lnk\" onclick=\"gp.hhfoc(10212)\"&gt;*21...</td>\n",
       "    </tr>\n",
       "    <tr>\n",
       "      <th>240</th>\n",
       "      <td>경상남도 창원시마산회원구 합성1동</td>\n",
       "      <td>&lt;div class=\"lnk\" onclick=\"gp.hhfoc(10228)\"&gt;*22...</td>\n",
       "    </tr>\n",
       "    <tr>\n",
       "      <th>248</th>\n",
       "      <td>경상남도 사천시 동서금동</td>\n",
       "      <td>&lt;div class=\"lnk\" onclick=\"gp.hhfoc(10235)\"&gt;*23...</td>\n",
       "    </tr>\n",
       "    <tr>\n",
       "      <th>254</th>\n",
       "      <td>경상남도 창원시진해구 웅동1동</td>\n",
       "      <td>&lt;div class=\"lnk\" onclick=\"gp.hhfoc(10240)\"&gt;*24...</td>\n",
       "    </tr>\n",
       "    <tr>\n",
       "      <th>271</th>\n",
       "      <td>경상남도 창원시마산회원구 구암1동</td>\n",
       "      <td>&lt;div class=\"lnk\" onclick=\"gp.hhfoc(10256)\"&gt;*25...</td>\n",
       "    </tr>\n",
       "    <tr>\n",
       "      <th>275</th>\n",
       "      <td>경상남도 창원시마산회원구 양덕2동</td>\n",
       "      <td>&lt;div class=\"lnk\" onclick=\"gp.hhfoc(10259)\"&gt;*25...</td>\n",
       "    </tr>\n",
       "    <tr>\n",
       "      <th>277</th>\n",
       "      <td>경상남도 진주시 초장동</td>\n",
       "      <td>&lt;div class=\"lnk\" onclick=\"gp.hhfoc(10260)\"&gt;*26...</td>\n",
       "    </tr>\n",
       "    <tr>\n",
       "      <th>296</th>\n",
       "      <td>경상남도 창원시진해구 병암동</td>\n",
       "      <td>&lt;div class=\"lnk\" onclick=\"gp.hhfoc(10278)\"&gt;*27...</td>\n",
       "    </tr>\n",
       "    <tr>\n",
       "      <th>310</th>\n",
       "      <td>경상남도 창원시마산합포구 반월중앙동</td>\n",
       "      <td>&lt;div class=\"lnk\" onclick=\"gp.hhfoc(10291)\"&gt;*29...</td>\n",
       "    </tr>\n",
       "    <tr>\n",
       "      <th>322</th>\n",
       "      <td>경상남도 창원시마산합포구 진전면 창포리</td>\n",
       "      <td>&lt;div class=\"lnk\" onclick=\"gp.hhfoc(10302)\"&gt;*30...</td>\n",
       "    </tr>\n",
       "    <tr>\n",
       "      <th>332</th>\n",
       "      <td>경상남도 통영시 욕지면 동항리</td>\n",
       "      <td>&lt;div class=\"lnk\" onclick=\"gp.hhfoc(10311)\"&gt;*31...</td>\n",
       "    </tr>\n",
       "    <tr>\n",
       "      <th>338</th>\n",
       "      <td>경상남도 통영시 산양읍 풍화리</td>\n",
       "      <td>&lt;div class=\"lnk\" onclick=\"gp.hhfoc(10316)\"&gt;*31...</td>\n",
       "    </tr>\n",
       "    <tr>\n",
       "      <th>342</th>\n",
       "      <td>경상남도 통영시 욕지면 두미리</td>\n",
       "      <td>&lt;div class=\"lnk\" onclick=\"gp.hhfoc(10319)\"&gt;*31...</td>\n",
       "    </tr>\n",
       "    <tr>\n",
       "      <th>346</th>\n",
       "      <td>경상남도 김해시 북부동</td>\n",
       "      <td>&lt;div class=\"lnk\" onclick=\"gp.hhfoc(10322)\"&gt;*32...</td>\n",
       "    </tr>\n",
       "    <tr>\n",
       "      <th>351</th>\n",
       "      <td>경상남도 김해시 칠산서부동</td>\n",
       "      <td>&lt;div class=\"lnk\" onclick=\"gp.hhfoc(10326)\"&gt;*32...</td>\n",
       "    </tr>\n",
       "    <tr>\n",
       "      <th>355</th>\n",
       "      <td>경상남도 김해시 회현동</td>\n",
       "      <td>&lt;div class=\"lnk\" onclick=\"gp.hhfoc(10329)\"&gt;*32...</td>\n",
       "    </tr>\n",
       "    <tr>\n",
       "      <th>362</th>\n",
       "      <td>경상남도 김해시 장유2동</td>\n",
       "      <td>&lt;div class=\"lnk\" onclick=\"gp.hhfoc(10335)\"&gt;*33...</td>\n",
       "    </tr>\n",
       "    <tr>\n",
       "      <th>363</th>\n",
       "      <td>경상남도 김해시 활천동</td>\n",
       "      <td>*WARNING: POI/address lookup failed!</td>\n",
       "    </tr>\n",
       "    <tr>\n",
       "      <th>364</th>\n",
       "      <td>경상남도 김해시 장유1동</td>\n",
       "      <td>*WARNING: POI/address lookup failed!</td>\n",
       "    </tr>\n",
       "  </tbody>\n",
       "</table>\n",
       "</div>"
      ],
      "text/plain": [
       "                   address                                          longitude\n",
       "8             경상남도 진주시 성북동  <div class=\"lnk\" onclick=\"gp.hhfoc(10009)\">*09...\n",
       "45       경상남도 창원시마산합포구 노산동  <div class=\"lnk\" onclick=\"gp.hhfoc(10045)\">*45...\n",
       "66            경상남도 밀양시 내일동  <div class=\"lnk\" onclick=\"gp.hhfoc(10065)\">*65...\n",
       "75         경상남도 창원시의창구 팔룡동  <div class=\"lnk\" onclick=\"gp.hhfoc(10073)\">*73...\n",
       "107           경상남도 양산시 서창동  <div class=\"lnk\" onclick=\"gp.hhfoc(10104)\">*10...\n",
       "122     경상남도 창원시마산회원구 회원2동  <div class=\"lnk\" onclick=\"gp.hhfoc(10118)\">*11...\n",
       "126     경상남도 창원시마산회원구 합성2동  <div class=\"lnk\" onclick=\"gp.hhfoc(10121)\">*12...\n",
       "138           경상남도 진주시 천전동  <div class=\"lnk\" onclick=\"gp.hhfoc(10132)\">*13...\n",
       "143     경상남도 창원시마산회원구 구암2동  <div class=\"lnk\" onclick=\"gp.hhfoc(10136)\">*13...\n",
       "204       경상남도 함안군 칠원읍 장암리  <div class=\"lnk\" onclick=\"gp.hhfoc(10196)\">*19...\n",
       "215           경상남도 진주시 가호동  <div class=\"lnk\" onclick=\"gp.hhfoc(10206)\">*20...\n",
       "219       경상남도 창원시진해구 웅동2동  <div class=\"lnk\" onclick=\"gp.hhfoc(10209)\">*20...\n",
       "223           경상남도 사천시 남양동  <div class=\"lnk\" onclick=\"gp.hhfoc(10212)\">*21...\n",
       "240     경상남도 창원시마산회원구 합성1동  <div class=\"lnk\" onclick=\"gp.hhfoc(10228)\">*22...\n",
       "248          경상남도 사천시 동서금동  <div class=\"lnk\" onclick=\"gp.hhfoc(10235)\">*23...\n",
       "254       경상남도 창원시진해구 웅동1동  <div class=\"lnk\" onclick=\"gp.hhfoc(10240)\">*24...\n",
       "271     경상남도 창원시마산회원구 구암1동  <div class=\"lnk\" onclick=\"gp.hhfoc(10256)\">*25...\n",
       "275     경상남도 창원시마산회원구 양덕2동  <div class=\"lnk\" onclick=\"gp.hhfoc(10259)\">*25...\n",
       "277           경상남도 진주시 초장동  <div class=\"lnk\" onclick=\"gp.hhfoc(10260)\">*26...\n",
       "296        경상남도 창원시진해구 병암동  <div class=\"lnk\" onclick=\"gp.hhfoc(10278)\">*27...\n",
       "310    경상남도 창원시마산합포구 반월중앙동  <div class=\"lnk\" onclick=\"gp.hhfoc(10291)\">*29...\n",
       "322  경상남도 창원시마산합포구 진전면 창포리  <div class=\"lnk\" onclick=\"gp.hhfoc(10302)\">*30...\n",
       "332       경상남도 통영시 욕지면 동항리  <div class=\"lnk\" onclick=\"gp.hhfoc(10311)\">*31...\n",
       "338       경상남도 통영시 산양읍 풍화리  <div class=\"lnk\" onclick=\"gp.hhfoc(10316)\">*31...\n",
       "342       경상남도 통영시 욕지면 두미리  <div class=\"lnk\" onclick=\"gp.hhfoc(10319)\">*31...\n",
       "346           경상남도 김해시 북부동  <div class=\"lnk\" onclick=\"gp.hhfoc(10322)\">*32...\n",
       "351         경상남도 김해시 칠산서부동  <div class=\"lnk\" onclick=\"gp.hhfoc(10326)\">*32...\n",
       "355           경상남도 김해시 회현동  <div class=\"lnk\" onclick=\"gp.hhfoc(10329)\">*32...\n",
       "362          경상남도 김해시 장유2동  <div class=\"lnk\" onclick=\"gp.hhfoc(10335)\">*33...\n",
       "363           경상남도 김해시 활천동               *WARNING: POI/address lookup failed!\n",
       "364          경상남도 김해시 장유1동               *WARNING: POI/address lookup failed!"
      ]
     },
     "execution_count": 8,
     "metadata": {},
     "output_type": "execute_result"
    }
   ],
   "source": [
    "'''다시 테스트 해봤는데 수집되지 않음'''\n",
    "ggh.iloc[idx,:]"
   ]
  },
  {
   "cell_type": "code",
   "execution_count": null,
   "metadata": {},
   "outputs": [],
   "source": []
  }
 ],
 "metadata": {
  "kernelspec": {
   "display_name": "Python 3",
   "language": "python",
   "name": "python3"
  },
  "language_info": {
   "codemirror_mode": {
    "name": "ipython",
    "version": 3
   },
   "file_extension": ".py",
   "mimetype": "text/x-python",
   "name": "python",
   "nbconvert_exporter": "python",
   "pygments_lexer": "ipython3",
   "version": "3.6.5"
  }
 },
 "nbformat": 4,
 "nbformat_minor": 2
}
