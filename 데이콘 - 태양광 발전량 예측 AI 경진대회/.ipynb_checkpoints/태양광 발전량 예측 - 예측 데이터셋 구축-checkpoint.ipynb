{
 "cells": [
  {
   "cell_type": "code",
   "execution_count": 1,
   "metadata": {
    "ExecuteTime": {
     "end_time": "2020-12-23T14:58:09.043840Z",
     "start_time": "2020-12-23T14:58:07.437898Z"
    }
   },
   "outputs": [],
   "source": [
    "import os\n",
    "import pandas as pd\n",
    "import numpy as np\n",
    "import matplotlib.pyplot as plt\n",
    "from matplotlib import rc, rcParams\n",
    "import seaborn as sns\n",
    "import glob\n",
    "from sklearn.model_selection import train_test_split\n",
    "import lightgbm\n",
    "import datetime\n",
    "\n",
    "import warnings\n",
    "warnings.filterwarnings('ignore')\n",
    "\n",
    "plt.style.use('ggplot')\n",
    "pd.set_option('max_columns', 100)\n",
    "pd.set_option(\"display.precision\", 4)\n",
    "rcParams['figure.figsize'] = (16, 8)\n",
    "rc('font', family='AppleGothic')"
   ]
  },
  {
   "cell_type": "code",
   "execution_count": 2,
   "metadata": {
    "ExecuteTime": {
     "end_time": "2020-12-23T14:58:21.439377Z",
     "start_time": "2020-12-23T14:58:21.436994Z"
    }
   },
   "outputs": [],
   "source": [
    "tr_base_path = './data/train'\n",
    "te_base_path = './data/test'\n",
    "submission_path = './submission'"
   ]
  },
  {
   "cell_type": "code",
   "execution_count": 4,
   "metadata": {
    "ExecuteTime": {
     "end_time": "2020-12-23T15:14:43.619137Z",
     "start_time": "2020-12-23T15:14:43.570210Z"
    }
   },
   "outputs": [],
   "source": [
    "train = pd.read_csv(os.path.join(tr_base_path,'train.csv'))\n",
    "# 파일명 불러오는 것: os.listdir과 다른점은 경로를 그대로 붙여서 불러와줌\n",
    "test_files = glob.glob('./data/test/*.csv')\n",
    "submission = pd.read_csv('./data/sample_submission.csv')"
   ]
  },
  {
   "cell_type": "code",
   "execution_count": 5,
   "metadata": {
    "ExecuteTime": {
     "end_time": "2020-12-23T15:14:51.519008Z",
     "start_time": "2020-12-23T15:14:51.510779Z"
    }
   },
   "outputs": [],
   "source": [
    "# feature shift\n",
    "# N(lag)행 만큼 데이터를 밀어냄\n",
    "def create_lag_feats(data, lags, cols):\n",
    "    \n",
    "    lag_cols = []\n",
    "    temp = data.copy()\n",
    "    for col in cols:\n",
    "        for lag in lags:\n",
    "            temp[col + '_lag_%s'%lag] = temp[col].shift(lag)\n",
    "            temp['Target1'] = temp['TARGET']\n",
    "            # fill values forward: 각 행의 앞단의 값을 채워 넣는 것\n",
    "            temp['Target2'] = temp['TARGET'].shift(-48).fillna(method='ffill')  \n",
    "            lag_cols.append(col + '_lag_%s'%lag)\n",
    "\n",
    "    return temp, lag_cols\n",
    "\n",
    "def preprocess_data(data, target_lags=[48], weather_lags=[48], is_train=True):\n",
    "    \n",
    "    temp = data.copy()\n",
    "\n",
    "    if is_train==True:          \n",
    "    \n",
    "        temp, temp_lag_cols1 = create_lag_feats(temp, target_lags, ['TARGET'])\n",
    "        temp, temp_lag_cols2 = create_lag_feats(temp, weather_lags, ['DHI', 'DNI', 'WS', 'RH', 'T'])\n",
    "    \n",
    "        return temp[['Hour'] + temp_lag_cols1 + temp_lag_cols2 + ['Target1', 'Target2']].dropna()\n",
    "\n",
    "    elif is_train==False:    \n",
    "        \n",
    "        temp, temp_lag_cols1 = create_lag_feats(temp, target_lags, ['TARGET'])\n",
    "        temp, temp_lag_cols2 = create_lag_feats(temp, weather_lags, ['DHI', 'DNI', 'WS', 'RH', 'T'])\n",
    "                              \n",
    "        return temp[['Hour'] + temp_lag_cols1 + temp_lag_cols2].dropna()"
   ]
  },
  {
   "cell_type": "code",
   "execution_count": 6,
   "metadata": {
    "ExecuteTime": {
     "end_time": "2020-12-23T15:14:58.550952Z",
     "start_time": "2020-12-23T15:14:58.514534Z"
    }
   },
   "outputs": [],
   "source": [
    "# 하루전날 데이터를 통해서 새로운 셋 구축\n",
    "# 허나... 지금 현재 방법론을 봤을 때 Day6의 테스트 데이터로 추론을 해야하는데\n",
    "# Day5로 추론하는 문제가 있는데 오히려 성능이 감소됨;;;\n",
    "df_train = preprocess_data(train, target_lags=[48], weather_lags=[48], is_train=True)"
   ]
  },
  {
   "cell_type": "code",
   "execution_count": null,
   "metadata": {},
   "outputs": [],
   "source": []
  }
 ],
 "metadata": {
  "kernelspec": {
   "display_name": "Python 3",
   "language": "python",
   "name": "python3"
  },
  "language_info": {
   "codemirror_mode": {
    "name": "ipython",
    "version": 3
   },
   "file_extension": ".py",
   "mimetype": "text/x-python",
   "name": "python",
   "nbconvert_exporter": "python",
   "pygments_lexer": "ipython3",
   "version": "3.7.7"
  },
  "toc": {
   "base_numbering": 1,
   "nav_menu": {},
   "number_sections": true,
   "sideBar": true,
   "skip_h1_title": false,
   "title_cell": "Table of Contents",
   "title_sidebar": "Contents",
   "toc_cell": false,
   "toc_position": {},
   "toc_section_display": true,
   "toc_window_display": true
  }
 },
 "nbformat": 4,
 "nbformat_minor": 4
}
