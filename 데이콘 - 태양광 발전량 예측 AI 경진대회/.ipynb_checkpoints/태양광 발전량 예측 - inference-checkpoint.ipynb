{
 "cells": [
  {
   "cell_type": "code",
   "execution_count": 14,
   "metadata": {
    "ExecuteTime": {
     "end_time": "2020-12-23T15:29:46.043924Z",
     "start_time": "2020-12-23T15:29:46.038559Z"
    }
   },
   "outputs": [],
   "source": [
    "import os\n",
    "import pandas as pd\n",
    "import numpy as np\n",
    "import matplotlib.pyplot as plt\n",
    "from matplotlib import rc, rcParams\n",
    "import seaborn as sns\n",
    "import glob\n",
    "from sklearn.model_selection import train_test_split, StratifiedKFold\n",
    "import lightgbm\n",
    "import datetime\n",
    "\n",
    "import warnings\n",
    "warnings.filterwarnings('ignore')\n",
    "\n",
    "plt.style.use('ggplot')\n",
    "pd.set_option('max_columns', 100)\n",
    "pd.set_option(\"display.precision\", 4)\n",
    "rcParams['figure.figsize'] = (16, 8)\n",
    "rc('font', family='AppleGothic')"
   ]
  },
  {
   "cell_type": "code",
   "execution_count": 3,
   "metadata": {
    "ExecuteTime": {
     "end_time": "2020-12-23T15:24:30.860471Z",
     "start_time": "2020-12-23T15:24:30.858202Z"
    }
   },
   "outputs": [],
   "source": [
    "tr_base_path = './data/train'\n",
    "te_base_path = './data/test'\n",
    "submission_path = './submission'"
   ]
  },
  {
   "cell_type": "code",
   "execution_count": 4,
   "metadata": {
    "ExecuteTime": {
     "end_time": "2020-12-23T15:24:36.401005Z",
     "start_time": "2020-12-23T15:24:36.347937Z"
    }
   },
   "outputs": [],
   "source": [
    "train = pd.read_csv(os.path.join(tr_base_path,'train.csv'))\n",
    "# 파일명 불러오는 것: os.listdir과 다른점은 경로를 그대로 붙여서 불러와줌\n",
    "test_files = glob.glob('./data/test/*.csv')\n",
    "submission = pd.read_csv('./data/sample_submission.csv')"
   ]
  },
  {
   "cell_type": "markdown",
   "metadata": {},
   "source": [
    "# helper & pre-processing"
   ]
  },
  {
   "cell_type": "code",
   "execution_count": 6,
   "metadata": {
    "ExecuteTime": {
     "end_time": "2020-12-23T15:25:04.084212Z",
     "start_time": "2020-12-23T15:25:04.075733Z"
    }
   },
   "outputs": [],
   "source": [
    "# feature shift\n",
    "# N(lag)행 만큼 데이터를 밀어냄\n",
    "def create_lag_feats(data, lags, cols):\n",
    "    \n",
    "    lag_cols = []\n",
    "    temp = data.copy()\n",
    "    for col in cols:\n",
    "        for lag in lags:\n",
    "            temp[col + '_lag_%s'%lag] = temp[col].shift(lag)\n",
    "            temp['Target1'] = temp['TARGET']\n",
    "            # fill values forward: 각 행의 앞단의 값을 채워 넣는 것\n",
    "            temp['Target2'] = temp['TARGET'].shift(-48).fillna(method='ffill')  \n",
    "            lag_cols.append(col + '_lag_%s'%lag)\n",
    "\n",
    "    return temp, lag_cols\n",
    "\n",
    "def preprocess_data(data, target_lags=[48], weather_lags=[48], is_train=True):\n",
    "    \n",
    "    temp = data.copy()\n",
    "\n",
    "    if is_train==True:          \n",
    "    \n",
    "        temp, temp_lag_cols1 = create_lag_feats(temp, target_lags, ['TARGET'])\n",
    "        temp, temp_lag_cols2 = create_lag_feats(temp, weather_lags, ['DHI', 'DNI', 'WS', 'RH', 'T'])\n",
    "    \n",
    "        return temp[['Hour'] + temp_lag_cols1 + temp_lag_cols2 + ['Target1', 'Target2']].dropna()\n",
    "\n",
    "    elif is_train==False:    \n",
    "        \n",
    "        temp, temp_lag_cols1 = create_lag_feats(temp, target_lags, ['TARGET'])\n",
    "        temp, temp_lag_cols2 = create_lag_feats(temp, weather_lags, ['DHI', 'DNI', 'WS', 'RH', 'T'])\n",
    "                              \n",
    "        return temp[['Hour'] + temp_lag_cols1 + temp_lag_cols2].dropna()"
   ]
  },
  {
   "cell_type": "code",
   "execution_count": 11,
   "metadata": {
    "ExecuteTime": {
     "end_time": "2020-12-23T15:26:27.804036Z",
     "start_time": "2020-12-23T15:26:27.766342Z"
    }
   },
   "outputs": [],
   "source": [
    "df_train = preprocess_data(train, target_lags=[48], weather_lags=[48], is_train=True)"
   ]
  },
  {
   "cell_type": "code",
   "execution_count": 7,
   "metadata": {
    "ExecuteTime": {
     "end_time": "2020-12-23T15:25:10.551454Z",
     "start_time": "2020-12-23T15:25:09.703527Z"
    }
   },
   "outputs": [
    {
     "data": {
      "text/plain": [
       "(3888, 7)"
      ]
     },
     "execution_count": 7,
     "metadata": {},
     "output_type": "execute_result"
    }
   ],
   "source": [
    "# test 데이터셋\n",
    "df_test = []\n",
    "\n",
    "for test_file in test_files:\n",
    "    temp = pd.read_csv(test_file)# .iloc[-48:]\n",
    "    # 전처리한 데이터의 하루 전날 데이터만 이용해서 즉, 어떻게 보면 Day5 0시 ~ 23:30의 데이터만\n",
    "    # 을 가지고 Day7, Day8을 예측하는 셈 \n",
    "    # 아 이해갔다\n",
    "    # 로직상 아래의 코드는 아닌 것 같은데 그냥 Day6의 데이터를 활용해야 할 것\n",
    "    # 같은데 왜 Day5의 인풋 변수를 활용을 할까??...\n",
    "    temp = preprocess_data(temp, target_lags=[48], weather_lags=[48], is_train=False).iloc[-48:]\n",
    "    df_test.append(temp)\n",
    "\n",
    "X_test = pd.concat(df_test)\n",
    "X_test.shape"
   ]
  },
  {
   "cell_type": "code",
   "execution_count": null,
   "metadata": {
    "ExecuteTime": {
     "end_time": "2020-12-23T15:25:22.507265Z",
     "start_time": "2020-12-23T15:25:22.483942Z"
    }
   },
   "outputs": [],
   "source": [
    "# # Day6 데이터를 활용했을 때의 전처리 방식\n",
    "# X_test.drop(columns = ['Day', 'Minute'], inplace = True)\n",
    "# X_test = X_test[['Hour','TARGET','DHI','DNI','WS','RH','T']]\n",
    "# X_test.columns = df_train.columns.tolist()[:-2]\n",
    "\n",
    "# X_test['DHI_lag_48'] = X_test['DHI_lag_48'].astype('float64')\n",
    "# X_test['DNI_lag_48'] = X_test['DNI_lag_48'].astype('float64')"
   ]
  },
  {
   "cell_type": "markdown",
   "metadata": {},
   "source": [
    "# Inference"
   ]
  },
  {
   "cell_type": "code",
   "execution_count": 10,
   "metadata": {
    "ExecuteTime": {
     "end_time": "2020-12-23T15:26:09.850913Z",
     "start_time": "2020-12-23T15:26:09.837431Z"
    }
   },
   "outputs": [
    {
     "data": {
      "text/html": [
       "<div>\n",
       "<style scoped>\n",
       "    .dataframe tbody tr th:only-of-type {\n",
       "        vertical-align: middle;\n",
       "    }\n",
       "\n",
       "    .dataframe tbody tr th {\n",
       "        vertical-align: top;\n",
       "    }\n",
       "\n",
       "    .dataframe thead th {\n",
       "        text-align: right;\n",
       "    }\n",
       "</style>\n",
       "<table border=\"1\" class=\"dataframe\">\n",
       "  <thead>\n",
       "    <tr style=\"text-align: right;\">\n",
       "      <th></th>\n",
       "      <th>Hour</th>\n",
       "      <th>TARGET_lag_48</th>\n",
       "      <th>DHI_lag_48</th>\n",
       "      <th>DNI_lag_48</th>\n",
       "      <th>WS_lag_48</th>\n",
       "      <th>RH_lag_48</th>\n",
       "      <th>T_lag_48</th>\n",
       "    </tr>\n",
       "  </thead>\n",
       "  <tbody>\n",
       "    <tr>\n",
       "      <th>288</th>\n",
       "      <td>0</td>\n",
       "      <td>0.0</td>\n",
       "      <td>0.0</td>\n",
       "      <td>0.0</td>\n",
       "      <td>0.6</td>\n",
       "      <td>56.18</td>\n",
       "      <td>14.9</td>\n",
       "    </tr>\n",
       "    <tr>\n",
       "      <th>289</th>\n",
       "      <td>0</td>\n",
       "      <td>0.0</td>\n",
       "      <td>0.0</td>\n",
       "      <td>0.0</td>\n",
       "      <td>0.6</td>\n",
       "      <td>56.91</td>\n",
       "      <td>14.7</td>\n",
       "    </tr>\n",
       "    <tr>\n",
       "      <th>290</th>\n",
       "      <td>1</td>\n",
       "      <td>0.0</td>\n",
       "      <td>0.0</td>\n",
       "      <td>0.0</td>\n",
       "      <td>0.6</td>\n",
       "      <td>57.18</td>\n",
       "      <td>14.6</td>\n",
       "    </tr>\n",
       "    <tr>\n",
       "      <th>291</th>\n",
       "      <td>1</td>\n",
       "      <td>0.0</td>\n",
       "      <td>0.0</td>\n",
       "      <td>0.0</td>\n",
       "      <td>0.7</td>\n",
       "      <td>57.93</td>\n",
       "      <td>14.4</td>\n",
       "    </tr>\n",
       "    <tr>\n",
       "      <th>292</th>\n",
       "      <td>2</td>\n",
       "      <td>0.0</td>\n",
       "      <td>0.0</td>\n",
       "      <td>0.0</td>\n",
       "      <td>0.7</td>\n",
       "      <td>57.99</td>\n",
       "      <td>14.3</td>\n",
       "    </tr>\n",
       "    <tr>\n",
       "      <th>...</th>\n",
       "      <td>...</td>\n",
       "      <td>...</td>\n",
       "      <td>...</td>\n",
       "      <td>...</td>\n",
       "      <td>...</td>\n",
       "      <td>...</td>\n",
       "      <td>...</td>\n",
       "    </tr>\n",
       "    <tr>\n",
       "      <th>331</th>\n",
       "      <td>21</td>\n",
       "      <td>0.0</td>\n",
       "      <td>0.0</td>\n",
       "      <td>0.0</td>\n",
       "      <td>1.9</td>\n",
       "      <td>50.48</td>\n",
       "      <td>-5.1</td>\n",
       "    </tr>\n",
       "    <tr>\n",
       "      <th>332</th>\n",
       "      <td>22</td>\n",
       "      <td>0.0</td>\n",
       "      <td>0.0</td>\n",
       "      <td>0.0</td>\n",
       "      <td>2.0</td>\n",
       "      <td>49.75</td>\n",
       "      <td>-5.1</td>\n",
       "    </tr>\n",
       "    <tr>\n",
       "      <th>333</th>\n",
       "      <td>22</td>\n",
       "      <td>0.0</td>\n",
       "      <td>0.0</td>\n",
       "      <td>0.0</td>\n",
       "      <td>2.1</td>\n",
       "      <td>49.75</td>\n",
       "      <td>-5.1</td>\n",
       "    </tr>\n",
       "    <tr>\n",
       "      <th>334</th>\n",
       "      <td>23</td>\n",
       "      <td>0.0</td>\n",
       "      <td>0.0</td>\n",
       "      <td>0.0</td>\n",
       "      <td>2.1</td>\n",
       "      <td>49.22</td>\n",
       "      <td>-5.2</td>\n",
       "    </tr>\n",
       "    <tr>\n",
       "      <th>335</th>\n",
       "      <td>23</td>\n",
       "      <td>0.0</td>\n",
       "      <td>0.0</td>\n",
       "      <td>0.0</td>\n",
       "      <td>2.1</td>\n",
       "      <td>49.22</td>\n",
       "      <td>-5.2</td>\n",
       "    </tr>\n",
       "  </tbody>\n",
       "</table>\n",
       "<p>3888 rows × 7 columns</p>\n",
       "</div>"
      ],
      "text/plain": [
       "     Hour  TARGET_lag_48  DHI_lag_48  DNI_lag_48  WS_lag_48  RH_lag_48  \\\n",
       "288     0            0.0         0.0         0.0        0.6      56.18   \n",
       "289     0            0.0         0.0         0.0        0.6      56.91   \n",
       "290     1            0.0         0.0         0.0        0.6      57.18   \n",
       "291     1            0.0         0.0         0.0        0.7      57.93   \n",
       "292     2            0.0         0.0         0.0        0.7      57.99   \n",
       "..    ...            ...         ...         ...        ...        ...   \n",
       "331    21            0.0         0.0         0.0        1.9      50.48   \n",
       "332    22            0.0         0.0         0.0        2.0      49.75   \n",
       "333    22            0.0         0.0         0.0        2.1      49.75   \n",
       "334    23            0.0         0.0         0.0        2.1      49.22   \n",
       "335    23            0.0         0.0         0.0        2.1      49.22   \n",
       "\n",
       "     T_lag_48  \n",
       "288      14.9  \n",
       "289      14.7  \n",
       "290      14.6  \n",
       "291      14.4  \n",
       "292      14.3  \n",
       "..        ...  \n",
       "331      -5.1  \n",
       "332      -5.1  \n",
       "333      -5.1  \n",
       "334      -5.2  \n",
       "335      -5.2  \n",
       "\n",
       "[3888 rows x 7 columns]"
      ]
     },
     "execution_count": 10,
     "metadata": {},
     "output_type": "execute_result"
    }
   ],
   "source": [
    "# Day7 데이터 예측 추론셋\n",
    "X_train_1, X_valid_1, Y_train_1, Y_valid_1 = train_test_split(df_train.iloc[:, :-2], df_train.iloc[:, -2], test_size=0.3, random_state=0)\n",
    "# Day8 데이터 예측 추론셋\n",
    "X_train_2, X_valid_2, Y_train_2, Y_valid_2 = train_test_split(df_train.iloc[:, :-2], df_train.iloc[:, -1], test_size=0.3, random_state=0)"
   ]
  },
  {
   "cell_type": "code",
   "execution_count": 13,
   "metadata": {
    "ExecuteTime": {
     "end_time": "2020-12-23T15:27:39.175327Z",
     "start_time": "2020-12-23T15:27:39.172666Z"
    }
   },
   "outputs": [],
   "source": [
    "quantiles = [0.1, 0.2, 0.3, 0.4, 0.5, 0.6, 0.7, 0.8, 0.9]"
   ]
  },
  {
   "cell_type": "code",
   "execution_count": null,
   "metadata": {},
   "outputs": [],
   "source": [
    "from lightgbm import LGBMRegressor\n",
    "\n",
    "# Get the model and the predictions in (a) - (b)\n",
    "def LGBM(q, train, X_test):\n",
    "    \n",
    "    # (a) Modeling  \n",
    "    folds = StratifiedKFold(folds = 5, shuffle=True)\n",
    "    oof_preds = \n",
    "    \n",
    "    model = LGBMRegressor(objective='quantile', alpha=q,\n",
    "                         n_estimators=10000, bagging_fraction=0.7, learning_rate=0.027, subsample=0.7)                   \n",
    "                         \n",
    "                         \n",
    "    model.fit(X_train, Y_train, eval_metric = ['quantile'], \n",
    "          eval_set=[(X_valid, Y_valid)], early_stopping_rounds=300, verbose=500)\n",
    "\n",
    "    # (b) Predictions\n",
    "    pred = pd.Series(model.predict(X_test).round(2))\n",
    "    return pred, model\n",
    "\n",
    "# Target 예측\n",
    "\n",
    "def train_data(X_train, Y_train, X_valid, Y_valid, X_test):\n",
    "\n",
    "    LGBM_models=[]\n",
    "    LGBM_actual_pred = pd.DataFrame()\n",
    "\n",
    "    for q in quantiles:\n",
    "        print(q)\n",
    "        pred , model = LGBM(q, X_train, Y_train, X_valid, Y_valid, X_test)\n",
    "        LGBM_models.append(model)\n",
    "        LGBM_actual_pred = pd.concat([LGBM_actual_pred,pred],axis=1)\n",
    "\n",
    "    LGBM_actual_pred.columns=quantiles\n",
    "    \n",
    "    return LGBM_models, LGBM_actual_pred\n",
    "\n"
   ]
  }
 ],
 "metadata": {
  "kernelspec": {
   "display_name": "Python 3",
   "language": "python",
   "name": "python3"
  },
  "language_info": {
   "codemirror_mode": {
    "name": "ipython",
    "version": 3
   },
   "file_extension": ".py",
   "mimetype": "text/x-python",
   "name": "python",
   "nbconvert_exporter": "python",
   "pygments_lexer": "ipython3",
   "version": "3.7.7"
  },
  "toc": {
   "base_numbering": 1,
   "nav_menu": {},
   "number_sections": true,
   "sideBar": true,
   "skip_h1_title": false,
   "title_cell": "Table of Contents",
   "title_sidebar": "Contents",
   "toc_cell": false,
   "toc_position": {},
   "toc_section_display": true,
   "toc_window_display": true
  }
 },
 "nbformat": 4,
 "nbformat_minor": 4
}
