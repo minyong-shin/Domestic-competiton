{
 "cells": [
  {
   "cell_type": "code",
   "execution_count": 3,
   "metadata": {
    "ExecuteTime": {
     "end_time": "2020-11-12T12:19:06.631337Z",
     "start_time": "2020-11-12T12:19:04.137389Z"
    }
   },
   "outputs": [],
   "source": [
    "from os import listdir\n",
    "import os\n",
    "import pandas as pd\n",
    "import numpy as np\n",
    "import lightgbm as lgb\n",
    "import xgboost as xgb\n",
    "from sklearn.preprocessing import LabelEncoder\n",
    "from sklearn.metrics import auc, accuracy_score, confusion_matrix, mean_squared_error, f1_score, roc_auc_score\n",
    "from sklearn.model_selection import cross_val_score, GridSearchCV,StratifiedKFold, KFold, RandomizedSearchCV, train_test_split\n",
    "import matplotlib.pyplot as plt\n",
    "import seaborn as sns\n",
    "import re\n",
    "from sklearn.preprocessing import MinMaxScaler\n",
    "from sklearn.cluster import KMeans\n",
    "\n",
    "plt.style.use('ggplot') #ggplot스타일 사용\n",
    "plt.rc('axes', unicode_minus=False)"
   ]
  },
  {
   "cell_type": "code",
   "execution_count": 4,
   "metadata": {
    "ExecuteTime": {
     "end_time": "2020-11-12T12:19:06.635218Z",
     "start_time": "2020-11-12T12:19:06.633202Z"
    }
   },
   "outputs": [],
   "source": [
    "data_file_path = './open data'\n",
    "model_path = './modeling_folder/'"
   ]
  },
  {
   "cell_type": "code",
   "execution_count": 362,
   "metadata": {
    "ExecuteTime": {
     "end_time": "2020-10-30T13:07:56.442151Z",
     "start_time": "2020-10-30T13:07:56.323075Z"
    }
   },
   "outputs": [],
   "source": [
    "pre_sub = pd.read_csv(os.path.join(data_file_path,'dacon_submission6.csv'))"
   ]
  },
  {
   "cell_type": "code",
   "execution_count": 25,
   "metadata": {
    "ExecuteTime": {
     "end_time": "2020-11-12T12:52:49.534064Z",
     "start_time": "2020-11-12T12:52:49.202532Z"
    }
   },
   "outputs": [],
   "source": [
    "tr = pd.read_csv(os.path.join(data_file_path,'train.csv'))\n",
    "te = pd.read_csv(os.path.join(data_file_path,'test_x.csv'))\n",
    "base_column = tr.drop(columns = 'index').columns.tolist()\n",
    "submission = te[['index']]"
   ]
  },
  {
   "cell_type": "code",
   "execution_count": 28,
   "metadata": {
    "ExecuteTime": {
     "end_time": "2020-11-12T12:53:34.247593Z",
     "start_time": "2020-11-12T12:53:34.204214Z"
    }
   },
   "outputs": [
    {
     "data": {
      "text/html": [
       "<div>\n",
       "<style scoped>\n",
       "    .dataframe tbody tr th:only-of-type {\n",
       "        vertical-align: middle;\n",
       "    }\n",
       "\n",
       "    .dataframe tbody tr th {\n",
       "        vertical-align: top;\n",
       "    }\n",
       "\n",
       "    .dataframe thead th {\n",
       "        text-align: right;\n",
       "    }\n",
       "</style>\n",
       "<table border=\"1\" class=\"dataframe\">\n",
       "  <thead>\n",
       "    <tr style=\"text-align: right;\">\n",
       "      <th></th>\n",
       "      <th>age_group_+70s</th>\n",
       "      <th>age_group_10s</th>\n",
       "      <th>age_group_20s</th>\n",
       "      <th>age_group_30s</th>\n",
       "      <th>age_group_40s</th>\n",
       "      <th>age_group_50s</th>\n",
       "      <th>age_group_60s</th>\n",
       "      <th>gender_Female</th>\n",
       "      <th>gender_Male</th>\n",
       "      <th>race_Arab</th>\n",
       "      <th>...</th>\n",
       "      <th>religion_Buddhist</th>\n",
       "      <th>religion_Christian_Catholic</th>\n",
       "      <th>religion_Christian_Mormon</th>\n",
       "      <th>religion_Christian_Other</th>\n",
       "      <th>religion_Christian_Protestant</th>\n",
       "      <th>religion_Hindu</th>\n",
       "      <th>religion_Jewish</th>\n",
       "      <th>religion_Muslim</th>\n",
       "      <th>religion_Other</th>\n",
       "      <th>religion_Sikh</th>\n",
       "    </tr>\n",
       "  </thead>\n",
       "  <tbody>\n",
       "    <tr>\n",
       "      <th>0</th>\n",
       "      <td>0</td>\n",
       "      <td>0</td>\n",
       "      <td>0</td>\n",
       "      <td>1</td>\n",
       "      <td>0</td>\n",
       "      <td>0</td>\n",
       "      <td>0</td>\n",
       "      <td>1</td>\n",
       "      <td>0</td>\n",
       "      <td>0</td>\n",
       "      <td>...</td>\n",
       "      <td>0</td>\n",
       "      <td>0</td>\n",
       "      <td>0</td>\n",
       "      <td>0</td>\n",
       "      <td>0</td>\n",
       "      <td>0</td>\n",
       "      <td>0</td>\n",
       "      <td>0</td>\n",
       "      <td>1</td>\n",
       "      <td>0</td>\n",
       "    </tr>\n",
       "    <tr>\n",
       "      <th>1</th>\n",
       "      <td>0</td>\n",
       "      <td>0</td>\n",
       "      <td>1</td>\n",
       "      <td>0</td>\n",
       "      <td>0</td>\n",
       "      <td>0</td>\n",
       "      <td>0</td>\n",
       "      <td>1</td>\n",
       "      <td>0</td>\n",
       "      <td>0</td>\n",
       "      <td>...</td>\n",
       "      <td>0</td>\n",
       "      <td>0</td>\n",
       "      <td>0</td>\n",
       "      <td>0</td>\n",
       "      <td>0</td>\n",
       "      <td>1</td>\n",
       "      <td>0</td>\n",
       "      <td>0</td>\n",
       "      <td>0</td>\n",
       "      <td>0</td>\n",
       "    </tr>\n",
       "    <tr>\n",
       "      <th>2</th>\n",
       "      <td>0</td>\n",
       "      <td>0</td>\n",
       "      <td>0</td>\n",
       "      <td>1</td>\n",
       "      <td>0</td>\n",
       "      <td>0</td>\n",
       "      <td>0</td>\n",
       "      <td>0</td>\n",
       "      <td>1</td>\n",
       "      <td>0</td>\n",
       "      <td>...</td>\n",
       "      <td>0</td>\n",
       "      <td>0</td>\n",
       "      <td>0</td>\n",
       "      <td>0</td>\n",
       "      <td>0</td>\n",
       "      <td>0</td>\n",
       "      <td>0</td>\n",
       "      <td>0</td>\n",
       "      <td>1</td>\n",
       "      <td>0</td>\n",
       "    </tr>\n",
       "    <tr>\n",
       "      <th>3</th>\n",
       "      <td>0</td>\n",
       "      <td>0</td>\n",
       "      <td>1</td>\n",
       "      <td>0</td>\n",
       "      <td>0</td>\n",
       "      <td>0</td>\n",
       "      <td>0</td>\n",
       "      <td>1</td>\n",
       "      <td>0</td>\n",
       "      <td>0</td>\n",
       "      <td>...</td>\n",
       "      <td>0</td>\n",
       "      <td>0</td>\n",
       "      <td>0</td>\n",
       "      <td>0</td>\n",
       "      <td>0</td>\n",
       "      <td>1</td>\n",
       "      <td>0</td>\n",
       "      <td>0</td>\n",
       "      <td>0</td>\n",
       "      <td>0</td>\n",
       "    </tr>\n",
       "    <tr>\n",
       "      <th>4</th>\n",
       "      <td>0</td>\n",
       "      <td>0</td>\n",
       "      <td>1</td>\n",
       "      <td>0</td>\n",
       "      <td>0</td>\n",
       "      <td>0</td>\n",
       "      <td>0</td>\n",
       "      <td>0</td>\n",
       "      <td>1</td>\n",
       "      <td>0</td>\n",
       "      <td>...</td>\n",
       "      <td>0</td>\n",
       "      <td>0</td>\n",
       "      <td>0</td>\n",
       "      <td>0</td>\n",
       "      <td>0</td>\n",
       "      <td>0</td>\n",
       "      <td>0</td>\n",
       "      <td>0</td>\n",
       "      <td>0</td>\n",
       "      <td>0</td>\n",
       "    </tr>\n",
       "    <tr>\n",
       "      <th>...</th>\n",
       "      <td>...</td>\n",
       "      <td>...</td>\n",
       "      <td>...</td>\n",
       "      <td>...</td>\n",
       "      <td>...</td>\n",
       "      <td>...</td>\n",
       "      <td>...</td>\n",
       "      <td>...</td>\n",
       "      <td>...</td>\n",
       "      <td>...</td>\n",
       "      <td>...</td>\n",
       "      <td>...</td>\n",
       "      <td>...</td>\n",
       "      <td>...</td>\n",
       "      <td>...</td>\n",
       "      <td>...</td>\n",
       "      <td>...</td>\n",
       "      <td>...</td>\n",
       "      <td>...</td>\n",
       "      <td>...</td>\n",
       "      <td>...</td>\n",
       "    </tr>\n",
       "    <tr>\n",
       "      <th>45527</th>\n",
       "      <td>0</td>\n",
       "      <td>1</td>\n",
       "      <td>0</td>\n",
       "      <td>0</td>\n",
       "      <td>0</td>\n",
       "      <td>0</td>\n",
       "      <td>0</td>\n",
       "      <td>1</td>\n",
       "      <td>0</td>\n",
       "      <td>0</td>\n",
       "      <td>...</td>\n",
       "      <td>0</td>\n",
       "      <td>0</td>\n",
       "      <td>0</td>\n",
       "      <td>0</td>\n",
       "      <td>0</td>\n",
       "      <td>0</td>\n",
       "      <td>1</td>\n",
       "      <td>0</td>\n",
       "      <td>0</td>\n",
       "      <td>0</td>\n",
       "    </tr>\n",
       "    <tr>\n",
       "      <th>45528</th>\n",
       "      <td>0</td>\n",
       "      <td>0</td>\n",
       "      <td>0</td>\n",
       "      <td>1</td>\n",
       "      <td>0</td>\n",
       "      <td>0</td>\n",
       "      <td>0</td>\n",
       "      <td>0</td>\n",
       "      <td>1</td>\n",
       "      <td>0</td>\n",
       "      <td>...</td>\n",
       "      <td>0</td>\n",
       "      <td>0</td>\n",
       "      <td>0</td>\n",
       "      <td>0</td>\n",
       "      <td>0</td>\n",
       "      <td>0</td>\n",
       "      <td>0</td>\n",
       "      <td>0</td>\n",
       "      <td>0</td>\n",
       "      <td>0</td>\n",
       "    </tr>\n",
       "    <tr>\n",
       "      <th>45529</th>\n",
       "      <td>0</td>\n",
       "      <td>1</td>\n",
       "      <td>0</td>\n",
       "      <td>0</td>\n",
       "      <td>0</td>\n",
       "      <td>0</td>\n",
       "      <td>0</td>\n",
       "      <td>1</td>\n",
       "      <td>0</td>\n",
       "      <td>0</td>\n",
       "      <td>...</td>\n",
       "      <td>0</td>\n",
       "      <td>0</td>\n",
       "      <td>0</td>\n",
       "      <td>1</td>\n",
       "      <td>0</td>\n",
       "      <td>0</td>\n",
       "      <td>0</td>\n",
       "      <td>0</td>\n",
       "      <td>0</td>\n",
       "      <td>0</td>\n",
       "    </tr>\n",
       "    <tr>\n",
       "      <th>45530</th>\n",
       "      <td>0</td>\n",
       "      <td>0</td>\n",
       "      <td>0</td>\n",
       "      <td>0</td>\n",
       "      <td>1</td>\n",
       "      <td>0</td>\n",
       "      <td>0</td>\n",
       "      <td>0</td>\n",
       "      <td>1</td>\n",
       "      <td>0</td>\n",
       "      <td>...</td>\n",
       "      <td>0</td>\n",
       "      <td>0</td>\n",
       "      <td>0</td>\n",
       "      <td>0</td>\n",
       "      <td>0</td>\n",
       "      <td>0</td>\n",
       "      <td>0</td>\n",
       "      <td>0</td>\n",
       "      <td>0</td>\n",
       "      <td>0</td>\n",
       "    </tr>\n",
       "    <tr>\n",
       "      <th>45531</th>\n",
       "      <td>0</td>\n",
       "      <td>0</td>\n",
       "      <td>1</td>\n",
       "      <td>0</td>\n",
       "      <td>0</td>\n",
       "      <td>0</td>\n",
       "      <td>0</td>\n",
       "      <td>0</td>\n",
       "      <td>1</td>\n",
       "      <td>0</td>\n",
       "      <td>...</td>\n",
       "      <td>0</td>\n",
       "      <td>0</td>\n",
       "      <td>0</td>\n",
       "      <td>0</td>\n",
       "      <td>0</td>\n",
       "      <td>0</td>\n",
       "      <td>0</td>\n",
       "      <td>0</td>\n",
       "      <td>0</td>\n",
       "      <td>0</td>\n",
       "    </tr>\n",
       "  </tbody>\n",
       "</table>\n",
       "<p>45532 rows × 28 columns</p>\n",
       "</div>"
      ],
      "text/plain": [
       "       age_group_+70s  age_group_10s  age_group_20s  age_group_30s  \\\n",
       "0                   0              0              0              1   \n",
       "1                   0              0              1              0   \n",
       "2                   0              0              0              1   \n",
       "3                   0              0              1              0   \n",
       "4                   0              0              1              0   \n",
       "...               ...            ...            ...            ...   \n",
       "45527               0              1              0              0   \n",
       "45528               0              0              0              1   \n",
       "45529               0              1              0              0   \n",
       "45530               0              0              0              0   \n",
       "45531               0              0              1              0   \n",
       "\n",
       "       age_group_40s  age_group_50s  age_group_60s  gender_Female  \\\n",
       "0                  0              0              0              1   \n",
       "1                  0              0              0              1   \n",
       "2                  0              0              0              0   \n",
       "3                  0              0              0              1   \n",
       "4                  0              0              0              0   \n",
       "...              ...            ...            ...            ...   \n",
       "45527              0              0              0              1   \n",
       "45528              0              0              0              0   \n",
       "45529              0              0              0              1   \n",
       "45530              1              0              0              0   \n",
       "45531              0              0              0              0   \n",
       "\n",
       "       gender_Male  race_Arab  ...  religion_Buddhist  \\\n",
       "0                0          0  ...                  0   \n",
       "1                0          0  ...                  0   \n",
       "2                1          0  ...                  0   \n",
       "3                0          0  ...                  0   \n",
       "4                1          0  ...                  0   \n",
       "...            ...        ...  ...                ...   \n",
       "45527            0          0  ...                  0   \n",
       "45528            1          0  ...                  0   \n",
       "45529            0          0  ...                  0   \n",
       "45530            1          0  ...                  0   \n",
       "45531            1          0  ...                  0   \n",
       "\n",
       "       religion_Christian_Catholic  religion_Christian_Mormon  \\\n",
       "0                                0                          0   \n",
       "1                                0                          0   \n",
       "2                                0                          0   \n",
       "3                                0                          0   \n",
       "4                                0                          0   \n",
       "...                            ...                        ...   \n",
       "45527                            0                          0   \n",
       "45528                            0                          0   \n",
       "45529                            0                          0   \n",
       "45530                            0                          0   \n",
       "45531                            0                          0   \n",
       "\n",
       "       religion_Christian_Other  religion_Christian_Protestant  \\\n",
       "0                             0                              0   \n",
       "1                             0                              0   \n",
       "2                             0                              0   \n",
       "3                             0                              0   \n",
       "4                             0                              0   \n",
       "...                         ...                            ...   \n",
       "45527                         0                              0   \n",
       "45528                         0                              0   \n",
       "45529                         1                              0   \n",
       "45530                         0                              0   \n",
       "45531                         0                              0   \n",
       "\n",
       "       religion_Hindu  religion_Jewish  religion_Muslim  religion_Other  \\\n",
       "0                   0                0                0               1   \n",
       "1                   1                0                0               0   \n",
       "2                   0                0                0               1   \n",
       "3                   1                0                0               0   \n",
       "4                   0                0                0               0   \n",
       "...               ...              ...              ...             ...   \n",
       "45527               0                1                0               0   \n",
       "45528               0                0                0               0   \n",
       "45529               0                0                0               0   \n",
       "45530               0                0                0               0   \n",
       "45531               0                0                0               0   \n",
       "\n",
       "       religion_Sikh  \n",
       "0                  0  \n",
       "1                  0  \n",
       "2                  0  \n",
       "3                  0  \n",
       "4                  0  \n",
       "...              ...  \n",
       "45527              0  \n",
       "45528              0  \n",
       "45529              0  \n",
       "45530              0  \n",
       "45531              0  \n",
       "\n",
       "[45532 rows x 28 columns]"
      ]
     },
     "execution_count": 28,
     "metadata": {},
     "output_type": "execute_result"
    }
   ],
   "source": [
    "pd.get_dummies(tr[['age_group', 'gender', 'race', 'religion']])"
   ]
  },
  {
   "cell_type": "code",
   "execution_count": 27,
   "metadata": {
    "ExecuteTime": {
     "end_time": "2020-11-12T12:53:05.429984Z",
     "start_time": "2020-11-12T12:53:05.423271Z"
    }
   },
   "outputs": [
    {
     "data": {
      "text/plain": [
       "['age_group', 'gender', 'race', 'religion']"
      ]
     },
     "execution_count": 27,
     "metadata": {},
     "output_type": "execute_result"
    }
   ],
   "source": [
    "tr.select_dtypes('object').columns.tolist()"
   ]
  },
  {
   "cell_type": "code",
   "execution_count": 915,
   "metadata": {
    "ExecuteTime": {
     "end_time": "2020-11-04T13:00:18.229340Z",
     "start_time": "2020-11-04T13:00:18.214147Z"
    },
    "scrolled": true
   },
   "outputs": [
    {
     "data": {
      "text/plain": [
       "Index(['index', 'QaA', 'QaE', 'QbA', 'QbE', 'QcA', 'QcE', 'QdA', 'QdE', 'QeA',\n",
       "       'QeE', 'QfA', 'QfE', 'QgA', 'QgE', 'QhA', 'QhE', 'QiA', 'QiE', 'QjA',\n",
       "       'QjE', 'QkA', 'QkE', 'QlA', 'QlE', 'QmA', 'QmE', 'QnA', 'QnE', 'QoA',\n",
       "       'QoE', 'QpA', 'QpE', 'QqA', 'QqE', 'QrA', 'QrE', 'QsA', 'QsE', 'QtA',\n",
       "       'QtE', 'age_group', 'education', 'engnat', 'familysize', 'gender',\n",
       "       'hand', 'married', 'race', 'religion', 'tp01', 'tp02', 'tp03', 'tp04',\n",
       "       'tp05', 'tp06', 'tp07', 'tp08', 'tp09', 'tp10', 'urban', 'voted',\n",
       "       'wf_01', 'wf_02', 'wf_03', 'wr_01', 'wr_02', 'wr_03', 'wr_04', 'wr_05',\n",
       "       'wr_06', 'wr_07', 'wr_08', 'wr_09', 'wr_10', 'wr_11', 'wr_12', 'wr_13'],\n",
       "      dtype='object')"
      ]
     },
     "execution_count": 915,
     "metadata": {},
     "output_type": "execute_result"
    }
   ],
   "source": [
    "tr.columns"
   ]
  },
  {
   "cell_type": "code",
   "execution_count": 940,
   "metadata": {
    "ExecuteTime": {
     "end_time": "2020-11-04T13:37:53.181962Z",
     "start_time": "2020-11-04T13:37:53.129511Z"
    }
   },
   "outputs": [],
   "source": [
    "# 원핫인코딩을 진행하면 성능이 어떻게 바뀌지?\n",
    "# mean encoding을 시행하면?\n",
    "ob_col_ls = tr.select_dtypes('object').columns.tolist()\n",
    "\n",
    "le = LabelEncoder()\n",
    "for col in ob_col_ls:\n",
    "    le.fit(tr[col])\n",
    "    tr[col] = le.transform(tr[col])\n",
    "    te[col] = le.transform(te[col])"
   ]
  },
  {
   "cell_type": "markdown",
   "metadata": {},
   "source": [
    "# Feature engineering"
   ]
  },
  {
   "cell_type": "code",
   "execution_count": 8,
   "metadata": {
    "ExecuteTime": {
     "end_time": "2020-11-12T12:23:45.540167Z",
     "start_time": "2020-11-12T12:23:45.528955Z"
    }
   },
   "outputs": [],
   "source": [
    "def col_extract(df):\n",
    "    col_ls = []\n",
    "    for col in df.columns.tolist():\n",
    "        if col[0] == 'Q' and col[-1] == 'E':\n",
    "            col_ls.append(col)\n",
    "            \n",
    "    return col_ls\n",
    "\n",
    "def distribution_plot(df,col):\n",
    "    plt.figure(figsize = (15,10))\n",
    "    sns.distplot(df[df['voted'] == 2][col], hist = False, kde = True,\n",
    "                         kde_kws = {'shade': True, 'linewidth': 1}, label = 'non_voted')\n",
    "    sns.distplot(df[df['voted'] == 1][col], hist = False, kde = True,\n",
    "                     kde_kws = {'shade': True, 'linewidth': 1}, label = 'voted')\n",
    "#     plt.hist(df[df['voted'] == 2][col], label = 'non_voted')\n",
    "#     plt.hist(df[df['voted'] == 1][col], label = 'voted')\n",
    "    plt.show()\n",
    "    \n",
    "def col_extract2(df,string):\n",
    "    col_ls = []\n",
    "    for col in df.columns.tolist():\n",
    "        if string in col:\n",
    "            col_ls.append(col)\n",
    "            \n",
    "    return col_ls\n",
    "\n",
    "def sequence_column_extract(df,string):\n",
    "    col_ls = df.columns.tolist()\n",
    "    col_ls2 = []\n",
    "    for col in col_ls:\n",
    "        if string in col:\n",
    "            col_ls2.append(col)\n",
    "    \n",
    "    return col_ls2\n",
    "\n",
    "def correlation_extract(df, threshold):\n",
    "    cor_df = df.corr().drop(columns = 'index')\n",
    "    col_list = cor_df.columns\n",
    "    \n",
    "    for idx, col in enumerate(col_list):\n",
    "        idx_ls = cor_df[abs(cor_df[col])>=threshold].index.tolist()\n",
    "        print(f'{col} : {idx_ls}')\n",
    "        \n",
    "def col_extract_QA(df):\n",
    "    col_ls = []\n",
    "    for col in df.columns.tolist():\n",
    "        if col[0] == 'Q' and col[-1] == 'A':\n",
    "            col_ls.append(col)\n",
    "            \n",
    "    return col_ls"
   ]
  },
  {
   "cell_type": "markdown",
   "metadata": {},
   "source": [
    "## 다중 공선성 변수 체크\n",
    "    - 임계점: 0.8"
   ]
  },
  {
   "cell_type": "code",
   "execution_count": 12,
   "metadata": {
    "ExecuteTime": {
     "end_time": "2020-11-12T12:28:29.218958Z",
     "start_time": "2020-11-12T12:28:28.872004Z"
    },
    "scrolled": true
   },
   "outputs": [
    {
     "name": "stdout",
     "output_type": "stream",
     "text": [
      "QaA : ['QaA', 'QcA', 'QdA', 'QkA', 'QnA', 'QqA']\n",
      "QaE : ['QaE']\n",
      "QbA : ['QbA', 'QcA', 'QhA', 'QiA', 'QjA', 'QkA', 'QmA', 'QnA', 'QoA', 'QpA', 'QqA', 'QsA', 'QtA']\n",
      "QbE : ['QbE']\n",
      "QcA : ['QaA', 'QbA', 'QcA', 'QiA', 'QjA', 'QkA', 'QmA', 'QnA', 'QoA', 'QpA', 'QqA', 'QtA']\n",
      "QcE : ['QcE']\n",
      "QdA : ['QaA', 'QdA', 'QnA', 'QqA']\n",
      "QdE : ['QdE']\n",
      "QeA : ['QeA']\n",
      "QeE : ['QeE']\n",
      "QfA : ['QfA', 'QgA', 'QiA', 'QkA', 'QmA', 'QnA', 'QoA', 'QrA', 'QsA']\n",
      "QfE : ['QfE']\n",
      "QgA : ['QfA', 'QgA', 'QkA', 'QnA', 'QqA']\n",
      "QgE : ['QgE']\n",
      "QhA : ['QbA', 'QhA', 'QjA', 'QkA', 'QpA', 'QtA']\n",
      "QhE : ['QhE']\n",
      "QiA : ['QbA', 'QcA', 'QfA', 'QiA', 'QjA', 'QkA', 'QmA', 'QnA', 'QoA', 'QqA', 'QrA', 'QsA', 'QtA', 'tp07']\n",
      "QiE : ['QiE']\n",
      "QjA : ['QbA', 'QcA', 'QhA', 'QiA', 'QjA', 'QkA', 'QmA', 'QoA', 'QpA', 'QqA', 'QtA']\n",
      "QjE : ['QjE']\n",
      "QkA : ['QaA', 'QbA', 'QcA', 'QfA', 'QgA', 'QhA', 'QiA', 'QjA', 'QkA', 'QmA', 'QnA', 'QoA', 'QpA', 'QqA', 'QrA', 'QsA', 'QtA', 'tp07']\n",
      "QkE : ['QkE']\n",
      "QlA : ['QlA']\n",
      "QlE : ['QlE']\n",
      "QmA : ['QbA', 'QcA', 'QfA', 'QiA', 'QjA', 'QkA', 'QmA', 'QnA', 'QoA', 'QpA', 'QsA', 'QtA']\n",
      "QmE : ['QmE']\n",
      "QnA : ['QaA', 'QbA', 'QcA', 'QdA', 'QfA', 'QgA', 'QiA', 'QkA', 'QmA', 'QnA', 'QoA', 'QqA', 'QrA', 'QsA', 'QtA']\n",
      "QnE : ['QnE']\n",
      "QoA : ['QbA', 'QcA', 'QfA', 'QiA', 'QjA', 'QkA', 'QmA', 'QnA', 'QoA', 'QpA', 'QsA', 'QtA']\n",
      "QoE : ['QoE']\n",
      "QpA : ['QbA', 'QcA', 'QhA', 'QjA', 'QkA', 'QmA', 'QoA', 'QpA', 'QqA', 'QtA']\n",
      "QpE : ['QpE']\n",
      "QqA : ['QaA', 'QbA', 'QcA', 'QdA', 'QgA', 'QiA', 'QjA', 'QkA', 'QnA', 'QpA', 'QqA', 'QtA', 'tp07']\n",
      "QqE : ['QqE']\n",
      "QrA : ['QfA', 'QiA', 'QkA', 'QnA', 'QrA']\n",
      "QrE : ['QrE']\n",
      "QsA : ['QbA', 'QfA', 'QiA', 'QkA', 'QmA', 'QnA', 'QoA', 'QsA', 'QtA']\n",
      "QsE : ['QsE']\n",
      "QtA : ['QbA', 'QcA', 'QhA', 'QiA', 'QjA', 'QkA', 'QmA', 'QnA', 'QoA', 'QpA', 'QqA', 'QsA', 'QtA', 'tp07']\n",
      "QtE : ['QtE']\n",
      "education : ['education', 'voted']\n",
      "engnat : ['engnat']\n",
      "familysize : ['familysize']\n",
      "hand : ['hand']\n",
      "married : ['married']\n",
      "tp01 : ['tp01', 'tp06']\n",
      "tp02 : ['tp02']\n",
      "tp03 : ['tp03', 'tp08']\n",
      "tp04 : ['tp04', 'tp09']\n",
      "tp05 : ['tp05']\n",
      "tp06 : ['tp01', 'tp06']\n",
      "tp07 : ['QiA', 'QkA', 'QqA', 'QtA', 'tp07']\n",
      "tp08 : ['tp03', 'tp08']\n",
      "tp09 : ['tp04', 'tp09']\n",
      "tp10 : ['tp10']\n",
      "urban : ['urban']\n",
      "voted : ['education', 'voted']\n",
      "wf_01 : ['wf_01']\n",
      "wf_02 : ['wf_02']\n",
      "wf_03 : ['wf_03']\n",
      "wr_01 : ['wr_01', 'wr_04', 'wr_05', 'wr_11', 'wr_13']\n",
      "wr_02 : ['wr_02', 'wr_04', 'wr_05', 'wr_07', 'wr_08', 'wr_10', 'wr_12', 'wr_13']\n",
      "wr_03 : ['wr_03', 'wr_06', 'wr_09', 'wr_11']\n",
      "wr_04 : ['wr_01', 'wr_02', 'wr_04', 'wr_05', 'wr_07', 'wr_10', 'wr_12', 'wr_13']\n",
      "wr_05 : ['wr_01', 'wr_02', 'wr_04', 'wr_05', 'wr_07', 'wr_08', 'wr_10', 'wr_12', 'wr_13']\n",
      "wr_06 : ['wr_03', 'wr_06', 'wr_09']\n",
      "wr_07 : ['wr_02', 'wr_04', 'wr_05', 'wr_07', 'wr_08', 'wr_10', 'wr_12', 'wr_13']\n",
      "wr_08 : ['wr_02', 'wr_05', 'wr_07', 'wr_08', 'wr_10', 'wr_12', 'wr_13']\n",
      "wr_09 : ['wr_03', 'wr_06', 'wr_09', 'wr_11']\n",
      "wr_10 : ['wr_02', 'wr_04', 'wr_05', 'wr_07', 'wr_08', 'wr_10', 'wr_12', 'wr_13']\n",
      "wr_11 : ['wr_01', 'wr_03', 'wr_09', 'wr_11']\n",
      "wr_12 : ['wr_02', 'wr_04', 'wr_05', 'wr_07', 'wr_08', 'wr_10', 'wr_12', 'wr_13']\n",
      "wr_13 : ['wr_01', 'wr_02', 'wr_04', 'wr_05', 'wr_07', 'wr_08', 'wr_10', 'wr_12', 'wr_13']\n"
     ]
    }
   ],
   "source": [
    "correlation_extract(tr,0.3)"
   ]
  },
  {
   "cell_type": "markdown",
   "metadata": {},
   "source": [
    "## 성능개선 변수"
   ]
  },
  {
   "cell_type": "code",
   "execution_count": 13,
   "metadata": {
    "ExecuteTime": {
     "end_time": "2020-11-12T12:29:26.769594Z",
     "start_time": "2020-11-12T12:29:26.720768Z"
    }
   },
   "outputs": [],
   "source": [
    "# 각 로우별 응답 시간 통계\n",
    "# 응답시간 합\n",
    "tr['Q_E_sum'] = tr[col_extract(tr)].sum(axis=1)\n",
    "# 응답시간 평균\n",
    "#tr['Q_E_mean'] = tr[col_extract(tr)].mean(axis=1)\n",
    "# 응답시간 중앙값\n",
    "tr['Q_E_median'] = tr[col_extract(tr)].median(axis=1)\n",
    "\n",
    "# 성능개선 확인해봐야 함\n",
    "# 편차 데이터 생성\n",
    "# max - min diff -> 확인해봐야함\n",
    "# tr['Q_E_diff'] = tr[col_extract(tr)].max(axis=1) - tr[col_extract(tr)].min(axis=1) \n",
    "\n",
    "\n",
    "# 의미가 있을지 모르겠는데 부여한 점수 대비 소요된 시간\n",
    "# for col in col_extract(tr):\n",
    "#     t\n",
    "# tr['temp'] = tr['QaA'] / tr['QaE']\n",
    "# sns.kdeplot(tr[tr['voted'] == 1]['temp'], label = 'vote')\n",
    "# sns.kdeplot(tr[tr['voted'] == 2]['temp'], label = 'non_vote')\n",
    "\n",
    "# 응답시간분포는 거의비슷\n",
    "\n",
    "te['Q_E_sum'] = te[col_extract(te)].sum(axis=1)\n",
    "#te['Q_E_mean'] = te[col_extract(te)].mean(axis=1)\n",
    "te['Q_E_median'] = te[col_extract(te)].median(axis=1)\n",
    "\n",
    "# te['Q_E_diff'] = te[col_extract(tr)].max(axis=1) - te[col_extract(tr)].min(axis=1) \n"
   ]
  },
  {
   "cell_type": "code",
   "execution_count": 14,
   "metadata": {
    "ExecuteTime": {
     "end_time": "2020-11-12T12:29:29.881312Z",
     "start_time": "2020-11-12T12:29:29.837970Z"
    }
   },
   "outputs": [],
   "source": [
    "# 교육수준 less than high school 변수\n",
    "# 성능향상에 기여\n",
    "tr['education_ft1'] = tr['education'].apply(lambda x: 2 if x == 1 else 1)\n",
    "# 교육수준 1,2 묶고 / 3,4 묶고\n",
    "tr['education_ft2'] = tr['education'].apply(lambda x: 2 if x in [1,2] else 1)\n",
    "\n",
    "te['education_ft1'] = te['education'].apply(lambda x: 2 if x == 1 else 1)\n",
    "te['education_ft2'] = te['education'].apply(lambda x: 2 if x in [1,2] else 1)"
   ]
  },
  {
   "cell_type": "code",
   "execution_count": 15,
   "metadata": {
    "ExecuteTime": {
     "end_time": "2020-11-12T12:29:30.341153Z",
     "start_time": "2020-11-12T12:29:30.010592Z"
    }
   },
   "outputs": [],
   "source": [
    "# married투표를 하지 않은 비율\n",
    "# 성능향상에 기여\n",
    "temp = tr.groupby(['married','voted'])['index'].count().reset_index()\n",
    "temp2_married = temp[temp['voted'] == 2].reset_index()\n",
    "married_value = temp[temp['voted'] == 2]['index'].reset_index()['index'] / temp.groupby('married')['index'].sum().reset_index()['index']\n",
    "temp2_married['married_value'] = married_value\n",
    "\n",
    "married_ratio_encoding = temp2_married[['married','married_value']]\n",
    "tr = pd.merge(tr, married_ratio_encoding, on = 'married', how = 'left')\n",
    "te = pd.merge(te, married_ratio_encoding, on = 'married', how = 'left')"
   ]
  },
  {
   "cell_type": "code",
   "execution_count": 16,
   "metadata": {
    "ExecuteTime": {
     "end_time": "2020-11-12T12:29:30.682874Z",
     "start_time": "2020-11-12T12:29:30.342972Z"
    }
   },
   "outputs": [],
   "source": [
    "# 연령대별 투표하지 않는 비율\n",
    "# 성능향상에 기여\n",
    "temp = tr.groupby(['age_group','voted'])['index'].count().reset_index()\n",
    "temp2_age_group = temp[temp['voted'] == 2].reset_index()\n",
    "age_group_value = temp[temp['voted'] == 2]['index'].reset_index()['index'] / temp.groupby('age_group')['index'].sum().reset_index()['index']\n",
    "temp2_age_group['age_group_value'] = age_group_value\n",
    "\n",
    "age_group_ratio_encoding = temp2_age_group[['age_group','age_group_value']]\n",
    "tr = pd.merge(tr, age_group_ratio_encoding, on = 'age_group', how = 'left')\n",
    "te = pd.merge(te, age_group_ratio_encoding, on = 'age_group', how = 'left')"
   ]
  },
  {
   "cell_type": "code",
   "execution_count": 17,
   "metadata": {
    "ExecuteTime": {
     "end_time": "2020-11-12T12:29:31.150148Z",
     "start_time": "2020-11-12T12:29:31.142760Z"
    }
   },
   "outputs": [],
   "source": [
    "tr['age_married_value_sum'] = tr['age_group_value'] + tr['married_value']\n",
    "tr['age_married_value_divide'] = tr['age_group_value'] / tr['married_value']\n",
    "\n",
    "te['age_married_value_sum'] = te['age_group_value'] + te['married_value']\n",
    "te['age_married_value_divide'] = te['age_group_value'] / te['married_value']"
   ]
  },
  {
   "cell_type": "code",
   "execution_count": 18,
   "metadata": {
    "ExecuteTime": {
     "end_time": "2020-11-12T12:29:32.348206Z",
     "start_time": "2020-11-12T12:29:32.220488Z"
    }
   },
   "outputs": [],
   "source": [
    "# 성능향상에 기여\n",
    "# 해당 단어의 정의를 하는 합산\n",
    "tr['wr_sum'] = tr[col_extract2(tr,'wr')].sum(axis=1)\n",
    "# 허구인 단어의 정의를 합산\n",
    "tr['wf_sum'] = tr[col_extract2(tr,'wf')].sum(axis=1)\n",
    "# 해당 단어 정의 + 허구 단어 정의 \n",
    "# 성능향상에 기여\n",
    "tr['wr_wr_sum'] = tr['wr_sum'] + tr['wr_sum']\n",
    "tr['wf_wf_sum'] = tr['wf_sum'] + tr['wf_sum']\n",
    "tr['wr_wf_sum'] = tr['wr_sum'] + tr['wf_sum']\n",
    "\n",
    "# diff변수도 추가 해보기\n",
    "tr['wr_wf_diff'] = tr['wr_sum'] - tr['wf_sum']\n",
    "tr['wr_wf_mul'] = tr['wr_sum'] * tr['wf_sum']\n",
    "\n",
    "te['wr_sum'] = te[col_extract2(te,'wr')].sum(axis=1)\n",
    "te['wf_sum'] = te[col_extract2(te,'wf')].sum(axis=1)\n",
    "\n",
    "te['wr_wr_sum'] = te['wr_sum'] + te['wr_sum']\n",
    "te['wf_wf_sum'] = te['wf_sum'] + te['wf_sum']\n",
    "te['wr_wf_sum'] = te['wr_sum'] + te['wf_sum']\n",
    "\n",
    "te['wr_wf_diff'] = te['wr_sum'] - te['wf_sum']\n",
    "te['wr_wf_mul'] = te['wr_sum'] * te['wf_sum']\n"
   ]
  },
  {
   "cell_type": "code",
   "execution_count": 19,
   "metadata": {
    "ExecuteTime": {
     "end_time": "2020-11-12T12:29:51.489555Z",
     "start_time": "2020-11-12T12:29:51.127342Z"
    }
   },
   "outputs": [],
   "source": [
    "# 마키아벨리니즘 테스트 스코어 컬럼 추가\n",
    "# Q_A 관련 변수들의 값이 모두 변하게 되었는데 이대로 돌려보자\n",
    "Answers = ['QaA', 'QbA', 'QcA', 'QdA', 'QeA',\n",
    "             'QfA', 'QgA', 'QhA', 'QiA', 'QjA', \n",
    "             'QkA', 'QlA', 'QmA', 'QnA', 'QoA', \n",
    "             'QpA', 'QqA', 'QrA', 'QsA', 'QtA']\n",
    "\n",
    "correlations = tr[Answers].corr(method = 'spearman')\n",
    "# sns.heatmap(correlations, cmap=\"coolwarm\", square=True, center=0)\n",
    "\n",
    "flipping_columns = [\"QeA\", \"QfA\", \"QkA\", \"QqA\", \"QrA\"]\n",
    "for flip in flipping_columns: \n",
    "    tr[flip] = 6 - tr[flip]\n",
    "    te[flip] = 6 - te[flip]\n",
    "    \n",
    "correlations = tr[Answers].corr(method = 'spearman')\n",
    "# sns.heatmap(correlations, cmap=\"coolwarm\", square=True, center=0)\n",
    "\n",
    "flipping_secret_columns = [\"QaA\", \"QdA\", \"QgA\", \"QiA\", \"QnA\"]\n",
    "for flip in flipping_secret_columns: \n",
    "    tr[flip] = 6 - tr[flip]\n",
    "    te[flip] = 6 - te[flip]\n",
    "correlations = tr[Answers].corr(method='spearman')\n",
    "# sns.heatmap(correlations, cmap=\"coolwarm\", square=True, center=0)\n",
    "\n",
    "tr['Mach_score'] = tr[Answers].mean(axis = 1)\n",
    "te['Mach_score'] = te[Answers].mean(axis = 1)"
   ]
  },
  {
   "cell_type": "code",
   "execution_count": 21,
   "metadata": {
    "ExecuteTime": {
     "end_time": "2020-11-12T12:46:22.170336Z",
     "start_time": "2020-11-12T12:46:22.166569Z"
    }
   },
   "outputs": [
    {
     "data": {
      "text/plain": [
       "94"
      ]
     },
     "execution_count": 21,
     "metadata": {},
     "output_type": "execute_result"
    }
   ],
   "source": [
    "# 시간 변수들 로그화\n",
    "# sns.kdeplot(np.log10(tr['QfE']))\n",
    "qe_col = col_extract(tr)\n",
    "\n",
    "for col in qe_col:\n",
    "    tr[col + '_log'] = np.log10(tr[col])\n",
    "    \n",
    "for col in qe_col:\n",
    "    te[col + '_log'] = np.log10(te[col])\n",
    "\n",
    "tr = tr.drop(columns = qe_col)    \n",
    "te = te.drop(columns = qe_col)\n",
    "\n",
    "columns_ls = [\n",
    "    'QaE', 'QbE', 'QcE', 'QdE', 'QeE',\n",
    "     'QfE', 'QgE', 'QhE', 'QiE', 'QjE',\n",
    "     'QkE', 'QlE', 'QmE', 'QnE', 'QoE',\n",
    "     'QpE', 'QqE', 'QrE', 'QsE', 'QtE',\n",
    "     'hand'\n",
    "]\n",
    "tr = tr.drop(columns = columns_ls)\n",
    "te = te.drop(columns = columns_ls)"
   ]
  },
  {
   "cell_type": "markdown",
   "metadata": {},
   "source": [
    "## 성능 비개선 변수"
   ]
  },
  {
   "cell_type": "code",
   "execution_count": null,
   "metadata": {},
   "outputs": [],
   "source": [
    "# 전혀 쓸모없\n",
    "tr['Q_E_std'] = tr[col_extract(tr)].std(axis = 1)\n",
    "\n",
    "# max, min값 생성\n",
    "# min만 넣어서\n",
    "tr['Q_E_min'] = tr[col_extract(tr)].min(axis = 1)\n",
    "# 전혀 쓸모없\n",
    "tr['Q_E_max'] = tr[col_extract(tr)].max(axis = 1)\n",
    "\n",
    "# tr['diff'] 도 성능이 굉장히 떨어질 것이라 예상"
   ]
  },
  {
   "cell_type": "code",
   "execution_count": 333,
   "metadata": {
    "ExecuteTime": {
     "end_time": "2020-10-28T14:53:59.453943Z",
     "start_time": "2020-10-28T14:53:59.194596Z"
    }
   },
   "outputs": [],
   "source": [
    "# edu 투표를 하지 않을 비율\n",
    "# 성능향상에 비기여\n",
    "temp = tr.groupby(['education','voted'])['index'].count().reset_index()\n",
    "temp2_edu = temp[temp['voted'] == 2].reset_index()\n",
    "edu_value = temp[temp['voted'] == 2]['index'].reset_index()['index'] / temp.groupby('education')['index'].sum().reset_index()['index']\n",
    "temp2_edu['edu_value'] = edu_value\n",
    "\n",
    "edu_ratio_encoding = temp2_edu[['education','edu_value']]\n",
    "tr = pd.merge(tr, edu_ratio_encoding, on = 'education', how = 'left')\n",
    "te = pd.merge(te, edu_ratio_encoding, on = 'education', how = 'left')"
   ]
  },
  {
   "cell_type": "code",
   "execution_count": 267,
   "metadata": {
    "ExecuteTime": {
     "end_time": "2020-10-28T14:22:15.194450Z",
     "start_time": "2020-10-28T14:22:15.171296Z"
    }
   },
   "outputs": [],
   "source": [
    "# 결혼여부 1,2 묶고 / 3,4 묶고\n",
    "# 성능향상에 비기여\n",
    "tr['married_ft1'] = tr['married'].apply(lambda x: 2 if x == 1 else 1)\n",
    "\n",
    "te['married_ft1'] = te['married'].apply(lambda x: 2 if x == 1 else 1)"
   ]
  },
  {
   "cell_type": "code",
   "execution_count": 372,
   "metadata": {
    "ExecuteTime": {
     "end_time": "2020-10-30T13:12:26.174428Z",
     "start_time": "2020-10-30T13:12:26.145669Z"
    }
   },
   "outputs": [],
   "source": [
    "# 연령대구분\n",
    "# 10대, 20대-30대, 40대 이상\n",
    "# 성능향상에 비기여\n",
    "tr['age_group_ft1'] = tr['age_group'].apply(lambda x: 1 if x in [1] else (2 if x in [2,3] else 3))\n",
    "\n",
    "te['age_group_ft1'] = te['age_group'].apply(lambda x: 1 if x in [1] else (2 if x in [2,3] else 3))"
   ]
  },
  {
   "cell_type": "code",
   "execution_count": null,
   "metadata": {},
   "outputs": [],
   "source": [
    "# 카테고리컬한 변수를 활용하여 어떻게 피쳐를 생성할 수 있을지 고민\n",
    "\n",
    "\n",
    "# 성능개선 여부 확인해봐야 함\n",
    "# 카테고리 변수들 combination\n",
    "# 인종 + 종교\n",
    "temp_df = tr.groupby(['race','religion','voted'])['index'].count().reset_index()\n",
    "\n",
    "temp_df['rac_rel_com'] = temp_df['race'].astype('str') + temp_df['religion'].astype('str')\n",
    "\n",
    "temp_df2 = temp_df.groupby('rac_rel_com')\\\n",
    "    ['index'].sum().\\\n",
    "    reset_index(name = 'idx_sum')\n",
    "\n",
    "temp_df3 = pd.merge(\n",
    "    temp_df2, \n",
    "    temp_df[temp_df['voted'] == 2],\n",
    "    on = 'rac_rel_com',\n",
    "    how = 'left'\n",
    ")\n",
    "\n",
    "temp_df3 = temp_df3.fillna(0)\n",
    "\n",
    "temp_df3['ratio'] = temp_df3['index'] / temp_df3['idx_sum']\n",
    "#temp_df3['rac_rel_index'] = temp_df3['ratio'].apply(lambda x: 1 if x < 0.4 else (2 if x > 0.6 else 0))\n",
    "#temp_df4 = temp_df3[(temp_df3['idx_sum'] >= 50) & (temp_df3['ratio'] >= 0.6)]\n",
    "temp_df3['rac_rel_index'] = temp_df3['ratio'].apply(lambda x: 2 if x > 0.6 else 1)\n",
    "\n",
    "tr['rac_rel_com'] = tr['race'].astype('str') + tr['religion'].astype('str')\n",
    "te['rac_rel_com'] = te['race'].astype('str') + te['religion'].astype('str')\n",
    "\n",
    "tr = pd.merge(\n",
    "    tr,\n",
    "    temp_df3[['rac_rel_com','rac_rel_index']],\n",
    "    on = 'rac_rel_com',\n",
    "    how = 'left'\n",
    ")\n",
    "\n",
    "te = pd.merge(\n",
    "    te,\n",
    "    temp_df3[['rac_rel_com','rac_rel_index']],\n",
    "    on = 'rac_rel_com',\n",
    "    how = 'left'\n",
    ")\n",
    "\n",
    "te.drop(columns = ['rac_rel_com'], inplace = True)\n",
    "tr.drop(columns = ['rac_rel_com'], inplace = True)\n",
    "\n",
    "\n",
    "# 연령대 + 결혼여부\n",
    "temp_df = tr.groupby(['age_group','married','voted'])['index'].count().reset_index()\n",
    "\n",
    "temp_df['age_mar_com'] = temp_df['age_group'].astype('str') + temp_df['married'].astype('str')\n",
    "\n",
    "temp_df2 = temp_df.groupby('age_mar_com')\\\n",
    "    ['index'].sum().\\\n",
    "    reset_index(name = 'idx_sum')\n",
    "\n",
    "temp_df3 = pd.merge(\n",
    "    temp_df2, \n",
    "    temp_df[temp_df['voted'] == 2],\n",
    "    on = 'age_mar_com',\n",
    "    how = 'left'\n",
    ")\n",
    "\n",
    "temp_df3 = temp_df3.fillna(0)\n",
    "\n",
    "temp_df3['ratio'] = temp_df3['index'] / temp_df3['idx_sum']\n",
    "#temp_df3['age_mar_index'] = temp_df3['ratio'].apply(lambda x: 1 if x < 0.4 else (2 if x > 0.6 else 0))\n",
    "temp_df3['age_mar_index'] = temp_df3['ratio'].apply(lambda x: 2 if x > 0.6 else 1)\n",
    "#temp_df4 = temp_df3[(temp_df3['idx_sum'] >= 50) & (temp_df3['ratio'] >= 0.5)]\n",
    "\n",
    "tr['age_mar_com'] = tr['age_group'].astype('str') + tr['married'].astype('str')\n",
    "te['age_mar_com'] = te['age_group'].astype('str') + te['married'].astype('str')\n",
    "\n",
    "tr = pd.merge(\n",
    "    tr,\n",
    "    temp_df3[['age_mar_com','age_mar_index']],\n",
    "    on = 'age_mar_com',\n",
    "    how = 'left'\n",
    ")\n",
    "\n",
    "te = pd.merge(\n",
    "    te,\n",
    "    temp_df3[['age_mar_com','age_mar_index']],\n",
    "    on = 'age_mar_com',\n",
    "    how = 'left'\n",
    ")\n",
    "\n",
    "te.drop(columns = ['age_mar_com'], inplace = True)\n",
    "tr.drop(columns = ['age_mar_com'], inplace = True)\n",
    "\n",
    "te['age_mar_index'] = te['age_mar_index'].fillna(0)\n",
    "te['age_mar_index'] = te['age_mar_index'].astype('int64')"
   ]
  },
  {
   "cell_type": "code",
   "execution_count": 516,
   "metadata": {
    "ExecuteTime": {
     "end_time": "2020-10-30T14:24:16.913325Z",
     "start_time": "2020-10-30T14:24:16.866755Z"
    }
   },
   "outputs": [],
   "source": [
    "# tp변수도 기존 tp변수 제외하고 mean encoding한 것으로 제출해보기\n",
    "# tp 데이터 관련 FE\n",
    "# 6,9,3,7,8,1,10\n",
    "# 현상태에서 성능향상에 비기여\n",
    "\n",
    "#tr.groupby(['tp08','voted'])['index'].count().reset_index()\n",
    "\n",
    "# tp관련해서 점수를 만들어도 될 듯(sum)\n",
    "seq_col_ls = sequence_column_extract(tr,'tp')\n",
    "tr['tp_sum'] = tr[seq_col_ls].sum(axis = 1)\n",
    "te['tp_sum'] = te[seq_col_ls].sum(axis = 1)\n",
    "\n",
    "# 투표를 하지 않을 확률\n",
    "# seq_col_ls2 = ['tp01',\n",
    "#              'tp03',\n",
    "#              'tp06',\n",
    "#              'tp07',\n",
    "#              'tp08',\n",
    "#              'tp09',\n",
    "#              'tp10']\n",
    "\n",
    "# for col in seq_col_ls2:\n",
    "#     temp = tr.groupby([col,'voted'])['index'].count().reset_index()\n",
    "#     temp2 = temp[temp['voted'] == 2].reset_index()\n",
    "#     temp_value = temp[temp['voted'] == 2]['index'].reset_index()['index'] / temp.groupby(col)['index'].sum().reset_index()['index']\n",
    "#     temp2[col+'non_voted_value'] = temp_value\n",
    "\n",
    "#     temp_encoding = temp2[[col,col+'non_voted_value']]\n",
    "#     tr = pd.merge(tr, temp_encoding, on = col, how = 'left')\n",
    "#     te = pd.merge(te, temp_encoding, on = col, how = 'left')"
   ]
  },
  {
   "cell_type": "code",
   "execution_count": null,
   "metadata": {
    "ExecuteTime": {
     "end_time": "2020-10-31T15:59:03.704149Z",
     "start_time": "2020-10-31T15:59:03.585752Z"
    }
   },
   "outputs": [],
   "source": [
    "def QA_voted_dist(df, qa_col, numbering):\n",
    "    temp = tr.groupby([qa_col[numbering], 'voted'])['index'].count().reset_index()\n",
    "    print(temp)\n",
    "    \n",
    "for idx in range(len(qa_col_list)):\n",
    "    print(qa_col_list[idx])\n",
    "    QA_voted_dist(tr, qa_col_list, idx)"
   ]
  },
  {
   "cell_type": "code",
   "execution_count": null,
   "metadata": {},
   "outputs": [],
   "source": [
    "# Qa 답변별 투표여부 분포\n",
    "qa_col_list = col_extract_QA(tr)\n",
    "\n",
    "# voted = 2 mean encoding\n",
    "# Q_A 관련해서 mean_encoding는 성능이 더 떨어짐\n",
    "for col in qa_col_list:\n",
    "    temp = tr.groupby([col,'voted'])['index'].count().reset_index()\n",
    "    temp2 = temp[temp['voted'] == 2].reset_index()\n",
    "    temp_value = temp[temp['voted'] == 2]['index'].reset_index()['index'] / temp.groupby(col)['index'].sum().reset_index()['index']\n",
    "    temp2[col+'non_voted_value'] = temp_value\n",
    "\n",
    "    temp_encoding = temp2[[col,col+'non_voted_value']]\n",
    "    tr = pd.merge(tr, temp_encoding, on = col, how = 'left')\n",
    "    te = pd.merge(te, temp_encoding, on = col, how = 'left')"
   ]
  },
  {
   "cell_type": "code",
   "execution_count": null,
   "metadata": {},
   "outputs": [],
   "source": [
    "# tp변수들로 하여금 점수를 부여한것의 분포도 그리기\n",
    "\n",
    "# tp변수들 기준으로 답장별 투표, 비투표 분포차이가 비슷한 것들만 뽑아서 통계 데이터\n",
    "# 생성\n",
    "seq_col_ls = sequence_column_extract(tr,'tp')\n",
    "\n",
    "for col in seq_col_ls:\n",
    "    for i in [1,2]:\n",
    "        sns.kdeplot(\n",
    "            tr[tr['voted'] == i][col],\n",
    "            label=i,\n",
    "            legend=True\n",
    "        )\n",
    "    plt.title(col)\n",
    "    plt.show()"
   ]
  },
  {
   "cell_type": "code",
   "execution_count": null,
   "metadata": {},
   "outputs": [],
   "source": [
    "tr['tp02_category'] = tr['tp02'].apply(\n",
    "    lambda x: 2 if x in [0,1,2,3] else (1 if x in [5,6] else 0)\n",
    ")\n",
    "\n",
    "tr['tp03_category'] = tr['tp03'].apply(\n",
    "    lambda x: 2 if x in [2,3,4,5,6] else (1 if x in [0] else 0)\n",
    ")\n",
    "\n",
    "tr['tp04_category'] = tr['tp04'].apply(\n",
    "    lambda x: 2 if x in [0,1] else (1 if x in [4,5,6] else 0)\n",
    ")\n",
    "\n",
    "tr['tp06_category'] = tr['tp06'].apply(\n",
    "    lambda x: 2 if x in [0,1,2] else (1 if x in [5,6] else 0)\n",
    ")\n",
    "\n",
    "tr['tp07_category'] = tr['tp07'].apply(\n",
    "    lambda x: 2 if x in [2,3,4,5,6] else (1 if x in [0,1] else 0)\n",
    ")\n",
    "\n",
    "tr['tp08_category'] = tr['tp08'].apply(\n",
    "    lambda x: 2 if x in [0,1,2,3] else (1 if x in [5,6] else 0)\n",
    ")\n",
    "\n",
    "tr['tp09_category'] = tr['tp09'].apply(\n",
    "    lambda x: 2 if x in [5,6] else (1 if x in [0,1] else 0)\n",
    ")\n",
    "\n",
    "# tr['tp04'] + tr['tp06'] + tr['tp08']\n",
    "\n",
    "\n",
    "te['tp02_category'] = te['tp02'].apply(\n",
    "    lambda x: 2 if x in [0,1,2,3] else (1 if x in [5,6] else 0)\n",
    ")\n",
    "\n",
    "te['tp03_category'] = te['tp03'].apply(\n",
    "    lambda x: 2 if x in [2,3,4,5,6] else (1 if x in [0] else 0)\n",
    ")\n",
    "\n",
    "te['tp04_category'] = te['tp04'].apply(\n",
    "    lambda x: 2 if x in [0,1] else (1 if x in [4,5,6] else 0)\n",
    ")\n",
    "\n",
    "te['tp06_category'] = te['tp06'].apply(\n",
    "    lambda x: 2 if x in [0,1,2] else (1 if x in [5,6] else 0)\n",
    ")\n",
    "\n",
    "te['tp07_category'] = te['tp07'].apply(\n",
    "    lambda x: 2 if x in [2,3,4,5,6] else (1 if x in [0,1] else 0)\n",
    ")\n",
    "\n",
    "te['tp08_category'] = te['tp08'].apply(\n",
    "    lambda x: 2 if x in [0,1,2,3] else (1 if x in [5,6] else 0)\n",
    ")\n",
    "\n",
    "te['tp09_category'] = te['tp09'].apply(\n",
    "    lambda x: 2 if x in [5,6] else (1 if x in [0,1] else 0)\n",
    ")"
   ]
  },
  {
   "cell_type": "code",
   "execution_count": null,
   "metadata": {},
   "outputs": [],
   "source": [
    "# kmeans 변수: float 변수만 넣는 것이 좋나?\n",
    "# qa / qe는 군집을 제대로 나누지 못함\n",
    "\n",
    "tp_col = sequence_column_extract(tr,'tp')\n",
    "\n",
    "b = tr[tp_col]\n",
    "b['training'] = 'train'\n",
    "c = te[tp_col]\n",
    "c['training'] = 'test'\n",
    "\n",
    "d = pd.concat([b,c],axis = 0)\n",
    "e = d.drop(columns = 'training')\n",
    "\n",
    "numeric_var = e.columns.tolist()\n",
    "\n",
    "ks = range(1,10)\n",
    "\n",
    "inertias = []\n",
    "for k in ks:\n",
    "\n",
    "    model = KMeans(n_clusters=k)\n",
    "\n",
    "    model.fit(e)\n",
    "\n",
    "    inertias.append(model.inertia_)\n",
    "    \n",
    "plt.plot(ks, inertias, '-o')\n",
    "plt.xlabel('number of clusters, k')\n",
    "plt.ylabel('inertia')\n",
    "plt.xticks(ks)\n",
    "plt.show()\n",
    "\n",
    "model = KMeans(n_clusters=3,algorithm='auto')\n",
    "model.fit(e)\n",
    "predict = pd.DataFrame(model.predict(e))\n",
    "\n",
    "d['tp_cluster'] = predict[0]\n",
    "\n",
    "tr['tp_cluster'] = d[d['training'] == 'train']['tp_cluster']\n",
    "te['tp_cluster'] = d[d['training'] == 'test']['tp_cluster']"
   ]
  },
  {
   "cell_type": "code",
   "execution_count": null,
   "metadata": {},
   "outputs": [],
   "source": [
    "# kmeans 변수: float 변수만 넣는 것이 좋나?\n",
    "# qa / qe는 군집을 제대로 나누지 못함\n",
    "\n",
    "wr_col = sequence_column_extract(tr,'wr')\n",
    "\n",
    "b = tr[wr_col]\n",
    "b['training'] = 'train'\n",
    "c = te[wr_col]\n",
    "c['training'] = 'test'\n",
    "\n",
    "d = pd.concat([b,c],axis = 0)\n",
    "e = d.drop(columns = 'training')\n",
    "\n",
    "numeric_var = e.columns.tolist()\n",
    "\n",
    "ks = range(1,10)\n",
    "\n",
    "inertias = []\n",
    "for k in ks:\n",
    "\n",
    "    model = KMeans(n_clusters=k)\n",
    "\n",
    "    model.fit(e)\n",
    "\n",
    "    inertias.append(model.inertia_)\n",
    "    \n",
    "plt.plot(ks, inertias, '-o')\n",
    "plt.xlabel('number of clusters, k')\n",
    "plt.ylabel('inertia')\n",
    "plt.xticks(ks)\n",
    "plt.show()\n",
    "\n",
    "model = KMeans(n_clusters=5,algorithm='auto')\n",
    "model.fit(e)\n",
    "predict = pd.DataFrame(model.predict(e))\n",
    "\n",
    "d['wr_cluster'] = predict[0]\n",
    "\n",
    "tr['wr_cluster'] = d[d['training'] == 'train']['wr_cluster']\n",
    "te['wr_cluster'] = d[d['training'] == 'test']['wr_cluster']"
   ]
  },
  {
   "cell_type": "code",
   "execution_count": null,
   "metadata": {},
   "outputs": [],
   "source": [
    "# 데이터 더미변수화\n",
    "tr2 = pd.get_dummies([dummy_col_ls])"
   ]
  },
  {
   "cell_type": "code",
   "execution_count": null,
   "metadata": {},
   "outputs": [],
   "source": [
    "# 데이터 더미화\n",
    "tr2 = pd.read_csv(os.path.join(data_file_path,'train.csv'))\n",
    "te2 = pd.read_csv(os.path.join(data_file_path,'test_x.csv'))\n",
    "\n",
    "tr = pd.concat([tr,pd.get_dummies(tr2[['age_group', 'gender', 'race', 'religion']])],axis = 1)\n",
    "tr = tr.drop(columns = ['age_group', 'gender', 'race', 'religion'])\n",
    "\n",
    "te = pd.concat([te,pd.get_dummies(te2[['age_group', 'gender', 'race', 'religion']])],axis = 1)\n",
    "te = te.drop(columns = ['age_group', 'gender', 'race', 'religion'])\n",
    "\n",
    "\n",
    "# 카테고리컬한 변수 전혀 필요 없었음\n",
    "for col in ['age_group', 'education', 'engnat', 'familysize', 'gender', 'hand','married', 'race', 'religion','urban']:\n",
    "    tr[col] = tr[col].astype('category')\n",
    "\n",
    "for col in ['age_group', 'education', 'engnat', 'familysize', 'gender', 'hand','married', 'race', 'religion','urban']:\n",
    "    te[col] = te[col].astype('category')"
   ]
  },
  {
   "cell_type": "markdown",
   "metadata": {},
   "source": [
    "# 혹시모르는 변수 소거"
   ]
  },
  {
   "cell_type": "code",
   "execution_count": 563,
   "metadata": {
    "ExecuteTime": {
     "end_time": "2020-10-31T06:07:31.671561Z",
     "start_time": "2020-10-31T06:07:31.577553Z"
    }
   },
   "outputs": [],
   "source": [
    "# 변수 소거 임계치 0.7이상인 것들도 제거해보자\n",
    "# wr_wf_sum만 제거해서 제출해보자\n",
    "tr2 = tr.drop(columns = qa_col_list)\n",
    "# tr2 = tr.drop(columns = 'age_group_value')\n",
    "\n",
    "te2 = te.drop(columns = qa_col_list)\n",
    "# te2 = te.drop(columns = 'age_group_value')"
   ]
  },
  {
   "cell_type": "markdown",
   "metadata": {},
   "source": [
    "# 본격적인 변수 생성하는 부분\n",
    "- 여기서 변수를 생성하고 두가지 부분으로 나눌 예정\n",
    "    - 성능 개선\n",
    "    - 성능 비개선"
   ]
  },
  {
   "cell_type": "code",
   "execution_count": 948,
   "metadata": {
    "ExecuteTime": {
     "end_time": "2020-11-04T13:38:05.573271Z",
     "start_time": "2020-11-04T13:38:05.527009Z"
    }
   },
   "outputs": [],
   "source": [
    "seq_col_ls = sequence_column_extract(tr,'tp')\n",
    "tr['tp_mean'] = tr[seq_col_ls].mean(axis = 1)\n",
    "te['tp_mean'] = te[seq_col_ls].mean(axis = 1)\n",
    "\n",
    "tr['tp_median'] = tr[seq_col_ls].median(axis = 1)\n",
    "te['tp_median'] = te[seq_col_ls].median(axis = 1)"
   ]
  },
  {
   "cell_type": "code",
   "execution_count": null,
   "metadata": {},
   "outputs": [],
   "source": [
    "# 가설: 적극적인 사람이 투표를 잘할 것이다?\n",
    "# 질문을 통해서 사람들의 적극성을 물어보는 척도로 사용되는 질문들을 추려 FE"
   ]
  },
  {
   "cell_type": "markdown",
   "metadata": {},
   "source": [
    "# Data extract"
   ]
  },
  {
   "cell_type": "code",
   "execution_count": 23,
   "metadata": {
    "ExecuteTime": {
     "end_time": "2020-11-12T12:47:52.778214Z",
     "start_time": "2020-11-12T12:47:52.772223Z"
    }
   },
   "outputs": [],
   "source": [
    "# ver1: 현재까지 성능이 가장 좋았던 버전\n",
    "# ver2: Q_A 변수 mean encoding \n",
    "# ver3: 실수로 그냥 보냄\n",
    "# ver4: mean encoding 변수만 남기고 기존 Q_A변수 소거\n",
    "def data_extract(tr, te):\n",
    "    \n",
    "    modeling_file_ls = []\n",
    "    for file in os.listdir(model_path):\n",
    "        if 'modeling' in file:\n",
    "            modeling_file_ls.append(file)\n",
    "\n",
    "    ver_num_ls = []\n",
    "    for file in modeling_file_ls:\n",
    "        ver_num_ls.append(re.sub('[^0-9]','',file))\n",
    "\n",
    "    ver_num = int(pd.Series(list(set(ver_num_ls))).sort_values(ascending=False).iloc[0])\n",
    "#     ver_num = 10\n",
    "    tr.to_csv(\n",
    "        os.path.join(model_path,'modeling_tr_ver{}.csv'.format(ver_num + 1)),\n",
    "        index = False\n",
    "    )\n",
    "    te.to_csv(\n",
    "        os.path.join(model_path,'modeling_te_ver{}.csv'.format(ver_num + 1)),\n",
    "        index = False\n",
    "    )"
   ]
  },
  {
   "cell_type": "code",
   "execution_count": 24,
   "metadata": {
    "ExecuteTime": {
     "end_time": "2020-11-12T12:47:55.384067Z",
     "start_time": "2020-11-12T12:47:53.667509Z"
    }
   },
   "outputs": [],
   "source": [
    "data_extract(tr,te)"
   ]
  },
  {
   "cell_type": "code",
   "execution_count": null,
   "metadata": {},
   "outputs": [],
   "source": []
  }
 ],
 "metadata": {
  "kernelspec": {
   "display_name": "Python 3",
   "language": "python",
   "name": "python3"
  },
  "language_info": {
   "codemirror_mode": {
    "name": "ipython",
    "version": 3
   },
   "file_extension": ".py",
   "mimetype": "text/x-python",
   "name": "python",
   "nbconvert_exporter": "python",
   "pygments_lexer": "ipython3",
   "version": "3.7.7"
  },
  "toc": {
   "base_numbering": 1,
   "nav_menu": {},
   "number_sections": true,
   "sideBar": true,
   "skip_h1_title": false,
   "title_cell": "Table of Contents",
   "title_sidebar": "Contents",
   "toc_cell": false,
   "toc_position": {
    "height": "calc(100% - 180px)",
    "left": "10px",
    "top": "150px",
    "width": "203.316px"
   },
   "toc_section_display": true,
   "toc_window_display": true
  }
 },
 "nbformat": 4,
 "nbformat_minor": 4
}
