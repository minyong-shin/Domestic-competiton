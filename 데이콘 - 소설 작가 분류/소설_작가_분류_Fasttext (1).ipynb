{
  "nbformat": 4,
  "nbformat_minor": 0,
  "metadata": {
    "colab": {
      "name": "소설 작가 분류 - Fasttext.ipynb",
      "provenance": [],
      "collapsed_sections": []
    },
    "kernelspec": {
      "display_name": "Python 3",
      "name": "python3"
    }
  },
  "cells": [
    {
      "cell_type": "markdown",
      "metadata": {
        "id": "5LI2OSIqw5X6"
      },
      "source": [
        "# Fasttext\n",
        "\n",
        "- w2v를 기본으로 하면서 부분단어들을 임베딩하면서 학습하는 기법\n",
        "- 원래의 단어를 부분단어의 벡터들로 표현함\n",
        "- w2v처럼 단어들의 동시 등장 정보를 보존\n",
        "- https://ratsgo.github.io/from%20frequency%20to%20semantics/2017/07/06/fasttext/"
      ]
    },
    {
      "cell_type": "code",
      "metadata": {
        "colab": {
          "base_uri": "https://localhost:8080/"
        },
        "id": "qUNmnQ1w1ldr",
        "outputId": "c94d28a7-1d05-411e-9723-d8b58a879eef"
      },
      "source": [
        "!pip install fasttext"
      ],
      "execution_count": 1,
      "outputs": [
        {
          "output_type": "stream",
          "text": [
            "Collecting fasttext\n",
            "\u001b[?25l  Downloading https://files.pythonhosted.org/packages/f8/85/e2b368ab6d3528827b147fdb814f8189acc981a4bc2f99ab894650e05c40/fasttext-0.9.2.tar.gz (68kB)\n",
            "\r\u001b[K     |████▊                           | 10kB 16.2MB/s eta 0:00:01\r\u001b[K     |█████████▌                      | 20kB 11.7MB/s eta 0:00:01\r\u001b[K     |██████████████▎                 | 30kB 6.8MB/s eta 0:00:01\r\u001b[K     |███████████████████             | 40kB 3.1MB/s eta 0:00:01\r\u001b[K     |███████████████████████▉        | 51kB 3.8MB/s eta 0:00:01\r\u001b[K     |████████████████████████████▋   | 61kB 4.1MB/s eta 0:00:01\r\u001b[K     |████████████████████████████████| 71kB 2.5MB/s \n",
            "\u001b[?25hRequirement already satisfied: pybind11>=2.2 in /usr/local/lib/python3.6/dist-packages (from fasttext) (2.6.1)\n",
            "Requirement already satisfied: setuptools>=0.7.0 in /usr/local/lib/python3.6/dist-packages (from fasttext) (50.3.2)\n",
            "Requirement already satisfied: numpy in /usr/local/lib/python3.6/dist-packages (from fasttext) (1.18.5)\n",
            "Building wheels for collected packages: fasttext\n",
            "  Building wheel for fasttext (setup.py) ... \u001b[?25l\u001b[?25hdone\n",
            "  Created wheel for fasttext: filename=fasttext-0.9.2-cp36-cp36m-linux_x86_64.whl size=3038376 sha256=d7180480f4aebb077962dca977e3abba7e74b1819e89632f5dafaf5ef091b478\n",
            "  Stored in directory: /root/.cache/pip/wheels/98/ba/7f/b154944a1cf5a8cee91c154b75231136cc3a3321ab0e30f592\n",
            "Successfully built fasttext\n",
            "Installing collected packages: fasttext\n",
            "Successfully installed fasttext-0.9.2\n"
          ],
          "name": "stdout"
        }
      ]
    },
    {
      "cell_type": "code",
      "metadata": {
        "id": "DJW9XLCe1weo"
      },
      "source": [
        "import fasttext\n",
        "import pandas as pd\n",
        "import numpy as np\n",
        "import os\n",
        "from sklearn.model_selection import StratifiedKFold"
      ],
      "execution_count": 2,
      "outputs": []
    },
    {
      "cell_type": "code",
      "metadata": {
        "id": "LrFc3HNI1_Fw"
      },
      "source": [
        "base_path = '/content/drive/MyDrive/데이콘 - 소셜 작가 분류/open'\n",
        "train = pd.read_csv(os.path.join(base_path,'train.csv'))\n",
        "test = pd.read_csv(os.path.join(base_path,'test_x.csv'))\n",
        "sub = pd.read_csv(os.path.join(base_path,'sample_submission.csv'), index_col = 0)"
      ],
      "execution_count": 3,
      "outputs": []
    },
    {
      "cell_type": "code",
      "metadata": {
        "id": "GG53Tv3g2B46"
      },
      "source": [
        "# line하나가 예측하고자 하는 하나의 글 혹은 문서가 될 수 있도록\n",
        "file = open(os.path.join(base_path,'fasttexttrain.txt'),'w+')\n",
        "for i in train.index:\n",
        "    line = '__label__' + str(train['author'][i])+' '+train['text'][i]\n",
        "    file.write(line+\"\\n\")"
      ],
      "execution_count": null,
      "outputs": []
    },
    {
      "cell_type": "code",
      "metadata": {
        "id": "pxi83Ybr2oGM"
      },
      "source": [
        "# 지도학습 모델\n",
        "# text_clf_model = fasttext.train_supervised(os.path.join(base_path,'fasttexttrain.txt'), epoch=70, minCount=2, maxn=10, verbose=2)\n",
        "text_clf_model = fasttext.train_supervised(os.path.join(base_path,'fasttexttrain.txt'), epoch=70, minCount=2, maxn=15, verbose=2, lr = 0.1, )"
      ],
      "execution_count": 4,
      "outputs": []
    },
    {
      "cell_type": "code",
      "metadata": {
        "id": "1npVvEcZ0pCI"
      },
      "source": [
        "# 비지도학습 모델\n",
        "# text_clf_model = fasttext.train_unsupervised(os.path.join(base_path,'fasttexttrain.txt'),model = 'skipgram', epoch=70, minCount=2, maxn=10, verbose=0)"
      ],
      "execution_count": null,
      "outputs": []
    },
    {
      "cell_type": "code",
      "metadata": {
        "colab": {
          "base_uri": "https://localhost:8080/"
        },
        "id": "bY-_aLKU2vr9",
        "outputId": "758f0589-e979-4554-d547-4fa63078905c"
      },
      "source": [
        "for i in test.index:\n",
        "    lable, proba = text_clf_model.predict(test['text'][i], k=5)\n",
        "    for la, pr in zip(lable, proba):\n",
        "        if '__label__0' == la:\n",
        "            sub.loc[i, '0'] = pr\n",
        "        elif '__label__1' == la:\n",
        "            sub.loc[i, '1'] = pr\n",
        "        elif '__label__2' == la:\n",
        "            sub.loc[i, '2'] = pr\n",
        "        elif '__label__3' == la:\n",
        "            sub.loc[i, '3'] = pr\n",
        "        elif '__label__4' == la:\n",
        "            sub.loc[i, '4'] = pr\n",
        "    # submission.loc[i, '0'] = proba[lable.loc('__label__0')]\n",
        "    # submission.loc[i, '1'] = proba[4]\n",
        "    # submission.loc[i, '2'] = proba[2]\n",
        "    # submission.loc[i, '3'] = proba[0]\n",
        "    # submission.loc[i, '4'] = proba[3]\n",
        "\n",
        "sub.to_csv(os.path.join(base_path,'submission_fasttext_ver1_epoch70_lr0.1_maxn15.csv'))\n",
        "print('end')\n"
      ],
      "execution_count": 5,
      "outputs": [
        {
          "output_type": "stream",
          "text": [
            "end\n"
          ],
          "name": "stdout"
        }
      ]
    },
    {
      "cell_type": "markdown",
      "metadata": {
        "id": "SyArlD9f6Ucf"
      },
      "source": [
        "# fasttext cv"
      ]
    },
    {
      "cell_type": "code",
      "metadata": {
        "id": "GCskjl7s4o3z"
      },
      "source": [
        "fold = StratifiedKFold(n_splits = 5, shuffle = True, random_state = 0)\n",
        "sub2 = sub.copy()"
      ],
      "execution_count": null,
      "outputs": []
    },
    {
      "cell_type": "code",
      "metadata": {
        "colab": {
          "base_uri": "https://localhost:8080/"
        },
        "id": "K40ZlPLz5IzZ",
        "outputId": "6d70d7cb-b8bc-4e3a-9210-5952e80efd6b"
      },
      "source": [
        "for n_fold, (train_idx, valid_idx) in enumerate(fold.split(train['text'], train['author'])):\n",
        "    train_x, train_y = train['text'].iloc[train_idx], train['author'].iloc[train_idx]\n",
        "    valid_x, valid_y = train['text'].iloc[valid_idx], train['author'].iloc[valid_idx]\n",
        "\n",
        "    train_x.index = range(len(train_x))\n",
        "    train_y.index = range(len(train_y))\n",
        "\n",
        "    file = open(os.path.join(base_path,f'fasttexttrain_cv{n_fold}.txt'),'w+')\n",
        "    for i in train_x.index:\n",
        "        line = '__label__' + str(train_y[i])+' '+train_x[i]\n",
        "        file.write(line+\"\\n\")\n",
        "\n",
        "\n",
        "    text_clf_model = fasttext.train_supervised(\n",
        "          os.path.join(base_path,f'fasttexttrain_cv{n_fold}.txt'),\n",
        "          epoch=60,\n",
        "          minCount=2, \n",
        "          maxn=10, \n",
        "          verbose=0\n",
        "          )\n",
        "    \n",
        "    for i in test.index:\n",
        "        lable, proba = text_clf_model.predict(test['text'][i], k=5)\n",
        "        for la, pr in zip(lable, proba):\n",
        "            if '__label__0' == la:\n",
        "                sub.loc[i, '0'] = pr\n",
        "            elif '__label__1' == la:\n",
        "                sub.loc[i, '1'] = pr\n",
        "            elif '__label__2' == la:\n",
        "                sub.loc[i, '2'] = pr\n",
        "            elif '__label__3' == la:\n",
        "                sub.loc[i, '3'] = pr\n",
        "            elif '__label__4' == la:\n",
        "                sub.loc[i, '4'] = pr\n",
        "\n",
        "    sub2['0'] += sub['0'] / fold.n_splits\n",
        "    sub2['1'] += sub['1'] / fold.n_splits\n",
        "    sub2['2'] += sub['2'] / fold.n_splits\n",
        "    sub2['3'] += sub['3'] / fold.n_splits\n",
        "    sub2['4'] += sub['4'] / fold.n_splits\n",
        "    print(n_fold)\n",
        "\n",
        "sub2.to_csv(os.path.join(base_path,'submission_fasttext_cv5_ver1.csv'))\n",
        "print('end')"
      ],
      "execution_count": null,
      "outputs": [
        {
          "output_type": "stream",
          "text": [
            "0\n",
            "1\n",
            "2\n",
            "3\n",
            "4\n",
            "end\n"
          ],
          "name": "stdout"
        }
      ]
    },
    {
      "cell_type": "markdown",
      "metadata": {
        "id": "b9b3vQ9E4oeu"
      },
      "source": [
        "- fast text cv성능 0.31\n",
        "- fast text 단일 epoch 70성능 0.305"
      ]
    },
    {
      "cell_type": "code",
      "metadata": {
        "id": "oTNFqrxb2le5"
      },
      "source": [
        ""
      ],
      "execution_count": null,
      "outputs": []
    }
  ]
}