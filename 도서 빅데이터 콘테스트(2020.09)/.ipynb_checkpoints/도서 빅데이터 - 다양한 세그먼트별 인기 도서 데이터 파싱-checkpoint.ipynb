{
 "cells": [
  {
   "cell_type": "code",
   "execution_count": 84,
   "metadata": {
    "ExecuteTime": {
     "end_time": "2020-08-26T13:26:24.065545Z",
     "start_time": "2020-08-26T13:26:24.061614Z"
    }
   },
   "outputs": [],
   "source": [
    "import pandas as pd\n",
    "import requests\n",
    "from bs4 import BeautifulSoup\n",
    "import json\n",
    "from xml.etree.ElementTree import parse\n",
    "import xml.etree.ElementTree as ET\n",
    "import re\n",
    "\n",
    "\n",
    "\n",
    "import sys\n",
    "\n",
    "if sys.version_info[0] == 3:\n",
    "\n",
    "    from urllib.request import urlopen\n",
    "\n",
    "else:\n",
    "\n",
    "    from urllib import urlopen"
   ]
  },
  {
   "cell_type": "markdown",
   "metadata": {},
   "source": [
    "# XML Parsing"
   ]
  },
  {
   "cell_type": "markdown",
   "metadata": {},
   "source": [
    "## sample code"
   ]
  },
  {
   "cell_type": "code",
   "execution_count": 47,
   "metadata": {
    "ExecuteTime": {
     "end_time": "2020-08-26T13:05:10.139134Z",
     "start_time": "2020-08-26T13:05:10.136937Z"
    }
   },
   "outputs": [],
   "source": [
    "api_key = '785e51c2b3a7c5611be56b506b6b09ccea37f1acd153089b53346f7840d517d3'\n",
    "base_url = 'http://data4library.kr/api/loanItemSrch?authKey={}&startDt=2020-01-01&endDt=2020-08-26'\n",
    "\n",
    "req = requests.get(base_url.format(api_key))\n",
    "\n",
    "soup = BeautifulSoup(req.content,'html.parser')\n",
    "\n",
    "book_ls = soup.select('docs > doc')"
   ]
  },
  {
   "cell_type": "code",
   "execution_count": 74,
   "metadata": {
    "ExecuteTime": {
     "end_time": "2020-08-26T13:23:44.121771Z",
     "start_time": "2020-08-26T13:23:43.624961Z"
    }
   },
   "outputs": [],
   "source": [
    "famous_book = pd.DataFrame()\n",
    "\n",
    "for idx, book in enumerate(book_ls):\n",
    "    \n",
    "    rank = book.select('no')\n",
    "    name = book.select('bookname')\n",
    "    author = book.select('authors')\n",
    "    publisher = book.select('publisher')\n",
    "    publish_year = book.select('publication_year')\n",
    "    isbn = book.select('isbn13')\n",
    "    loan_cnt = book.select('loan_count')\n",
    "    \n",
    "    famous_book0 = pd.DataFrame({'rank' : [rank]\n",
    "                                ,'name' : [name]\n",
    "                                ,'author' : [author]\n",
    "                                ,'publisher' : [publisher]\n",
    "                                ,'publish_year' : [publish_year]\n",
    "                                ,'isbn' : [isbn]\n",
    "                                ,'loan_cnt' : [loan_cnt]})\n",
    "    \n",
    "    famous_book = famous_book.append(famous_book0)"
   ]
  },
  {
   "cell_type": "code",
   "execution_count": 94,
   "metadata": {
    "ExecuteTime": {
     "end_time": "2020-08-26T13:28:29.994126Z",
     "start_time": "2020-08-26T13:28:29.950797Z"
    }
   },
   "outputs": [
    {
     "data": {
      "text/html": [
       "<div>\n",
       "<style scoped>\n",
       "    .dataframe tbody tr th:only-of-type {\n",
       "        vertical-align: middle;\n",
       "    }\n",
       "\n",
       "    .dataframe tbody tr th {\n",
       "        vertical-align: top;\n",
       "    }\n",
       "\n",
       "    .dataframe thead th {\n",
       "        text-align: right;\n",
       "    }\n",
       "</style>\n",
       "<table border=\"1\" class=\"dataframe\">\n",
       "  <thead>\n",
       "    <tr style=\"text-align: right;\">\n",
       "      <th></th>\n",
       "      <th>rank</th>\n",
       "      <th>name</th>\n",
       "      <th>author</th>\n",
       "      <th>publisher</th>\n",
       "      <th>publish_year</th>\n",
       "      <th>isbn</th>\n",
       "      <th>loan_cnt</th>\n",
       "    </tr>\n",
       "  </thead>\n",
       "  <tbody>\n",
       "    <tr>\n",
       "      <th>0</th>\n",
       "      <td>[[1]]</td>\n",
       "      <td>[[ 여행의 이유 :김영하 산문]]</td>\n",
       "      <td>[[ 지은이: 김영하]]</td>\n",
       "      <td>[[ 문학동네]]</td>\n",
       "      <td>[[ 2019]]</td>\n",
       "      <td>[[ 9788954655972]]</td>\n",
       "      <td>[[10,355]]</td>\n",
       "    </tr>\n",
       "    <tr>\n",
       "      <th>0</th>\n",
       "      <td>[[2]]</td>\n",
       "      <td>[[ 나미야 잡화점의 기적 :히가시노 게이고 장편소설]]</td>\n",
       "      <td>[[ 지은이: 히가시노 게이고 ;옮긴이: 양윤옥]]</td>\n",
       "      <td>[[ 현대문학]]</td>\n",
       "      <td>[[ 2012]]</td>\n",
       "      <td>[[ 9788972756194]]</td>\n",
       "      <td>[[9,929]]</td>\n",
       "    </tr>\n",
       "    <tr>\n",
       "      <th>0</th>\n",
       "      <td>[[3]]</td>\n",
       "      <td>[[ 아몬드 (양장 특별 한정판)]]</td>\n",
       "      <td>[[ 손원평 (지은이)]]</td>\n",
       "      <td>[[ 창비]]</td>\n",
       "      <td>[[ 2017]]</td>\n",
       "      <td>[[ 9788936434267]]</td>\n",
       "      <td>[[9,537]]</td>\n",
       "    </tr>\n",
       "    <tr>\n",
       "      <th>0</th>\n",
       "      <td>[[4]]</td>\n",
       "      <td>[[ 82년생 김지영 :조남주 장편소설]]</td>\n",
       "      <td>[[ 지은이: 조남주]]</td>\n",
       "      <td>[[ 민음사]]</td>\n",
       "      <td>[[ 2016]]</td>\n",
       "      <td>[[ 9788937473135]]</td>\n",
       "      <td>[[9,314]]</td>\n",
       "    </tr>\n",
       "    <tr>\n",
       "      <th>0</th>\n",
       "      <td>[[5]]</td>\n",
       "      <td>[[ (추리 천재) 엉덩이 탐정]]</td>\n",
       "      <td>[[ 트롤 글·그림 ;김정화 옮김]]</td>\n",
       "      <td>[[ 미래엔]]</td>\n",
       "      <td>[[]]</td>\n",
       "      <td>[[ 9791162339466]]</td>\n",
       "      <td>[[8,690]]</td>\n",
       "    </tr>\n",
       "    <tr>\n",
       "      <th>...</th>\n",
       "      <td>...</td>\n",
       "      <td>...</td>\n",
       "      <td>...</td>\n",
       "      <td>...</td>\n",
       "      <td>...</td>\n",
       "      <td>...</td>\n",
       "      <td>...</td>\n",
       "    </tr>\n",
       "    <tr>\n",
       "      <th>0</th>\n",
       "      <td>[[196]]</td>\n",
       "      <td>[[ (1일 1페이지, 세상에서 가장 짧은) 교양 수업 365]]</td>\n",
       "      <td>[[ 데이비드 S. 키더,허성심 옮김]]</td>\n",
       "      <td>[[ 위즈덤하우스 미디어그룹]]</td>\n",
       "      <td>[[ 2019]]</td>\n",
       "      <td>[[ 9791190305679]]</td>\n",
       "      <td>[[3,525]]</td>\n",
       "    </tr>\n",
       "    <tr>\n",
       "      <th>0</th>\n",
       "      <td>[[197]]</td>\n",
       "      <td>[[ 마법천자문 :손오공의 한자 대탐험]]</td>\n",
       "      <td>[[ 저자: 스튜디오시리얼,홍거북]]</td>\n",
       "      <td>[[ 아울북]]</td>\n",
       "      <td>[[]]</td>\n",
       "      <td>[[ 9788950965471]]</td>\n",
       "      <td>[[3,515]]</td>\n",
       "    </tr>\n",
       "    <tr>\n",
       "      <th>0</th>\n",
       "      <td>[[198]]</td>\n",
       "      <td>[[ 보건교사 안은영 :정세랑 장편소설]]</td>\n",
       "      <td>[[ 지은이: 정세랑]]</td>\n",
       "      <td>[[ 민음사]]</td>\n",
       "      <td>[[ 2015]]</td>\n",
       "      <td>[[ 9788937473098]]</td>\n",
       "      <td>[[3,508]]</td>\n",
       "    </tr>\n",
       "    <tr>\n",
       "      <th>0</th>\n",
       "      <td>[[199]]</td>\n",
       "      <td>[[ 한밤중 달빛 식당 - 제7회 비룡소 문학상 수상작]]</td>\n",
       "      <td>[[ 이분희]]</td>\n",
       "      <td>[[ 비룡소]]</td>\n",
       "      <td>[[ 2018]]</td>\n",
       "      <td>[[ 9788949161969]]</td>\n",
       "      <td>[[3,499]]</td>\n",
       "    </tr>\n",
       "    <tr>\n",
       "      <th>0</th>\n",
       "      <td>[[200]]</td>\n",
       "      <td>[[ (설민석의) 통일 대모험]]</td>\n",
       "      <td>[[ 글: 설민석,그림: 원프로]]</td>\n",
       "      <td>[[ 휴먼큐브]]</td>\n",
       "      <td>[[ 2018]]</td>\n",
       "      <td>[[ 9791188874224]]</td>\n",
       "      <td>[[3,488]]</td>\n",
       "    </tr>\n",
       "  </tbody>\n",
       "</table>\n",
       "<p>200 rows × 7 columns</p>\n",
       "</div>"
      ],
      "text/plain": [
       "       rank                                  name  \\\n",
       "0     [[1]]                   [[ 여행의 이유 :김영하 산문]]   \n",
       "0     [[2]]       [[ 나미야 잡화점의 기적 :히가시노 게이고 장편소설]]   \n",
       "0     [[3]]                  [[ 아몬드 (양장 특별 한정판)]]   \n",
       "0     [[4]]               [[ 82년생 김지영 :조남주 장편소설]]   \n",
       "0     [[5]]                   [[ (추리 천재) 엉덩이 탐정]]   \n",
       "..      ...                                   ...   \n",
       "0   [[196]]  [[ (1일 1페이지, 세상에서 가장 짧은) 교양 수업 365]]   \n",
       "0   [[197]]               [[ 마법천자문 :손오공의 한자 대탐험]]   \n",
       "0   [[198]]               [[ 보건교사 안은영 :정세랑 장편소설]]   \n",
       "0   [[199]]      [[ 한밤중 달빛 식당 - 제7회 비룡소 문학상 수상작]]   \n",
       "0   [[200]]                    [[ (설민석의) 통일 대모험]]   \n",
       "\n",
       "                          author          publisher publish_year  \\\n",
       "0                  [[ 지은이: 김영하]]          [[ 문학동네]]    [[ 2019]]   \n",
       "0   [[ 지은이: 히가시노 게이고 ;옮긴이: 양윤옥]]          [[ 현대문학]]    [[ 2012]]   \n",
       "0                 [[ 손원평 (지은이)]]            [[ 창비]]    [[ 2017]]   \n",
       "0                  [[ 지은이: 조남주]]           [[ 민음사]]    [[ 2016]]   \n",
       "0           [[ 트롤 글·그림 ;김정화 옮김]]           [[ 미래엔]]         [[]]   \n",
       "..                           ...                ...          ...   \n",
       "0         [[ 데이비드 S. 키더,허성심 옮김]]  [[ 위즈덤하우스 미디어그룹]]    [[ 2019]]   \n",
       "0           [[ 저자: 스튜디오시리얼,홍거북]]           [[ 아울북]]         [[]]   \n",
       "0                  [[ 지은이: 정세랑]]           [[ 민음사]]    [[ 2015]]   \n",
       "0                       [[ 이분희]]           [[ 비룡소]]    [[ 2018]]   \n",
       "0            [[ 글: 설민석,그림: 원프로]]          [[ 휴먼큐브]]    [[ 2018]]   \n",
       "\n",
       "                  isbn    loan_cnt  \n",
       "0   [[ 9788954655972]]  [[10,355]]  \n",
       "0   [[ 9788972756194]]   [[9,929]]  \n",
       "0   [[ 9788936434267]]   [[9,537]]  \n",
       "0   [[ 9788937473135]]   [[9,314]]  \n",
       "0   [[ 9791162339466]]   [[8,690]]  \n",
       "..                 ...         ...  \n",
       "0   [[ 9791190305679]]   [[3,525]]  \n",
       "0   [[ 9788950965471]]   [[3,515]]  \n",
       "0   [[ 9788937473098]]   [[3,508]]  \n",
       "0   [[ 9788949161969]]   [[3,499]]  \n",
       "0   [[ 9791188874224]]   [[3,488]]  \n",
       "\n",
       "[200 rows x 7 columns]"
      ]
     },
     "execution_count": 94,
     "metadata": {},
     "output_type": "execute_result"
    }
   ],
   "source": [
    "famous_book"
   ]
  },
  {
   "cell_type": "markdown",
   "metadata": {},
   "source": [
    "# 성별 연령대별 구별 월별 장르별 인기대출 도서 파싱\n",
    "    - dtl_region : 구별로 지역 코드명 필요\n",
    "        1. 강남구 : 11230\n",
    "        2. 강동구 : 11250"
   ]
  },
  {
   "cell_type": "code",
   "execution_count": 152,
   "metadata": {
    "ExecuteTime": {
     "end_time": "2020-08-30T13:10:01.447934Z",
     "start_time": "2020-08-30T13:10:01.438708Z"
    }
   },
   "outputs": [],
   "source": [
    "region_name = ['강남구','강동구','강북구','강서구','관악구'\\\n",
    "               ,'광진구','구로구','금천구','노원구','도봉구','동대문구'\\\n",
    "               ,'동작구','마포구','서대문구','서초구','성동구','성북구'\\\n",
    "               ,'송파구','양천구','영등포구','용산구','은평구','종로구'\\\n",
    "               ,'중구','중랑구']\n",
    "\n",
    "region_list = ['11230','11250','11090','11160','11210'\\\n",
    "               ,'11050','11170','11180', '11110','11100','11060'\\\n",
    "               ,'11200','11140','11130','11220','11040','11080'\\\n",
    "               ,'11240','11150','11190','11030','11120','11010'\\\n",
    "               ,'11020','11070']\n",
    "\n",
    "age_list = ['10대','20대','30대','40대']\n",
    "\n",
    "gender = ['0','1']\n",
    "\n",
    "date_range = [['2019-08-01','2019-08-31'], ['2019-09-01','2019-09-30']\n",
    "             ,['2019-10-01','2019-10-31'], ['2019-11-01','2019-11-30']\n",
    "             ,['2019-12-01','2019-12-31'], ['2020-01-01','2020-01-31']\n",
    "             ,['2020-02-01','2020-02-28'], ['2020-03-01','2020-03-31']\n",
    "             ,['2020-04-01','2020-04-30'], ['2020-05-01','2020-05-31']\n",
    "             ,['2020-06-01','2020-06-30'], ['2020-07-01','2020-07-31']]\n",
    "            "
   ]
  },
  {
   "cell_type": "code",
   "execution_count": 147,
   "metadata": {
    "ExecuteTime": {
     "end_time": "2020-08-30T13:02:34.079582Z",
     "start_time": "2020-08-30T13:02:34.071434Z"
    }
   },
   "outputs": [],
   "source": [
    "def famous_book_crawler(start_date, end_date, gender, age, region_code, region,subject):\n",
    "    api_key = '785e51c2b3a7c5611be56b506b6b09ccea37f1acd153089b53346f7840d517d3'\n",
    "    base_url = f'http://data4library.kr/api/loanItemSrch?authKey={api_key}&startDt={start_date}&endDt={end_date}&gender={gender}&age={age}&region=11&dtl_region={region_code}&kdc={subject}'\n",
    "\n",
    "    req = requests.get(base_url)\n",
    "\n",
    "    soup = BeautifulSoup(req.content,'html.parser')\n",
    "\n",
    "    book_ls = soup.select('docs > doc')\n",
    "\n",
    "    famous_book = pd.DataFrame()\n",
    "\n",
    "    for idx, book in enumerate(book_ls):\n",
    "\n",
    "        rank = book.select('no')\n",
    "        name = book.select('bookname')\n",
    "        author = book.select('authors')\n",
    "        publisher = book.select('publisher')\n",
    "        publish_year = book.select('publication_year')\n",
    "        isbn = book.select('isbn13')\n",
    "        loan_cnt = book.select('loan_count')\n",
    "\n",
    "        famous_book0 = pd.DataFrame({'rank' : [rank]\n",
    "                                    ,'name' : [name]\n",
    "                                    ,'author' : [author]\n",
    "                                    ,'publisher' : [publisher]\n",
    "                                    ,'publish_year' : [publish_year]\n",
    "                                    ,'isbn' : [isbn]\n",
    "                                    ,'loan_cnt' : [loan_cnt]})\n",
    "\n",
    "        famous_book = famous_book.append(famous_book0)\n",
    "\n",
    "    famous_book['region'] = region\n",
    "    famous_book['region_code'] = region_code\n",
    "    famous_book['start_date'] = start_date\n",
    "    famous_book['end_date'] = end_date\n",
    "    famous_book['subject'] =subject\n",
    "    \n",
    "    return famous_book"
   ]
  },
  {
   "cell_type": "code",
   "execution_count": 150,
   "metadata": {
    "ExecuteTime": {
     "end_time": "2020-08-30T13:04:28.805521Z",
     "start_time": "2020-08-30T13:04:28.412566Z"
    }
   },
   "outputs": [],
   "source": [
    "famous_book = famous_book_crawler('2020-08-01','2020-08-27','0','20','11230','강남구','0')"
   ]
  },
  {
   "cell_type": "code",
   "execution_count": 151,
   "metadata": {
    "ExecuteTime": {
     "end_time": "2020-08-30T13:04:29.201901Z",
     "start_time": "2020-08-30T13:04:29.195658Z"
    },
    "scrolled": true
   },
   "outputs": [
    {
     "data": {
      "text/html": [
       "<div>\n",
       "<style scoped>\n",
       "    .dataframe tbody tr th:only-of-type {\n",
       "        vertical-align: middle;\n",
       "    }\n",
       "\n",
       "    .dataframe tbody tr th {\n",
       "        vertical-align: top;\n",
       "    }\n",
       "\n",
       "    .dataframe thead th {\n",
       "        text-align: right;\n",
       "    }\n",
       "</style>\n",
       "<table border=\"1\" class=\"dataframe\">\n",
       "  <thead>\n",
       "    <tr style=\"text-align: right;\">\n",
       "      <th></th>\n",
       "      <th>region</th>\n",
       "      <th>region_code</th>\n",
       "      <th>start_date</th>\n",
       "      <th>end_date</th>\n",
       "      <th>subject</th>\n",
       "    </tr>\n",
       "  </thead>\n",
       "  <tbody>\n",
       "  </tbody>\n",
       "</table>\n",
       "</div>"
      ],
      "text/plain": [
       "Empty DataFrame\n",
       "Columns: [region, region_code, start_date, end_date, subject]\n",
       "Index: []"
      ]
     },
     "execution_count": 151,
     "metadata": {},
     "output_type": "execute_result"
    }
   ],
   "source": [
    "famous_book"
   ]
  },
  {
   "cell_type": "markdown",
   "metadata": {},
   "source": [
    "# 주제\n",
    "- 포스트 코로나 시대를 대비한 스마트 도서관 최적의 위치 제시\n",
    "\n",
    "# 수집한 데이터\n",
    "1. 유동인구 데이터(skt)\n",
    "    - 지역별, 성별, 연령대\n",
    "2. 인구분포(생활인구) 데이터\n",
    "    - 지역별(동별), 성별, 연령대\n",
    "3. 서울 내 도서관 위치정보\n",
    "4. 서울 내 스마트 도서관 위치\n",
    "5. 성별 연령대별 지역별 인기도서\n",
    "6. 지하철 유동인구 - 민용\n",
    "7. 버스 유동인구 - 민용\n",
    "\n",
    "\n",
    "# TO DO\n",
    "1. 최적의 위치를 어떻게 산정을 할 것인가? (다같이 -> 왜냐하면 데이터가 확실히 구비되어야 함)\n",
    "    - 최적의 위치 index = 각 지역 연면적 대비 인구분포(밀도) + 지하철 및 버스 유동인구 지표(타겟에 따라 다르다 : 연령대를 맞춰서 -> 곧 연령대는 지역별로 다 다를테니까 지역별로 어디에 설치하면 좋을지 + 현재 위치하고 있는 지역의 문제점 + 버스와 지하철의 시간대별 유동인구 데이터를 불러와서 출근시간대와 비출근 시간대를 나눌 것) + 각 지역별 도서관 위치 지표 + skt유동 인구 데이터 지표 + 추가지표는 분석하면서 채울 것\n",
    "2. 해당 위치에 맞는 도서관에 구비할 책 목록\n",
    "    - 인기도서 리스트로\n",
    "3. 어떤 시각화 툴 사용할건지, 시각화를 위해서 위치좌표가 필요한지?\n",
    "    - 태블로\n",
    "    - python library\n",
    "    - 등등\n",
    "    - 민걸형\n",
    "4. 최적의 스마트 우체국 위치 지수 어떻게 산정했는지 확인 필요\n",
    "    - 민걸형\n",
    "5. 코로나 데이터는 시각화만 하면 될 듯\n",
    "    - 해당 주제를 잡게된\n",
    "6. 사용할 데이터의 시간범위\n",
    "\n",
    "---\n",
    "*. 10대, 20대 인기 도서 -> 교보문고, 알라딘, yes24 등\n",
    "    - 인기도서 목록, 책 제목, 요약설명\n",
    "    - 인기도서와 매칭해서 추천을 해주는거죠\n",
    "    - 도서관에 최신 책들이 들어가는 조건\n",
    "등등등...\n",
    "\n",
    "\n",
    "- 필령형이 할 것\n",
    "    - 전체적인 플로우 확인하면서 부족한점이나 추가할게 무엇일지\n",
    "    - 매력적인 주제인지?\n",
    "        - 매력적이지 않다면 어떤게 추가되면 좋을지?"
   ]
  },
  {
   "cell_type": "code",
   "execution_count": null,
   "metadata": {},
   "outputs": [],
   "source": []
  }
 ],
 "metadata": {
  "kernelspec": {
   "display_name": "Python 3",
   "language": "python",
   "name": "python3"
  },
  "language_info": {
   "codemirror_mode": {
    "name": "ipython",
    "version": 3
   },
   "file_extension": ".py",
   "mimetype": "text/x-python",
   "name": "python",
   "nbconvert_exporter": "python",
   "pygments_lexer": "ipython3",
   "version": "3.7.7"
  },
  "toc": {
   "base_numbering": 1,
   "nav_menu": {},
   "number_sections": true,
   "sideBar": true,
   "skip_h1_title": false,
   "title_cell": "Table of Contents",
   "title_sidebar": "Contents",
   "toc_cell": false,
   "toc_position": {
    "height": "calc(100% - 180px)",
    "left": "10px",
    "top": "150px",
    "width": "398.212px"
   },
   "toc_section_display": true,
   "toc_window_display": true
  }
 },
 "nbformat": 4,
 "nbformat_minor": 4
}
