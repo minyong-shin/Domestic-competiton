{
 "cells": [
  {
   "cell_type": "code",
   "execution_count": 22,
   "metadata": {
    "ExecuteTime": {
     "end_time": "2020-09-13T11:14:25.917125Z",
     "start_time": "2020-09-13T11:14:25.911936Z"
    }
   },
   "outputs": [],
   "source": [
    "import pandas as pd\n",
    "import numpy as np\n",
    "\n",
    "from urllib.parse import quote    \n",
    "from urllib.request import urlopen\n",
    "\n",
    "import sys\n",
    "import requests\n",
    "from bs4 import BeautifulSoup \n",
    "import pandas as pd\n",
    "from sqlalchemy import create_engine\n",
    "\n",
    "#import pymysql.cursors\n",
    "#pymysql.install_as_MySQLdb()\n",
    "#import MySQLdb\n",
    "from pandas.io.json import json_normalize\n",
    "import time\n",
    "import datetime\n",
    "from datetime import timedelta\n",
    "import re\n",
    "import folium\n",
    "from folium.plugins import MarkerCluster, MiniMap\n",
    "\n",
    "from selenium import webdriver\n",
    "from selenium.webdriver.chrome.options import Options\n",
    "from selenium.webdriver.common.keys import Keys"
   ]
  },
  {
   "cell_type": "code",
   "execution_count": 18,
   "metadata": {
    "ExecuteTime": {
     "end_time": "2020-09-13T09:59:25.950075Z",
     "start_time": "2020-09-13T09:59:25.947713Z"
    }
   },
   "outputs": [],
   "source": [
    "auto1 = 'ember1603'\n",
    "auto2 = '_1599991075864'"
   ]
  },
  {
   "cell_type": "code",
   "execution_count": 23,
   "metadata": {
    "ExecuteTime": {
     "end_time": "2020-09-13T11:14:34.190552Z",
     "start_time": "2020-09-13T11:14:28.203410Z"
    }
   },
   "outputs": [],
   "source": [
    "base_url = 'https://www.arcgis.com/apps/opsdashboard/index.html#/bda7594740fd40299423467b48e9ecf6'\n",
    "browser = webdriver.Chrome('/Users/sinmin-yong/GitHub/공모전/도서빅데이터/chromedriver')\n",
    "time.sleep(0.5)\n",
    "browser.get(base_url)"
   ]
  },
  {
   "cell_type": "code",
   "execution_count": 28,
   "metadata": {
    "ExecuteTime": {
     "end_time": "2020-09-13T11:16:37.337235Z",
     "start_time": "2020-09-13T11:16:37.166788Z"
    }
   },
   "outputs": [],
   "source": [
    "span_ls = browser.find_elements_by_xpath('//nav[@class = \"feature-list\"]')[0].find_elements_by_xpath('span')"
   ]
  },
  {
   "cell_type": "code",
   "execution_count": 38,
   "metadata": {
    "ExecuteTime": {
     "end_time": "2020-09-13T11:19:16.519475Z",
     "start_time": "2020-09-13T11:19:13.753072Z"
    }
   },
   "outputs": [],
   "source": [
    "country_nm = []\n",
    "\n",
    "for nm in span_ls:\n",
    "    country_nm.append(' '.join(nm.text.split(' ')[1:]))"
   ]
  },
  {
   "cell_type": "code",
   "execution_count": 46,
   "metadata": {
    "ExecuteTime": {
     "end_time": "2020-09-13T11:25:24.910030Z",
     "start_time": "2020-09-13T11:25:24.905154Z"
    }
   },
   "outputs": [],
   "source": [
    "country_df = pd.DataFrame()\n",
    "country_df['country'] = country_nm\n",
    "country_df['id'] = list(range(len(span_ls)))"
   ]
  },
  {
   "cell_type": "code",
   "execution_count": 51,
   "metadata": {
    "ExecuteTime": {
     "end_time": "2020-09-13T11:51:29.883123Z",
     "start_time": "2020-09-13T11:42:04.562428Z"
    }
   },
   "outputs": [],
   "source": [
    "covid_df = pd.DataFrame()\n",
    "for span,ctm in zip(span_ls,country_nm):\n",
    "    \n",
    "    span.click()\n",
    "    \n",
    "    time.sleep(1.5)\n",
    "    \n",
    "    html = browser.page_source\n",
    "    time.sleep(0.5)\n",
    "    \n",
    "    soup = BeautifulSoup(html,'html.parser')\n",
    "    patient_ls = soup.find('g',{'class':re.compile('amcharts-graph-column amcharts-graph-graphAuto0')})\n",
    "    patient_ls2 = patient_ls.find_all('g')[1:]\n",
    "    \n",
    "    sick_ls = []\n",
    "    month_ls = []\n",
    "    day_ls = []\n",
    "    \n",
    "    for idx,patient in enumerate(patient_ls2):\n",
    "\n",
    "        sick_ls.append(patient['aria-label'].split(' ')[-1])\n",
    "        month_ls.append(patient['aria-label'].split(' ')[1])\n",
    "        day_ls.append(patient['aria-label'].split(' ')[2])\n",
    "\n",
    "    day_df = pd.Series(day_ls).apply(lambda x : re.sub('[^0-9]','',x))\n",
    "    month_df = pd.Series(month_ls).apply(lambda x : re.sub('[^0-9]','',x))\n",
    "    month_df = month_df.apply(lambda x : '0'+x if len(x)==1 else x)\n",
    "\n",
    "    ym_df = pd.Series(['2020']*len(month_df)) + pd.Series(['-']*len(month_df))+ month_df  + pd.Series(['-']*len(month_df)) + day_df\n",
    "\n",
    "    covid_df0 = pd.DataFrame()\n",
    "\n",
    "    covid_df0['date'] = ym_df\n",
    "    covid_df0['patient'] = sick_ls\n",
    "    covid_df0['country'] = ctm\n",
    "    \n",
    "    covid_df = covid_df.append(covid_df0)"
   ]
  },
  {
   "cell_type": "code",
   "execution_count": 54,
   "metadata": {
    "ExecuteTime": {
     "end_time": "2020-09-13T11:53:31.836860Z",
     "start_time": "2020-09-13T11:53:31.823343Z"
    }
   },
   "outputs": [],
   "source": [
    "covid_df2 = pd.merge(covid_df,country_df,on = 'country', how = 'left').drop(columns = 'country')"
   ]
  },
  {
   "cell_type": "code",
   "execution_count": 57,
   "metadata": {
    "ExecuteTime": {
     "end_time": "2020-09-13T11:53:52.517044Z",
     "start_time": "2020-09-13T11:53:52.511291Z"
    }
   },
   "outputs": [],
   "source": [
    "covid_df2 = covid_df2.rename(columns = {'id' : 'country_id'})"
   ]
  },
  {
   "cell_type": "code",
   "execution_count": 59,
   "metadata": {
    "ExecuteTime": {
     "end_time": "2020-09-13T11:54:43.523767Z",
     "start_time": "2020-09-13T11:54:43.451254Z"
    }
   },
   "outputs": [],
   "source": [
    "covid_df2.to_csv('data/worldwide_covid19.csv',index=False)\n",
    "country_df.to_csv('data/worldwide_country.csv',index=False)"
   ]
  },
  {
   "cell_type": "code",
   "execution_count": 21,
   "metadata": {
    "ExecuteTime": {
     "end_time": "2020-09-13T09:59:42.988620Z",
     "start_time": "2020-09-13T09:59:42.980106Z"
    }
   },
   "outputs": [],
   "source": [
    "covid_df.to_csv('data/covid19_data.csv',index = False)"
   ]
  },
  {
   "cell_type": "code",
   "execution_count": null,
   "metadata": {},
   "outputs": [],
   "source": []
  }
 ],
 "metadata": {
  "kernelspec": {
   "display_name": "Python 3",
   "language": "python",
   "name": "python3"
  },
  "language_info": {
   "codemirror_mode": {
    "name": "ipython",
    "version": 3
   },
   "file_extension": ".py",
   "mimetype": "text/x-python",
   "name": "python",
   "nbconvert_exporter": "python",
   "pygments_lexer": "ipython3",
   "version": "3.7.7"
  },
  "toc": {
   "base_numbering": 1,
   "nav_menu": {},
   "number_sections": true,
   "sideBar": true,
   "skip_h1_title": false,
   "title_cell": "Table of Contents",
   "title_sidebar": "Contents",
   "toc_cell": false,
   "toc_position": {},
   "toc_section_display": true,
   "toc_window_display": true
  }
 },
 "nbformat": 4,
 "nbformat_minor": 4
}
