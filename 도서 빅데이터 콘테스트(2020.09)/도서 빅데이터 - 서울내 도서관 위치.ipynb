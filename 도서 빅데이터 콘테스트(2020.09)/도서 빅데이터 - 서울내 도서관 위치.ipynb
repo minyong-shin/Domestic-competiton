{
 "cells": [
  {
   "cell_type": "code",
   "execution_count": 161,
   "metadata": {
    "ExecuteTime": {
     "end_time": "2020-09-06T09:37:26.170084Z",
     "start_time": "2020-09-06T09:37:25.146243Z"
    }
   },
   "outputs": [],
   "source": [
    "import pandas as pd\n",
    "import numpy as np\n",
    "import requests\n",
    "from bs4 import BeautifulSoup\n",
    "import geopandas as gpd\n"
   ]
  },
  {
   "cell_type": "code",
   "execution_count": 2,
   "metadata": {
    "ExecuteTime": {
     "end_time": "2020-08-24T13:49:46.207262Z",
     "start_time": "2020-08-24T13:49:46.197858Z"
    }
   },
   "outputs": [],
   "source": [
    "df = pd.read_csv('도서관정보나루_참여도서관목.csv')"
   ]
  },
  {
   "cell_type": "code",
   "execution_count": 5,
   "metadata": {
    "ExecuteTime": {
     "end_time": "2020-08-24T13:50:09.316581Z",
     "start_time": "2020-08-24T13:50:09.313322Z"
    }
   },
   "outputs": [],
   "source": [
    "lib_df = df.drop(columns = '휴관일')"
   ]
  },
  {
   "cell_type": "code",
   "execution_count": 8,
   "metadata": {
    "ExecuteTime": {
     "end_time": "2020-08-31T15:02:35.877693Z",
     "start_time": "2020-08-31T15:02:35.835370Z"
    }
   },
   "outputs": [],
   "source": [
    "lib_df.to_csv('data/seoul_library.csv',index = False)"
   ]
  },
  {
   "cell_type": "code",
   "execution_count": 11,
   "metadata": {
    "ExecuteTime": {
     "end_time": "2020-09-03T16:19:22.110142Z",
     "start_time": "2020-09-03T16:19:22.085242Z"
    }
   },
   "outputs": [],
   "source": [
    "lib_df['지역구'] = lib_df['주소'].apply(lambda x : x.split(' ')[1])\n",
    "lib_df.groupby('지역구')['주소'].count().reset_index(name = 'lib_cnt')"
   ]
  },
  {
   "cell_type": "code",
   "execution_count": 16,
   "metadata": {
    "ExecuteTime": {
     "end_time": "2020-09-04T13:48:52.548446Z",
     "start_time": "2020-09-04T13:48:52.486113Z"
    }
   },
   "outputs": [],
   "source": [
    "lib_df.to_csv('data/seoul_library.csv',index = False,encoding = 'cp949')"
   ]
  },
  {
   "cell_type": "code",
   "execution_count": 18,
   "metadata": {
    "ExecuteTime": {
     "end_time": "2020-09-04T13:53:08.328914Z",
     "start_time": "2020-09-04T13:53:08.162718Z"
    }
   },
   "outputs": [],
   "source": [
    "with pd.ExcelWriter('data/seoul_library.xlsx') as writer:  \n",
    "    lib_df.to_excel(writer, sheet_name='Sheet_name_1')"
   ]
  },
  {
   "cell_type": "markdown",
   "metadata": {},
   "source": [
    "# 스마트 도서관"
   ]
  },
  {
   "cell_type": "code",
   "execution_count": 39,
   "metadata": {
    "ExecuteTime": {
     "end_time": "2020-09-05T07:53:41.639023Z",
     "start_time": "2020-09-05T07:53:41.622003Z"
    }
   },
   "outputs": [
    {
     "name": "stderr",
     "output_type": "stream",
     "text": [
      "/Users/sinmin-yong/anaconda3/lib/python3.7/site-packages/ipykernel_launcher.py:2: SettingWithCopyWarning: \n",
      "A value is trying to be set on a copy of a slice from a DataFrame.\n",
      "Try using .loc[row_indexer,col_indexer] = value instead\n",
      "\n",
      "See the caveats in the documentation: https://pandas.pydata.org/pandas-docs/stable/user_guide/indexing.html#returning-a-view-versus-a-copy\n",
      "  \n",
      "/Users/sinmin-yong/anaconda3/lib/python3.7/site-packages/pandas/core/frame.py:4133: SettingWithCopyWarning: \n",
      "A value is trying to be set on a copy of a slice from a DataFrame\n",
      "\n",
      "See the caveats in the documentation: https://pandas.pydata.org/pandas-docs/stable/user_guide/indexing.html#returning-a-view-versus-a-copy\n",
      "  errors=errors,\n"
     ]
    }
   ],
   "source": [
    "lib_df2 = lib_df[['도서관명','경도','위도','지역구']]\n",
    "lib_df2['whether'] = 'general'\n",
    "\n",
    "lib_df2.rename(columns = {'도서관명' : 'location'\n",
    "                         ,'경도' : 'x'\n",
    "                         ,'위도' : 'y'\n",
    "                         ,'지역구' : 'gu'}, inplace = True)"
   ]
  },
  {
   "cell_type": "code",
   "execution_count": 20,
   "metadata": {
    "ExecuteTime": {
     "end_time": "2020-09-05T07:41:04.861770Z",
     "start_time": "2020-09-05T07:41:04.828810Z"
    }
   },
   "outputs": [],
   "source": [
    "smart = pd.read_csv('스마트,U도서관데이터.csv')"
   ]
  },
  {
   "cell_type": "code",
   "execution_count": 23,
   "metadata": {
    "ExecuteTime": {
     "end_time": "2020-09-05T07:43:14.269343Z",
     "start_time": "2020-09-05T07:43:14.265832Z"
    },
    "scrolled": true
   },
   "outputs": [],
   "source": [
    "smart2 = smart[['location','x','y','gu']]"
   ]
  },
  {
   "cell_type": "code",
   "execution_count": 35,
   "metadata": {
    "ExecuteTime": {
     "end_time": "2020-09-05T07:51:08.005466Z",
     "start_time": "2020-09-05T07:51:08.000528Z"
    },
    "scrolled": true
   },
   "outputs": [],
   "source": [
    "smart_err = smart2[smart2['x'] == 'error']\n",
    "smart_non_err = smart2[smart2['x'] != 'error']"
   ]
  },
  {
   "cell_type": "code",
   "execution_count": 32,
   "metadata": {
    "ExecuteTime": {
     "end_time": "2020-09-05T07:50:28.690484Z",
     "start_time": "2020-09-05T07:50:28.687851Z"
    }
   },
   "outputs": [],
   "source": [
    "x = ['126.8473855','126.8867646','126.9110933','127.026333','127.0349742','126.9624925']\n",
    "y = ['37.5509103','37.466351','37.487519','37.5114869','37.5172292','37.5545635']"
   ]
  },
  {
   "cell_type": "code",
   "execution_count": 33,
   "metadata": {
    "ExecuteTime": {
     "end_time": "2020-09-05T07:50:38.549122Z",
     "start_time": "2020-09-05T07:50:38.532553Z"
    }
   },
   "outputs": [
    {
     "name": "stderr",
     "output_type": "stream",
     "text": [
      "/Users/sinmin-yong/anaconda3/lib/python3.7/site-packages/ipykernel_launcher.py:2: SettingWithCopyWarning: \n",
      "A value is trying to be set on a copy of a slice from a DataFrame.\n",
      "Try using .loc[row_indexer,col_indexer] = value instead\n",
      "\n",
      "See the caveats in the documentation: https://pandas.pydata.org/pandas-docs/stable/user_guide/indexing.html#returning-a-view-versus-a-copy\n",
      "  \n",
      "/Users/sinmin-yong/anaconda3/lib/python3.7/site-packages/ipykernel_launcher.py:3: SettingWithCopyWarning: \n",
      "A value is trying to be set on a copy of a slice from a DataFrame.\n",
      "Try using .loc[row_indexer,col_indexer] = value instead\n",
      "\n",
      "See the caveats in the documentation: https://pandas.pydata.org/pandas-docs/stable/user_guide/indexing.html#returning-a-view-versus-a-copy\n",
      "  This is separate from the ipykernel package so we can avoid doing imports until\n"
     ]
    }
   ],
   "source": [
    "smart_err2 = smart_err[smart_err['location']!= 'error'] \n",
    "smart_err2['x'] = x\n",
    "smart_err2['y'] = y"
   ]
  },
  {
   "cell_type": "code",
   "execution_count": 37,
   "metadata": {
    "ExecuteTime": {
     "end_time": "2020-09-05T07:51:31.625568Z",
     "start_time": "2020-09-05T07:51:31.622472Z"
    }
   },
   "outputs": [],
   "source": [
    "smart_real = pd.concat([smart_non_err,smart_err2],axis = 0)"
   ]
  },
  {
   "cell_type": "code",
   "execution_count": 41,
   "metadata": {
    "ExecuteTime": {
     "end_time": "2020-09-05T07:53:59.649743Z",
     "start_time": "2020-09-05T07:53:59.646917Z"
    },
    "scrolled": true
   },
   "outputs": [],
   "source": [
    "smart_real['whether'] = 'smart'"
   ]
  },
  {
   "cell_type": "code",
   "execution_count": 47,
   "metadata": {
    "ExecuteTime": {
     "end_time": "2020-09-05T08:36:49.831145Z",
     "start_time": "2020-09-05T08:36:49.826642Z"
    }
   },
   "outputs": [
    {
     "data": {
      "text/plain": [
       "(52, 5)"
      ]
     },
     "execution_count": 47,
     "metadata": {},
     "output_type": "execute_result"
    }
   ],
   "source": [
    "smart_real.shape"
   ]
  },
  {
   "cell_type": "code",
   "execution_count": 43,
   "metadata": {
    "ExecuteTime": {
     "end_time": "2020-09-05T07:54:28.296345Z",
     "start_time": "2020-09-05T07:54:28.292342Z"
    }
   },
   "outputs": [],
   "source": [
    "lib_final = pd.concat([lib_df2, smart_real],axis = 0)"
   ]
  },
  {
   "cell_type": "code",
   "execution_count": 44,
   "metadata": {
    "ExecuteTime": {
     "end_time": "2020-09-05T07:55:00.535476Z",
     "start_time": "2020-09-05T07:55:00.477738Z"
    }
   },
   "outputs": [],
   "source": [
    "with pd.ExcelWriter('data/library_final.xlsx') as writer:  \n",
    "    lib_final.to_excel(writer, sheet_name='Sheet_name_1')"
   ]
  },
  {
   "cell_type": "code",
   "execution_count": 106,
   "metadata": {
    "ExecuteTime": {
     "end_time": "2020-09-05T16:02:18.666052Z",
     "start_time": "2020-09-05T16:02:18.662757Z"
    }
   },
   "outputs": [],
   "source": [
    "lib_final.rename(columns = {'x' : 'x_coord'\n",
    "                 ,'y' : 'y_coord'},inplace = True)"
   ]
  },
  {
   "cell_type": "code",
   "execution_count": 149,
   "metadata": {
    "ExecuteTime": {
     "end_time": "2020-09-06T07:33:52.123975Z",
     "start_time": "2020-09-06T07:33:52.093570Z"
    }
   },
   "outputs": [],
   "source": [
    "temp = lib_final[lib_final['location'] != '서울대입구역']\n",
    "temp = temp[temp['location'] != '신대방역']\n",
    "temp = temp[temp['location'] != '봉천역']\n",
    "temp = temp[temp['location'] != '낙성대역']\n",
    "temp = temp[temp['location'] != '관악중앙도서관']\n",
    "temp = temp[temp['location'] != '목동역']\n",
    "temp = temp[temp['location'] != '쌍문역']"
   ]
  },
  {
   "cell_type": "code",
   "execution_count": null,
   "metadata": {
    "ExecuteTime": {
     "end_time": "2020-09-07T08:04:07.389044Z",
     "start_time": "2020-09-07T08:04:07.361284Z"
    }
   },
   "outputs": [],
   "source": [
    "#temp.groupby(['gu','whether'])['location'].count().reset_index()"
   ]
  },
  {
   "cell_type": "code",
   "execution_count": 154,
   "metadata": {
    "ExecuteTime": {
     "end_time": "2020-09-06T07:43:30.858396Z",
     "start_time": "2020-09-06T07:43:30.852128Z"
    }
   },
   "outputs": [],
   "source": [
    "temp['whether2'] = temp['whether'].map({'general' : ' ',\n",
    "                    'smart' : 'smart'})"
   ]
  },
  {
   "cell_type": "code",
   "execution_count": 157,
   "metadata": {
    "ExecuteTime": {
     "end_time": "2020-09-06T07:44:28.566635Z",
     "start_time": "2020-09-06T07:44:28.516686Z"
    }
   },
   "outputs": [],
   "source": [
    "with pd.ExcelWriter('data/library_final.xlsx') as writer:  \n",
    "    temp.to_excel(writer, sheet_name='Sheet_name_1')"
   ]
  },
  {
   "cell_type": "code",
   "execution_count": 129,
   "metadata": {
    "ExecuteTime": {
     "end_time": "2020-09-05T18:05:27.430462Z",
     "start_time": "2020-09-05T18:05:27.421475Z"
    }
   },
   "outputs": [],
   "source": [
    "geo_test = pd.read_csv('data/geo_test.csv')"
   ]
  },
  {
   "cell_type": "code",
   "execution_count": 172,
   "metadata": {
    "ExecuteTime": {
     "end_time": "2020-09-07T12:14:09.364557Z",
     "start_time": "2020-09-07T12:14:09.337556Z"
    },
    "scrolled": true
   },
   "outputs": [
    {
     "data": {
      "text/html": [
       "<div>\n",
       "<style scoped>\n",
       "    .dataframe tbody tr th:only-of-type {\n",
       "        vertical-align: middle;\n",
       "    }\n",
       "\n",
       "    .dataframe tbody tr th {\n",
       "        vertical-align: top;\n",
       "    }\n",
       "\n",
       "    .dataframe thead th {\n",
       "        text-align: right;\n",
       "    }\n",
       "</style>\n",
       "<table border=\"1\" class=\"dataframe\">\n",
       "  <thead>\n",
       "    <tr style=\"text-align: right;\">\n",
       "      <th></th>\n",
       "      <th>gu</th>\n",
       "      <th>w_dong</th>\n",
       "      <th>w_lat</th>\n",
       "      <th>w_lng</th>\n",
       "      <th>origin_dong</th>\n",
       "      <th>origin_lat</th>\n",
       "      <th>origin_lng</th>\n",
       "    </tr>\n",
       "  </thead>\n",
       "  <tbody>\n",
       "    <tr>\n",
       "      <th>0</th>\n",
       "      <td>송파구</td>\n",
       "      <td>송파1동</td>\n",
       "      <td>37.506090</td>\n",
       "      <td>127.109571</td>\n",
       "      <td>송파2동</td>\n",
       "      <td>37.502323</td>\n",
       "      <td>127.116741</td>\n",
       "    </tr>\n",
       "    <tr>\n",
       "      <th>1</th>\n",
       "      <td>구로구</td>\n",
       "      <td>개봉1동</td>\n",
       "      <td>37.495650</td>\n",
       "      <td>126.887771</td>\n",
       "      <td>개봉1동</td>\n",
       "      <td>37.495650</td>\n",
       "      <td>126.887771</td>\n",
       "    </tr>\n",
       "    <tr>\n",
       "      <th>2</th>\n",
       "      <td>금천구</td>\n",
       "      <td>가산동</td>\n",
       "      <td>37.476681</td>\n",
       "      <td>126.883767</td>\n",
       "      <td>독산1동</td>\n",
       "      <td>37.456979</td>\n",
       "      <td>126.895656</td>\n",
       "    </tr>\n",
       "    <tr>\n",
       "      <th>3</th>\n",
       "      <td>강서구</td>\n",
       "      <td>가양1동</td>\n",
       "      <td>37.550968</td>\n",
       "      <td>126.849614</td>\n",
       "      <td>가양1동</td>\n",
       "      <td>37.550968</td>\n",
       "      <td>126.849614</td>\n",
       "    </tr>\n",
       "    <tr>\n",
       "      <th>4</th>\n",
       "      <td>종로구</td>\n",
       "      <td>종로1.2.3.4가동</td>\n",
       "      <td>37.570962</td>\n",
       "      <td>126.977881</td>\n",
       "      <td>숭인1동</td>\n",
       "      <td>37.573172</td>\n",
       "      <td>126.979220</td>\n",
       "    </tr>\n",
       "    <tr>\n",
       "      <th>5</th>\n",
       "      <td>은평구</td>\n",
       "      <td>갈현1동</td>\n",
       "      <td>37.602766</td>\n",
       "      <td>126.928839</td>\n",
       "      <td>갈현1동</td>\n",
       "      <td>37.602766</td>\n",
       "      <td>126.928839</td>\n",
       "    </tr>\n",
       "    <tr>\n",
       "      <th>6</th>\n",
       "      <td>강동구</td>\n",
       "      <td>고덕1동</td>\n",
       "      <td>37.530120</td>\n",
       "      <td>127.123858</td>\n",
       "      <td>고덕1동</td>\n",
       "      <td>37.530120</td>\n",
       "      <td>127.123858</td>\n",
       "    </tr>\n",
       "    <tr>\n",
       "      <th>7</th>\n",
       "      <td>강남구</td>\n",
       "      <td>역삼2동</td>\n",
       "      <td>37.496040</td>\n",
       "      <td>127.046790</td>\n",
       "      <td>대치4동</td>\n",
       "      <td>37.499750</td>\n",
       "      <td>127.057747</td>\n",
       "    </tr>\n",
       "    <tr>\n",
       "      <th>8</th>\n",
       "      <td>마포구</td>\n",
       "      <td>서교동</td>\n",
       "      <td>37.553838</td>\n",
       "      <td>126.918765</td>\n",
       "      <td>서강동</td>\n",
       "      <td>37.547780</td>\n",
       "      <td>126.932218</td>\n",
       "    </tr>\n",
       "    <tr>\n",
       "      <th>9</th>\n",
       "      <td>노원구</td>\n",
       "      <td>중계2.3동</td>\n",
       "      <td>37.642040</td>\n",
       "      <td>127.068711</td>\n",
       "      <td>상계6.7동</td>\n",
       "      <td>37.654919</td>\n",
       "      <td>127.066919</td>\n",
       "    </tr>\n",
       "    <tr>\n",
       "      <th>10</th>\n",
       "      <td>광진구</td>\n",
       "      <td>구의1동</td>\n",
       "      <td>37.538210</td>\n",
       "      <td>127.082191</td>\n",
       "      <td>구의1동</td>\n",
       "      <td>37.538210</td>\n",
       "      <td>127.082191</td>\n",
       "    </tr>\n",
       "    <tr>\n",
       "      <th>11</th>\n",
       "      <td>중구</td>\n",
       "      <td>명동</td>\n",
       "      <td>37.560029</td>\n",
       "      <td>126.985806</td>\n",
       "      <td>필동</td>\n",
       "      <td>37.560148</td>\n",
       "      <td>126.995572</td>\n",
       "    </tr>\n",
       "    <tr>\n",
       "      <th>12</th>\n",
       "      <td>성동구</td>\n",
       "      <td>응봉동</td>\n",
       "      <td>37.550935</td>\n",
       "      <td>127.033903</td>\n",
       "      <td>응봉동</td>\n",
       "      <td>37.550935</td>\n",
       "      <td>127.033903</td>\n",
       "    </tr>\n",
       "    <tr>\n",
       "      <th>13</th>\n",
       "      <td>성북구</td>\n",
       "      <td>길음1동</td>\n",
       "      <td>37.589440</td>\n",
       "      <td>127.016817</td>\n",
       "      <td>길음1동</td>\n",
       "      <td>37.589440</td>\n",
       "      <td>127.016817</td>\n",
       "    </tr>\n",
       "    <tr>\n",
       "      <th>14</th>\n",
       "      <td>관악구</td>\n",
       "      <td>청룡동</td>\n",
       "      <td>37.479143</td>\n",
       "      <td>126.941675</td>\n",
       "      <td>서림동</td>\n",
       "      <td>37.475037</td>\n",
       "      <td>126.934972</td>\n",
       "    </tr>\n",
       "    <tr>\n",
       "      <th>15</th>\n",
       "      <td>서대문구</td>\n",
       "      <td>신촌동</td>\n",
       "      <td>37.565550</td>\n",
       "      <td>126.941382</td>\n",
       "      <td>남가좌1동</td>\n",
       "      <td>37.579213</td>\n",
       "      <td>126.936773</td>\n",
       "    </tr>\n",
       "    <tr>\n",
       "      <th>16</th>\n",
       "      <td>용산구</td>\n",
       "      <td>원효로1동</td>\n",
       "      <td>37.532612</td>\n",
       "      <td>126.990182</td>\n",
       "      <td>원효로1동</td>\n",
       "      <td>37.532612</td>\n",
       "      <td>126.990182</td>\n",
       "    </tr>\n",
       "    <tr>\n",
       "      <th>17</th>\n",
       "      <td>서초구</td>\n",
       "      <td>서초3동</td>\n",
       "      <td>37.483594</td>\n",
       "      <td>127.012518</td>\n",
       "      <td>반포4동</td>\n",
       "      <td>37.498651</td>\n",
       "      <td>126.995469</td>\n",
       "    </tr>\n",
       "    <tr>\n",
       "      <th>18</th>\n",
       "      <td>동작구</td>\n",
       "      <td>노량진1동</td>\n",
       "      <td>37.512462</td>\n",
       "      <td>126.939485</td>\n",
       "      <td>노량진1동</td>\n",
       "      <td>37.512462</td>\n",
       "      <td>126.939485</td>\n",
       "    </tr>\n",
       "    <tr>\n",
       "      <th>19</th>\n",
       "      <td>동대문구</td>\n",
       "      <td>이문1동</td>\n",
       "      <td>37.574428</td>\n",
       "      <td>127.039712</td>\n",
       "      <td>이문1동</td>\n",
       "      <td>37.574428</td>\n",
       "      <td>127.039712</td>\n",
       "    </tr>\n",
       "    <tr>\n",
       "      <th>20</th>\n",
       "      <td>영등포구</td>\n",
       "      <td>영등포본동</td>\n",
       "      <td>37.514692</td>\n",
       "      <td>126.909387</td>\n",
       "      <td>당산1동</td>\n",
       "      <td>37.526410</td>\n",
       "      <td>126.896252</td>\n",
       "    </tr>\n",
       "    <tr>\n",
       "      <th>21</th>\n",
       "      <td>도봉구</td>\n",
       "      <td>도봉1동</td>\n",
       "      <td>37.668639</td>\n",
       "      <td>127.047364</td>\n",
       "      <td>도봉1동</td>\n",
       "      <td>37.668639</td>\n",
       "      <td>127.047364</td>\n",
       "    </tr>\n",
       "    <tr>\n",
       "      <th>22</th>\n",
       "      <td>중랑구</td>\n",
       "      <td>망우3동</td>\n",
       "      <td>37.606736</td>\n",
       "      <td>127.092924</td>\n",
       "      <td>망우3동</td>\n",
       "      <td>37.606736</td>\n",
       "      <td>127.092924</td>\n",
       "    </tr>\n",
       "    <tr>\n",
       "      <th>23</th>\n",
       "      <td>양천구</td>\n",
       "      <td>목1동</td>\n",
       "      <td>37.530433</td>\n",
       "      <td>126.870985</td>\n",
       "      <td>신정4동</td>\n",
       "      <td>37.523422</td>\n",
       "      <td>126.858680</td>\n",
       "    </tr>\n",
       "    <tr>\n",
       "      <th>24</th>\n",
       "      <td>강북구</td>\n",
       "      <td>삼양동</td>\n",
       "      <td>37.627368</td>\n",
       "      <td>127.018300</td>\n",
       "      <td>수유1동</td>\n",
       "      <td>37.630309</td>\n",
       "      <td>127.017684</td>\n",
       "    </tr>\n",
       "  </tbody>\n",
       "</table>\n",
       "</div>"
      ],
      "text/plain": [
       "      gu       w_dong      w_lat       w_lng origin_dong  origin_lat  \\\n",
       "0    송파구         송파1동  37.506090  127.109571        송파2동   37.502323   \n",
       "1    구로구         개봉1동  37.495650  126.887771        개봉1동   37.495650   \n",
       "2    금천구          가산동  37.476681  126.883767        독산1동   37.456979   \n",
       "3    강서구         가양1동  37.550968  126.849614        가양1동   37.550968   \n",
       "4    종로구  종로1.2.3.4가동  37.570962  126.977881        숭인1동   37.573172   \n",
       "5    은평구         갈현1동  37.602766  126.928839        갈현1동   37.602766   \n",
       "6    강동구         고덕1동  37.530120  127.123858        고덕1동   37.530120   \n",
       "7    강남구         역삼2동  37.496040  127.046790        대치4동   37.499750   \n",
       "8    마포구          서교동  37.553838  126.918765         서강동   37.547780   \n",
       "9    노원구       중계2.3동  37.642040  127.068711      상계6.7동   37.654919   \n",
       "10   광진구         구의1동  37.538210  127.082191        구의1동   37.538210   \n",
       "11    중구           명동  37.560029  126.985806          필동   37.560148   \n",
       "12   성동구          응봉동  37.550935  127.033903         응봉동   37.550935   \n",
       "13   성북구         길음1동  37.589440  127.016817        길음1동   37.589440   \n",
       "14   관악구          청룡동  37.479143  126.941675         서림동   37.475037   \n",
       "15  서대문구          신촌동  37.565550  126.941382       남가좌1동   37.579213   \n",
       "16   용산구        원효로1동  37.532612  126.990182       원효로1동   37.532612   \n",
       "17   서초구         서초3동  37.483594  127.012518        반포4동   37.498651   \n",
       "18   동작구        노량진1동  37.512462  126.939485       노량진1동   37.512462   \n",
       "19  동대문구         이문1동  37.574428  127.039712        이문1동   37.574428   \n",
       "20  영등포구        영등포본동  37.514692  126.909387        당산1동   37.526410   \n",
       "21   도봉구         도봉1동  37.668639  127.047364        도봉1동   37.668639   \n",
       "22   중랑구         망우3동  37.606736  127.092924        망우3동   37.606736   \n",
       "23   양천구          목1동  37.530433  126.870985        신정4동   37.523422   \n",
       "24   강북구          삼양동  37.627368  127.018300        수유1동   37.630309   \n",
       "\n",
       "    origin_lng  \n",
       "0   127.116741  \n",
       "1   126.887771  \n",
       "2   126.895656  \n",
       "3   126.849614  \n",
       "4   126.979220  \n",
       "5   126.928839  \n",
       "6   127.123858  \n",
       "7   127.057747  \n",
       "8   126.932218  \n",
       "9   127.066919  \n",
       "10  127.082191  \n",
       "11  126.995572  \n",
       "12  127.033903  \n",
       "13  127.016817  \n",
       "14  126.934972  \n",
       "15  126.936773  \n",
       "16  126.990182  \n",
       "17  126.995469  \n",
       "18  126.939485  \n",
       "19  127.039712  \n",
       "20  126.896252  \n",
       "21  127.047364  \n",
       "22  127.092924  \n",
       "23  126.858680  \n",
       "24  127.017684  "
      ]
     },
     "execution_count": 172,
     "metadata": {},
     "output_type": "execute_result"
    }
   ],
   "source": [
    "geo_test"
   ]
  },
  {
   "cell_type": "code",
   "execution_count": 140,
   "metadata": {
    "ExecuteTime": {
     "end_time": "2020-09-05T18:10:15.105712Z",
     "start_time": "2020-09-05T18:10:15.098948Z"
    },
    "scrolled": true
   },
   "outputs": [],
   "source": [
    "geo_test2 = geo_test[['w_dong','w_lng','w_lat','gu']].rename(columns = {'w_dong' : 'location'\n",
    "                                                                       ,'w_lng' : 'x_coord'\n",
    "                                                                       ,'w_lat' : 'y_coord'\n",
    "                                                                       })\n",
    "geo_test3 = geo_test[['origin_dong','origin_lng','origin_lat','gu']].rename(columns = {'origin_dong' : 'location'\n",
    "                                                                       ,'origin_lng' : 'x_coord'\n",
    "                                                                       ,'origin_lat' : 'y_coord'\n",
    "                                                                       })"
   ]
  },
  {
   "cell_type": "code",
   "execution_count": 141,
   "metadata": {
    "ExecuteTime": {
     "end_time": "2020-09-05T18:10:15.279656Z",
     "start_time": "2020-09-05T18:10:15.276138Z"
    }
   },
   "outputs": [],
   "source": [
    "geo_test2['whether'] = 'convert'\n",
    "geo_test3['whether'] = 'middle'"
   ]
  },
  {
   "cell_type": "code",
   "execution_count": 176,
   "metadata": {
    "ExecuteTime": {
     "end_time": "2020-09-07T14:59:24.382755Z",
     "start_time": "2020-09-07T14:59:24.375636Z"
    }
   },
   "outputs": [],
   "source": [
    "lib_df_fin = pd.concat([lib_final,geo_test2,geo_test3], axis = 0)"
   ]
  },
  {
   "cell_type": "code",
   "execution_count": 177,
   "metadata": {
    "ExecuteTime": {
     "end_time": "2020-09-07T14:59:25.681679Z",
     "start_time": "2020-09-07T14:59:25.666089Z"
    }
   },
   "outputs": [
    {
     "data": {
      "text/html": [
       "<div>\n",
       "<style scoped>\n",
       "    .dataframe tbody tr th:only-of-type {\n",
       "        vertical-align: middle;\n",
       "    }\n",
       "\n",
       "    .dataframe tbody tr th {\n",
       "        vertical-align: top;\n",
       "    }\n",
       "\n",
       "    .dataframe thead th {\n",
       "        text-align: right;\n",
       "    }\n",
       "</style>\n",
       "<table border=\"1\" class=\"dataframe\">\n",
       "  <thead>\n",
       "    <tr style=\"text-align: right;\">\n",
       "      <th></th>\n",
       "      <th>location</th>\n",
       "      <th>x_coord</th>\n",
       "      <th>y_coord</th>\n",
       "      <th>gu</th>\n",
       "      <th>whether</th>\n",
       "    </tr>\n",
       "  </thead>\n",
       "  <tbody>\n",
       "    <tr>\n",
       "      <th>0</th>\n",
       "      <td>가락몰도서관</td>\n",
       "      <td>127.112</td>\n",
       "      <td>37.493</td>\n",
       "      <td>송파구</td>\n",
       "      <td>general</td>\n",
       "    </tr>\n",
       "    <tr>\n",
       "      <th>1</th>\n",
       "      <td>가온도서관</td>\n",
       "      <td>127.011</td>\n",
       "      <td>37.5564</td>\n",
       "      <td>중구</td>\n",
       "      <td>general</td>\n",
       "    </tr>\n",
       "    <tr>\n",
       "      <th>2</th>\n",
       "      <td>갈현1동문화의집</td>\n",
       "      <td>126.917</td>\n",
       "      <td>37.624</td>\n",
       "      <td>은평구</td>\n",
       "      <td>general</td>\n",
       "    </tr>\n",
       "    <tr>\n",
       "      <th>3</th>\n",
       "      <td>강남구립논현도서관</td>\n",
       "      <td>127.037</td>\n",
       "      <td>37.5173</td>\n",
       "      <td>강남구</td>\n",
       "      <td>general</td>\n",
       "    </tr>\n",
       "    <tr>\n",
       "      <th>4</th>\n",
       "      <td>강남구립대치도서관</td>\n",
       "      <td>127.064</td>\n",
       "      <td>37.4954</td>\n",
       "      <td>강남구</td>\n",
       "      <td>general</td>\n",
       "    </tr>\n",
       "    <tr>\n",
       "      <th>...</th>\n",
       "      <td>...</td>\n",
       "      <td>...</td>\n",
       "      <td>...</td>\n",
       "      <td>...</td>\n",
       "      <td>...</td>\n",
       "    </tr>\n",
       "    <tr>\n",
       "      <th>20</th>\n",
       "      <td>당산1동</td>\n",
       "      <td>126.896</td>\n",
       "      <td>37.5264</td>\n",
       "      <td>영등포구</td>\n",
       "      <td>middle</td>\n",
       "    </tr>\n",
       "    <tr>\n",
       "      <th>21</th>\n",
       "      <td>도봉1동</td>\n",
       "      <td>127.047</td>\n",
       "      <td>37.6686</td>\n",
       "      <td>도봉구</td>\n",
       "      <td>middle</td>\n",
       "    </tr>\n",
       "    <tr>\n",
       "      <th>22</th>\n",
       "      <td>망우3동</td>\n",
       "      <td>127.093</td>\n",
       "      <td>37.6067</td>\n",
       "      <td>중랑구</td>\n",
       "      <td>middle</td>\n",
       "    </tr>\n",
       "    <tr>\n",
       "      <th>23</th>\n",
       "      <td>신정4동</td>\n",
       "      <td>126.859</td>\n",
       "      <td>37.5234</td>\n",
       "      <td>양천구</td>\n",
       "      <td>middle</td>\n",
       "    </tr>\n",
       "    <tr>\n",
       "      <th>24</th>\n",
       "      <td>수유1동</td>\n",
       "      <td>127.018</td>\n",
       "      <td>37.6303</td>\n",
       "      <td>강북구</td>\n",
       "      <td>middle</td>\n",
       "    </tr>\n",
       "  </tbody>\n",
       "</table>\n",
       "<p>350 rows × 5 columns</p>\n",
       "</div>"
      ],
      "text/plain": [
       "     location  x_coord  y_coord    gu  whether\n",
       "0      가락몰도서관  127.112   37.493   송파구  general\n",
       "1       가온도서관  127.011  37.5564    중구  general\n",
       "2    갈현1동문화의집  126.917   37.624   은평구  general\n",
       "3   강남구립논현도서관  127.037  37.5173   강남구  general\n",
       "4   강남구립대치도서관  127.064  37.4954   강남구  general\n",
       "..        ...      ...      ...   ...      ...\n",
       "20       당산1동  126.896  37.5264  영등포구   middle\n",
       "21       도봉1동  127.047  37.6686   도봉구   middle\n",
       "22       망우3동  127.093  37.6067   중랑구   middle\n",
       "23       신정4동  126.859  37.5234   양천구   middle\n",
       "24       수유1동  127.018  37.6303   강북구   middle\n",
       "\n",
       "[350 rows x 5 columns]"
      ]
     },
     "execution_count": 177,
     "metadata": {},
     "output_type": "execute_result"
    }
   ],
   "source": [
    "lib_df_fin"
   ]
  },
  {
   "cell_type": "code",
   "execution_count": 145,
   "metadata": {
    "ExecuteTime": {
     "end_time": "2020-09-05T18:11:46.816511Z",
     "start_time": "2020-09-05T18:11:46.748880Z"
    }
   },
   "outputs": [],
   "source": [
    "with pd.ExcelWriter('data/lib_optimize_ver0.xlsx') as write:\n",
    "    lib_df_fin.to_excel(write, sheet_name='Sheet_name_1')"
   ]
  },
  {
   "cell_type": "markdown",
   "metadata": {},
   "source": [
    "# coord to addr"
   ]
  },
  {
   "cell_type": "code",
   "execution_count": 203,
   "metadata": {
    "ExecuteTime": {
     "end_time": "2020-09-07T15:06:39.531085Z",
     "start_time": "2020-09-07T15:06:39.527853Z"
    }
   },
   "outputs": [],
   "source": [
    "y = lib_df_fin['y_coord'].tolist()\n",
    "x = lib_df_fin['x_coord'].tolist()\n",
    "whether = lib_df_fin['whether'].tolist()\n",
    "idx_ls = list(range(len(x)))"
   ]
  },
  {
   "cell_type": "code",
   "execution_count": 204,
   "metadata": {
    "ExecuteTime": {
     "end_time": "2020-09-07T15:06:51.976302Z",
     "start_time": "2020-09-07T15:06:39.644637Z"
    }
   },
   "outputs": [
    {
     "name": "stdout",
     "output_type": "stream",
     "text": [
      "처리 :  0\n",
      "처리 :  100\n",
      "처리 :  200\n",
      "처리 :  300\n"
     ]
    }
   ],
   "source": [
    "lib_df_fin2 = pd.DataFrame()\n",
    "for lon, lat, idx in zip(x,y,idx_ls):\n",
    "    \n",
    "    if idx % 100 == 0:\n",
    "        print('처리 : ', idx)\n",
    "    try:\n",
    "        \n",
    "        base_url = f'http://api.vworld.kr/req/address?service=address&request=getAddress&version=2.0&crs=epsg:4326&point={lon},{lat}&format=xml&type=PARCEL&zipcode=false&simple=false&key=66D37555-E9A7-3294-9C22-28B005924F38'\n",
    "\n",
    "        req = requests.get(base_url)\n",
    "        soup = BeautifulSoup(req.content,'html.parser')\n",
    "        body = soup.select('response > result > item')[0]\n",
    "\n",
    "        total = body.select('text')[0].text\n",
    "\n",
    "        deep = body.select('structure')[0]\n",
    "\n",
    "        dong0 = deep.select('level2')[0].text\n",
    "        dong1 = deep.select('level4l')[0].text\n",
    "        dong2 = deep.select('level4lc')[0].text\n",
    "        dong3 = deep.select('level4a')[0].text\n",
    "        dong4 = deep.select('level4ac')[0].text\n",
    "\n",
    "        dong_df0 = pd.DataFrame({'x_coord':[lon]\n",
    "                                ,'y_coord':[lat]\n",
    "                                ,'total_addr':[total]\n",
    "                                ,'city':[dong0]\n",
    "                                ,'dong1':[dong1]\n",
    "                                ,'dong1_code':[dong2]\n",
    "                                ,'dong2':[dong3]\n",
    "                                ,'dong2_code':[dong4]\n",
    "                                ,'whether' : [whether[idx]]})\n",
    "\n",
    "        lib_df_fin2 = lib_df_fin2.append(dong_df0)\n",
    "    except:\n",
    "        dong_df0 = pd.DataFrame({'x_coord':[lon]\n",
    "                                ,'y_coord':[lat]\n",
    "                                ,'total_addr':['err']\n",
    "                                ,'city':['err']\n",
    "                                ,'dong1':['err']\n",
    "                                ,'dong1_code':['err']\n",
    "                                ,'dong2':['err']\n",
    "                                ,'dong2_code':['err']\n",
    "                                ,'whether' : [whether[idx]]})\n",
    "        lib_df_fin2 = lib_df_fin2.append(dong_df0)"
   ]
  },
  {
   "cell_type": "code",
   "execution_count": 61,
   "metadata": {
    "ExecuteTime": {
     "end_time": "2020-09-05T10:45:29.319898Z",
     "start_time": "2020-09-05T10:45:29.305489Z"
    }
   },
   "outputs": [
    {
     "data": {
      "text/html": [
       "<div>\n",
       "<style scoped>\n",
       "    .dataframe tbody tr th:only-of-type {\n",
       "        vertical-align: middle;\n",
       "    }\n",
       "\n",
       "    .dataframe tbody tr th {\n",
       "        vertical-align: top;\n",
       "    }\n",
       "\n",
       "    .dataframe thead th {\n",
       "        text-align: right;\n",
       "    }\n",
       "</style>\n",
       "<table border=\"1\" class=\"dataframe\">\n",
       "  <thead>\n",
       "    <tr style=\"text-align: right;\">\n",
       "      <th></th>\n",
       "      <th>x_coord</th>\n",
       "      <th>y_coord</th>\n",
       "      <th>total_addr</th>\n",
       "      <th>city</th>\n",
       "      <th>dong1</th>\n",
       "      <th>dong1_code</th>\n",
       "      <th>dong2</th>\n",
       "      <th>dong2_code</th>\n",
       "    </tr>\n",
       "  </thead>\n",
       "  <tbody>\n",
       "    <tr>\n",
       "      <th>0</th>\n",
       "      <td>127.112</td>\n",
       "      <td>37.493</td>\n",
       "      <td>서울특별시 송파구 가락동 600</td>\n",
       "      <td>송파구</td>\n",
       "      <td>가락동</td>\n",
       "      <td>1171010700</td>\n",
       "      <td>가락1동</td>\n",
       "      <td>1171063100</td>\n",
       "    </tr>\n",
       "    <tr>\n",
       "      <th>0</th>\n",
       "      <td>127.011</td>\n",
       "      <td>37.5564</td>\n",
       "      <td>서울특별시 중구 신당동 425-11</td>\n",
       "      <td>중구</td>\n",
       "      <td>신당동</td>\n",
       "      <td>1114016200</td>\n",
       "      <td>다산동</td>\n",
       "      <td>1114062500</td>\n",
       "    </tr>\n",
       "    <tr>\n",
       "      <th>0</th>\n",
       "      <td>126.917</td>\n",
       "      <td>37.624</td>\n",
       "      <td>서울특별시 은평구 갈현동 436-51</td>\n",
       "      <td>은평구</td>\n",
       "      <td>갈현동</td>\n",
       "      <td>1138010400</td>\n",
       "      <td>갈현제1동</td>\n",
       "      <td>1138055100</td>\n",
       "    </tr>\n",
       "    <tr>\n",
       "      <th>0</th>\n",
       "      <td>127.037</td>\n",
       "      <td>37.5173</td>\n",
       "      <td>서울특별시 강남구 논현동 114-24</td>\n",
       "      <td>강남구</td>\n",
       "      <td>논현동</td>\n",
       "      <td>1168010800</td>\n",
       "      <td>논현2동</td>\n",
       "      <td>1168053100</td>\n",
       "    </tr>\n",
       "    <tr>\n",
       "      <th>0</th>\n",
       "      <td>127.064</td>\n",
       "      <td>37.4954</td>\n",
       "      <td>서울특별시 강남구 대치동 316</td>\n",
       "      <td>강남구</td>\n",
       "      <td>대치동</td>\n",
       "      <td>1168010600</td>\n",
       "      <td>대치2동</td>\n",
       "      <td>1168061000</td>\n",
       "    </tr>\n",
       "    <tr>\n",
       "      <th>...</th>\n",
       "      <td>...</td>\n",
       "      <td>...</td>\n",
       "      <td>...</td>\n",
       "      <td>...</td>\n",
       "      <td>...</td>\n",
       "      <td>...</td>\n",
       "      <td>...</td>\n",
       "      <td>...</td>\n",
       "    </tr>\n",
       "    <tr>\n",
       "      <th>0</th>\n",
       "      <td>126.8867646</td>\n",
       "      <td>37.466351</td>\n",
       "      <td>서울특별시 금천구 가산동 691</td>\n",
       "      <td>금천구</td>\n",
       "      <td>가산동</td>\n",
       "      <td>1154510100</td>\n",
       "      <td>가산동</td>\n",
       "      <td>1154551000</td>\n",
       "    </tr>\n",
       "    <tr>\n",
       "      <th>0</th>\n",
       "      <td>126.9110933</td>\n",
       "      <td>37.487519</td>\n",
       "      <td>서울특별시 동작구 신대방동 692-25</td>\n",
       "      <td>동작구</td>\n",
       "      <td>신대방동</td>\n",
       "      <td>1159010900</td>\n",
       "      <td>신대방제1동</td>\n",
       "      <td>1159067000</td>\n",
       "    </tr>\n",
       "    <tr>\n",
       "      <th>0</th>\n",
       "      <td>127.026333</td>\n",
       "      <td>37.5114869</td>\n",
       "      <td>서울특별시 강남구 논현동 136-18</td>\n",
       "      <td>강남구</td>\n",
       "      <td>논현동</td>\n",
       "      <td>1168010800</td>\n",
       "      <td>논현1동</td>\n",
       "      <td>1168052100</td>\n",
       "    </tr>\n",
       "    <tr>\n",
       "      <th>0</th>\n",
       "      <td>127.0349742</td>\n",
       "      <td>37.5172292</td>\n",
       "      <td>서울특별시 강남구 논현동 71-2</td>\n",
       "      <td>강남구</td>\n",
       "      <td>논현동</td>\n",
       "      <td>1168010800</td>\n",
       "      <td>논현2동</td>\n",
       "      <td>1168053100</td>\n",
       "    </tr>\n",
       "    <tr>\n",
       "      <th>0</th>\n",
       "      <td>126.9624925</td>\n",
       "      <td>37.5545635</td>\n",
       "      <td>서울특별시 중구 만리동2가 40-5</td>\n",
       "      <td>중구</td>\n",
       "      <td>만리동2가</td>\n",
       "      <td>1114017400</td>\n",
       "      <td></td>\n",
       "      <td></td>\n",
       "    </tr>\n",
       "  </tbody>\n",
       "</table>\n",
       "<p>300 rows × 8 columns</p>\n",
       "</div>"
      ],
      "text/plain": [
       "        x_coord     y_coord             total_addr city  dong1  dong1_code  \\\n",
       "0       127.112      37.493      서울특별시 송파구 가락동 600  송파구    가락동  1171010700   \n",
       "0       127.011     37.5564    서울특별시 중구 신당동 425-11   중구    신당동  1114016200   \n",
       "0       126.917      37.624   서울특별시 은평구 갈현동 436-51  은평구    갈현동  1138010400   \n",
       "0       127.037     37.5173   서울특별시 강남구 논현동 114-24  강남구    논현동  1168010800   \n",
       "0       127.064     37.4954      서울특별시 강남구 대치동 316  강남구    대치동  1168010600   \n",
       "..          ...         ...                    ...  ...    ...         ...   \n",
       "0   126.8867646   37.466351      서울특별시 금천구 가산동 691  금천구    가산동  1154510100   \n",
       "0   126.9110933   37.487519  서울특별시 동작구 신대방동 692-25  동작구   신대방동  1159010900   \n",
       "0    127.026333  37.5114869   서울특별시 강남구 논현동 136-18  강남구    논현동  1168010800   \n",
       "0   127.0349742  37.5172292     서울특별시 강남구 논현동 71-2  강남구    논현동  1168010800   \n",
       "0   126.9624925  37.5545635    서울특별시 중구 만리동2가 40-5   중구  만리동2가  1114017400   \n",
       "\n",
       "     dong2  dong2_code  \n",
       "0     가락1동  1171063100  \n",
       "0      다산동  1114062500  \n",
       "0    갈현제1동  1138055100  \n",
       "0     논현2동  1168053100  \n",
       "0     대치2동  1168061000  \n",
       "..     ...         ...  \n",
       "0      가산동  1154551000  \n",
       "0   신대방제1동  1159067000  \n",
       "0     논현1동  1168052100  \n",
       "0     논현2동  1168053100  \n",
       "0                       \n",
       "\n",
       "[300 rows x 8 columns]"
      ]
     },
     "execution_count": 61,
     "metadata": {},
     "output_type": "execute_result"
    }
   ],
   "source": [
    "lib_df"
   ]
  },
  {
   "cell_type": "code",
   "execution_count": 71,
   "metadata": {
    "ExecuteTime": {
     "end_time": "2020-09-05T10:50:12.550710Z",
     "start_time": "2020-09-05T10:50:12.547153Z"
    }
   },
   "outputs": [
    {
     "data": {
      "text/plain": [
       "True"
      ]
     },
     "execution_count": 71,
     "metadata": {},
     "output_type": "execute_result"
    }
   ],
   "source": [
    "lib_df['dong2'].iloc[299] == ' '"
   ]
  },
  {
   "cell_type": "markdown",
   "metadata": {},
   "source": [
    "# 행정동 좌표랑 병합"
   ]
  },
  {
   "cell_type": "code",
   "execution_count": null,
   "metadata": {},
   "outputs": [],
   "source": [
    "addr = pd.read_excel('data/행정_법정동 중심좌표.xlsx')\n",
    "addr2 = addr[addr['시도'] == '서울특별시']\n",
    "addr3 = addr2.drop_duplicates(['시군구','읍면동'])"
   ]
  },
  {
   "cell_type": "code",
   "execution_count": 75,
   "metadata": {
    "ExecuteTime": {
     "end_time": "2020-09-05T10:53:32.872608Z",
     "start_time": "2020-09-05T10:53:32.868981Z"
    }
   },
   "outputs": [],
   "source": [
    "lib_notnull = lib_df[lib_df['dong2'] != ' ']\n",
    "lib_null = lib_df[lib_df['dong2'] == ' ']"
   ]
  },
  {
   "cell_type": "code",
   "execution_count": 82,
   "metadata": {
    "ExecuteTime": {
     "end_time": "2020-09-05T10:56:41.712620Z",
     "start_time": "2020-09-05T10:56:41.707257Z"
    },
    "scrolled": true
   },
   "outputs": [],
   "source": [
    "lib_notnull2 = pd.merge(lib_notnull, addr3, left_on = ['city','dong2'], right_on = ['시군구','읍면동'], how = 'left')\n",
    "lib_null2 = pd.merge(lib_null, addr3, left_on = ['city','dong1'], right_on = ['시군구','읍면동'], how = 'left')"
   ]
  },
  {
   "cell_type": "code",
   "execution_count": 91,
   "metadata": {
    "ExecuteTime": {
     "end_time": "2020-09-05T13:32:16.944122Z",
     "start_time": "2020-09-05T13:32:16.937624Z"
    }
   },
   "outputs": [],
   "source": [
    "lib_notnull2.index = range(len(lib_notnull2))\n",
    "lib_notnull3 = lib_notnull2.iloc[lib_notnull2.isnull()[lib_notnull2.isnull()['시도'] == False].index.tolist()]"
   ]
  },
  {
   "cell_type": "code",
   "execution_count": 94,
   "metadata": {
    "ExecuteTime": {
     "end_time": "2020-09-05T13:33:04.650969Z",
     "start_time": "2020-09-05T13:33:04.645705Z"
    }
   },
   "outputs": [],
   "source": [
    "lib_fin_df = pd.concat([lib_notnull3,lib_null2],axis = 0)"
   ]
  },
  {
   "cell_type": "code",
   "execution_count": 98,
   "metadata": {
    "ExecuteTime": {
     "end_time": "2020-09-05T15:42:03.755484Z",
     "start_time": "2020-09-05T15:42:03.751856Z"
    }
   },
   "outputs": [],
   "source": [
    "lib_fin_df2 = lib_fin_df[['x_coord','y_coord','dong1','dong2','위도','경도']]"
   ]
  },
  {
   "cell_type": "code",
   "execution_count": 109,
   "metadata": {
    "ExecuteTime": {
     "end_time": "2020-09-05T16:07:14.340785Z",
     "start_time": "2020-09-05T16:07:14.332306Z"
    },
    "scrolled": true
   },
   "outputs": [],
   "source": [
    "lib_fin_df3 = pd.merge(lib_final,lib_fin_df2,on = ['x_coord','y_coord'], how = 'left')"
   ]
  },
  {
   "cell_type": "code",
   "execution_count": 112,
   "metadata": {
    "ExecuteTime": {
     "end_time": "2020-09-05T16:07:58.323372Z",
     "start_time": "2020-09-05T16:07:58.318959Z"
    }
   },
   "outputs": [],
   "source": [
    "lib_fin_df4 = lib_fin_df3.drop_duplicates(['location'])"
   ]
  },
  {
   "cell_type": "code",
   "execution_count": 162,
   "metadata": {
    "ExecuteTime": {
     "end_time": "2020-09-06T09:37:29.134701Z",
     "start_time": "2020-09-06T09:37:29.059159Z"
    }
   },
   "outputs": [],
   "source": [
    "seoul = gpd.read_file('seoul_total_dong_polygon.shp')"
   ]
  },
  {
   "cell_type": "code",
   "execution_count": 164,
   "metadata": {
    "ExecuteTime": {
     "end_time": "2020-09-06T09:37:38.889130Z",
     "start_time": "2020-09-06T09:37:38.873389Z"
    }
   },
   "outputs": [
    {
     "data": {
      "text/html": [
       "<div>\n",
       "<style scoped>\n",
       "    .dataframe tbody tr th:only-of-type {\n",
       "        vertical-align: middle;\n",
       "    }\n",
       "\n",
       "    .dataframe tbody tr th {\n",
       "        vertical-align: top;\n",
       "    }\n",
       "\n",
       "    .dataframe thead th {\n",
       "        text-align: right;\n",
       "    }\n",
       "</style>\n",
       "<table border=\"1\" class=\"dataframe\">\n",
       "  <thead>\n",
       "    <tr style=\"text-align: right;\">\n",
       "      <th></th>\n",
       "      <th>location</th>\n",
       "      <th>x_coord</th>\n",
       "      <th>y_coord</th>\n",
       "      <th>gu</th>\n",
       "      <th>whether</th>\n",
       "      <th>dong1</th>\n",
       "      <th>dong2</th>\n",
       "      <th>위도</th>\n",
       "      <th>경도</th>\n",
       "    </tr>\n",
       "  </thead>\n",
       "  <tbody>\n",
       "    <tr>\n",
       "      <th>0</th>\n",
       "      <td>가락몰도서관</td>\n",
       "      <td>127.112</td>\n",
       "      <td>37.493</td>\n",
       "      <td>송파구</td>\n",
       "      <td>general</td>\n",
       "      <td>가락동</td>\n",
       "      <td>가락1동</td>\n",
       "      <td>37.496537</td>\n",
       "      <td>127.105726</td>\n",
       "    </tr>\n",
       "    <tr>\n",
       "      <th>1</th>\n",
       "      <td>가온도서관</td>\n",
       "      <td>127.011</td>\n",
       "      <td>37.5564</td>\n",
       "      <td>중구</td>\n",
       "      <td>general</td>\n",
       "      <td>신당동</td>\n",
       "      <td>다산동</td>\n",
       "      <td>37.554398</td>\n",
       "      <td>127.008155</td>\n",
       "    </tr>\n",
       "    <tr>\n",
       "      <th>2</th>\n",
       "      <td>갈현1동문화의집</td>\n",
       "      <td>126.917</td>\n",
       "      <td>37.624</td>\n",
       "      <td>은평구</td>\n",
       "      <td>general</td>\n",
       "      <td>갈현동</td>\n",
       "      <td>갈현제1동</td>\n",
       "      <td>37.602766</td>\n",
       "      <td>126.928839</td>\n",
       "    </tr>\n",
       "    <tr>\n",
       "      <th>3</th>\n",
       "      <td>강남구립논현도서관</td>\n",
       "      <td>127.037</td>\n",
       "      <td>37.5173</td>\n",
       "      <td>강남구</td>\n",
       "      <td>general</td>\n",
       "      <td>논현동</td>\n",
       "      <td>논현2동</td>\n",
       "      <td>37.517353</td>\n",
       "      <td>127.037164</td>\n",
       "    </tr>\n",
       "    <tr>\n",
       "      <th>4</th>\n",
       "      <td>강남구립대치도서관</td>\n",
       "      <td>127.064</td>\n",
       "      <td>37.4954</td>\n",
       "      <td>강남구</td>\n",
       "      <td>general</td>\n",
       "      <td>대치동</td>\n",
       "      <td>대치2동</td>\n",
       "      <td>37.502252</td>\n",
       "      <td>127.064162</td>\n",
       "    </tr>\n",
       "    <tr>\n",
       "      <th>...</th>\n",
       "      <td>...</td>\n",
       "      <td>...</td>\n",
       "      <td>...</td>\n",
       "      <td>...</td>\n",
       "      <td>...</td>\n",
       "      <td>...</td>\n",
       "      <td>...</td>\n",
       "      <td>...</td>\n",
       "      <td>...</td>\n",
       "    </tr>\n",
       "    <tr>\n",
       "      <th>299</th>\n",
       "      <td>금천고가</td>\n",
       "      <td>126.8867646</td>\n",
       "      <td>37.466351</td>\n",
       "      <td>금천구</td>\n",
       "      <td>smart</td>\n",
       "      <td>가산동</td>\n",
       "      <td>가산동</td>\n",
       "      <td>37.476681</td>\n",
       "      <td>126.883767</td>\n",
       "    </tr>\n",
       "    <tr>\n",
       "      <th>300</th>\n",
       "      <td>신대방역</td>\n",
       "      <td>126.9110933</td>\n",
       "      <td>37.487519</td>\n",
       "      <td>관악구</td>\n",
       "      <td>smart</td>\n",
       "      <td>신대방동</td>\n",
       "      <td>신대방제1동</td>\n",
       "      <td>37.512462</td>\n",
       "      <td>126.939485</td>\n",
       "    </tr>\n",
       "    <tr>\n",
       "      <th>301</th>\n",
       "      <td>논현1동</td>\n",
       "      <td>127.026333</td>\n",
       "      <td>37.5114869</td>\n",
       "      <td>강남구</td>\n",
       "      <td>smart</td>\n",
       "      <td>논현동</td>\n",
       "      <td>논현1동</td>\n",
       "      <td>37.511498</td>\n",
       "      <td>127.028552</td>\n",
       "    </tr>\n",
       "    <tr>\n",
       "      <th>302</th>\n",
       "      <td>삼성2동</td>\n",
       "      <td>127.0349742</td>\n",
       "      <td>37.5172292</td>\n",
       "      <td>강남구</td>\n",
       "      <td>smart</td>\n",
       "      <td>논현동</td>\n",
       "      <td>논현2동</td>\n",
       "      <td>37.517353</td>\n",
       "      <td>127.037164</td>\n",
       "    </tr>\n",
       "    <tr>\n",
       "      <th>303</th>\n",
       "      <td>중립동_주민센터</td>\n",
       "      <td>126.9624925</td>\n",
       "      <td>37.5545635</td>\n",
       "      <td>중구</td>\n",
       "      <td>smart</td>\n",
       "      <td>만리동2가</td>\n",
       "      <td></td>\n",
       "      <td>37.553986</td>\n",
       "      <td>126.964150</td>\n",
       "    </tr>\n",
       "  </tbody>\n",
       "</table>\n",
       "<p>295 rows × 9 columns</p>\n",
       "</div>"
      ],
      "text/plain": [
       "      location      x_coord     y_coord   gu  whether  dong1   dong2  \\\n",
       "0       가락몰도서관      127.112      37.493  송파구  general    가락동    가락1동   \n",
       "1        가온도서관      127.011     37.5564   중구  general    신당동     다산동   \n",
       "2     갈현1동문화의집      126.917      37.624  은평구  general    갈현동   갈현제1동   \n",
       "3    강남구립논현도서관      127.037     37.5173  강남구  general    논현동    논현2동   \n",
       "4    강남구립대치도서관      127.064     37.4954  강남구  general    대치동    대치2동   \n",
       "..         ...          ...         ...  ...      ...    ...     ...   \n",
       "299       금천고가  126.8867646   37.466351  금천구    smart    가산동     가산동   \n",
       "300       신대방역  126.9110933   37.487519  관악구    smart   신대방동  신대방제1동   \n",
       "301       논현1동   127.026333  37.5114869  강남구    smart    논현동    논현1동   \n",
       "302       삼성2동  127.0349742  37.5172292  강남구    smart    논현동    논현2동   \n",
       "303   중립동_주민센터  126.9624925  37.5545635   중구    smart  만리동2가           \n",
       "\n",
       "            위도          경도  \n",
       "0    37.496537  127.105726  \n",
       "1    37.554398  127.008155  \n",
       "2    37.602766  126.928839  \n",
       "3    37.517353  127.037164  \n",
       "4    37.502252  127.064162  \n",
       "..         ...         ...  \n",
       "299  37.476681  126.883767  \n",
       "300  37.512462  126.939485  \n",
       "301  37.511498  127.028552  \n",
       "302  37.517353  127.037164  \n",
       "303  37.553986  126.964150  \n",
       "\n",
       "[295 rows x 9 columns]"
      ]
     },
     "execution_count": 164,
     "metadata": {},
     "output_type": "execute_result"
    }
   ],
   "source": [
    "lib_fin_df4"
   ]
  },
  {
   "cell_type": "markdown",
   "metadata": {},
   "source": [
    "# 동별"
   ]
  },
  {
   "cell_type": "code",
   "execution_count": 206,
   "metadata": {
    "ExecuteTime": {
     "end_time": "2020-09-07T15:07:00.591536Z",
     "start_time": "2020-09-07T15:07:00.575804Z"
    }
   },
   "outputs": [
    {
     "data": {
      "text/html": [
       "<div>\n",
       "<style scoped>\n",
       "    .dataframe tbody tr th:only-of-type {\n",
       "        vertical-align: middle;\n",
       "    }\n",
       "\n",
       "    .dataframe tbody tr th {\n",
       "        vertical-align: top;\n",
       "    }\n",
       "\n",
       "    .dataframe thead th {\n",
       "        text-align: right;\n",
       "    }\n",
       "</style>\n",
       "<table border=\"1\" class=\"dataframe\">\n",
       "  <thead>\n",
       "    <tr style=\"text-align: right;\">\n",
       "      <th></th>\n",
       "      <th>x_coord</th>\n",
       "      <th>y_coord</th>\n",
       "      <th>total_addr</th>\n",
       "      <th>city</th>\n",
       "      <th>dong1</th>\n",
       "      <th>dong1_code</th>\n",
       "      <th>dong2</th>\n",
       "      <th>dong2_code</th>\n",
       "      <th>whether</th>\n",
       "    </tr>\n",
       "  </thead>\n",
       "  <tbody>\n",
       "    <tr>\n",
       "      <th>0</th>\n",
       "      <td>127.112</td>\n",
       "      <td>37.493</td>\n",
       "      <td>서울특별시 송파구 가락동 600</td>\n",
       "      <td>송파구</td>\n",
       "      <td>가락동</td>\n",
       "      <td>1171010700</td>\n",
       "      <td>가락1동</td>\n",
       "      <td>1171063100</td>\n",
       "      <td>general</td>\n",
       "    </tr>\n",
       "    <tr>\n",
       "      <th>0</th>\n",
       "      <td>127.011</td>\n",
       "      <td>37.5564</td>\n",
       "      <td>서울특별시 중구 신당동 425-11</td>\n",
       "      <td>중구</td>\n",
       "      <td>신당동</td>\n",
       "      <td>1114016200</td>\n",
       "      <td>다산동</td>\n",
       "      <td>1114062500</td>\n",
       "      <td>general</td>\n",
       "    </tr>\n",
       "    <tr>\n",
       "      <th>0</th>\n",
       "      <td>126.917</td>\n",
       "      <td>37.624</td>\n",
       "      <td>서울특별시 은평구 갈현동 436-51</td>\n",
       "      <td>은평구</td>\n",
       "      <td>갈현동</td>\n",
       "      <td>1138010400</td>\n",
       "      <td>갈현제1동</td>\n",
       "      <td>1138055100</td>\n",
       "      <td>general</td>\n",
       "    </tr>\n",
       "    <tr>\n",
       "      <th>0</th>\n",
       "      <td>127.037</td>\n",
       "      <td>37.5173</td>\n",
       "      <td>서울특별시 강남구 논현동 114-24</td>\n",
       "      <td>강남구</td>\n",
       "      <td>논현동</td>\n",
       "      <td>1168010800</td>\n",
       "      <td>논현2동</td>\n",
       "      <td>1168053100</td>\n",
       "      <td>general</td>\n",
       "    </tr>\n",
       "    <tr>\n",
       "      <th>0</th>\n",
       "      <td>127.064</td>\n",
       "      <td>37.4954</td>\n",
       "      <td>서울특별시 강남구 대치동 316</td>\n",
       "      <td>강남구</td>\n",
       "      <td>대치동</td>\n",
       "      <td>1168010600</td>\n",
       "      <td>대치2동</td>\n",
       "      <td>1168061000</td>\n",
       "      <td>general</td>\n",
       "    </tr>\n",
       "    <tr>\n",
       "      <th>...</th>\n",
       "      <td>...</td>\n",
       "      <td>...</td>\n",
       "      <td>...</td>\n",
       "      <td>...</td>\n",
       "      <td>...</td>\n",
       "      <td>...</td>\n",
       "      <td>...</td>\n",
       "      <td>...</td>\n",
       "      <td>...</td>\n",
       "    </tr>\n",
       "    <tr>\n",
       "      <th>0</th>\n",
       "      <td>126.896</td>\n",
       "      <td>37.5264</td>\n",
       "      <td>서울특별시 영등포구 당산동3가 385-1</td>\n",
       "      <td>영등포구</td>\n",
       "      <td>당산동3가</td>\n",
       "      <td>1156011300</td>\n",
       "      <td>당산제1동</td>\n",
       "      <td>1156055000</td>\n",
       "      <td>middle</td>\n",
       "    </tr>\n",
       "    <tr>\n",
       "      <th>0</th>\n",
       "      <td>127.047</td>\n",
       "      <td>37.6686</td>\n",
       "      <td>서울특별시 도봉구 방학동 720</td>\n",
       "      <td>도봉구</td>\n",
       "      <td>방학동</td>\n",
       "      <td>1132010600</td>\n",
       "      <td>방학제1동</td>\n",
       "      <td>1132069000</td>\n",
       "      <td>middle</td>\n",
       "    </tr>\n",
       "    <tr>\n",
       "      <th>0</th>\n",
       "      <td>127.093</td>\n",
       "      <td>37.6067</td>\n",
       "      <td>서울특별시 중랑구 신내동 662</td>\n",
       "      <td>중랑구</td>\n",
       "      <td>신내동</td>\n",
       "      <td>1126010600</td>\n",
       "      <td>신내2동</td>\n",
       "      <td>1126069000</td>\n",
       "      <td>middle</td>\n",
       "    </tr>\n",
       "    <tr>\n",
       "      <th>0</th>\n",
       "      <td>126.859</td>\n",
       "      <td>37.5234</td>\n",
       "      <td>서울특별시 양천구 신정동 957-9</td>\n",
       "      <td>양천구</td>\n",
       "      <td>신정동</td>\n",
       "      <td>1147010100</td>\n",
       "      <td>신정4동</td>\n",
       "      <td>1147065000</td>\n",
       "      <td>middle</td>\n",
       "    </tr>\n",
       "    <tr>\n",
       "      <th>0</th>\n",
       "      <td>127.018</td>\n",
       "      <td>37.6303</td>\n",
       "      <td>서울특별시 강북구 수유동 605-412</td>\n",
       "      <td>강북구</td>\n",
       "      <td>수유동</td>\n",
       "      <td>1130510300</td>\n",
       "      <td>수유1동</td>\n",
       "      <td>1130561500</td>\n",
       "      <td>middle</td>\n",
       "    </tr>\n",
       "  </tbody>\n",
       "</table>\n",
       "<p>350 rows × 9 columns</p>\n",
       "</div>"
      ],
      "text/plain": [
       "    x_coord  y_coord              total_addr  city  dong1  dong1_code  dong2  \\\n",
       "0   127.112   37.493       서울특별시 송파구 가락동 600   송파구    가락동  1171010700   가락1동   \n",
       "0   127.011  37.5564     서울특별시 중구 신당동 425-11    중구    신당동  1114016200    다산동   \n",
       "0   126.917   37.624    서울특별시 은평구 갈현동 436-51   은평구    갈현동  1138010400  갈현제1동   \n",
       "0   127.037  37.5173    서울특별시 강남구 논현동 114-24   강남구    논현동  1168010800   논현2동   \n",
       "0   127.064  37.4954       서울특별시 강남구 대치동 316   강남구    대치동  1168010600   대치2동   \n",
       "..      ...      ...                     ...   ...    ...         ...    ...   \n",
       "0   126.896  37.5264  서울특별시 영등포구 당산동3가 385-1  영등포구  당산동3가  1156011300  당산제1동   \n",
       "0   127.047  37.6686       서울특별시 도봉구 방학동 720   도봉구    방학동  1132010600  방학제1동   \n",
       "0   127.093  37.6067       서울특별시 중랑구 신내동 662   중랑구    신내동  1126010600   신내2동   \n",
       "0   126.859  37.5234     서울특별시 양천구 신정동 957-9   양천구    신정동  1147010100   신정4동   \n",
       "0   127.018  37.6303   서울특별시 강북구 수유동 605-412   강북구    수유동  1130510300   수유1동   \n",
       "\n",
       "    dong2_code  whether  \n",
       "0   1171063100  general  \n",
       "0   1114062500  general  \n",
       "0   1138055100  general  \n",
       "0   1168053100  general  \n",
       "0   1168061000  general  \n",
       "..         ...      ...  \n",
       "0   1156055000   middle  \n",
       "0   1132069000   middle  \n",
       "0   1126069000   middle  \n",
       "0   1147065000   middle  \n",
       "0   1130561500   middle  \n",
       "\n",
       "[350 rows x 9 columns]"
      ]
     },
     "execution_count": 206,
     "metadata": {},
     "output_type": "execute_result"
    }
   ],
   "source": [
    "lib_df_fin2"
   ]
  },
  {
   "cell_type": "code",
   "execution_count": 213,
   "metadata": {
    "ExecuteTime": {
     "end_time": "2020-09-07T15:08:02.361992Z",
     "start_time": "2020-09-07T15:08:02.352207Z"
    }
   },
   "outputs": [],
   "source": [
    "ab = pd.merge(lib_df_fin,lib_df_fin2, on =['x_coord','y_coord','whether'], how = 'left')"
   ]
  },
  {
   "cell_type": "code",
   "execution_count": 219,
   "metadata": {
    "ExecuteTime": {
     "end_time": "2020-09-07T15:09:23.422815Z",
     "start_time": "2020-09-07T15:09:23.415868Z"
    }
   },
   "outputs": [],
   "source": [
    "ab2 = ab.drop_duplicates(['x_coord','y_coord','whether'])"
   ]
  },
  {
   "cell_type": "code",
   "execution_count": 221,
   "metadata": {
    "ExecuteTime": {
     "end_time": "2020-09-07T15:16:27.983624Z",
     "start_time": "2020-09-07T15:16:27.979828Z"
    }
   },
   "outputs": [],
   "source": [
    "ab3 = ab2[['location','gu','whether','x_coord','y_coord','dong1','dong2']]"
   ]
  },
  {
   "cell_type": "markdown",
   "metadata": {},
   "source": [
    "convert와 middle가 같으면 초록 + 빨강 합친 색깔\n",
    "convert만 초록\n",
    "middle는 빨강\n",
    "smart, 일반도서관은 점으로 / convert와 middle는 영역으로"
   ]
  },
  {
   "cell_type": "markdown",
   "metadata": {},
   "source": [
    "위의 방안들이 안되면 색깔로 middle와 convert만 구분할 수 있도록\n",
    "따로 구한다음에 이중축으로 하면 될 것 같은데"
   ]
  },
  {
   "cell_type": "code",
   "execution_count": 222,
   "metadata": {
    "ExecuteTime": {
     "end_time": "2020-09-07T15:16:31.672235Z",
     "start_time": "2020-09-07T15:16:31.659119Z"
    }
   },
   "outputs": [
    {
     "data": {
      "text/html": [
       "<div>\n",
       "<style scoped>\n",
       "    .dataframe tbody tr th:only-of-type {\n",
       "        vertical-align: middle;\n",
       "    }\n",
       "\n",
       "    .dataframe tbody tr th {\n",
       "        vertical-align: top;\n",
       "    }\n",
       "\n",
       "    .dataframe thead th {\n",
       "        text-align: right;\n",
       "    }\n",
       "</style>\n",
       "<table border=\"1\" class=\"dataframe\">\n",
       "  <thead>\n",
       "    <tr style=\"text-align: right;\">\n",
       "      <th></th>\n",
       "      <th>location</th>\n",
       "      <th>gu</th>\n",
       "      <th>whether</th>\n",
       "      <th>x_coord</th>\n",
       "      <th>y_coord</th>\n",
       "      <th>dong1</th>\n",
       "      <th>dong2</th>\n",
       "    </tr>\n",
       "  </thead>\n",
       "  <tbody>\n",
       "    <tr>\n",
       "      <th>0</th>\n",
       "      <td>가락몰도서관</td>\n",
       "      <td>송파구</td>\n",
       "      <td>general</td>\n",
       "      <td>127.112</td>\n",
       "      <td>37.493</td>\n",
       "      <td>가락동</td>\n",
       "      <td>가락1동</td>\n",
       "    </tr>\n",
       "    <tr>\n",
       "      <th>1</th>\n",
       "      <td>가온도서관</td>\n",
       "      <td>중구</td>\n",
       "      <td>general</td>\n",
       "      <td>127.011</td>\n",
       "      <td>37.5564</td>\n",
       "      <td>신당동</td>\n",
       "      <td>다산동</td>\n",
       "    </tr>\n",
       "    <tr>\n",
       "      <th>2</th>\n",
       "      <td>갈현1동문화의집</td>\n",
       "      <td>은평구</td>\n",
       "      <td>general</td>\n",
       "      <td>126.917</td>\n",
       "      <td>37.624</td>\n",
       "      <td>갈현동</td>\n",
       "      <td>갈현제1동</td>\n",
       "    </tr>\n",
       "    <tr>\n",
       "      <th>3</th>\n",
       "      <td>강남구립논현도서관</td>\n",
       "      <td>강남구</td>\n",
       "      <td>general</td>\n",
       "      <td>127.037</td>\n",
       "      <td>37.5173</td>\n",
       "      <td>논현동</td>\n",
       "      <td>논현2동</td>\n",
       "    </tr>\n",
       "    <tr>\n",
       "      <th>4</th>\n",
       "      <td>강남구립대치도서관</td>\n",
       "      <td>강남구</td>\n",
       "      <td>general</td>\n",
       "      <td>127.064</td>\n",
       "      <td>37.4954</td>\n",
       "      <td>대치동</td>\n",
       "      <td>대치2동</td>\n",
       "    </tr>\n",
       "    <tr>\n",
       "      <th>...</th>\n",
       "      <td>...</td>\n",
       "      <td>...</td>\n",
       "      <td>...</td>\n",
       "      <td>...</td>\n",
       "      <td>...</td>\n",
       "      <td>...</td>\n",
       "      <td>...</td>\n",
       "    </tr>\n",
       "    <tr>\n",
       "      <th>349</th>\n",
       "      <td>당산1동</td>\n",
       "      <td>영등포구</td>\n",
       "      <td>middle</td>\n",
       "      <td>126.896</td>\n",
       "      <td>37.5264</td>\n",
       "      <td>당산동3가</td>\n",
       "      <td>당산제1동</td>\n",
       "    </tr>\n",
       "    <tr>\n",
       "      <th>350</th>\n",
       "      <td>도봉1동</td>\n",
       "      <td>도봉구</td>\n",
       "      <td>middle</td>\n",
       "      <td>127.047</td>\n",
       "      <td>37.6686</td>\n",
       "      <td>방학동</td>\n",
       "      <td>방학제1동</td>\n",
       "    </tr>\n",
       "    <tr>\n",
       "      <th>351</th>\n",
       "      <td>망우3동</td>\n",
       "      <td>중랑구</td>\n",
       "      <td>middle</td>\n",
       "      <td>127.093</td>\n",
       "      <td>37.6067</td>\n",
       "      <td>신내동</td>\n",
       "      <td>신내2동</td>\n",
       "    </tr>\n",
       "    <tr>\n",
       "      <th>352</th>\n",
       "      <td>신정4동</td>\n",
       "      <td>양천구</td>\n",
       "      <td>middle</td>\n",
       "      <td>126.859</td>\n",
       "      <td>37.5234</td>\n",
       "      <td>신정동</td>\n",
       "      <td>신정4동</td>\n",
       "    </tr>\n",
       "    <tr>\n",
       "      <th>353</th>\n",
       "      <td>수유1동</td>\n",
       "      <td>강북구</td>\n",
       "      <td>middle</td>\n",
       "      <td>127.018</td>\n",
       "      <td>37.6303</td>\n",
       "      <td>수유동</td>\n",
       "      <td>수유1동</td>\n",
       "    </tr>\n",
       "  </tbody>\n",
       "</table>\n",
       "<p>348 rows × 7 columns</p>\n",
       "</div>"
      ],
      "text/plain": [
       "      location    gu  whether  x_coord  y_coord  dong1  dong2\n",
       "0       가락몰도서관   송파구  general  127.112   37.493    가락동   가락1동\n",
       "1        가온도서관    중구  general  127.011  37.5564    신당동    다산동\n",
       "2     갈현1동문화의집   은평구  general  126.917   37.624    갈현동  갈현제1동\n",
       "3    강남구립논현도서관   강남구  general  127.037  37.5173    논현동   논현2동\n",
       "4    강남구립대치도서관   강남구  general  127.064  37.4954    대치동   대치2동\n",
       "..         ...   ...      ...      ...      ...    ...    ...\n",
       "349       당산1동  영등포구   middle  126.896  37.5264  당산동3가  당산제1동\n",
       "350       도봉1동   도봉구   middle  127.047  37.6686    방학동  방학제1동\n",
       "351       망우3동   중랑구   middle  127.093  37.6067    신내동   신내2동\n",
       "352       신정4동   양천구   middle  126.859  37.5234    신정동   신정4동\n",
       "353       수유1동   강북구   middle  127.018  37.6303    수유동   수유1동\n",
       "\n",
       "[348 rows x 7 columns]"
      ]
     },
     "execution_count": 222,
     "metadata": {},
     "output_type": "execute_result"
    }
   ],
   "source": [
    "ab3"
   ]
  },
  {
   "cell_type": "code",
   "execution_count": 225,
   "metadata": {
    "ExecuteTime": {
     "end_time": "2020-09-07T15:17:25.860412Z",
     "start_time": "2020-09-07T15:17:25.854271Z"
    }
   },
   "outputs": [
    {
     "data": {
      "text/plain": [
       "array([10, 10,  9,  9,  8,  6,  6,  6,  6,  6,  6,  5,  5,  5,  5,  5,  5,\n",
       "        5,  4,  4,  4,  4,  4,  3,  3,  3,  3,  3,  3,  3,  3,  3,  3,  3,\n",
       "        3,  3,  3,  3,  3,  3,  3,  3,  3,  3,  2,  2,  2,  2,  2,  2,  2,\n",
       "        2,  2,  2,  2,  2,  2,  2,  2,  2,  2,  2,  2,  2,  2,  2,  2,  2,\n",
       "        2,  2,  2,  2,  2,  2,  2,  1,  1,  1,  1,  1,  1,  1,  1,  1,  1,\n",
       "        1,  1,  1,  1,  1,  1,  1,  1,  1,  1,  1,  1,  1,  1,  1,  1,  1,\n",
       "        1,  1,  1,  1,  1,  1,  1,  1,  1,  1,  1,  1,  1,  1,  1,  1,  1,\n",
       "        1,  1,  1,  1,  1,  1,  1,  1,  1,  1,  1,  1,  1,  1,  1,  1,  1,\n",
       "        1,  1,  1,  1,  1,  1,  1,  1,  1,  1,  1,  1,  1,  1,  1,  1,  1,\n",
       "        1,  1,  1,  1,  1,  1,  1,  1])"
      ]
     },
     "execution_count": 225,
     "metadata": {},
     "output_type": "execute_result"
    }
   ],
   "source": [
    "# 겹치는 동들이 많아서 구분하는건 안되겠는데 점으로 해야되겠다\n",
    "ab3['dong1'].value_counts().values"
   ]
  },
  {
   "cell_type": "code",
   "execution_count": 228,
   "metadata": {
    "ExecuteTime": {
     "end_time": "2020-09-07T15:18:04.223468Z",
     "start_time": "2020-09-07T15:18:04.208192Z"
    }
   },
   "outputs": [
    {
     "data": {
      "text/html": [
       "<div>\n",
       "<style scoped>\n",
       "    .dataframe tbody tr th:only-of-type {\n",
       "        vertical-align: middle;\n",
       "    }\n",
       "\n",
       "    .dataframe tbody tr th {\n",
       "        vertical-align: top;\n",
       "    }\n",
       "\n",
       "    .dataframe thead th {\n",
       "        text-align: right;\n",
       "    }\n",
       "</style>\n",
       "<table border=\"1\" class=\"dataframe\">\n",
       "  <thead>\n",
       "    <tr style=\"text-align: right;\">\n",
       "      <th></th>\n",
       "      <th>gu</th>\n",
       "      <th>dong1</th>\n",
       "      <th>location</th>\n",
       "    </tr>\n",
       "  </thead>\n",
       "  <tbody>\n",
       "    <tr>\n",
       "      <th>0</th>\n",
       "      <td>강남구</td>\n",
       "      <td>개포동</td>\n",
       "      <td>3</td>\n",
       "    </tr>\n",
       "    <tr>\n",
       "      <th>1</th>\n",
       "      <td>강남구</td>\n",
       "      <td>논현동</td>\n",
       "      <td>4</td>\n",
       "    </tr>\n",
       "    <tr>\n",
       "      <th>2</th>\n",
       "      <td>강남구</td>\n",
       "      <td>대치동</td>\n",
       "      <td>5</td>\n",
       "    </tr>\n",
       "    <tr>\n",
       "      <th>3</th>\n",
       "      <td>강남구</td>\n",
       "      <td>도곡동</td>\n",
       "      <td>2</td>\n",
       "    </tr>\n",
       "    <tr>\n",
       "      <th>4</th>\n",
       "      <td>강남구</td>\n",
       "      <td>삼성동</td>\n",
       "      <td>3</td>\n",
       "    </tr>\n",
       "    <tr>\n",
       "      <th>...</th>\n",
       "      <td>...</td>\n",
       "      <td>...</td>\n",
       "      <td>...</td>\n",
       "    </tr>\n",
       "    <tr>\n",
       "      <th>159</th>\n",
       "      <td>중랑구</td>\n",
       "      <td>면목동</td>\n",
       "      <td>2</td>\n",
       "    </tr>\n",
       "    <tr>\n",
       "      <th>160</th>\n",
       "      <td>중랑구</td>\n",
       "      <td>묵동</td>\n",
       "      <td>1</td>\n",
       "    </tr>\n",
       "    <tr>\n",
       "      <th>161</th>\n",
       "      <td>중랑구</td>\n",
       "      <td>상봉동</td>\n",
       "      <td>1</td>\n",
       "    </tr>\n",
       "    <tr>\n",
       "      <th>162</th>\n",
       "      <td>중랑구</td>\n",
       "      <td>신내동</td>\n",
       "      <td>2</td>\n",
       "    </tr>\n",
       "    <tr>\n",
       "      <th>163</th>\n",
       "      <td>중랑구</td>\n",
       "      <td>중화동</td>\n",
       "      <td>2</td>\n",
       "    </tr>\n",
       "  </tbody>\n",
       "</table>\n",
       "<p>164 rows × 3 columns</p>\n",
       "</div>"
      ],
      "text/plain": [
       "      gu dong1  location\n",
       "0    강남구   개포동         3\n",
       "1    강남구   논현동         4\n",
       "2    강남구   대치동         5\n",
       "3    강남구   도곡동         2\n",
       "4    강남구   삼성동         3\n",
       "..   ...   ...       ...\n",
       "159  중랑구   면목동         2\n",
       "160  중랑구    묵동         1\n",
       "161  중랑구   상봉동         1\n",
       "162  중랑구   신내동         2\n",
       "163  중랑구   중화동         2\n",
       "\n",
       "[164 rows x 3 columns]"
      ]
     },
     "execution_count": 228,
     "metadata": {},
     "output_type": "execute_result"
    }
   ],
   "source": [
    "ab3.groupby(['gu','dong1'])['location'].count().reset_index()"
   ]
  },
  {
   "cell_type": "code",
   "execution_count": null,
   "metadata": {},
   "outputs": [],
   "source": []
  }
 ],
 "metadata": {
  "kernelspec": {
   "display_name": "Python 3",
   "language": "python",
   "name": "python3"
  },
  "language_info": {
   "codemirror_mode": {
    "name": "ipython",
    "version": 3
   },
   "file_extension": ".py",
   "mimetype": "text/x-python",
   "name": "python",
   "nbconvert_exporter": "python",
   "pygments_lexer": "ipython3",
   "version": "3.7.7"
  },
  "toc": {
   "base_numbering": 1,
   "nav_menu": {},
   "number_sections": true,
   "sideBar": true,
   "skip_h1_title": false,
   "title_cell": "Table of Contents",
   "title_sidebar": "Contents",
   "toc_cell": false,
   "toc_position": {
    "height": "calc(100% - 180px)",
    "left": "10px",
    "top": "150px",
    "width": "398.212px"
   },
   "toc_section_display": true,
   "toc_window_display": true
  }
 },
 "nbformat": 4,
 "nbformat_minor": 4
}
